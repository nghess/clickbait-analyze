{
 "cells": [
  {
   "cell_type": "code",
   "execution_count": 1,
   "metadata": {},
   "outputs": [],
   "source": [
    "import numpy as np\n",
    "import pandas as pd\n",
    "from clickbait import *"
   ]
  },
  {
   "cell_type": "markdown",
   "metadata": {},
   "source": [
    "### Get paths of clickbait sessions."
   ]
  },
  {
   "cell_type": "code",
   "execution_count": 2,
   "metadata": {},
   "outputs": [
    {
     "name": "stdout",
     "output_type": "stream",
     "text": [
      "Located 51 sessions.\n"
     ]
    }
   ],
   "source": [
    "# Where to look for clickbait datasets\n",
    "data_dir = f'A:/Clickbait/'\n",
    "\n",
    "# Get session and filenames for directories with .avi files greater than 1gb\n",
    "mice, sessions, files = scan_dataset(data_dir, min_size_bytes=1e9, filetype='.avi')\n",
    "\n",
    "print(f\"Located {len(mice)} sessions.\")\n",
    "\n",
    "## Print mouse and session names\n",
    "# for ii in range(len(mice)):\n",
    "#     print(f\"{mice[ii]}-{sessions[ii]}\")"
   ]
  },
  {
   "cell_type": "markdown",
   "metadata": {},
   "source": [
    "### Initialize dataset object."
   ]
  },
  {
   "cell_type": "code",
   "execution_count": 3,
   "metadata": {},
   "outputs": [],
   "source": [
    "# Initialize experiment class\n",
    "clickbait = BehaviorExperiment(data_dir=data_dir)"
   ]
  },
  {
   "cell_type": "markdown",
   "metadata": {},
   "source": [
    "### Load sessions into dataset object."
   ]
  },
  {
   "cell_type": "code",
   "execution_count": 4,
   "metadata": {},
   "outputs": [],
   "source": [
    "# Load all sessions\n",
    "clickbait.load_all_sessions(mice, sessions, files)"
   ]
  },
  {
   "cell_type": "code",
   "execution_count": 5,
   "metadata": {},
   "outputs": [],
   "source": [
    "# Test syntax\n",
    "# len(clickbait.sessions['1006_full4'].video_ts)"
   ]
  },
  {
   "cell_type": "markdown",
   "metadata": {},
   "source": [
    "### Build Summary Dataframe\n"
   ]
  },
  {
   "cell_type": "code",
   "execution_count": 6,
   "metadata": {},
   "outputs": [
    {
     "data": {
      "text/html": [
       "<div>\n",
       "<style scoped>\n",
       "    .dataframe tbody tr th:only-of-type {\n",
       "        vertical-align: middle;\n",
       "    }\n",
       "\n",
       "    .dataframe tbody tr th {\n",
       "        vertical-align: top;\n",
       "    }\n",
       "\n",
       "    .dataframe thead th {\n",
       "        text-align: right;\n",
       "    }\n",
       "</style>\n",
       "<table border=\"1\" class=\"dataframe\">\n",
       "  <thead>\n",
       "    <tr style=\"text-align: right;\">\n",
       "      <th></th>\n",
       "      <th>mouse_id</th>\n",
       "      <th>session_id</th>\n",
       "      <th>session_number</th>\n",
       "      <th>avg_velocity</th>\n",
       "      <th>distance_traveled</th>\n",
       "      <th>trials_completed</th>\n",
       "      <th>video_length</th>\n",
       "    </tr>\n",
       "  </thead>\n",
       "  <tbody>\n",
       "    <tr>\n",
       "      <th>0</th>\n",
       "      <td>1003</td>\n",
       "      <td>diet1</td>\n",
       "      <td>1</td>\n",
       "      <td>5.007283</td>\n",
       "      <td>691530.880468</td>\n",
       "      <td>72</td>\n",
       "      <td>45.49</td>\n",
       "    </tr>\n",
       "    <tr>\n",
       "      <th>1</th>\n",
       "      <td>1003</td>\n",
       "      <td>diet2</td>\n",
       "      <td>2</td>\n",
       "      <td>4.062164</td>\n",
       "      <td>559843.432625</td>\n",
       "      <td>66</td>\n",
       "      <td>45.40</td>\n",
       "    </tr>\n",
       "    <tr>\n",
       "      <th>2</th>\n",
       "      <td>1003</td>\n",
       "      <td>diet3</td>\n",
       "      <td>3</td>\n",
       "      <td>4.253292</td>\n",
       "      <td>587447.743952</td>\n",
       "      <td>87</td>\n",
       "      <td>45.49</td>\n",
       "    </tr>\n",
       "    <tr>\n",
       "      <th>3</th>\n",
       "      <td>1003</td>\n",
       "      <td>diet4</td>\n",
       "      <td>4</td>\n",
       "      <td>4.382331</td>\n",
       "      <td>585847.602872</td>\n",
       "      <td>83</td>\n",
       "      <td>44.03</td>\n",
       "    </tr>\n",
       "    <tr>\n",
       "      <th>4</th>\n",
       "      <td>1003</td>\n",
       "      <td>full1</td>\n",
       "      <td>5</td>\n",
       "      <td>4.724145</td>\n",
       "      <td>627016.882824</td>\n",
       "      <td>49</td>\n",
       "      <td>43.72</td>\n",
       "    </tr>\n",
       "    <tr>\n",
       "      <th>5</th>\n",
       "      <td>1003</td>\n",
       "      <td>full2</td>\n",
       "      <td>6</td>\n",
       "      <td>6.942450</td>\n",
       "      <td>895881.532906</td>\n",
       "      <td>112</td>\n",
       "      <td>42.50</td>\n",
       "    </tr>\n",
       "    <tr>\n",
       "      <th>6</th>\n",
       "      <td>1003</td>\n",
       "      <td>full3</td>\n",
       "      <td>7</td>\n",
       "      <td>5.386913</td>\n",
       "      <td>697874.629723</td>\n",
       "      <td>86</td>\n",
       "      <td>42.67</td>\n",
       "    </tr>\n",
       "    <tr>\n",
       "      <th>7</th>\n",
       "      <td>1003</td>\n",
       "      <td>full4</td>\n",
       "      <td>8</td>\n",
       "      <td>5.599699</td>\n",
       "      <td>773385.640592</td>\n",
       "      <td>91</td>\n",
       "      <td>45.49</td>\n",
       "    </tr>\n",
       "    <tr>\n",
       "      <th>8</th>\n",
       "      <td>1003</td>\n",
       "      <td>full5</td>\n",
       "      <td>9</td>\n",
       "      <td>5.655667</td>\n",
       "      <td>769232.860689</td>\n",
       "      <td>96</td>\n",
       "      <td>44.80</td>\n",
       "    </tr>\n",
       "    <tr>\n",
       "      <th>9</th>\n",
       "      <td>1003</td>\n",
       "      <td>full6</td>\n",
       "      <td>10</td>\n",
       "      <td>5.146586</td>\n",
       "      <td>708288.543977</td>\n",
       "      <td>89</td>\n",
       "      <td>45.33</td>\n",
       "    </tr>\n",
       "    <tr>\n",
       "      <th>10</th>\n",
       "      <td>1003</td>\n",
       "      <td>full7</td>\n",
       "      <td>11</td>\n",
       "      <td>5.640264</td>\n",
       "      <td>760471.150431</td>\n",
       "      <td>101</td>\n",
       "      <td>44.41</td>\n",
       "    </tr>\n",
       "    <tr>\n",
       "      <th>11</th>\n",
       "      <td>1003</td>\n",
       "      <td>full8</td>\n",
       "      <td>12</td>\n",
       "      <td>4.784518</td>\n",
       "      <td>658813.715938</td>\n",
       "      <td>71</td>\n",
       "      <td>45.36</td>\n",
       "    </tr>\n",
       "    <tr>\n",
       "      <th>12</th>\n",
       "      <td>1003</td>\n",
       "      <td>full9</td>\n",
       "      <td>13</td>\n",
       "      <td>5.275012</td>\n",
       "      <td>728326.146761</td>\n",
       "      <td>101</td>\n",
       "      <td>45.48</td>\n",
       "    </tr>\n",
       "    <tr>\n",
       "      <th>13</th>\n",
       "      <td>1004</td>\n",
       "      <td>diet1</td>\n",
       "      <td>1</td>\n",
       "      <td>3.816170</td>\n",
       "      <td>527043.615620</td>\n",
       "      <td>42</td>\n",
       "      <td>45.49</td>\n",
       "    </tr>\n",
       "    <tr>\n",
       "      <th>14</th>\n",
       "      <td>1004</td>\n",
       "      <td>diet2</td>\n",
       "      <td>2</td>\n",
       "      <td>2.996614</td>\n",
       "      <td>412585.806165</td>\n",
       "      <td>50</td>\n",
       "      <td>45.35</td>\n",
       "    </tr>\n",
       "    <tr>\n",
       "      <th>15</th>\n",
       "      <td>1004</td>\n",
       "      <td>diet3</td>\n",
       "      <td>3</td>\n",
       "      <td>2.845265</td>\n",
       "      <td>392643.790691</td>\n",
       "      <td>25</td>\n",
       "      <td>45.45</td>\n",
       "    </tr>\n",
       "    <tr>\n",
       "      <th>16</th>\n",
       "      <td>1004</td>\n",
       "      <td>diet4</td>\n",
       "      <td>4</td>\n",
       "      <td>3.561307</td>\n",
       "      <td>488899.832990</td>\n",
       "      <td>49</td>\n",
       "      <td>45.22</td>\n",
       "    </tr>\n",
       "    <tr>\n",
       "      <th>17</th>\n",
       "      <td>1004</td>\n",
       "      <td>diet5</td>\n",
       "      <td>5</td>\n",
       "      <td>3.201233</td>\n",
       "      <td>430572.266761</td>\n",
       "      <td>51</td>\n",
       "      <td>44.30</td>\n",
       "    </tr>\n",
       "    <tr>\n",
       "      <th>18</th>\n",
       "      <td>1004</td>\n",
       "      <td>diet6</td>\n",
       "      <td>6</td>\n",
       "      <td>4.956186</td>\n",
       "      <td>682065.324060</td>\n",
       "      <td>79</td>\n",
       "      <td>45.33</td>\n",
       "    </tr>\n",
       "    <tr>\n",
       "      <th>19</th>\n",
       "      <td>1004</td>\n",
       "      <td>diet7</td>\n",
       "      <td>7</td>\n",
       "      <td>4.398863</td>\n",
       "      <td>540875.379319</td>\n",
       "      <td>79</td>\n",
       "      <td>40.50</td>\n",
       "    </tr>\n",
       "    <tr>\n",
       "      <th>20</th>\n",
       "      <td>1004</td>\n",
       "      <td>full1</td>\n",
       "      <td>8</td>\n",
       "      <td>3.775405</td>\n",
       "      <td>517215.382051</td>\n",
       "      <td>43</td>\n",
       "      <td>45.12</td>\n",
       "    </tr>\n",
       "    <tr>\n",
       "      <th>21</th>\n",
       "      <td>1004</td>\n",
       "      <td>full2</td>\n",
       "      <td>9</td>\n",
       "      <td>4.347184</td>\n",
       "      <td>596642.370030</td>\n",
       "      <td>60</td>\n",
       "      <td>45.21</td>\n",
       "    </tr>\n",
       "    <tr>\n",
       "      <th>22</th>\n",
       "      <td>1004</td>\n",
       "      <td>full3</td>\n",
       "      <td>10</td>\n",
       "      <td>4.612126</td>\n",
       "      <td>634605.448854</td>\n",
       "      <td>79</td>\n",
       "      <td>45.32</td>\n",
       "    </tr>\n",
       "    <tr>\n",
       "      <th>23</th>\n",
       "      <td>1004</td>\n",
       "      <td>full4</td>\n",
       "      <td>11</td>\n",
       "      <td>4.798401</td>\n",
       "      <td>658633.280524</td>\n",
       "      <td>70</td>\n",
       "      <td>45.21</td>\n",
       "    </tr>\n",
       "    <tr>\n",
       "      <th>24</th>\n",
       "      <td>1004</td>\n",
       "      <td>full5</td>\n",
       "      <td>12</td>\n",
       "      <td>4.461917</td>\n",
       "      <td>615655.256114</td>\n",
       "      <td>56</td>\n",
       "      <td>45.45</td>\n",
       "    </tr>\n",
       "    <tr>\n",
       "      <th>25</th>\n",
       "      <td>1004</td>\n",
       "      <td>full6</td>\n",
       "      <td>13</td>\n",
       "      <td>4.960019</td>\n",
       "      <td>684700.903419</td>\n",
       "      <td>73</td>\n",
       "      <td>45.47</td>\n",
       "    </tr>\n",
       "    <tr>\n",
       "      <th>26</th>\n",
       "      <td>1005</td>\n",
       "      <td>diet1</td>\n",
       "      <td>1</td>\n",
       "      <td>4.744889</td>\n",
       "      <td>655297.580487</td>\n",
       "      <td>54</td>\n",
       "      <td>45.49</td>\n",
       "    </tr>\n",
       "    <tr>\n",
       "      <th>27</th>\n",
       "      <td>1005</td>\n",
       "      <td>diet2</td>\n",
       "      <td>2</td>\n",
       "      <td>3.312275</td>\n",
       "      <td>457448.363145</td>\n",
       "      <td>65</td>\n",
       "      <td>45.49</td>\n",
       "    </tr>\n",
       "    <tr>\n",
       "      <th>28</th>\n",
       "      <td>1005</td>\n",
       "      <td>diet3</td>\n",
       "      <td>3</td>\n",
       "      <td>3.260739</td>\n",
       "      <td>439316.158875</td>\n",
       "      <td>48</td>\n",
       "      <td>44.38</td>\n",
       "    </tr>\n",
       "    <tr>\n",
       "      <th>29</th>\n",
       "      <td>1005</td>\n",
       "      <td>diet4</td>\n",
       "      <td>4</td>\n",
       "      <td>3.400657</td>\n",
       "      <td>468885.962772</td>\n",
       "      <td>58</td>\n",
       "      <td>45.42</td>\n",
       "    </tr>\n",
       "    <tr>\n",
       "      <th>30</th>\n",
       "      <td>1005</td>\n",
       "      <td>diet5</td>\n",
       "      <td>5</td>\n",
       "      <td>4.315098</td>\n",
       "      <td>584143.447808</td>\n",
       "      <td>80</td>\n",
       "      <td>44.59</td>\n",
       "    </tr>\n",
       "    <tr>\n",
       "      <th>31</th>\n",
       "      <td>1005</td>\n",
       "      <td>diet6</td>\n",
       "      <td>6</td>\n",
       "      <td>6.046071</td>\n",
       "      <td>740486.559914</td>\n",
       "      <td>116</td>\n",
       "      <td>40.34</td>\n",
       "    </tr>\n",
       "    <tr>\n",
       "      <th>32</th>\n",
       "      <td>1005</td>\n",
       "      <td>full1</td>\n",
       "      <td>7</td>\n",
       "      <td>5.382516</td>\n",
       "      <td>659202.132399</td>\n",
       "      <td>88</td>\n",
       "      <td>40.34</td>\n",
       "    </tr>\n",
       "    <tr>\n",
       "      <th>33</th>\n",
       "      <td>1005</td>\n",
       "      <td>full2</td>\n",
       "      <td>8</td>\n",
       "      <td>5.409085</td>\n",
       "      <td>747118.979162</td>\n",
       "      <td>88</td>\n",
       "      <td>45.50</td>\n",
       "    </tr>\n",
       "    <tr>\n",
       "      <th>34</th>\n",
       "      <td>1005</td>\n",
       "      <td>full3</td>\n",
       "      <td>9</td>\n",
       "      <td>5.045889</td>\n",
       "      <td>696948.248174</td>\n",
       "      <td>81</td>\n",
       "      <td>45.50</td>\n",
       "    </tr>\n",
       "    <tr>\n",
       "      <th>35</th>\n",
       "      <td>1005</td>\n",
       "      <td>full4</td>\n",
       "      <td>10</td>\n",
       "      <td>5.322454</td>\n",
       "      <td>687219.350489</td>\n",
       "      <td>91</td>\n",
       "      <td>42.53</td>\n",
       "    </tr>\n",
       "    <tr>\n",
       "      <th>36</th>\n",
       "      <td>1005</td>\n",
       "      <td>full5</td>\n",
       "      <td>11</td>\n",
       "      <td>5.117394</td>\n",
       "      <td>706788.918367</td>\n",
       "      <td>87</td>\n",
       "      <td>45.49</td>\n",
       "    </tr>\n",
       "    <tr>\n",
       "      <th>37</th>\n",
       "      <td>1005</td>\n",
       "      <td>full6</td>\n",
       "      <td>12</td>\n",
       "      <td>4.524469</td>\n",
       "      <td>624743.213085</td>\n",
       "      <td>69</td>\n",
       "      <td>45.48</td>\n",
       "    </tr>\n",
       "    <tr>\n",
       "      <th>38</th>\n",
       "      <td>1005</td>\n",
       "      <td>full7</td>\n",
       "      <td>13</td>\n",
       "      <td>4.448174</td>\n",
       "      <td>614257.232155</td>\n",
       "      <td>61</td>\n",
       "      <td>45.49</td>\n",
       "    </tr>\n",
       "    <tr>\n",
       "      <th>39</th>\n",
       "      <td>1006</td>\n",
       "      <td>diet1</td>\n",
       "      <td>1</td>\n",
       "      <td>4.934058</td>\n",
       "      <td>680954.221622</td>\n",
       "      <td>80</td>\n",
       "      <td>45.46</td>\n",
       "    </tr>\n",
       "    <tr>\n",
       "      <th>40</th>\n",
       "      <td>1006</td>\n",
       "      <td>diet2</td>\n",
       "      <td>2</td>\n",
       "      <td>4.318572</td>\n",
       "      <td>595677.908675</td>\n",
       "      <td>68</td>\n",
       "      <td>45.43</td>\n",
       "    </tr>\n",
       "    <tr>\n",
       "      <th>41</th>\n",
       "      <td>1006</td>\n",
       "      <td>diet3</td>\n",
       "      <td>3</td>\n",
       "      <td>5.056589</td>\n",
       "      <td>652158.332616</td>\n",
       "      <td>106</td>\n",
       "      <td>42.48</td>\n",
       "    </tr>\n",
       "    <tr>\n",
       "      <th>42</th>\n",
       "      <td>1006</td>\n",
       "      <td>diet4</td>\n",
       "      <td>4</td>\n",
       "      <td>4.575019</td>\n",
       "      <td>631073.483323</td>\n",
       "      <td>82</td>\n",
       "      <td>45.43</td>\n",
       "    </tr>\n",
       "    <tr>\n",
       "      <th>43</th>\n",
       "      <td>1006</td>\n",
       "      <td>full1</td>\n",
       "      <td>5</td>\n",
       "      <td>5.713879</td>\n",
       "      <td>715977.634214</td>\n",
       "      <td>69</td>\n",
       "      <td>41.27</td>\n",
       "    </tr>\n",
       "    <tr>\n",
       "      <th>44</th>\n",
       "      <td>1006</td>\n",
       "      <td>full2</td>\n",
       "      <td>6</td>\n",
       "      <td>6.374857</td>\n",
       "      <td>872220.664588</td>\n",
       "      <td>104</td>\n",
       "      <td>45.07</td>\n",
       "    </tr>\n",
       "    <tr>\n",
       "      <th>45</th>\n",
       "      <td>1006</td>\n",
       "      <td>full3</td>\n",
       "      <td>7</td>\n",
       "      <td>5.526953</td>\n",
       "      <td>715674.148707</td>\n",
       "      <td>94</td>\n",
       "      <td>42.65</td>\n",
       "    </tr>\n",
       "    <tr>\n",
       "      <th>46</th>\n",
       "      <td>1006</td>\n",
       "      <td>full4</td>\n",
       "      <td>8</td>\n",
       "      <td>6.202079</td>\n",
       "      <td>832002.725634</td>\n",
       "      <td>97</td>\n",
       "      <td>44.19</td>\n",
       "    </tr>\n",
       "    <tr>\n",
       "      <th>47</th>\n",
       "      <td>1006</td>\n",
       "      <td>full6</td>\n",
       "      <td>9</td>\n",
       "      <td>5.954488</td>\n",
       "      <td>778608.881653</td>\n",
       "      <td>110</td>\n",
       "      <td>43.07</td>\n",
       "    </tr>\n",
       "    <tr>\n",
       "      <th>48</th>\n",
       "      <td>1006</td>\n",
       "      <td>full7</td>\n",
       "      <td>10</td>\n",
       "      <td>5.806618</td>\n",
       "      <td>801789.460578</td>\n",
       "      <td>106</td>\n",
       "      <td>45.48</td>\n",
       "    </tr>\n",
       "    <tr>\n",
       "      <th>49</th>\n",
       "      <td>1006</td>\n",
       "      <td>full8</td>\n",
       "      <td>11</td>\n",
       "      <td>5.010182</td>\n",
       "      <td>691164.651413</td>\n",
       "      <td>83</td>\n",
       "      <td>45.44</td>\n",
       "    </tr>\n",
       "    <tr>\n",
       "      <th>50</th>\n",
       "      <td>1006</td>\n",
       "      <td>full9</td>\n",
       "      <td>12</td>\n",
       "      <td>5.964221</td>\n",
       "      <td>823474.032101</td>\n",
       "      <td>99</td>\n",
       "      <td>45.48</td>\n",
       "    </tr>\n",
       "  </tbody>\n",
       "</table>\n",
       "</div>"
      ],
      "text/plain": [
       "   mouse_id session_id  session_number  avg_velocity  distance_traveled  \\\n",
       "0      1003      diet1               1      5.007283      691530.880468   \n",
       "1      1003      diet2               2      4.062164      559843.432625   \n",
       "2      1003      diet3               3      4.253292      587447.743952   \n",
       "3      1003      diet4               4      4.382331      585847.602872   \n",
       "4      1003      full1               5      4.724145      627016.882824   \n",
       "5      1003      full2               6      6.942450      895881.532906   \n",
       "6      1003      full3               7      5.386913      697874.629723   \n",
       "7      1003      full4               8      5.599699      773385.640592   \n",
       "8      1003      full5               9      5.655667      769232.860689   \n",
       "9      1003      full6              10      5.146586      708288.543977   \n",
       "10     1003      full7              11      5.640264      760471.150431   \n",
       "11     1003      full8              12      4.784518      658813.715938   \n",
       "12     1003      full9              13      5.275012      728326.146761   \n",
       "13     1004      diet1               1      3.816170      527043.615620   \n",
       "14     1004      diet2               2      2.996614      412585.806165   \n",
       "15     1004      diet3               3      2.845265      392643.790691   \n",
       "16     1004      diet4               4      3.561307      488899.832990   \n",
       "17     1004      diet5               5      3.201233      430572.266761   \n",
       "18     1004      diet6               6      4.956186      682065.324060   \n",
       "19     1004      diet7               7      4.398863      540875.379319   \n",
       "20     1004      full1               8      3.775405      517215.382051   \n",
       "21     1004      full2               9      4.347184      596642.370030   \n",
       "22     1004      full3              10      4.612126      634605.448854   \n",
       "23     1004      full4              11      4.798401      658633.280524   \n",
       "24     1004      full5              12      4.461917      615655.256114   \n",
       "25     1004      full6              13      4.960019      684700.903419   \n",
       "26     1005      diet1               1      4.744889      655297.580487   \n",
       "27     1005      diet2               2      3.312275      457448.363145   \n",
       "28     1005      diet3               3      3.260739      439316.158875   \n",
       "29     1005      diet4               4      3.400657      468885.962772   \n",
       "30     1005      diet5               5      4.315098      584143.447808   \n",
       "31     1005      diet6               6      6.046071      740486.559914   \n",
       "32     1005      full1               7      5.382516      659202.132399   \n",
       "33     1005      full2               8      5.409085      747118.979162   \n",
       "34     1005      full3               9      5.045889      696948.248174   \n",
       "35     1005      full4              10      5.322454      687219.350489   \n",
       "36     1005      full5              11      5.117394      706788.918367   \n",
       "37     1005      full6              12      4.524469      624743.213085   \n",
       "38     1005      full7              13      4.448174      614257.232155   \n",
       "39     1006      diet1               1      4.934058      680954.221622   \n",
       "40     1006      diet2               2      4.318572      595677.908675   \n",
       "41     1006      diet3               3      5.056589      652158.332616   \n",
       "42     1006      diet4               4      4.575019      631073.483323   \n",
       "43     1006      full1               5      5.713879      715977.634214   \n",
       "44     1006      full2               6      6.374857      872220.664588   \n",
       "45     1006      full3               7      5.526953      715674.148707   \n",
       "46     1006      full4               8      6.202079      832002.725634   \n",
       "47     1006      full6               9      5.954488      778608.881653   \n",
       "48     1006      full7              10      5.806618      801789.460578   \n",
       "49     1006      full8              11      5.010182      691164.651413   \n",
       "50     1006      full9              12      5.964221      823474.032101   \n",
       "\n",
       "    trials_completed  video_length  \n",
       "0                 72         45.49  \n",
       "1                 66         45.40  \n",
       "2                 87         45.49  \n",
       "3                 83         44.03  \n",
       "4                 49         43.72  \n",
       "5                112         42.50  \n",
       "6                 86         42.67  \n",
       "7                 91         45.49  \n",
       "8                 96         44.80  \n",
       "9                 89         45.33  \n",
       "10               101         44.41  \n",
       "11                71         45.36  \n",
       "12               101         45.48  \n",
       "13                42         45.49  \n",
       "14                50         45.35  \n",
       "15                25         45.45  \n",
       "16                49         45.22  \n",
       "17                51         44.30  \n",
       "18                79         45.33  \n",
       "19                79         40.50  \n",
       "20                43         45.12  \n",
       "21                60         45.21  \n",
       "22                79         45.32  \n",
       "23                70         45.21  \n",
       "24                56         45.45  \n",
       "25                73         45.47  \n",
       "26                54         45.49  \n",
       "27                65         45.49  \n",
       "28                48         44.38  \n",
       "29                58         45.42  \n",
       "30                80         44.59  \n",
       "31               116         40.34  \n",
       "32                88         40.34  \n",
       "33                88         45.50  \n",
       "34                81         45.50  \n",
       "35                91         42.53  \n",
       "36                87         45.49  \n",
       "37                69         45.48  \n",
       "38                61         45.49  \n",
       "39                80         45.46  \n",
       "40                68         45.43  \n",
       "41               106         42.48  \n",
       "42                82         45.43  \n",
       "43                69         41.27  \n",
       "44               104         45.07  \n",
       "45                94         42.65  \n",
       "46                97         44.19  \n",
       "47               110         43.07  \n",
       "48               106         45.48  \n",
       "49                83         45.44  \n",
       "50                99         45.48  "
      ]
     },
     "execution_count": 6,
     "metadata": {},
     "output_type": "execute_result"
    }
   ],
   "source": [
    "# Build summary dataframe\n",
    "clickbait.build_summary_df(mice, sessions)\n",
    "clickbait.summary_df"
   ]
  },
  {
   "cell_type": "code",
   "execution_count": 7,
   "metadata": {},
   "outputs": [
    {
     "name": "stdout",
     "output_type": "stream",
     "text": [
      "Mouse: 1005 Session: diet6\n",
      "Trials Completed: 116\n",
      "Video length: 122475 frames\n",
      "Events Data Length: 122475 rows\n",
      "Video length at 50.6 FPS: 40.34 minutes\n"
     ]
    }
   ],
   "source": [
    "# Get a specific session\n",
    "idx = 31\n",
    "mouse = mice[idx]\n",
    "session = sessions[idx]\n",
    "\n",
    "session = clickbait.get_session(mouse, session)\n",
    "\n",
    "# Get session info\n",
    "session.print_session_info()\n",
    "\n",
    "# View session attributes\n",
    "#vars(session)"
   ]
  },
  {
   "cell_type": "code",
   "execution_count": 8,
   "metadata": {},
   "outputs": [
    {
     "data": {
      "text/html": [
       "<div>\n",
       "<style scoped>\n",
       "    .dataframe tbody tr th:only-of-type {\n",
       "        vertical-align: middle;\n",
       "    }\n",
       "\n",
       "    .dataframe tbody tr th {\n",
       "        vertical-align: top;\n",
       "    }\n",
       "\n",
       "    .dataframe thead th {\n",
       "        text-align: right;\n",
       "    }\n",
       "</style>\n",
       "<table border=\"1\" class=\"dataframe\">\n",
       "  <thead>\n",
       "    <tr style=\"text-align: right;\">\n",
       "      <th></th>\n",
       "      <th>timestamp</th>\n",
       "      <th>trial_number</th>\n",
       "      <th>poke_left</th>\n",
       "      <th>poke_right</th>\n",
       "      <th>centroid_x</th>\n",
       "      <th>centroid_y</th>\n",
       "      <th>target_cell</th>\n",
       "      <th>iti</th>\n",
       "      <th>reward_state</th>\n",
       "      <th>water_left</th>\n",
       "      <th>water_right</th>\n",
       "      <th>click</th>\n",
       "      <th>distance</th>\n",
       "      <th>drinking</th>\n",
       "      <th>frame_ms</th>\n",
       "      <th>gap</th>\n",
       "    </tr>\n",
       "  </thead>\n",
       "  <tbody>\n",
       "    <tr>\n",
       "      <th>0</th>\n",
       "      <td>2024-11-18 12:27:01.515251200</td>\n",
       "      <td>0</td>\n",
       "      <td>False</td>\n",
       "      <td>False</td>\n",
       "      <td>737</td>\n",
       "      <td>1742</td>\n",
       "      <td>[0]</td>\n",
       "      <td>False</td>\n",
       "      <td>False</td>\n",
       "      <td>False</td>\n",
       "      <td>False</td>\n",
       "      <td>False</td>\n",
       "      <td>NaN</td>\n",
       "      <td>0</td>\n",
       "      <td>NaN</td>\n",
       "      <td>0</td>\n",
       "    </tr>\n",
       "    <tr>\n",
       "      <th>1</th>\n",
       "      <td>2024-11-18 12:27:01.531225600</td>\n",
       "      <td>0</td>\n",
       "      <td>False</td>\n",
       "      <td>False</td>\n",
       "      <td>737</td>\n",
       "      <td>1742</td>\n",
       "      <td>[0]</td>\n",
       "      <td>False</td>\n",
       "      <td>False</td>\n",
       "      <td>False</td>\n",
       "      <td>False</td>\n",
       "      <td>False</td>\n",
       "      <td>0.000000</td>\n",
       "      <td>0</td>\n",
       "      <td>15.9744</td>\n",
       "      <td>0</td>\n",
       "    </tr>\n",
       "    <tr>\n",
       "      <th>2</th>\n",
       "      <td>2024-11-18 12:27:01.554060800</td>\n",
       "      <td>0</td>\n",
       "      <td>False</td>\n",
       "      <td>False</td>\n",
       "      <td>737</td>\n",
       "      <td>1742</td>\n",
       "      <td>[0]</td>\n",
       "      <td>False</td>\n",
       "      <td>False</td>\n",
       "      <td>False</td>\n",
       "      <td>False</td>\n",
       "      <td>False</td>\n",
       "      <td>0.000000</td>\n",
       "      <td>0</td>\n",
       "      <td>22.8352</td>\n",
       "      <td>0</td>\n",
       "    </tr>\n",
       "    <tr>\n",
       "      <th>3</th>\n",
       "      <td>2024-11-18 12:27:01.570547200</td>\n",
       "      <td>0</td>\n",
       "      <td>False</td>\n",
       "      <td>False</td>\n",
       "      <td>737</td>\n",
       "      <td>1742</td>\n",
       "      <td>[0]</td>\n",
       "      <td>False</td>\n",
       "      <td>False</td>\n",
       "      <td>False</td>\n",
       "      <td>False</td>\n",
       "      <td>False</td>\n",
       "      <td>0.000000</td>\n",
       "      <td>0</td>\n",
       "      <td>16.4864</td>\n",
       "      <td>0</td>\n",
       "    </tr>\n",
       "    <tr>\n",
       "      <th>4</th>\n",
       "      <td>2024-11-18 12:27:01.589452800</td>\n",
       "      <td>0</td>\n",
       "      <td>False</td>\n",
       "      <td>False</td>\n",
       "      <td>737</td>\n",
       "      <td>1742</td>\n",
       "      <td>[0]</td>\n",
       "      <td>False</td>\n",
       "      <td>False</td>\n",
       "      <td>False</td>\n",
       "      <td>False</td>\n",
       "      <td>False</td>\n",
       "      <td>0.000000</td>\n",
       "      <td>0</td>\n",
       "      <td>18.9056</td>\n",
       "      <td>0</td>\n",
       "    </tr>\n",
       "    <tr>\n",
       "      <th>...</th>\n",
       "      <td>...</td>\n",
       "      <td>...</td>\n",
       "      <td>...</td>\n",
       "      <td>...</td>\n",
       "      <td>...</td>\n",
       "      <td>...</td>\n",
       "      <td>...</td>\n",
       "      <td>...</td>\n",
       "      <td>...</td>\n",
       "      <td>...</td>\n",
       "      <td>...</td>\n",
       "      <td>...</td>\n",
       "      <td>...</td>\n",
       "      <td>...</td>\n",
       "      <td>...</td>\n",
       "      <td>...</td>\n",
       "    </tr>\n",
       "    <tr>\n",
       "      <th>122470</th>\n",
       "      <td>2024-11-18 13:12:30.049164800</td>\n",
       "      <td>116</td>\n",
       "      <td>False</td>\n",
       "      <td>False</td>\n",
       "      <td>657</td>\n",
       "      <td>993</td>\n",
       "      <td>[]</td>\n",
       "      <td>False</td>\n",
       "      <td>True</td>\n",
       "      <td>False</td>\n",
       "      <td>False</td>\n",
       "      <td>False</td>\n",
       "      <td>2.236068</td>\n",
       "      <td>0</td>\n",
       "      <td>19.4816</td>\n",
       "      <td>0</td>\n",
       "    </tr>\n",
       "    <tr>\n",
       "      <th>122471</th>\n",
       "      <td>2024-11-18 13:12:30.074419200</td>\n",
       "      <td>116</td>\n",
       "      <td>False</td>\n",
       "      <td>False</td>\n",
       "      <td>659</td>\n",
       "      <td>990</td>\n",
       "      <td>[]</td>\n",
       "      <td>False</td>\n",
       "      <td>True</td>\n",
       "      <td>False</td>\n",
       "      <td>False</td>\n",
       "      <td>False</td>\n",
       "      <td>3.605551</td>\n",
       "      <td>0</td>\n",
       "      <td>25.2544</td>\n",
       "      <td>0</td>\n",
       "    </tr>\n",
       "    <tr>\n",
       "      <th>122472</th>\n",
       "      <td>2024-11-18 13:12:30.092096000</td>\n",
       "      <td>116</td>\n",
       "      <td>False</td>\n",
       "      <td>False</td>\n",
       "      <td>662</td>\n",
       "      <td>985</td>\n",
       "      <td>[]</td>\n",
       "      <td>False</td>\n",
       "      <td>True</td>\n",
       "      <td>False</td>\n",
       "      <td>False</td>\n",
       "      <td>False</td>\n",
       "      <td>5.830952</td>\n",
       "      <td>0</td>\n",
       "      <td>17.6768</td>\n",
       "      <td>0</td>\n",
       "    </tr>\n",
       "    <tr>\n",
       "      <th>122473</th>\n",
       "      <td>2024-11-18 13:12:30.115468800</td>\n",
       "      <td>116</td>\n",
       "      <td>False</td>\n",
       "      <td>False</td>\n",
       "      <td>663</td>\n",
       "      <td>980</td>\n",
       "      <td>[]</td>\n",
       "      <td>False</td>\n",
       "      <td>True</td>\n",
       "      <td>False</td>\n",
       "      <td>False</td>\n",
       "      <td>False</td>\n",
       "      <td>5.099020</td>\n",
       "      <td>0</td>\n",
       "      <td>23.3728</td>\n",
       "      <td>0</td>\n",
       "    </tr>\n",
       "    <tr>\n",
       "      <th>122474</th>\n",
       "      <td>2024-11-18 13:12:30.220185600</td>\n",
       "      <td>116</td>\n",
       "      <td>False</td>\n",
       "      <td>False</td>\n",
       "      <td>664</td>\n",
       "      <td>974</td>\n",
       "      <td>[]</td>\n",
       "      <td>False</td>\n",
       "      <td>True</td>\n",
       "      <td>False</td>\n",
       "      <td>False</td>\n",
       "      <td>False</td>\n",
       "      <td>6.082763</td>\n",
       "      <td>0</td>\n",
       "      <td>104.7168</td>\n",
       "      <td>0</td>\n",
       "    </tr>\n",
       "  </tbody>\n",
       "</table>\n",
       "<p>122475 rows × 16 columns</p>\n",
       "</div>"
      ],
      "text/plain": [
       "                           timestamp  trial_number  poke_left  poke_right  \\\n",
       "0      2024-11-18 12:27:01.515251200             0      False       False   \n",
       "1      2024-11-18 12:27:01.531225600             0      False       False   \n",
       "2      2024-11-18 12:27:01.554060800             0      False       False   \n",
       "3      2024-11-18 12:27:01.570547200             0      False       False   \n",
       "4      2024-11-18 12:27:01.589452800             0      False       False   \n",
       "...                              ...           ...        ...         ...   \n",
       "122470 2024-11-18 13:12:30.049164800           116      False       False   \n",
       "122471 2024-11-18 13:12:30.074419200           116      False       False   \n",
       "122472 2024-11-18 13:12:30.092096000           116      False       False   \n",
       "122473 2024-11-18 13:12:30.115468800           116      False       False   \n",
       "122474 2024-11-18 13:12:30.220185600           116      False       False   \n",
       "\n",
       "        centroid_x  centroid_y target_cell    iti  reward_state  water_left  \\\n",
       "0              737        1742         [0]  False         False       False   \n",
       "1              737        1742         [0]  False         False       False   \n",
       "2              737        1742         [0]  False         False       False   \n",
       "3              737        1742         [0]  False         False       False   \n",
       "4              737        1742         [0]  False         False       False   \n",
       "...            ...         ...         ...    ...           ...         ...   \n",
       "122470         657         993          []  False          True       False   \n",
       "122471         659         990          []  False          True       False   \n",
       "122472         662         985          []  False          True       False   \n",
       "122473         663         980          []  False          True       False   \n",
       "122474         664         974          []  False          True       False   \n",
       "\n",
       "        water_right  click  distance  drinking  frame_ms  gap  \n",
       "0             False  False       NaN         0       NaN    0  \n",
       "1             False  False  0.000000         0   15.9744    0  \n",
       "2             False  False  0.000000         0   22.8352    0  \n",
       "3             False  False  0.000000         0   16.4864    0  \n",
       "4             False  False  0.000000         0   18.9056    0  \n",
       "...             ...    ...       ...       ...       ...  ...  \n",
       "122470        False  False  2.236068         0   19.4816    0  \n",
       "122471        False  False  3.605551         0   25.2544    0  \n",
       "122472        False  False  5.830952         0   17.6768    0  \n",
       "122473        False  False  5.099020         0   23.3728    0  \n",
       "122474        False  False  6.082763         0  104.7168    0  \n",
       "\n",
       "[122475 rows x 16 columns]"
      ]
     },
     "execution_count": 8,
     "metadata": {},
     "output_type": "execute_result"
    }
   ],
   "source": [
    "session.event_data"
   ]
  },
  {
   "cell_type": "markdown",
   "metadata": {},
   "source": [
    "### Visualize Summary Data"
   ]
  },
  {
   "cell_type": "code",
   "execution_count": 9,
   "metadata": {},
   "outputs": [
    {
     "data": {
      "application/vnd.plotly.v1+json": {
       "config": {
        "plotlyServerURL": "https://plot.ly"
       },
       "data": [
        {
         "marker": {
          "color": [
           0,
           0,
           0,
           0,
           0,
           0,
           0,
           0,
           0,
           0,
           0,
           0,
           0,
           1,
           1,
           1,
           1,
           1,
           1,
           1,
           1,
           1,
           1,
           1,
           1,
           1,
           2,
           2,
           2,
           2,
           2,
           2,
           2,
           2,
           2,
           2,
           2,
           2,
           2,
           3,
           3,
           3,
           3,
           3,
           3,
           3,
           3,
           3,
           3,
           3,
           3
          ],
          "colorscale": [
           [
            0,
            "rgb(103,0,31)"
           ],
           [
            0.1,
            "rgb(178,24,43)"
           ],
           [
            0.2,
            "rgb(214,96,77)"
           ],
           [
            0.3,
            "rgb(244,165,130)"
           ],
           [
            0.4,
            "rgb(253,219,199)"
           ],
           [
            0.5,
            "rgb(247,247,247)"
           ],
           [
            0.6,
            "rgb(209,229,240)"
           ],
           [
            0.7,
            "rgb(146,197,222)"
           ],
           [
            0.8,
            "rgb(67,147,195)"
           ],
           [
            0.9,
            "rgb(33,102,172)"
           ],
           [
            1,
            "rgb(5,48,97)"
           ]
          ]
         },
         "mode": "markers",
         "name": "Trials Completed",
         "showlegend": true,
         "type": "scatter",
         "x": [
          1,
          2,
          3,
          4,
          5,
          6,
          7,
          8,
          9,
          10,
          11,
          12,
          13,
          1,
          2,
          3,
          4,
          5,
          6,
          7,
          8,
          9,
          10,
          11,
          12,
          13,
          1,
          2,
          3,
          4,
          5,
          6,
          7,
          8,
          9,
          10,
          11,
          12,
          13,
          1,
          2,
          3,
          4,
          5,
          6,
          7,
          8,
          9,
          10,
          11,
          12
         ],
         "y": [
          72,
          66,
          87,
          83,
          49,
          112,
          86,
          91,
          96,
          89,
          101,
          71,
          101,
          42,
          50,
          25,
          49,
          51,
          79,
          79,
          43,
          60,
          79,
          70,
          56,
          73,
          54,
          65,
          48,
          58,
          80,
          116,
          88,
          88,
          81,
          91,
          87,
          69,
          61,
          80,
          68,
          106,
          82,
          69,
          104,
          94,
          97,
          110,
          106,
          83,
          99
         ]
        },
        {
         "line": {
          "color": "red"
         },
         "mode": "lines",
         "name": "Fitted Line",
         "type": "scatter",
         "x": [
          1,
          1.121212121212121,
          1.2424242424242424,
          1.3636363636363638,
          1.4848484848484849,
          1.606060606060606,
          1.7272727272727273,
          1.8484848484848486,
          1.9696969696969697,
          2.090909090909091,
          2.212121212121212,
          2.3333333333333335,
          2.4545454545454546,
          2.5757575757575757,
          2.6969696969696972,
          2.8181818181818183,
          2.9393939393939394,
          3.0606060606060606,
          3.1818181818181817,
          3.303030303030303,
          3.4242424242424243,
          3.5454545454545454,
          3.666666666666667,
          3.787878787878788,
          3.909090909090909,
          4.03030303030303,
          4.151515151515151,
          4.272727272727273,
          4.3939393939393945,
          4.515151515151516,
          4.636363636363637,
          4.757575757575758,
          4.878787878787879,
          5,
          5.121212121212121,
          5.242424242424242,
          5.363636363636363,
          5.484848484848485,
          5.606060606060606,
          5.7272727272727275,
          5.848484848484849,
          5.96969696969697,
          6.090909090909091,
          6.212121212121212,
          6.333333333333334,
          6.454545454545455,
          6.575757575757576,
          6.696969696969697,
          6.818181818181818,
          6.9393939393939394,
          7.0606060606060606,
          7.181818181818182,
          7.303030303030303,
          7.424242424242425,
          7.545454545454546,
          7.666666666666667,
          7.787878787878788,
          7.909090909090909,
          8.030303030303031,
          8.151515151515152,
          8.272727272727273,
          8.393939393939394,
          8.515151515151516,
          8.636363636363637,
          8.757575757575758,
          8.878787878787879,
          9,
          9.121212121212121,
          9.242424242424242,
          9.363636363636363,
          9.484848484848484,
          9.606060606060606,
          9.727272727272727,
          9.84848484848485,
          9.96969696969697,
          10.090909090909092,
          10.212121212121213,
          10.333333333333334,
          10.454545454545455,
          10.575757575757576,
          10.696969696969697,
          10.818181818181818,
          10.93939393939394,
          11.06060606060606,
          11.181818181818182,
          11.303030303030303,
          11.424242424242424,
          11.545454545454545,
          11.666666666666668,
          11.787878787878789,
          11.90909090909091,
          12.030303030303031,
          12.151515151515152,
          12.272727272727273,
          12.393939393939394,
          12.515151515151516,
          12.636363636363637,
          12.757575757575758,
          12.878787878787879,
          13
         ],
         "y": [
          66.27989562060354,
          66.50766342801737,
          66.7354312354312,
          66.96319904284502,
          67.19096685025883,
          67.41873465767266,
          67.64650246508648,
          67.87427027250031,
          68.10203807991414,
          68.32980588732796,
          68.55757369474179,
          68.78534150215562,
          69.01310930956944,
          69.24087711698326,
          69.46864492439708,
          69.69641273181091,
          69.92418053922474,
          70.15194834663856,
          70.37971615405239,
          70.60748396146622,
          70.83525176888004,
          71.06301957629387,
          71.2907873837077,
          71.51855519112152,
          71.74632299853533,
          71.97409080594916,
          72.20185861336299,
          72.42962642077681,
          72.65739422819064,
          72.88516203560447,
          73.11292984301829,
          73.34069765043212,
          73.56846545784595,
          73.79623326525976,
          74.02400107267358,
          74.25176888008741,
          74.47953668750124,
          74.70730449491506,
          74.93507230232889,
          75.16284010974272,
          75.39060791715654,
          75.61837572457037,
          75.84614353198418,
          76.07391133939801,
          76.30167914681184,
          76.52944695422566,
          76.75721476163949,
          76.98498256905332,
          77.21275037646714,
          77.44051818388097,
          77.6682859912948,
          77.8960537987086,
          78.12382160612245,
          78.35158941353626,
          78.57935722095009,
          78.80712502836391,
          79.03489283577774,
          79.26266064319157,
          79.49042845060539,
          79.71819625801922,
          79.94596406543305,
          80.17373187284687,
          80.40149968026068,
          80.62926748767451,
          80.85703529508834,
          81.08480310250216,
          81.31257090991599,
          81.54033871732982,
          81.76810652474364,
          81.99587433215747,
          82.2236421395713,
          82.45140994698511,
          82.67917775439894,
          82.90694556181276,
          83.13471336922659,
          83.36248117664042,
          83.59024898405424,
          83.81801679146807,
          84.0457845988819,
          84.27355240629572,
          84.50132021370953,
          84.72908802112337,
          84.95685582853719,
          85.18462363595101,
          85.41239144336484,
          85.64015925077867,
          85.86792705819249,
          86.09569486560632,
          86.32346267302015,
          86.55123048043397,
          86.7789982878478,
          87.00676609526161,
          87.23453390267545,
          87.46230171008926,
          87.69006951750309,
          87.91783732491692,
          88.14560513233074,
          88.37337293974457,
          88.6011407471584,
          88.82890855457222
         ]
        },
        {
         "line": {
          "width": 0
         },
         "mode": "lines",
         "showlegend": false,
         "type": "scatter",
         "x": [
          1,
          1.121212121212121,
          1.2424242424242424,
          1.3636363636363638,
          1.4848484848484849,
          1.606060606060606,
          1.7272727272727273,
          1.8484848484848486,
          1.9696969696969697,
          2.090909090909091,
          2.212121212121212,
          2.3333333333333335,
          2.4545454545454546,
          2.5757575757575757,
          2.6969696969696972,
          2.8181818181818183,
          2.9393939393939394,
          3.0606060606060606,
          3.1818181818181817,
          3.303030303030303,
          3.4242424242424243,
          3.5454545454545454,
          3.666666666666667,
          3.787878787878788,
          3.909090909090909,
          4.03030303030303,
          4.151515151515151,
          4.272727272727273,
          4.3939393939393945,
          4.515151515151516,
          4.636363636363637,
          4.757575757575758,
          4.878787878787879,
          5,
          5.121212121212121,
          5.242424242424242,
          5.363636363636363,
          5.484848484848485,
          5.606060606060606,
          5.7272727272727275,
          5.848484848484849,
          5.96969696969697,
          6.090909090909091,
          6.212121212121212,
          6.333333333333334,
          6.454545454545455,
          6.575757575757576,
          6.696969696969697,
          6.818181818181818,
          6.9393939393939394,
          7.0606060606060606,
          7.181818181818182,
          7.303030303030303,
          7.424242424242425,
          7.545454545454546,
          7.666666666666667,
          7.787878787878788,
          7.909090909090909,
          8.030303030303031,
          8.151515151515152,
          8.272727272727273,
          8.393939393939394,
          8.515151515151516,
          8.636363636363637,
          8.757575757575758,
          8.878787878787879,
          9,
          9.121212121212121,
          9.242424242424242,
          9.363636363636363,
          9.484848484848484,
          9.606060606060606,
          9.727272727272727,
          9.84848484848485,
          9.96969696969697,
          10.090909090909092,
          10.212121212121213,
          10.333333333333334,
          10.454545454545455,
          10.575757575757576,
          10.696969696969697,
          10.818181818181818,
          10.93939393939394,
          11.06060606060606,
          11.181818181818182,
          11.303030303030303,
          11.424242424242424,
          11.545454545454545,
          11.666666666666668,
          11.787878787878789,
          11.90909090909091,
          12.030303030303031,
          12.151515151515152,
          12.272727272727273,
          12.393939393939394,
          12.515151515151516,
          12.636363636363637,
          12.757575757575758,
          12.878787878787879,
          13
         ],
         "y": [
          71.48570716599363,
          71.63662439456823,
          71.7880091655704,
          71.9398830068213,
          72.09226863732617,
          72.24519003734436,
          72.39867252196113,
          72.55274281814935,
          72.7074291452602,
          72.86276129882151,
          73.01877073744787,
          73.17549067257706,
          73.3329561606391,
          73.49120419713631,
          73.65027381196111,
          73.81020616510085,
          73.97104464167376,
          74.13283494500371,
          74.29562518617223,
          74.45946596818352,
          74.6244104625417,
          74.7905144756695,
          74.95783650219964,
          75.1264377617487,
          75.2963822153485,
          75.46773655727634,
          75.64057017761121,
          75.81495509047258,
          75.99096582260339,
          76.16867925677579,
          76.34817442447168,
          76.52953224246727,
          76.71283518838626,
          76.89816691102945,
          77.08561177239027,
          77.27525431976179,
          77.46717868825499,
          77.66146793637435,
          77.85820332000205,
          78.05746351314997,
          78.25932378703016,
          78.46385516220793,
          78.6711235516327,
          78.88118891495945,
          79.09410444653405,
          79.30991582048706,
          79.52866051636947,
          79.750367247541,
          79.97505551204861,
          80.20273528207343,
          80.43340684335091,
          80.66706079055217,
          80.9036781787999,
          81.14323082566493,
          81.3856817525407,
          81.63098574956538,
          81.87909004453864,
          82.12993505373268,
          82.38345519120185,
          82.63957971311547,
          82.89823357465062,
          83.15933827889626,
          83.42281269980569,
          83.68857386424796,
          83.95653768141672,
          84.2266196110541,
          84.4987352649682,
          84.77280093904918,
          85.0487340753385,
          85.32645365564504,
          85.60588052972146,
          85.88693768213874,
          86.16955044275986,
          86.45364664616474,
          86.73915674557098,
          87.02601388677745,
          87.314153947484,
          87.60351554704985,
          87.8940400313873,
          88.18567143727437,
          88.4783564399369,
          88.77204428731598,
          89.06668672401318,
          89.36223790750765,
          89.65865431886607,
          89.95589466982929,
          90.25391980785336,
          90.5526926204127,
          90.8521779396341,
          91.15234244812365,
          91.4531545866694,
          91.75458446434986,
          92.05660377144879,
          92.35918569546745,
          92.66230484043548,
          92.96593714964519,
          93.27005983187374,
          93.5746512911075,
          93.87969105974297,
          94.18515973520765
         ]
        },
        {
         "fill": "tonexty",
         "fillcolor": "rgba(255,0,0,0.2)",
         "line": {
          "width": 0
         },
         "mode": "lines",
         "name": "SEM",
         "type": "scatter",
         "x": [
          1,
          1.121212121212121,
          1.2424242424242424,
          1.3636363636363638,
          1.4848484848484849,
          1.606060606060606,
          1.7272727272727273,
          1.8484848484848486,
          1.9696969696969697,
          2.090909090909091,
          2.212121212121212,
          2.3333333333333335,
          2.4545454545454546,
          2.5757575757575757,
          2.6969696969696972,
          2.8181818181818183,
          2.9393939393939394,
          3.0606060606060606,
          3.1818181818181817,
          3.303030303030303,
          3.4242424242424243,
          3.5454545454545454,
          3.666666666666667,
          3.787878787878788,
          3.909090909090909,
          4.03030303030303,
          4.151515151515151,
          4.272727272727273,
          4.3939393939393945,
          4.515151515151516,
          4.636363636363637,
          4.757575757575758,
          4.878787878787879,
          5,
          5.121212121212121,
          5.242424242424242,
          5.363636363636363,
          5.484848484848485,
          5.606060606060606,
          5.7272727272727275,
          5.848484848484849,
          5.96969696969697,
          6.090909090909091,
          6.212121212121212,
          6.333333333333334,
          6.454545454545455,
          6.575757575757576,
          6.696969696969697,
          6.818181818181818,
          6.9393939393939394,
          7.0606060606060606,
          7.181818181818182,
          7.303030303030303,
          7.424242424242425,
          7.545454545454546,
          7.666666666666667,
          7.787878787878788,
          7.909090909090909,
          8.030303030303031,
          8.151515151515152,
          8.272727272727273,
          8.393939393939394,
          8.515151515151516,
          8.636363636363637,
          8.757575757575758,
          8.878787878787879,
          9,
          9.121212121212121,
          9.242424242424242,
          9.363636363636363,
          9.484848484848484,
          9.606060606060606,
          9.727272727272727,
          9.84848484848485,
          9.96969696969697,
          10.090909090909092,
          10.212121212121213,
          10.333333333333334,
          10.454545454545455,
          10.575757575757576,
          10.696969696969697,
          10.818181818181818,
          10.93939393939394,
          11.06060606060606,
          11.181818181818182,
          11.303030303030303,
          11.424242424242424,
          11.545454545454545,
          11.666666666666668,
          11.787878787878789,
          11.90909090909091,
          12.030303030303031,
          12.151515151515152,
          12.272727272727273,
          12.393939393939394,
          12.515151515151516,
          12.636363636363637,
          12.757575757575758,
          12.878787878787879,
          13
         ],
         "y": [
          61.07408407521345,
          61.3787024614665,
          61.68285330529199,
          61.98651507886873,
          62.28966506319149,
          62.59227927800096,
          62.89433240821183,
          63.19579772685127,
          63.49664701456807,
          63.796850475834425,
          64.09637665203572,
          64.39519233173418,
          64.69326245849979,
          64.9905500368302,
          65.28701603683305,
          65.58261929852097,
          65.87731643677571,
          66.17106174827342,
          66.46380712193255,
          66.75550195474891,
          67.04609307521838,
          67.33552467691824,
          67.62373826521575,
          67.91067262049434,
          68.19626378172217,
          68.48044505462198,
          68.76314704911476,
          69.04429775108105,
          69.3238226337779,
          69.60164481443314,
          69.8776852615649,
          70.15186305839697,
          70.42409572730563,
          70.69429961949007,
          70.9623903729569,
          71.22828344041304,
          71.49189468674749,
          71.75314105345578,
          72.01194128465573,
          72.26821670633547,
          72.52189204728293,
          72.7728962869328,
          73.02116351233566,
          73.26663376383657,
          73.50925384708962,
          73.74897808796426,
          73.9857690069095,
          74.21959789056562,
          74.45044524088567,
          74.6783010856885,
          74.90316513923868,
          75.12504680686504,
          75.343965033445,
          75.55994800140759,
          75.77303268935947,
          75.98326430716244,
          76.19069562701684,
          76.39538623265045,
          76.59740171000894,
          76.79681280292297,
          76.99369455621547,
          77.18812546679749,
          77.38018666071568,
          77.56996111110107,
          77.75753290875996,
          77.94298659395022,
          78.12640655486378,
          78.30787649561046,
          78.48747897414879,
          78.6652950086699,
          78.84140374942113,
          79.01588221183148,
          79.18880506603801,
          79.36024447746078,
          79.5302699928822,
          79.69894846650338,
          79.86634402062448,
          80.03251803588628,
          80.19752916637648,
          80.36143337531708,
          80.52428398748216,
          80.68613175493077,
          80.84702493306119,
          81.00700936439438,
          81.16612856786361,
          81.32442383172804,
          81.48193430853162,
          81.63869711079994,
          81.79474740640619,
          81.9501185127443,
          82.1048419890262,
          82.25894772617336,
          82.41246403390211,
          82.56541772471108,
          82.7178341945707,
          82.86973750018865,
          83.02115043278775,
          83.17209458838164,
          83.32259043457383,
          83.4726573739368
         ]
        }
       ],
       "layout": {
        "hovermode": "x unified",
        "template": {
         "data": {
          "bar": [
           {
            "error_x": {
             "color": "#2a3f5f"
            },
            "error_y": {
             "color": "#2a3f5f"
            },
            "marker": {
             "line": {
              "color": "#E5ECF6",
              "width": 0.5
             },
             "pattern": {
              "fillmode": "overlay",
              "size": 10,
              "solidity": 0.2
             }
            },
            "type": "bar"
           }
          ],
          "barpolar": [
           {
            "marker": {
             "line": {
              "color": "#E5ECF6",
              "width": 0.5
             },
             "pattern": {
              "fillmode": "overlay",
              "size": 10,
              "solidity": 0.2
             }
            },
            "type": "barpolar"
           }
          ],
          "carpet": [
           {
            "aaxis": {
             "endlinecolor": "#2a3f5f",
             "gridcolor": "white",
             "linecolor": "white",
             "minorgridcolor": "white",
             "startlinecolor": "#2a3f5f"
            },
            "baxis": {
             "endlinecolor": "#2a3f5f",
             "gridcolor": "white",
             "linecolor": "white",
             "minorgridcolor": "white",
             "startlinecolor": "#2a3f5f"
            },
            "type": "carpet"
           }
          ],
          "choropleth": [
           {
            "colorbar": {
             "outlinewidth": 0,
             "ticks": ""
            },
            "type": "choropleth"
           }
          ],
          "contour": [
           {
            "colorbar": {
             "outlinewidth": 0,
             "ticks": ""
            },
            "colorscale": [
             [
              0,
              "#0d0887"
             ],
             [
              0.1111111111111111,
              "#46039f"
             ],
             [
              0.2222222222222222,
              "#7201a8"
             ],
             [
              0.3333333333333333,
              "#9c179e"
             ],
             [
              0.4444444444444444,
              "#bd3786"
             ],
             [
              0.5555555555555556,
              "#d8576b"
             ],
             [
              0.6666666666666666,
              "#ed7953"
             ],
             [
              0.7777777777777778,
              "#fb9f3a"
             ],
             [
              0.8888888888888888,
              "#fdca26"
             ],
             [
              1,
              "#f0f921"
             ]
            ],
            "type": "contour"
           }
          ],
          "contourcarpet": [
           {
            "colorbar": {
             "outlinewidth": 0,
             "ticks": ""
            },
            "type": "contourcarpet"
           }
          ],
          "heatmap": [
           {
            "colorbar": {
             "outlinewidth": 0,
             "ticks": ""
            },
            "colorscale": [
             [
              0,
              "#0d0887"
             ],
             [
              0.1111111111111111,
              "#46039f"
             ],
             [
              0.2222222222222222,
              "#7201a8"
             ],
             [
              0.3333333333333333,
              "#9c179e"
             ],
             [
              0.4444444444444444,
              "#bd3786"
             ],
             [
              0.5555555555555556,
              "#d8576b"
             ],
             [
              0.6666666666666666,
              "#ed7953"
             ],
             [
              0.7777777777777778,
              "#fb9f3a"
             ],
             [
              0.8888888888888888,
              "#fdca26"
             ],
             [
              1,
              "#f0f921"
             ]
            ],
            "type": "heatmap"
           }
          ],
          "heatmapgl": [
           {
            "colorbar": {
             "outlinewidth": 0,
             "ticks": ""
            },
            "colorscale": [
             [
              0,
              "#0d0887"
             ],
             [
              0.1111111111111111,
              "#46039f"
             ],
             [
              0.2222222222222222,
              "#7201a8"
             ],
             [
              0.3333333333333333,
              "#9c179e"
             ],
             [
              0.4444444444444444,
              "#bd3786"
             ],
             [
              0.5555555555555556,
              "#d8576b"
             ],
             [
              0.6666666666666666,
              "#ed7953"
             ],
             [
              0.7777777777777778,
              "#fb9f3a"
             ],
             [
              0.8888888888888888,
              "#fdca26"
             ],
             [
              1,
              "#f0f921"
             ]
            ],
            "type": "heatmapgl"
           }
          ],
          "histogram": [
           {
            "marker": {
             "pattern": {
              "fillmode": "overlay",
              "size": 10,
              "solidity": 0.2
             }
            },
            "type": "histogram"
           }
          ],
          "histogram2d": [
           {
            "colorbar": {
             "outlinewidth": 0,
             "ticks": ""
            },
            "colorscale": [
             [
              0,
              "#0d0887"
             ],
             [
              0.1111111111111111,
              "#46039f"
             ],
             [
              0.2222222222222222,
              "#7201a8"
             ],
             [
              0.3333333333333333,
              "#9c179e"
             ],
             [
              0.4444444444444444,
              "#bd3786"
             ],
             [
              0.5555555555555556,
              "#d8576b"
             ],
             [
              0.6666666666666666,
              "#ed7953"
             ],
             [
              0.7777777777777778,
              "#fb9f3a"
             ],
             [
              0.8888888888888888,
              "#fdca26"
             ],
             [
              1,
              "#f0f921"
             ]
            ],
            "type": "histogram2d"
           }
          ],
          "histogram2dcontour": [
           {
            "colorbar": {
             "outlinewidth": 0,
             "ticks": ""
            },
            "colorscale": [
             [
              0,
              "#0d0887"
             ],
             [
              0.1111111111111111,
              "#46039f"
             ],
             [
              0.2222222222222222,
              "#7201a8"
             ],
             [
              0.3333333333333333,
              "#9c179e"
             ],
             [
              0.4444444444444444,
              "#bd3786"
             ],
             [
              0.5555555555555556,
              "#d8576b"
             ],
             [
              0.6666666666666666,
              "#ed7953"
             ],
             [
              0.7777777777777778,
              "#fb9f3a"
             ],
             [
              0.8888888888888888,
              "#fdca26"
             ],
             [
              1,
              "#f0f921"
             ]
            ],
            "type": "histogram2dcontour"
           }
          ],
          "mesh3d": [
           {
            "colorbar": {
             "outlinewidth": 0,
             "ticks": ""
            },
            "type": "mesh3d"
           }
          ],
          "parcoords": [
           {
            "line": {
             "colorbar": {
              "outlinewidth": 0,
              "ticks": ""
             }
            },
            "type": "parcoords"
           }
          ],
          "pie": [
           {
            "automargin": true,
            "type": "pie"
           }
          ],
          "scatter": [
           {
            "fillpattern": {
             "fillmode": "overlay",
             "size": 10,
             "solidity": 0.2
            },
            "type": "scatter"
           }
          ],
          "scatter3d": [
           {
            "line": {
             "colorbar": {
              "outlinewidth": 0,
              "ticks": ""
             }
            },
            "marker": {
             "colorbar": {
              "outlinewidth": 0,
              "ticks": ""
             }
            },
            "type": "scatter3d"
           }
          ],
          "scattercarpet": [
           {
            "marker": {
             "colorbar": {
              "outlinewidth": 0,
              "ticks": ""
             }
            },
            "type": "scattercarpet"
           }
          ],
          "scattergeo": [
           {
            "marker": {
             "colorbar": {
              "outlinewidth": 0,
              "ticks": ""
             }
            },
            "type": "scattergeo"
           }
          ],
          "scattergl": [
           {
            "marker": {
             "colorbar": {
              "outlinewidth": 0,
              "ticks": ""
             }
            },
            "type": "scattergl"
           }
          ],
          "scattermapbox": [
           {
            "marker": {
             "colorbar": {
              "outlinewidth": 0,
              "ticks": ""
             }
            },
            "type": "scattermapbox"
           }
          ],
          "scatterpolar": [
           {
            "marker": {
             "colorbar": {
              "outlinewidth": 0,
              "ticks": ""
             }
            },
            "type": "scatterpolar"
           }
          ],
          "scatterpolargl": [
           {
            "marker": {
             "colorbar": {
              "outlinewidth": 0,
              "ticks": ""
             }
            },
            "type": "scatterpolargl"
           }
          ],
          "scatterternary": [
           {
            "marker": {
             "colorbar": {
              "outlinewidth": 0,
              "ticks": ""
             }
            },
            "type": "scatterternary"
           }
          ],
          "surface": [
           {
            "colorbar": {
             "outlinewidth": 0,
             "ticks": ""
            },
            "colorscale": [
             [
              0,
              "#0d0887"
             ],
             [
              0.1111111111111111,
              "#46039f"
             ],
             [
              0.2222222222222222,
              "#7201a8"
             ],
             [
              0.3333333333333333,
              "#9c179e"
             ],
             [
              0.4444444444444444,
              "#bd3786"
             ],
             [
              0.5555555555555556,
              "#d8576b"
             ],
             [
              0.6666666666666666,
              "#ed7953"
             ],
             [
              0.7777777777777778,
              "#fb9f3a"
             ],
             [
              0.8888888888888888,
              "#fdca26"
             ],
             [
              1,
              "#f0f921"
             ]
            ],
            "type": "surface"
           }
          ],
          "table": [
           {
            "cells": {
             "fill": {
              "color": "#EBF0F8"
             },
             "line": {
              "color": "white"
             }
            },
            "header": {
             "fill": {
              "color": "#C8D4E3"
             },
             "line": {
              "color": "white"
             }
            },
            "type": "table"
           }
          ]
         },
         "layout": {
          "annotationdefaults": {
           "arrowcolor": "#2a3f5f",
           "arrowhead": 0,
           "arrowwidth": 1
          },
          "autotypenumbers": "strict",
          "coloraxis": {
           "colorbar": {
            "outlinewidth": 0,
            "ticks": ""
           }
          },
          "colorscale": {
           "diverging": [
            [
             0,
             "#8e0152"
            ],
            [
             0.1,
             "#c51b7d"
            ],
            [
             0.2,
             "#de77ae"
            ],
            [
             0.3,
             "#f1b6da"
            ],
            [
             0.4,
             "#fde0ef"
            ],
            [
             0.5,
             "#f7f7f7"
            ],
            [
             0.6,
             "#e6f5d0"
            ],
            [
             0.7,
             "#b8e186"
            ],
            [
             0.8,
             "#7fbc41"
            ],
            [
             0.9,
             "#4d9221"
            ],
            [
             1,
             "#276419"
            ]
           ],
           "sequential": [
            [
             0,
             "#0d0887"
            ],
            [
             0.1111111111111111,
             "#46039f"
            ],
            [
             0.2222222222222222,
             "#7201a8"
            ],
            [
             0.3333333333333333,
             "#9c179e"
            ],
            [
             0.4444444444444444,
             "#bd3786"
            ],
            [
             0.5555555555555556,
             "#d8576b"
            ],
            [
             0.6666666666666666,
             "#ed7953"
            ],
            [
             0.7777777777777778,
             "#fb9f3a"
            ],
            [
             0.8888888888888888,
             "#fdca26"
            ],
            [
             1,
             "#f0f921"
            ]
           ],
           "sequentialminus": [
            [
             0,
             "#0d0887"
            ],
            [
             0.1111111111111111,
             "#46039f"
            ],
            [
             0.2222222222222222,
             "#7201a8"
            ],
            [
             0.3333333333333333,
             "#9c179e"
            ],
            [
             0.4444444444444444,
             "#bd3786"
            ],
            [
             0.5555555555555556,
             "#d8576b"
            ],
            [
             0.6666666666666666,
             "#ed7953"
            ],
            [
             0.7777777777777778,
             "#fb9f3a"
            ],
            [
             0.8888888888888888,
             "#fdca26"
            ],
            [
             1,
             "#f0f921"
            ]
           ]
          },
          "colorway": [
           "#636efa",
           "#EF553B",
           "#00cc96",
           "#ab63fa",
           "#FFA15A",
           "#19d3f3",
           "#FF6692",
           "#B6E880",
           "#FF97FF",
           "#FECB52"
          ],
          "font": {
           "color": "#2a3f5f"
          },
          "geo": {
           "bgcolor": "white",
           "lakecolor": "white",
           "landcolor": "#E5ECF6",
           "showlakes": true,
           "showland": true,
           "subunitcolor": "white"
          },
          "hoverlabel": {
           "align": "left"
          },
          "hovermode": "closest",
          "mapbox": {
           "style": "light"
          },
          "paper_bgcolor": "white",
          "plot_bgcolor": "#E5ECF6",
          "polar": {
           "angularaxis": {
            "gridcolor": "white",
            "linecolor": "white",
            "ticks": ""
           },
           "bgcolor": "#E5ECF6",
           "radialaxis": {
            "gridcolor": "white",
            "linecolor": "white",
            "ticks": ""
           }
          },
          "scene": {
           "xaxis": {
            "backgroundcolor": "#E5ECF6",
            "gridcolor": "white",
            "gridwidth": 2,
            "linecolor": "white",
            "showbackground": true,
            "ticks": "",
            "zerolinecolor": "white"
           },
           "yaxis": {
            "backgroundcolor": "#E5ECF6",
            "gridcolor": "white",
            "gridwidth": 2,
            "linecolor": "white",
            "showbackground": true,
            "ticks": "",
            "zerolinecolor": "white"
           },
           "zaxis": {
            "backgroundcolor": "#E5ECF6",
            "gridcolor": "white",
            "gridwidth": 2,
            "linecolor": "white",
            "showbackground": true,
            "ticks": "",
            "zerolinecolor": "white"
           }
          },
          "shapedefaults": {
           "line": {
            "color": "#2a3f5f"
           }
          },
          "ternary": {
           "aaxis": {
            "gridcolor": "white",
            "linecolor": "white",
            "ticks": ""
           },
           "baxis": {
            "gridcolor": "white",
            "linecolor": "white",
            "ticks": ""
           },
           "bgcolor": "#E5ECF6",
           "caxis": {
            "gridcolor": "white",
            "linecolor": "white",
            "ticks": ""
           }
          },
          "title": {
           "x": 0.05
          },
          "xaxis": {
           "automargin": true,
           "gridcolor": "white",
           "linecolor": "white",
           "ticks": "",
           "title": {
            "standoff": 15
           },
           "zerolinecolor": "white",
           "zerolinewidth": 2
          },
          "yaxis": {
           "automargin": true,
           "gridcolor": "white",
           "linecolor": "white",
           "ticks": "",
           "title": {
            "standoff": 15
           },
           "zerolinecolor": "white",
           "zerolinewidth": 2
          }
         }
        },
        "title": {
         "text": "Trials Completed by Session Number"
        },
        "xaxis": {
         "title": {
          "text": "Session Number"
         }
        },
        "yaxis": {
         "title": {
          "text": "Trials Completed"
         }
        }
       }
      }
     },
     "metadata": {},
     "output_type": "display_data"
    }
   ],
   "source": [
    "linear_regression_plot(clickbait.summary_df, dv='trials_completed', iv='session_number', dv_name='Trials Completed', iv_name='Session Number', error_type='SEM')"
   ]
  },
  {
   "cell_type": "code",
   "execution_count": 10,
   "metadata": {},
   "outputs": [
    {
     "data": {
      "application/vnd.plotly.v1+json": {
       "config": {
        "plotlyServerURL": "https://plot.ly"
       },
       "data": [
        {
         "marker": {
          "color": [
           0,
           0,
           0,
           0,
           0,
           0,
           0,
           0,
           0,
           0,
           0,
           0,
           0,
           1,
           1,
           1,
           1,
           1,
           1,
           1,
           1,
           1,
           1,
           1,
           1,
           1,
           2,
           2,
           2,
           2,
           2,
           2,
           2,
           2,
           2,
           2,
           2,
           2,
           2,
           3,
           3,
           3,
           3,
           3,
           3,
           3,
           3,
           3,
           3,
           3,
           3
          ],
          "colorscale": [
           [
            0,
            "rgb(103,0,31)"
           ],
           [
            0.1,
            "rgb(178,24,43)"
           ],
           [
            0.2,
            "rgb(214,96,77)"
           ],
           [
            0.3,
            "rgb(244,165,130)"
           ],
           [
            0.4,
            "rgb(253,219,199)"
           ],
           [
            0.5,
            "rgb(247,247,247)"
           ],
           [
            0.6,
            "rgb(209,229,240)"
           ],
           [
            0.7,
            "rgb(146,197,222)"
           ],
           [
            0.8,
            "rgb(67,147,195)"
           ],
           [
            0.9,
            "rgb(33,102,172)"
           ],
           [
            1,
            "rgb(5,48,97)"
           ]
          ]
         },
         "mode": "markers",
         "name": "Distance Traveled",
         "showlegend": true,
         "type": "scatter",
         "x": [
          1,
          2,
          3,
          4,
          5,
          6,
          7,
          8,
          9,
          10,
          11,
          12,
          13,
          1,
          2,
          3,
          4,
          5,
          6,
          7,
          8,
          9,
          10,
          11,
          12,
          13,
          1,
          2,
          3,
          4,
          5,
          6,
          7,
          8,
          9,
          10,
          11,
          12,
          13,
          1,
          2,
          3,
          4,
          5,
          6,
          7,
          8,
          9,
          10,
          11,
          12
         ],
         "y": [
          691530.8804675475,
          559843.4326249228,
          587447.7439522601,
          585847.602871784,
          627016.8828239847,
          895881.532906181,
          697874.6297225738,
          773385.6405915248,
          769232.8606894696,
          708288.5439771388,
          760471.1504306121,
          658813.7159378035,
          728326.1467609477,
          527043.615620008,
          412585.8061645681,
          392643.79069106013,
          488899.83299048763,
          430572.26676102815,
          682065.3240596766,
          540875.3793193466,
          517215.3820509962,
          596642.3700303929,
          634605.4488535561,
          658633.2805240792,
          615655.2561136064,
          684700.903419169,
          655297.5804871407,
          457448.3631451816,
          439316.15887511737,
          468885.9627721219,
          584143.4478082042,
          740486.559914116,
          659202.1323992705,
          747118.9791622803,
          696948.2481736927,
          687219.3504889571,
          706788.9183672273,
          624743.2130849316,
          614257.2321552876,
          680954.2216215223,
          595677.9086749172,
          652158.3326155453,
          631073.4833229401,
          715977.6342140008,
          872220.6645878716,
          715674.1487074024,
          832002.725634085,
          778608.8816527801,
          801789.4605783193,
          691164.6514126755,
          823474.0321009015
         ]
        },
        {
         "line": {
          "color": "red"
         },
         "mode": "lines",
         "name": "Fitted Line",
         "type": "scatter",
         "x": [
          1,
          1.121212121212121,
          1.2424242424242424,
          1.3636363636363638,
          1.4848484848484849,
          1.606060606060606,
          1.7272727272727273,
          1.8484848484848486,
          1.9696969696969697,
          2.090909090909091,
          2.212121212121212,
          2.3333333333333335,
          2.4545454545454546,
          2.5757575757575757,
          2.6969696969696972,
          2.8181818181818183,
          2.9393939393939394,
          3.0606060606060606,
          3.1818181818181817,
          3.303030303030303,
          3.4242424242424243,
          3.5454545454545454,
          3.666666666666667,
          3.787878787878788,
          3.909090909090909,
          4.03030303030303,
          4.151515151515151,
          4.272727272727273,
          4.3939393939393945,
          4.515151515151516,
          4.636363636363637,
          4.757575757575758,
          4.878787878787879,
          5,
          5.121212121212121,
          5.242424242424242,
          5.363636363636363,
          5.484848484848485,
          5.606060606060606,
          5.7272727272727275,
          5.848484848484849,
          5.96969696969697,
          6.090909090909091,
          6.212121212121212,
          6.333333333333334,
          6.454545454545455,
          6.575757575757576,
          6.696969696969697,
          6.818181818181818,
          6.9393939393939394,
          7.0606060606060606,
          7.181818181818182,
          7.303030303030303,
          7.424242424242425,
          7.545454545454546,
          7.666666666666667,
          7.787878787878788,
          7.909090909090909,
          8.030303030303031,
          8.151515151515152,
          8.272727272727273,
          8.393939393939394,
          8.515151515151516,
          8.636363636363637,
          8.757575757575758,
          8.878787878787879,
          9,
          9.121212121212121,
          9.242424242424242,
          9.363636363636363,
          9.484848484848484,
          9.606060606060606,
          9.727272727272727,
          9.84848484848485,
          9.96969696969697,
          10.090909090909092,
          10.212121212121213,
          10.333333333333334,
          10.454545454545455,
          10.575757575757576,
          10.696969696969697,
          10.818181818181818,
          10.93939393939394,
          11.06060606060606,
          11.181818181818182,
          11.303030303030303,
          11.424242424242424,
          11.545454545454545,
          11.666666666666668,
          11.787878787878789,
          11.90909090909091,
          12.030303030303031,
          12.151515151515152,
          12.272727272727273,
          12.393939393939394,
          12.515151515151516,
          12.636363636363637,
          12.757575757575758,
          12.878787878787879,
          13
         ],
         "y": [
          565481.818738996,
          567202.6910447021,
          568923.5633504081,
          570644.4356561141,
          572365.3079618202,
          574086.1802675262,
          575807.0525732322,
          577527.9248789382,
          579248.7971846443,
          580969.6694903503,
          582690.5417960562,
          584411.4141017622,
          586132.2864074683,
          587853.1587131743,
          589574.0310188803,
          591294.9033245863,
          593015.7756302924,
          594736.6479359984,
          596457.5202417044,
          598178.3925474104,
          599899.2648531165,
          601620.1371588225,
          603341.0094645285,
          605061.8817702346,
          606782.7540759406,
          608503.6263816466,
          610224.4986873525,
          611945.3709930585,
          613666.2432987646,
          615387.1156044706,
          617107.9879101766,
          618828.8602158827,
          620549.7325215887,
          622270.6048272947,
          623991.4771330007,
          625712.3494387068,
          627433.2217444128,
          629154.0940501188,
          630874.9663558248,
          632595.8386615308,
          634316.7109672369,
          636037.5832729428,
          637758.4555786488,
          639479.3278843549,
          641200.2001900609,
          642921.0724957669,
          644641.944801473,
          646362.817107179,
          648083.689412885,
          649804.561718591,
          651525.434024297,
          653246.3063300031,
          654967.1786357091,
          656688.0509414151,
          658408.923247121,
          660129.7955528272,
          661850.6678585331,
          663571.5401642391,
          665292.4124699451,
          667013.2847756512,
          668734.1570813572,
          670455.0293870632,
          672175.9016927693,
          673896.7739984753,
          675617.6463041813,
          677338.5186098873,
          679059.3909155934,
          680780.2632212994,
          682501.1355270054,
          684222.0078327113,
          685942.8801384174,
          687663.7524441234,
          689384.6247498294,
          691105.4970555354,
          692826.3693612415,
          694547.2416669475,
          696268.1139726535,
          697988.9862783595,
          699709.8585840656,
          701430.7308897716,
          703151.6031954776,
          704872.4755011837,
          706593.3478068896,
          708314.2201125957,
          710035.0924183016,
          711755.9647240076,
          713476.8370297137,
          715197.7093354197,
          716918.5816411257,
          718639.4539468318,
          720360.3262525378,
          722081.1985582438,
          723802.0708639498,
          725522.9431696559,
          727243.8154753619,
          728964.6877810679,
          730685.5600867739,
          732406.4323924799,
          734127.304698186,
          735848.1770038919
         ]
        },
        {
         "line": {
          "width": 0
         },
         "mode": "lines",
         "showlegend": false,
         "type": "scatter",
         "x": [
          1,
          1.121212121212121,
          1.2424242424242424,
          1.3636363636363638,
          1.4848484848484849,
          1.606060606060606,
          1.7272727272727273,
          1.8484848484848486,
          1.9696969696969697,
          2.090909090909091,
          2.212121212121212,
          2.3333333333333335,
          2.4545454545454546,
          2.5757575757575757,
          2.6969696969696972,
          2.8181818181818183,
          2.9393939393939394,
          3.0606060606060606,
          3.1818181818181817,
          3.303030303030303,
          3.4242424242424243,
          3.5454545454545454,
          3.666666666666667,
          3.787878787878788,
          3.909090909090909,
          4.03030303030303,
          4.151515151515151,
          4.272727272727273,
          4.3939393939393945,
          4.515151515151516,
          4.636363636363637,
          4.757575757575758,
          4.878787878787879,
          5,
          5.121212121212121,
          5.242424242424242,
          5.363636363636363,
          5.484848484848485,
          5.606060606060606,
          5.7272727272727275,
          5.848484848484849,
          5.96969696969697,
          6.090909090909091,
          6.212121212121212,
          6.333333333333334,
          6.454545454545455,
          6.575757575757576,
          6.696969696969697,
          6.818181818181818,
          6.9393939393939394,
          7.0606060606060606,
          7.181818181818182,
          7.303030303030303,
          7.424242424242425,
          7.545454545454546,
          7.666666666666667,
          7.787878787878788,
          7.909090909090909,
          8.030303030303031,
          8.151515151515152,
          8.272727272727273,
          8.393939393939394,
          8.515151515151516,
          8.636363636363637,
          8.757575757575758,
          8.878787878787879,
          9,
          9.121212121212121,
          9.242424242424242,
          9.363636363636363,
          9.484848484848484,
          9.606060606060606,
          9.727272727272727,
          9.84848484848485,
          9.96969696969697,
          10.090909090909092,
          10.212121212121213,
          10.333333333333334,
          10.454545454545455,
          10.575757575757576,
          10.696969696969697,
          10.818181818181818,
          10.93939393939394,
          11.06060606060606,
          11.181818181818182,
          11.303030303030303,
          11.424242424242424,
          11.545454545454545,
          11.666666666666668,
          11.787878787878789,
          11.90909090909091,
          12.030303030303031,
          12.151515151515152,
          12.272727272727273,
          12.393939393939394,
          12.515151515151516,
          12.636363636363637,
          12.757575757575758,
          12.878787878787879,
          13
         ],
         "y": [
          593516.5334575551,
          594823.5444402131,
          596133.0732663353,
          597445.2358691092,
          598760.1545965729,
          600077.9585889621,
          601398.784174914,
          602722.7752864655,
          604050.0838925178,
          605380.870450113,
          606715.3043724687,
          608053.5645122342,
          609395.839657844,
          610742.3290401666,
          612093.2428458153,
          613448.8027325456,
          614809.2423410498,
          616174.8077961897,
          617545.7581892582,
          618922.3660312317,
          620304.917665159,
          621693.713623844,
          623089.0689168347,
          624491.3132284599,
          625900.7910063171,
          627317.8614172762,
          628742.8981458341,
          630176.2890076615,
          631618.4353495912,
          633069.7512063163,
          634530.6621839172,
          636001.6040412989,
          637483.0209429552,
          638975.3633604883,
          640479.0856062371,
          641994.6429904294,
          643522.4886035803,
          645063.0697383853,
          646616.8239799271,
          648184.1750092127,
          649765.5281822449,
          651361.2659641335,
          652971.7433140851,
          654597.2831311916,
          656238.1718815108,
          657894.6555326905,
          659566.9359223328,
          661255.1676797096,
          662959.4558071205,
          664679.8540074803,
          666416.3638195521,
          668168.9345930754,
          669937.4643047198,
          671721.8011844194,
          673521.746092294,
          675337.0555609101,
          677167.4453975784,
          679012.5947276773,
          680872.150353005,
          682745.7312987427,
          684632.9334280551,
          686533.3340136716,
          688446.4961697089,
          690371.973063231,
          692309.3118423156,
          694258.0572346211,
          696217.754786723,
          698187.9537291646,
          700168.2094648271,
          702158.0856886585,
          704157.1561549943,
          706165.0061147482,
          708181.2334488706,
          710205.4495268962,
          712237.2798204373,
          714276.3643013907,
          716322.3576536849,
          718374.9293258318,
          720433.7634495749,
          722498.5586477035,
          724569.0277517682,
          726644.8974480921,
          728725.9078681963,
          730811.8121376054,
          732902.3758949963,
          734997.3767918352,
          737096.6039809964,
          739199.8576014097,
          741306.9482644879,
          743417.69654698,
          745531.9324939236,
          747649.495134556,
          749770.2320133351,
          751893.9987376443,
          754020.658543258,
          756150.0818782452,
          758282.1460056562,
          760416.7346250687,
          762553.7375128568,
          764693.0501808765
         ]
        },
        {
         "fill": "tonexty",
         "fillcolor": "rgba(255,0,0,0.2)",
         "line": {
          "width": 0
         },
         "mode": "lines",
         "name": "SEM",
         "type": "scatter",
         "x": [
          1,
          1.121212121212121,
          1.2424242424242424,
          1.3636363636363638,
          1.4848484848484849,
          1.606060606060606,
          1.7272727272727273,
          1.8484848484848486,
          1.9696969696969697,
          2.090909090909091,
          2.212121212121212,
          2.3333333333333335,
          2.4545454545454546,
          2.5757575757575757,
          2.6969696969696972,
          2.8181818181818183,
          2.9393939393939394,
          3.0606060606060606,
          3.1818181818181817,
          3.303030303030303,
          3.4242424242424243,
          3.5454545454545454,
          3.666666666666667,
          3.787878787878788,
          3.909090909090909,
          4.03030303030303,
          4.151515151515151,
          4.272727272727273,
          4.3939393939393945,
          4.515151515151516,
          4.636363636363637,
          4.757575757575758,
          4.878787878787879,
          5,
          5.121212121212121,
          5.242424242424242,
          5.363636363636363,
          5.484848484848485,
          5.606060606060606,
          5.7272727272727275,
          5.848484848484849,
          5.96969696969697,
          6.090909090909091,
          6.212121212121212,
          6.333333333333334,
          6.454545454545455,
          6.575757575757576,
          6.696969696969697,
          6.818181818181818,
          6.9393939393939394,
          7.0606060606060606,
          7.181818181818182,
          7.303030303030303,
          7.424242424242425,
          7.545454545454546,
          7.666666666666667,
          7.787878787878788,
          7.909090909090909,
          8.030303030303031,
          8.151515151515152,
          8.272727272727273,
          8.393939393939394,
          8.515151515151516,
          8.636363636363637,
          8.757575757575758,
          8.878787878787879,
          9,
          9.121212121212121,
          9.242424242424242,
          9.363636363636363,
          9.484848484848484,
          9.606060606060606,
          9.727272727272727,
          9.84848484848485,
          9.96969696969697,
          10.090909090909092,
          10.212121212121213,
          10.333333333333334,
          10.454545454545455,
          10.575757575757576,
          10.696969696969697,
          10.818181818181818,
          10.93939393939394,
          11.06060606060606,
          11.181818181818182,
          11.303030303030303,
          11.424242424242424,
          11.545454545454545,
          11.666666666666668,
          11.787878787878789,
          11.90909090909091,
          12.030303030303031,
          12.151515151515152,
          12.272727272727273,
          12.393939393939394,
          12.515151515151516,
          12.636363636363637,
          12.757575757575758,
          12.878787878787879,
          13
         ],
         "y": [
          537447.104020437,
          539581.837649191,
          541714.0534344809,
          543843.6354431191,
          545970.4613270675,
          548094.4019460903,
          550215.3209715504,
          552333.074471411,
          554447.5104767707,
          556558.4685305876,
          558665.7792196437,
          560769.2636912903,
          562868.7331570925,
          564963.988386182,
          567054.8191919454,
          569141.003916627,
          571222.3089195349,
          573298.4880758071,
          575369.2822941507,
          577434.4190635892,
          579493.612041074,
          581546.560693801,
          583592.9500122224,
          585632.4503120092,
          587664.717145564,
          589689.391346017,
          591706.0992288709,
          593714.4529784556,
          595714.051247938,
          597704.4800026249,
          599685.313636436,
          601656.1163904665,
          603616.4441002222,
          605565.8462941011,
          607503.8686597644,
          609430.0558869841,
          611343.9548852453,
          613245.1183618524,
          615133.1087317226,
          617007.5023138488,
          618867.8937522289,
          620713.9005817521,
          622545.1678432126,
          624361.3726375181,
          626162.228498611,
          627947.4894588434,
          629716.9536806131,
          631470.4665346483,
          633207.9230186495,
          634929.2694297017,
          636634.504229042,
          638323.6780669307,
          639996.8929666984,
          641654.3006984108,
          643296.1004019481,
          644922.5355447442,
          646533.8903194878,
          648130.485600801,
          649712.6745868853,
          651280.8382525597,
          652835.3807346593,
          654376.7247604548,
          655905.3072158296,
          657421.5749337196,
          658925.980766047,
          660418.9799851535,
          661901.0270444638,
          663372.5727134342,
          664834.0615891838,
          666285.9299767641,
          667728.6041218404,
          669162.4987734986,
          670588.0160507882,
          672005.5445841746,
          673415.4589020456,
          674818.1190325043,
          676213.8702916221,
          677603.0432308873,
          678985.9537185562,
          680362.9031318397,
          681734.178639187,
          683100.0535542752,
          684460.7877455829,
          685816.628087586,
          687167.8089416069,
          688514.5526561801,
          689857.0700784309,
          691195.5610694297,
          692530.2150177635,
          693861.2113466836,
          695188.720011152,
          696512.9019819316,
          697833.9097145646,
          699151.8876016674,
          700466.9724074658,
          701779.2936838906,
          703088.9741678917,
          704396.130159891,
          705700.8718835152,
          707003.3038269073
         ]
        }
       ],
       "layout": {
        "hovermode": "x unified",
        "template": {
         "data": {
          "bar": [
           {
            "error_x": {
             "color": "#2a3f5f"
            },
            "error_y": {
             "color": "#2a3f5f"
            },
            "marker": {
             "line": {
              "color": "#E5ECF6",
              "width": 0.5
             },
             "pattern": {
              "fillmode": "overlay",
              "size": 10,
              "solidity": 0.2
             }
            },
            "type": "bar"
           }
          ],
          "barpolar": [
           {
            "marker": {
             "line": {
              "color": "#E5ECF6",
              "width": 0.5
             },
             "pattern": {
              "fillmode": "overlay",
              "size": 10,
              "solidity": 0.2
             }
            },
            "type": "barpolar"
           }
          ],
          "carpet": [
           {
            "aaxis": {
             "endlinecolor": "#2a3f5f",
             "gridcolor": "white",
             "linecolor": "white",
             "minorgridcolor": "white",
             "startlinecolor": "#2a3f5f"
            },
            "baxis": {
             "endlinecolor": "#2a3f5f",
             "gridcolor": "white",
             "linecolor": "white",
             "minorgridcolor": "white",
             "startlinecolor": "#2a3f5f"
            },
            "type": "carpet"
           }
          ],
          "choropleth": [
           {
            "colorbar": {
             "outlinewidth": 0,
             "ticks": ""
            },
            "type": "choropleth"
           }
          ],
          "contour": [
           {
            "colorbar": {
             "outlinewidth": 0,
             "ticks": ""
            },
            "colorscale": [
             [
              0,
              "#0d0887"
             ],
             [
              0.1111111111111111,
              "#46039f"
             ],
             [
              0.2222222222222222,
              "#7201a8"
             ],
             [
              0.3333333333333333,
              "#9c179e"
             ],
             [
              0.4444444444444444,
              "#bd3786"
             ],
             [
              0.5555555555555556,
              "#d8576b"
             ],
             [
              0.6666666666666666,
              "#ed7953"
             ],
             [
              0.7777777777777778,
              "#fb9f3a"
             ],
             [
              0.8888888888888888,
              "#fdca26"
             ],
             [
              1,
              "#f0f921"
             ]
            ],
            "type": "contour"
           }
          ],
          "contourcarpet": [
           {
            "colorbar": {
             "outlinewidth": 0,
             "ticks": ""
            },
            "type": "contourcarpet"
           }
          ],
          "heatmap": [
           {
            "colorbar": {
             "outlinewidth": 0,
             "ticks": ""
            },
            "colorscale": [
             [
              0,
              "#0d0887"
             ],
             [
              0.1111111111111111,
              "#46039f"
             ],
             [
              0.2222222222222222,
              "#7201a8"
             ],
             [
              0.3333333333333333,
              "#9c179e"
             ],
             [
              0.4444444444444444,
              "#bd3786"
             ],
             [
              0.5555555555555556,
              "#d8576b"
             ],
             [
              0.6666666666666666,
              "#ed7953"
             ],
             [
              0.7777777777777778,
              "#fb9f3a"
             ],
             [
              0.8888888888888888,
              "#fdca26"
             ],
             [
              1,
              "#f0f921"
             ]
            ],
            "type": "heatmap"
           }
          ],
          "heatmapgl": [
           {
            "colorbar": {
             "outlinewidth": 0,
             "ticks": ""
            },
            "colorscale": [
             [
              0,
              "#0d0887"
             ],
             [
              0.1111111111111111,
              "#46039f"
             ],
             [
              0.2222222222222222,
              "#7201a8"
             ],
             [
              0.3333333333333333,
              "#9c179e"
             ],
             [
              0.4444444444444444,
              "#bd3786"
             ],
             [
              0.5555555555555556,
              "#d8576b"
             ],
             [
              0.6666666666666666,
              "#ed7953"
             ],
             [
              0.7777777777777778,
              "#fb9f3a"
             ],
             [
              0.8888888888888888,
              "#fdca26"
             ],
             [
              1,
              "#f0f921"
             ]
            ],
            "type": "heatmapgl"
           }
          ],
          "histogram": [
           {
            "marker": {
             "pattern": {
              "fillmode": "overlay",
              "size": 10,
              "solidity": 0.2
             }
            },
            "type": "histogram"
           }
          ],
          "histogram2d": [
           {
            "colorbar": {
             "outlinewidth": 0,
             "ticks": ""
            },
            "colorscale": [
             [
              0,
              "#0d0887"
             ],
             [
              0.1111111111111111,
              "#46039f"
             ],
             [
              0.2222222222222222,
              "#7201a8"
             ],
             [
              0.3333333333333333,
              "#9c179e"
             ],
             [
              0.4444444444444444,
              "#bd3786"
             ],
             [
              0.5555555555555556,
              "#d8576b"
             ],
             [
              0.6666666666666666,
              "#ed7953"
             ],
             [
              0.7777777777777778,
              "#fb9f3a"
             ],
             [
              0.8888888888888888,
              "#fdca26"
             ],
             [
              1,
              "#f0f921"
             ]
            ],
            "type": "histogram2d"
           }
          ],
          "histogram2dcontour": [
           {
            "colorbar": {
             "outlinewidth": 0,
             "ticks": ""
            },
            "colorscale": [
             [
              0,
              "#0d0887"
             ],
             [
              0.1111111111111111,
              "#46039f"
             ],
             [
              0.2222222222222222,
              "#7201a8"
             ],
             [
              0.3333333333333333,
              "#9c179e"
             ],
             [
              0.4444444444444444,
              "#bd3786"
             ],
             [
              0.5555555555555556,
              "#d8576b"
             ],
             [
              0.6666666666666666,
              "#ed7953"
             ],
             [
              0.7777777777777778,
              "#fb9f3a"
             ],
             [
              0.8888888888888888,
              "#fdca26"
             ],
             [
              1,
              "#f0f921"
             ]
            ],
            "type": "histogram2dcontour"
           }
          ],
          "mesh3d": [
           {
            "colorbar": {
             "outlinewidth": 0,
             "ticks": ""
            },
            "type": "mesh3d"
           }
          ],
          "parcoords": [
           {
            "line": {
             "colorbar": {
              "outlinewidth": 0,
              "ticks": ""
             }
            },
            "type": "parcoords"
           }
          ],
          "pie": [
           {
            "automargin": true,
            "type": "pie"
           }
          ],
          "scatter": [
           {
            "fillpattern": {
             "fillmode": "overlay",
             "size": 10,
             "solidity": 0.2
            },
            "type": "scatter"
           }
          ],
          "scatter3d": [
           {
            "line": {
             "colorbar": {
              "outlinewidth": 0,
              "ticks": ""
             }
            },
            "marker": {
             "colorbar": {
              "outlinewidth": 0,
              "ticks": ""
             }
            },
            "type": "scatter3d"
           }
          ],
          "scattercarpet": [
           {
            "marker": {
             "colorbar": {
              "outlinewidth": 0,
              "ticks": ""
             }
            },
            "type": "scattercarpet"
           }
          ],
          "scattergeo": [
           {
            "marker": {
             "colorbar": {
              "outlinewidth": 0,
              "ticks": ""
             }
            },
            "type": "scattergeo"
           }
          ],
          "scattergl": [
           {
            "marker": {
             "colorbar": {
              "outlinewidth": 0,
              "ticks": ""
             }
            },
            "type": "scattergl"
           }
          ],
          "scattermapbox": [
           {
            "marker": {
             "colorbar": {
              "outlinewidth": 0,
              "ticks": ""
             }
            },
            "type": "scattermapbox"
           }
          ],
          "scatterpolar": [
           {
            "marker": {
             "colorbar": {
              "outlinewidth": 0,
              "ticks": ""
             }
            },
            "type": "scatterpolar"
           }
          ],
          "scatterpolargl": [
           {
            "marker": {
             "colorbar": {
              "outlinewidth": 0,
              "ticks": ""
             }
            },
            "type": "scatterpolargl"
           }
          ],
          "scatterternary": [
           {
            "marker": {
             "colorbar": {
              "outlinewidth": 0,
              "ticks": ""
             }
            },
            "type": "scatterternary"
           }
          ],
          "surface": [
           {
            "colorbar": {
             "outlinewidth": 0,
             "ticks": ""
            },
            "colorscale": [
             [
              0,
              "#0d0887"
             ],
             [
              0.1111111111111111,
              "#46039f"
             ],
             [
              0.2222222222222222,
              "#7201a8"
             ],
             [
              0.3333333333333333,
              "#9c179e"
             ],
             [
              0.4444444444444444,
              "#bd3786"
             ],
             [
              0.5555555555555556,
              "#d8576b"
             ],
             [
              0.6666666666666666,
              "#ed7953"
             ],
             [
              0.7777777777777778,
              "#fb9f3a"
             ],
             [
              0.8888888888888888,
              "#fdca26"
             ],
             [
              1,
              "#f0f921"
             ]
            ],
            "type": "surface"
           }
          ],
          "table": [
           {
            "cells": {
             "fill": {
              "color": "#EBF0F8"
             },
             "line": {
              "color": "white"
             }
            },
            "header": {
             "fill": {
              "color": "#C8D4E3"
             },
             "line": {
              "color": "white"
             }
            },
            "type": "table"
           }
          ]
         },
         "layout": {
          "annotationdefaults": {
           "arrowcolor": "#2a3f5f",
           "arrowhead": 0,
           "arrowwidth": 1
          },
          "autotypenumbers": "strict",
          "coloraxis": {
           "colorbar": {
            "outlinewidth": 0,
            "ticks": ""
           }
          },
          "colorscale": {
           "diverging": [
            [
             0,
             "#8e0152"
            ],
            [
             0.1,
             "#c51b7d"
            ],
            [
             0.2,
             "#de77ae"
            ],
            [
             0.3,
             "#f1b6da"
            ],
            [
             0.4,
             "#fde0ef"
            ],
            [
             0.5,
             "#f7f7f7"
            ],
            [
             0.6,
             "#e6f5d0"
            ],
            [
             0.7,
             "#b8e186"
            ],
            [
             0.8,
             "#7fbc41"
            ],
            [
             0.9,
             "#4d9221"
            ],
            [
             1,
             "#276419"
            ]
           ],
           "sequential": [
            [
             0,
             "#0d0887"
            ],
            [
             0.1111111111111111,
             "#46039f"
            ],
            [
             0.2222222222222222,
             "#7201a8"
            ],
            [
             0.3333333333333333,
             "#9c179e"
            ],
            [
             0.4444444444444444,
             "#bd3786"
            ],
            [
             0.5555555555555556,
             "#d8576b"
            ],
            [
             0.6666666666666666,
             "#ed7953"
            ],
            [
             0.7777777777777778,
             "#fb9f3a"
            ],
            [
             0.8888888888888888,
             "#fdca26"
            ],
            [
             1,
             "#f0f921"
            ]
           ],
           "sequentialminus": [
            [
             0,
             "#0d0887"
            ],
            [
             0.1111111111111111,
             "#46039f"
            ],
            [
             0.2222222222222222,
             "#7201a8"
            ],
            [
             0.3333333333333333,
             "#9c179e"
            ],
            [
             0.4444444444444444,
             "#bd3786"
            ],
            [
             0.5555555555555556,
             "#d8576b"
            ],
            [
             0.6666666666666666,
             "#ed7953"
            ],
            [
             0.7777777777777778,
             "#fb9f3a"
            ],
            [
             0.8888888888888888,
             "#fdca26"
            ],
            [
             1,
             "#f0f921"
            ]
           ]
          },
          "colorway": [
           "#636efa",
           "#EF553B",
           "#00cc96",
           "#ab63fa",
           "#FFA15A",
           "#19d3f3",
           "#FF6692",
           "#B6E880",
           "#FF97FF",
           "#FECB52"
          ],
          "font": {
           "color": "#2a3f5f"
          },
          "geo": {
           "bgcolor": "white",
           "lakecolor": "white",
           "landcolor": "#E5ECF6",
           "showlakes": true,
           "showland": true,
           "subunitcolor": "white"
          },
          "hoverlabel": {
           "align": "left"
          },
          "hovermode": "closest",
          "mapbox": {
           "style": "light"
          },
          "paper_bgcolor": "white",
          "plot_bgcolor": "#E5ECF6",
          "polar": {
           "angularaxis": {
            "gridcolor": "white",
            "linecolor": "white",
            "ticks": ""
           },
           "bgcolor": "#E5ECF6",
           "radialaxis": {
            "gridcolor": "white",
            "linecolor": "white",
            "ticks": ""
           }
          },
          "scene": {
           "xaxis": {
            "backgroundcolor": "#E5ECF6",
            "gridcolor": "white",
            "gridwidth": 2,
            "linecolor": "white",
            "showbackground": true,
            "ticks": "",
            "zerolinecolor": "white"
           },
           "yaxis": {
            "backgroundcolor": "#E5ECF6",
            "gridcolor": "white",
            "gridwidth": 2,
            "linecolor": "white",
            "showbackground": true,
            "ticks": "",
            "zerolinecolor": "white"
           },
           "zaxis": {
            "backgroundcolor": "#E5ECF6",
            "gridcolor": "white",
            "gridwidth": 2,
            "linecolor": "white",
            "showbackground": true,
            "ticks": "",
            "zerolinecolor": "white"
           }
          },
          "shapedefaults": {
           "line": {
            "color": "#2a3f5f"
           }
          },
          "ternary": {
           "aaxis": {
            "gridcolor": "white",
            "linecolor": "white",
            "ticks": ""
           },
           "baxis": {
            "gridcolor": "white",
            "linecolor": "white",
            "ticks": ""
           },
           "bgcolor": "#E5ECF6",
           "caxis": {
            "gridcolor": "white",
            "linecolor": "white",
            "ticks": ""
           }
          },
          "title": {
           "x": 0.05
          },
          "xaxis": {
           "automargin": true,
           "gridcolor": "white",
           "linecolor": "white",
           "ticks": "",
           "title": {
            "standoff": 15
           },
           "zerolinecolor": "white",
           "zerolinewidth": 2
          },
          "yaxis": {
           "automargin": true,
           "gridcolor": "white",
           "linecolor": "white",
           "ticks": "",
           "title": {
            "standoff": 15
           },
           "zerolinecolor": "white",
           "zerolinewidth": 2
          }
         }
        },
        "title": {
         "text": "Distance Traveled by Session Number"
        },
        "xaxis": {
         "title": {
          "text": "Session Number"
         }
        },
        "yaxis": {
         "title": {
          "text": "Distance Traveled"
         }
        }
       }
      }
     },
     "metadata": {},
     "output_type": "display_data"
    }
   ],
   "source": [
    "linear_regression_plot(clickbait.summary_df, dv='distance_traveled', iv='session_number', dv_name='Distance Traveled', iv_name='Session Number', error_type='SEM')"
   ]
  },
  {
   "cell_type": "markdown",
   "metadata": {},
   "source": [
    "### Visualize trials completed for individual mice."
   ]
  },
  {
   "cell_type": "code",
   "execution_count": 11,
   "metadata": {},
   "outputs": [
    {
     "data": {
      "application/vnd.plotly.v1+json": {
       "config": {
        "plotlyServerURL": "https://plot.ly"
       },
       "data": [
        {
         "marker": {
          "color": [
           0,
           0,
           0,
           0,
           0,
           0,
           0,
           0,
           0,
           0,
           0,
           0
          ],
          "colorscale": [
           [
            0,
            "rgb(103,0,31)"
           ],
           [
            0.1,
            "rgb(178,24,43)"
           ],
           [
            0.2,
            "rgb(214,96,77)"
           ],
           [
            0.3,
            "rgb(244,165,130)"
           ],
           [
            0.4,
            "rgb(253,219,199)"
           ],
           [
            0.5,
            "rgb(247,247,247)"
           ],
           [
            0.6,
            "rgb(209,229,240)"
           ],
           [
            0.7,
            "rgb(146,197,222)"
           ],
           [
            0.8,
            "rgb(67,147,195)"
           ],
           [
            0.9,
            "rgb(33,102,172)"
           ],
           [
            1,
            "rgb(5,48,97)"
           ]
          ]
         },
         "mode": "markers",
         "name": "Trials Completed",
         "showlegend": true,
         "type": "scatter",
         "x": [
          1,
          2,
          3,
          4,
          5,
          6,
          7,
          8,
          9,
          10,
          11,
          12
         ],
         "y": [
          80,
          68,
          106,
          82,
          69,
          104,
          94,
          97,
          110,
          106,
          83,
          99
         ]
        },
        {
         "line": {
          "color": "red"
         },
         "mode": "lines",
         "name": "Fitted Line",
         "type": "scatter",
         "x": [
          1,
          1.1111111111111112,
          1.2222222222222223,
          1.3333333333333333,
          1.4444444444444444,
          1.5555555555555556,
          1.6666666666666665,
          1.7777777777777777,
          1.8888888888888888,
          2,
          2.111111111111111,
          2.2222222222222223,
          2.333333333333333,
          2.4444444444444446,
          2.5555555555555554,
          2.6666666666666665,
          2.7777777777777777,
          2.888888888888889,
          3,
          3.111111111111111,
          3.2222222222222223,
          3.333333333333333,
          3.444444444444444,
          3.5555555555555554,
          3.6666666666666665,
          3.7777777777777777,
          3.888888888888889,
          4,
          4.111111111111111,
          4.222222222222221,
          4.333333333333333,
          4.444444444444445,
          4.555555555555555,
          4.666666666666666,
          4.777777777777778,
          4.888888888888889,
          5,
          5.111111111111111,
          5.222222222222222,
          5.333333333333333,
          5.444444444444445,
          5.555555555555555,
          5.666666666666666,
          5.777777777777778,
          5.888888888888888,
          6,
          6.111111111111111,
          6.222222222222222,
          6.333333333333333,
          6.444444444444444,
          6.555555555555555,
          6.666666666666666,
          6.777777777777778,
          6.888888888888888,
          7,
          7.111111111111111,
          7.222222222222221,
          7.333333333333333,
          7.444444444444444,
          7.555555555555555,
          7.666666666666666,
          7.777777777777778,
          7.888888888888888,
          8,
          8.11111111111111,
          8.222222222222221,
          8.333333333333332,
          8.444444444444443,
          8.555555555555555,
          8.666666666666666,
          8.777777777777779,
          8.88888888888889,
          9,
          9.11111111111111,
          9.222222222222221,
          9.333333333333332,
          9.444444444444445,
          9.555555555555555,
          9.666666666666666,
          9.777777777777777,
          9.88888888888889,
          10,
          10.11111111111111,
          10.222222222222221,
          10.333333333333332,
          10.444444444444445,
          10.555555555555555,
          10.666666666666666,
          10.777777777777777,
          10.888888888888888,
          11,
          11.11111111111111,
          11.222222222222221,
          11.333333333333332,
          11.444444444444445,
          11.555555555555555,
          11.666666666666666,
          11.777777777777777,
          11.888888888888888,
          12
         ],
         "y": [
          80.76923076923075,
          80.98601398601396,
          81.20279720279717,
          81.4195804195804,
          81.63636363636361,
          81.85314685314682,
          82.06993006993004,
          82.28671328671327,
          82.50349650349648,
          82.72027972027969,
          82.9370629370629,
          83.15384615384613,
          83.37062937062935,
          83.58741258741256,
          83.80419580419577,
          84.02097902097898,
          84.23776223776221,
          84.45454545454542,
          84.67132867132864,
          84.88811188811185,
          85.10489510489508,
          85.32167832167829,
          85.5384615384615,
          85.75524475524472,
          85.97202797202793,
          86.18881118881116,
          86.40559440559437,
          86.62237762237758,
          86.8391608391608,
          87.05594405594402,
          87.27272727272724,
          87.48951048951045,
          87.70629370629366,
          87.92307692307688,
          88.1398601398601,
          88.35664335664332,
          88.57342657342653,
          88.79020979020974,
          89.00699300699297,
          89.22377622377618,
          89.4405594405594,
          89.65734265734261,
          89.87412587412582,
          90.09090909090905,
          90.30769230769226,
          90.52447552447548,
          90.74125874125869,
          90.95804195804192,
          91.17482517482513,
          91.39160839160834,
          91.60839160839156,
          91.82517482517477,
          92.041958041958,
          92.25874125874121,
          92.47552447552442,
          92.69230769230764,
          92.90909090909085,
          93.12587412587408,
          93.34265734265729,
          93.5594405594405,
          93.77622377622373,
          93.99300699300694,
          94.20979020979016,
          94.42657342657337,
          94.64335664335658,
          94.86013986013981,
          95.07692307692302,
          95.29370629370624,
          95.51048951048945,
          95.72727272727266,
          95.94405594405589,
          96.1608391608391,
          96.37762237762232,
          96.59440559440554,
          96.81118881118874,
          97.02797202797197,
          97.24475524475518,
          97.4615384615384,
          97.67832167832162,
          97.89510489510484,
          98.11188811188805,
          98.32867132867126,
          98.54545454545448,
          98.7622377622377,
          98.97902097902092,
          99.19580419580413,
          99.41258741258736,
          99.62937062937056,
          99.84615384615378,
          100.062937062937,
          100.27972027972021,
          100.49650349650344,
          100.71328671328665,
          100.93006993006986,
          101.14685314685308,
          101.36363636363629,
          101.58041958041952,
          101.79720279720273,
          102.01398601398594,
          102.23076923076917
         ]
        },
        {
         "line": {
          "width": 0
         },
         "mode": "lines",
         "showlegend": false,
         "type": "scatter",
         "x": [
          1,
          1.1111111111111112,
          1.2222222222222223,
          1.3333333333333333,
          1.4444444444444444,
          1.5555555555555556,
          1.6666666666666665,
          1.7777777777777777,
          1.8888888888888888,
          2,
          2.111111111111111,
          2.2222222222222223,
          2.333333333333333,
          2.4444444444444446,
          2.5555555555555554,
          2.6666666666666665,
          2.7777777777777777,
          2.888888888888889,
          3,
          3.111111111111111,
          3.2222222222222223,
          3.333333333333333,
          3.444444444444444,
          3.5555555555555554,
          3.6666666666666665,
          3.7777777777777777,
          3.888888888888889,
          4,
          4.111111111111111,
          4.222222222222221,
          4.333333333333333,
          4.444444444444445,
          4.555555555555555,
          4.666666666666666,
          4.777777777777778,
          4.888888888888889,
          5,
          5.111111111111111,
          5.222222222222222,
          5.333333333333333,
          5.444444444444445,
          5.555555555555555,
          5.666666666666666,
          5.777777777777778,
          5.888888888888888,
          6,
          6.111111111111111,
          6.222222222222222,
          6.333333333333333,
          6.444444444444444,
          6.555555555555555,
          6.666666666666666,
          6.777777777777778,
          6.888888888888888,
          7,
          7.111111111111111,
          7.222222222222221,
          7.333333333333333,
          7.444444444444444,
          7.555555555555555,
          7.666666666666666,
          7.777777777777778,
          7.888888888888888,
          8,
          8.11111111111111,
          8.222222222222221,
          8.333333333333332,
          8.444444444444443,
          8.555555555555555,
          8.666666666666666,
          8.777777777777779,
          8.88888888888889,
          9,
          9.11111111111111,
          9.222222222222221,
          9.333333333333332,
          9.444444444444445,
          9.555555555555555,
          9.666666666666666,
          9.777777777777777,
          9.88888888888889,
          10,
          10.11111111111111,
          10.222222222222221,
          10.333333333333332,
          10.444444444444445,
          10.555555555555555,
          10.666666666666666,
          10.777777777777777,
          10.888888888888888,
          11,
          11.11111111111111,
          11.222222222222221,
          11.333333333333332,
          11.444444444444445,
          11.555555555555555,
          11.666666666666666,
          11.777777777777777,
          11.888888888888888,
          12
         ],
         "y": [
          88.09630725631537,
          88.2072085421899,
          88.31874327507654,
          88.43093998131435,
          88.54382872995146,
          88.6574412213556,
          88.77181088013752,
          88.88697295237064,
          89.0029646070313,
          89.11982504151275,
          89.23759559097813,
          89.35631984121271,
          89.47604374450962,
          89.59681573797417,
          89.71868686345542,
          89.84171088810973,
          89.96594442436269,
          90.09144704776392,
          90.21828141091981,
          90.34651335134022,
          90.47621199064811,
          90.6074498221751,
          90.74030278350537,
          90.87485031004104,
          91.01117536515406,
          91.14936444197606,
          91.2895075313785,
          91.43169805023584,
          91.5760327236759,
          91.7226114147442,
          91.87153689478804,
          92.02291454795413,
          92.17685200354859,
          92.33345869068869,
          92.49284531073964,
          92.65512322452663,
          92.82040375327878,
          92.98879739470962,
          93.16041295855348,
          93.33535662920039,
          93.51373096670487,
          93.69563386123355,
          93.88115745976751,
          94.07038708734576,
          94.26340018806012,
          94.46026531311655,
          94.66104118430638,
          94.86577586097916,
          95.07450603694602,
          95.28725649064211,
          95.50403970742532,
          95.72485568729566,
          95.94969194489524,
          96.1785237017889,
          96.4113142641655,
          96.64801557267549,
          96.88856890552756,
          97.13290571151576,
          97.38094854654823,
          97.63261208558598,
          97.88780418164794,
          98.14642694456745,
          98.40837781429003,
          98.67355060642562,
          98.9418365112399,
          99.21312503101935,
          99.48730484453483,
          99.76426459096116,
          100.04389356893313,
          100.32608234933346,
          100.61072330285606,
          100.8977110453542,
          101.18694280548057,
          101.47831872018968,
          101.77174206435365,
          102.0671194210981,
          102.3643607995515,
          102.66337970658226,
          102.96409317881843,
          103.26642178085787,
          103.57028957511642,
          103.87562406826244,
          104.18235613867297,
          104.49041994883818,
          104.79975284615166,
          105.11029525506378,
          105.42199056314897,
          105.73478500325083,
          106.04862753352036,
          106.36346971685222,
          106.67926560095327,
          106.99597160003826,
          107.31354637894403,
          107.63195074027735,
          107.95114751506185,
          108.27110145722413,
          108.59177914215347,
          108.9131488694821,
          109.23518057016187,
          109.5578457178538
         ]
        },
        {
         "fill": "tonexty",
         "fillcolor": "rgba(255,0,0,0.2)",
         "line": {
          "width": 0
         },
         "mode": "lines",
         "name": "SEM",
         "type": "scatter",
         "x": [
          1,
          1.1111111111111112,
          1.2222222222222223,
          1.3333333333333333,
          1.4444444444444444,
          1.5555555555555556,
          1.6666666666666665,
          1.7777777777777777,
          1.8888888888888888,
          2,
          2.111111111111111,
          2.2222222222222223,
          2.333333333333333,
          2.4444444444444446,
          2.5555555555555554,
          2.6666666666666665,
          2.7777777777777777,
          2.888888888888889,
          3,
          3.111111111111111,
          3.2222222222222223,
          3.333333333333333,
          3.444444444444444,
          3.5555555555555554,
          3.6666666666666665,
          3.7777777777777777,
          3.888888888888889,
          4,
          4.111111111111111,
          4.222222222222221,
          4.333333333333333,
          4.444444444444445,
          4.555555555555555,
          4.666666666666666,
          4.777777777777778,
          4.888888888888889,
          5,
          5.111111111111111,
          5.222222222222222,
          5.333333333333333,
          5.444444444444445,
          5.555555555555555,
          5.666666666666666,
          5.777777777777778,
          5.888888888888888,
          6,
          6.111111111111111,
          6.222222222222222,
          6.333333333333333,
          6.444444444444444,
          6.555555555555555,
          6.666666666666666,
          6.777777777777778,
          6.888888888888888,
          7,
          7.111111111111111,
          7.222222222222221,
          7.333333333333333,
          7.444444444444444,
          7.555555555555555,
          7.666666666666666,
          7.777777777777778,
          7.888888888888888,
          8,
          8.11111111111111,
          8.222222222222221,
          8.333333333333332,
          8.444444444444443,
          8.555555555555555,
          8.666666666666666,
          8.777777777777779,
          8.88888888888889,
          9,
          9.11111111111111,
          9.222222222222221,
          9.333333333333332,
          9.444444444444445,
          9.555555555555555,
          9.666666666666666,
          9.777777777777777,
          9.88888888888889,
          10,
          10.11111111111111,
          10.222222222222221,
          10.333333333333332,
          10.444444444444445,
          10.555555555555555,
          10.666666666666666,
          10.777777777777777,
          10.888888888888888,
          11,
          11.11111111111111,
          11.222222222222221,
          11.333333333333332,
          11.444444444444445,
          11.555555555555555,
          11.666666666666666,
          11.777777777777777,
          11.888888888888888,
          12
         ],
         "y": [
          73.44215428214612,
          73.76481942983801,
          74.0868511305178,
          74.40822085784644,
          74.72889854277577,
          75.04885248493805,
          75.36804925972255,
          75.68645362105589,
          76.00402839996165,
          76.32073439904663,
          76.63653028314768,
          76.95137246647955,
          77.26521499674907,
          77.57800943685095,
          77.88970474493613,
          78.20024715384824,
          78.50958005116173,
          78.81764386132693,
          79.12437593173746,
          79.42971042488348,
          79.73357821914205,
          80.03590682118148,
          80.33662029341764,
          80.6356392004484,
          80.9328805789018,
          81.22825793564625,
          81.52168127981024,
          81.81305719451933,
          82.1022889546457,
          82.38927669714386,
          82.67391765066644,
          82.95610643106677,
          83.23573540903874,
          83.51269515546507,
          83.78687496898057,
          84.05816348876,
          84.32644939357428,
          84.59162218570987,
          84.85357305543246,
          85.11219581835198,
          85.36738791441392,
          85.61905145345168,
          85.86709428848414,
          86.11143109447234,
          86.35198442732441,
          86.5886857358344,
          86.821476298211,
          87.05030805510468,
          87.27514431270424,
          87.49596029257458,
          87.7127435093578,
          87.92549396305388,
          88.13422413902076,
          88.33895881569352,
          88.53973468688335,
          88.73659981193978,
          88.92961291265414,
          89.1188425402324,
          89.30436613876635,
          89.48626903329503,
          89.66464337079952,
          89.83958704144644,
          90.01120260529028,
          90.17959624672112,
          90.34487677547327,
          90.50715468926028,
          90.66654130931121,
          90.82314799645131,
          90.97708545204577,
          91.12846310521186,
          91.27738858525572,
          91.423967276324,
          91.56830194976406,
          91.71049246862141,
          91.85063555802384,
          91.98882463484584,
          92.12514968995886,
          92.25969721649453,
          92.39255017782482,
          92.5237880093518,
          92.65348664865968,
          92.78171858908009,
          92.90855295223598,
          93.03405557563723,
          93.15828911189017,
          93.28131313654448,
          93.40318426202575,
          93.52395625549028,
          93.6436801587872,
          93.76240440902177,
          93.88017495848715,
          93.99703539296861,
          94.11302704762927,
          94.22818911986238,
          94.3425587786443,
          94.45617127004844,
          94.56906001868556,
          94.68125672492336,
          94.79279145781001,
          94.90369274368454
         ]
        }
       ],
       "layout": {
        "hovermode": "x unified",
        "template": {
         "data": {
          "bar": [
           {
            "error_x": {
             "color": "#2a3f5f"
            },
            "error_y": {
             "color": "#2a3f5f"
            },
            "marker": {
             "line": {
              "color": "#E5ECF6",
              "width": 0.5
             },
             "pattern": {
              "fillmode": "overlay",
              "size": 10,
              "solidity": 0.2
             }
            },
            "type": "bar"
           }
          ],
          "barpolar": [
           {
            "marker": {
             "line": {
              "color": "#E5ECF6",
              "width": 0.5
             },
             "pattern": {
              "fillmode": "overlay",
              "size": 10,
              "solidity": 0.2
             }
            },
            "type": "barpolar"
           }
          ],
          "carpet": [
           {
            "aaxis": {
             "endlinecolor": "#2a3f5f",
             "gridcolor": "white",
             "linecolor": "white",
             "minorgridcolor": "white",
             "startlinecolor": "#2a3f5f"
            },
            "baxis": {
             "endlinecolor": "#2a3f5f",
             "gridcolor": "white",
             "linecolor": "white",
             "minorgridcolor": "white",
             "startlinecolor": "#2a3f5f"
            },
            "type": "carpet"
           }
          ],
          "choropleth": [
           {
            "colorbar": {
             "outlinewidth": 0,
             "ticks": ""
            },
            "type": "choropleth"
           }
          ],
          "contour": [
           {
            "colorbar": {
             "outlinewidth": 0,
             "ticks": ""
            },
            "colorscale": [
             [
              0,
              "#0d0887"
             ],
             [
              0.1111111111111111,
              "#46039f"
             ],
             [
              0.2222222222222222,
              "#7201a8"
             ],
             [
              0.3333333333333333,
              "#9c179e"
             ],
             [
              0.4444444444444444,
              "#bd3786"
             ],
             [
              0.5555555555555556,
              "#d8576b"
             ],
             [
              0.6666666666666666,
              "#ed7953"
             ],
             [
              0.7777777777777778,
              "#fb9f3a"
             ],
             [
              0.8888888888888888,
              "#fdca26"
             ],
             [
              1,
              "#f0f921"
             ]
            ],
            "type": "contour"
           }
          ],
          "contourcarpet": [
           {
            "colorbar": {
             "outlinewidth": 0,
             "ticks": ""
            },
            "type": "contourcarpet"
           }
          ],
          "heatmap": [
           {
            "colorbar": {
             "outlinewidth": 0,
             "ticks": ""
            },
            "colorscale": [
             [
              0,
              "#0d0887"
             ],
             [
              0.1111111111111111,
              "#46039f"
             ],
             [
              0.2222222222222222,
              "#7201a8"
             ],
             [
              0.3333333333333333,
              "#9c179e"
             ],
             [
              0.4444444444444444,
              "#bd3786"
             ],
             [
              0.5555555555555556,
              "#d8576b"
             ],
             [
              0.6666666666666666,
              "#ed7953"
             ],
             [
              0.7777777777777778,
              "#fb9f3a"
             ],
             [
              0.8888888888888888,
              "#fdca26"
             ],
             [
              1,
              "#f0f921"
             ]
            ],
            "type": "heatmap"
           }
          ],
          "heatmapgl": [
           {
            "colorbar": {
             "outlinewidth": 0,
             "ticks": ""
            },
            "colorscale": [
             [
              0,
              "#0d0887"
             ],
             [
              0.1111111111111111,
              "#46039f"
             ],
             [
              0.2222222222222222,
              "#7201a8"
             ],
             [
              0.3333333333333333,
              "#9c179e"
             ],
             [
              0.4444444444444444,
              "#bd3786"
             ],
             [
              0.5555555555555556,
              "#d8576b"
             ],
             [
              0.6666666666666666,
              "#ed7953"
             ],
             [
              0.7777777777777778,
              "#fb9f3a"
             ],
             [
              0.8888888888888888,
              "#fdca26"
             ],
             [
              1,
              "#f0f921"
             ]
            ],
            "type": "heatmapgl"
           }
          ],
          "histogram": [
           {
            "marker": {
             "pattern": {
              "fillmode": "overlay",
              "size": 10,
              "solidity": 0.2
             }
            },
            "type": "histogram"
           }
          ],
          "histogram2d": [
           {
            "colorbar": {
             "outlinewidth": 0,
             "ticks": ""
            },
            "colorscale": [
             [
              0,
              "#0d0887"
             ],
             [
              0.1111111111111111,
              "#46039f"
             ],
             [
              0.2222222222222222,
              "#7201a8"
             ],
             [
              0.3333333333333333,
              "#9c179e"
             ],
             [
              0.4444444444444444,
              "#bd3786"
             ],
             [
              0.5555555555555556,
              "#d8576b"
             ],
             [
              0.6666666666666666,
              "#ed7953"
             ],
             [
              0.7777777777777778,
              "#fb9f3a"
             ],
             [
              0.8888888888888888,
              "#fdca26"
             ],
             [
              1,
              "#f0f921"
             ]
            ],
            "type": "histogram2d"
           }
          ],
          "histogram2dcontour": [
           {
            "colorbar": {
             "outlinewidth": 0,
             "ticks": ""
            },
            "colorscale": [
             [
              0,
              "#0d0887"
             ],
             [
              0.1111111111111111,
              "#46039f"
             ],
             [
              0.2222222222222222,
              "#7201a8"
             ],
             [
              0.3333333333333333,
              "#9c179e"
             ],
             [
              0.4444444444444444,
              "#bd3786"
             ],
             [
              0.5555555555555556,
              "#d8576b"
             ],
             [
              0.6666666666666666,
              "#ed7953"
             ],
             [
              0.7777777777777778,
              "#fb9f3a"
             ],
             [
              0.8888888888888888,
              "#fdca26"
             ],
             [
              1,
              "#f0f921"
             ]
            ],
            "type": "histogram2dcontour"
           }
          ],
          "mesh3d": [
           {
            "colorbar": {
             "outlinewidth": 0,
             "ticks": ""
            },
            "type": "mesh3d"
           }
          ],
          "parcoords": [
           {
            "line": {
             "colorbar": {
              "outlinewidth": 0,
              "ticks": ""
             }
            },
            "type": "parcoords"
           }
          ],
          "pie": [
           {
            "automargin": true,
            "type": "pie"
           }
          ],
          "scatter": [
           {
            "fillpattern": {
             "fillmode": "overlay",
             "size": 10,
             "solidity": 0.2
            },
            "type": "scatter"
           }
          ],
          "scatter3d": [
           {
            "line": {
             "colorbar": {
              "outlinewidth": 0,
              "ticks": ""
             }
            },
            "marker": {
             "colorbar": {
              "outlinewidth": 0,
              "ticks": ""
             }
            },
            "type": "scatter3d"
           }
          ],
          "scattercarpet": [
           {
            "marker": {
             "colorbar": {
              "outlinewidth": 0,
              "ticks": ""
             }
            },
            "type": "scattercarpet"
           }
          ],
          "scattergeo": [
           {
            "marker": {
             "colorbar": {
              "outlinewidth": 0,
              "ticks": ""
             }
            },
            "type": "scattergeo"
           }
          ],
          "scattergl": [
           {
            "marker": {
             "colorbar": {
              "outlinewidth": 0,
              "ticks": ""
             }
            },
            "type": "scattergl"
           }
          ],
          "scattermapbox": [
           {
            "marker": {
             "colorbar": {
              "outlinewidth": 0,
              "ticks": ""
             }
            },
            "type": "scattermapbox"
           }
          ],
          "scatterpolar": [
           {
            "marker": {
             "colorbar": {
              "outlinewidth": 0,
              "ticks": ""
             }
            },
            "type": "scatterpolar"
           }
          ],
          "scatterpolargl": [
           {
            "marker": {
             "colorbar": {
              "outlinewidth": 0,
              "ticks": ""
             }
            },
            "type": "scatterpolargl"
           }
          ],
          "scatterternary": [
           {
            "marker": {
             "colorbar": {
              "outlinewidth": 0,
              "ticks": ""
             }
            },
            "type": "scatterternary"
           }
          ],
          "surface": [
           {
            "colorbar": {
             "outlinewidth": 0,
             "ticks": ""
            },
            "colorscale": [
             [
              0,
              "#0d0887"
             ],
             [
              0.1111111111111111,
              "#46039f"
             ],
             [
              0.2222222222222222,
              "#7201a8"
             ],
             [
              0.3333333333333333,
              "#9c179e"
             ],
             [
              0.4444444444444444,
              "#bd3786"
             ],
             [
              0.5555555555555556,
              "#d8576b"
             ],
             [
              0.6666666666666666,
              "#ed7953"
             ],
             [
              0.7777777777777778,
              "#fb9f3a"
             ],
             [
              0.8888888888888888,
              "#fdca26"
             ],
             [
              1,
              "#f0f921"
             ]
            ],
            "type": "surface"
           }
          ],
          "table": [
           {
            "cells": {
             "fill": {
              "color": "#EBF0F8"
             },
             "line": {
              "color": "white"
             }
            },
            "header": {
             "fill": {
              "color": "#C8D4E3"
             },
             "line": {
              "color": "white"
             }
            },
            "type": "table"
           }
          ]
         },
         "layout": {
          "annotationdefaults": {
           "arrowcolor": "#2a3f5f",
           "arrowhead": 0,
           "arrowwidth": 1
          },
          "autotypenumbers": "strict",
          "coloraxis": {
           "colorbar": {
            "outlinewidth": 0,
            "ticks": ""
           }
          },
          "colorscale": {
           "diverging": [
            [
             0,
             "#8e0152"
            ],
            [
             0.1,
             "#c51b7d"
            ],
            [
             0.2,
             "#de77ae"
            ],
            [
             0.3,
             "#f1b6da"
            ],
            [
             0.4,
             "#fde0ef"
            ],
            [
             0.5,
             "#f7f7f7"
            ],
            [
             0.6,
             "#e6f5d0"
            ],
            [
             0.7,
             "#b8e186"
            ],
            [
             0.8,
             "#7fbc41"
            ],
            [
             0.9,
             "#4d9221"
            ],
            [
             1,
             "#276419"
            ]
           ],
           "sequential": [
            [
             0,
             "#0d0887"
            ],
            [
             0.1111111111111111,
             "#46039f"
            ],
            [
             0.2222222222222222,
             "#7201a8"
            ],
            [
             0.3333333333333333,
             "#9c179e"
            ],
            [
             0.4444444444444444,
             "#bd3786"
            ],
            [
             0.5555555555555556,
             "#d8576b"
            ],
            [
             0.6666666666666666,
             "#ed7953"
            ],
            [
             0.7777777777777778,
             "#fb9f3a"
            ],
            [
             0.8888888888888888,
             "#fdca26"
            ],
            [
             1,
             "#f0f921"
            ]
           ],
           "sequentialminus": [
            [
             0,
             "#0d0887"
            ],
            [
             0.1111111111111111,
             "#46039f"
            ],
            [
             0.2222222222222222,
             "#7201a8"
            ],
            [
             0.3333333333333333,
             "#9c179e"
            ],
            [
             0.4444444444444444,
             "#bd3786"
            ],
            [
             0.5555555555555556,
             "#d8576b"
            ],
            [
             0.6666666666666666,
             "#ed7953"
            ],
            [
             0.7777777777777778,
             "#fb9f3a"
            ],
            [
             0.8888888888888888,
             "#fdca26"
            ],
            [
             1,
             "#f0f921"
            ]
           ]
          },
          "colorway": [
           "#636efa",
           "#EF553B",
           "#00cc96",
           "#ab63fa",
           "#FFA15A",
           "#19d3f3",
           "#FF6692",
           "#B6E880",
           "#FF97FF",
           "#FECB52"
          ],
          "font": {
           "color": "#2a3f5f"
          },
          "geo": {
           "bgcolor": "white",
           "lakecolor": "white",
           "landcolor": "#E5ECF6",
           "showlakes": true,
           "showland": true,
           "subunitcolor": "white"
          },
          "hoverlabel": {
           "align": "left"
          },
          "hovermode": "closest",
          "mapbox": {
           "style": "light"
          },
          "paper_bgcolor": "white",
          "plot_bgcolor": "#E5ECF6",
          "polar": {
           "angularaxis": {
            "gridcolor": "white",
            "linecolor": "white",
            "ticks": ""
           },
           "bgcolor": "#E5ECF6",
           "radialaxis": {
            "gridcolor": "white",
            "linecolor": "white",
            "ticks": ""
           }
          },
          "scene": {
           "xaxis": {
            "backgroundcolor": "#E5ECF6",
            "gridcolor": "white",
            "gridwidth": 2,
            "linecolor": "white",
            "showbackground": true,
            "ticks": "",
            "zerolinecolor": "white"
           },
           "yaxis": {
            "backgroundcolor": "#E5ECF6",
            "gridcolor": "white",
            "gridwidth": 2,
            "linecolor": "white",
            "showbackground": true,
            "ticks": "",
            "zerolinecolor": "white"
           },
           "zaxis": {
            "backgroundcolor": "#E5ECF6",
            "gridcolor": "white",
            "gridwidth": 2,
            "linecolor": "white",
            "showbackground": true,
            "ticks": "",
            "zerolinecolor": "white"
           }
          },
          "shapedefaults": {
           "line": {
            "color": "#2a3f5f"
           }
          },
          "ternary": {
           "aaxis": {
            "gridcolor": "white",
            "linecolor": "white",
            "ticks": ""
           },
           "baxis": {
            "gridcolor": "white",
            "linecolor": "white",
            "ticks": ""
           },
           "bgcolor": "#E5ECF6",
           "caxis": {
            "gridcolor": "white",
            "linecolor": "white",
            "ticks": ""
           }
          },
          "title": {
           "x": 0.05
          },
          "xaxis": {
           "automargin": true,
           "gridcolor": "white",
           "linecolor": "white",
           "ticks": "",
           "title": {
            "standoff": 15
           },
           "zerolinecolor": "white",
           "zerolinewidth": 2
          },
          "yaxis": {
           "automargin": true,
           "gridcolor": "white",
           "linecolor": "white",
           "ticks": "",
           "title": {
            "standoff": 15
           },
           "zerolinecolor": "white",
           "zerolinewidth": 2
          }
         }
        },
        "title": {
         "text": "Trials Completed by Session Number<br><b>Mouse 1006</b>"
        },
        "xaxis": {
         "title": {
          "text": "Session Number<br><b>Mouse 1006</b>"
         }
        },
        "yaxis": {
         "title": {
          "text": "Trials Completed"
         }
        }
       }
      }
     },
     "metadata": {},
     "output_type": "display_data"
    },
    {
     "data": {
      "application/vnd.plotly.v1+json": {
       "config": {
        "plotlyServerURL": "https://plot.ly"
       },
       "data": [
        {
         "marker": {
          "color": [
           0,
           0,
           0,
           0,
           0,
           0,
           0,
           0,
           0,
           0,
           0,
           0,
           0
          ],
          "colorscale": [
           [
            0,
            "rgb(103,0,31)"
           ],
           [
            0.1,
            "rgb(178,24,43)"
           ],
           [
            0.2,
            "rgb(214,96,77)"
           ],
           [
            0.3,
            "rgb(244,165,130)"
           ],
           [
            0.4,
            "rgb(253,219,199)"
           ],
           [
            0.5,
            "rgb(247,247,247)"
           ],
           [
            0.6,
            "rgb(209,229,240)"
           ],
           [
            0.7,
            "rgb(146,197,222)"
           ],
           [
            0.8,
            "rgb(67,147,195)"
           ],
           [
            0.9,
            "rgb(33,102,172)"
           ],
           [
            1,
            "rgb(5,48,97)"
           ]
          ]
         },
         "mode": "markers",
         "name": "Trials Completed",
         "showlegend": true,
         "type": "scatter",
         "x": [
          1,
          2,
          3,
          4,
          5,
          6,
          7,
          8,
          9,
          10,
          11,
          12,
          13
         ],
         "y": [
          72,
          66,
          87,
          83,
          49,
          112,
          86,
          91,
          96,
          89,
          101,
          71,
          101
         ]
        },
        {
         "line": {
          "color": "red"
         },
         "mode": "lines",
         "name": "Fitted Line",
         "type": "scatter",
         "x": [
          1,
          1.121212121212121,
          1.2424242424242424,
          1.3636363636363638,
          1.4848484848484849,
          1.606060606060606,
          1.7272727272727273,
          1.8484848484848486,
          1.9696969696969697,
          2.090909090909091,
          2.212121212121212,
          2.3333333333333335,
          2.4545454545454546,
          2.5757575757575757,
          2.6969696969696972,
          2.8181818181818183,
          2.9393939393939394,
          3.0606060606060606,
          3.1818181818181817,
          3.303030303030303,
          3.4242424242424243,
          3.5454545454545454,
          3.666666666666667,
          3.787878787878788,
          3.909090909090909,
          4.03030303030303,
          4.151515151515151,
          4.272727272727273,
          4.3939393939393945,
          4.515151515151516,
          4.636363636363637,
          4.757575757575758,
          4.878787878787879,
          5,
          5.121212121212121,
          5.242424242424242,
          5.363636363636363,
          5.484848484848485,
          5.606060606060606,
          5.7272727272727275,
          5.848484848484849,
          5.96969696969697,
          6.090909090909091,
          6.212121212121212,
          6.333333333333334,
          6.454545454545455,
          6.575757575757576,
          6.696969696969697,
          6.818181818181818,
          6.9393939393939394,
          7.0606060606060606,
          7.181818181818182,
          7.303030303030303,
          7.424242424242425,
          7.545454545454546,
          7.666666666666667,
          7.787878787878788,
          7.909090909090909,
          8.030303030303031,
          8.151515151515152,
          8.272727272727273,
          8.393939393939394,
          8.515151515151516,
          8.636363636363637,
          8.757575757575758,
          8.878787878787879,
          9,
          9.121212121212121,
          9.242424242424242,
          9.363636363636363,
          9.484848484848484,
          9.606060606060606,
          9.727272727272727,
          9.84848484848485,
          9.96969696969697,
          10.090909090909092,
          10.212121212121213,
          10.333333333333334,
          10.454545454545455,
          10.575757575757576,
          10.696969696969697,
          10.818181818181818,
          10.93939393939394,
          11.06060606060606,
          11.181818181818182,
          11.303030303030303,
          11.424242424242424,
          11.545454545454545,
          11.666666666666668,
          11.787878787878789,
          11.90909090909091,
          12.030303030303031,
          12.151515151515152,
          12.272727272727273,
          12.393939393939394,
          12.515151515151516,
          12.636363636363637,
          12.757575757575758,
          12.878787878787879,
          13
         ],
         "y": [
          73.5164835164835,
          73.74691974691973,
          73.97735597735597,
          74.2077922077922,
          74.43822843822844,
          74.66866466866466,
          74.89910089910089,
          75.12953712953713,
          75.35997335997335,
          75.59040959040958,
          75.82084582084582,
          76.05128205128204,
          76.28171828171827,
          76.51215451215451,
          76.74259074259074,
          76.97302697302698,
          77.2034632034632,
          77.43389943389943,
          77.66433566433567,
          77.89477189477189,
          78.12520812520813,
          78.35564435564436,
          78.58608058608058,
          78.81651681651682,
          79.04695304695305,
          79.27738927738928,
          79.50782550782552,
          79.73826173826174,
          79.96869796869797,
          80.1991341991342,
          80.42957042957043,
          80.66000666000667,
          80.8904428904429,
          81.12087912087912,
          81.35131535131536,
          81.58175158175159,
          81.81218781218782,
          82.04262404262406,
          82.27306027306028,
          82.50349650349652,
          82.73393273393275,
          82.96436896436897,
          83.19480519480521,
          83.42524142524144,
          83.65567765567766,
          83.8861138861139,
          84.11655011655013,
          84.34698634698637,
          84.5774225774226,
          84.80785880785882,
          85.03829503829506,
          85.26873126873129,
          85.49916749916751,
          85.72960372960375,
          85.96003996003998,
          86.1904761904762,
          86.42091242091244,
          86.65134865134867,
          86.88178488178491,
          87.11222111222114,
          87.34265734265736,
          87.5730935730936,
          87.80352980352983,
          88.03396603396607,
          88.26440226440229,
          88.49483849483852,
          88.72527472527474,
          88.95571095571098,
          89.18614718614721,
          89.41658341658345,
          89.64701964701968,
          89.8774558774559,
          90.10789210789214,
          90.33832833832837,
          90.5687645687646,
          90.79920079920083,
          91.02963702963706,
          91.2600732600733,
          91.49050949050952,
          91.72094572094576,
          91.95138195138199,
          92.18181818181822,
          92.41225441225444,
          92.64269064269068,
          92.8731268731269,
          93.10356310356315,
          93.33399933399937,
          93.5644355644356,
          93.79487179487184,
          94.02530802530806,
          94.2557442557443,
          94.48618048618053,
          94.71661671661676,
          94.947052947053,
          95.17748917748922,
          95.40792540792546,
          95.63836163836169,
          95.86879786879791,
          96.09923409923414,
          96.32967032967038
         ]
        },
        {
         "line": {
          "width": 0
         },
         "mode": "lines",
         "showlegend": false,
         "type": "scatter",
         "x": [
          1,
          1.121212121212121,
          1.2424242424242424,
          1.3636363636363638,
          1.4848484848484849,
          1.606060606060606,
          1.7272727272727273,
          1.8484848484848486,
          1.9696969696969697,
          2.090909090909091,
          2.212121212121212,
          2.3333333333333335,
          2.4545454545454546,
          2.5757575757575757,
          2.6969696969696972,
          2.8181818181818183,
          2.9393939393939394,
          3.0606060606060606,
          3.1818181818181817,
          3.303030303030303,
          3.4242424242424243,
          3.5454545454545454,
          3.666666666666667,
          3.787878787878788,
          3.909090909090909,
          4.03030303030303,
          4.151515151515151,
          4.272727272727273,
          4.3939393939393945,
          4.515151515151516,
          4.636363636363637,
          4.757575757575758,
          4.878787878787879,
          5,
          5.121212121212121,
          5.242424242424242,
          5.363636363636363,
          5.484848484848485,
          5.606060606060606,
          5.7272727272727275,
          5.848484848484849,
          5.96969696969697,
          6.090909090909091,
          6.212121212121212,
          6.333333333333334,
          6.454545454545455,
          6.575757575757576,
          6.696969696969697,
          6.818181818181818,
          6.9393939393939394,
          7.0606060606060606,
          7.181818181818182,
          7.303030303030303,
          7.424242424242425,
          7.545454545454546,
          7.666666666666667,
          7.787878787878788,
          7.909090909090909,
          8.030303030303031,
          8.151515151515152,
          8.272727272727273,
          8.393939393939394,
          8.515151515151516,
          8.636363636363637,
          8.757575757575758,
          8.878787878787879,
          9,
          9.121212121212121,
          9.242424242424242,
          9.363636363636363,
          9.484848484848484,
          9.606060606060606,
          9.727272727272727,
          9.84848484848485,
          9.96969696969697,
          10.090909090909092,
          10.212121212121213,
          10.333333333333334,
          10.454545454545455,
          10.575757575757576,
          10.696969696969697,
          10.818181818181818,
          10.93939393939394,
          11.06060606060606,
          11.181818181818182,
          11.303030303030303,
          11.424242424242424,
          11.545454545454545,
          11.666666666666668,
          11.787878787878789,
          11.90909090909091,
          12.030303030303031,
          12.151515151515152,
          12.272727272727273,
          12.393939393939394,
          12.515151515151516,
          12.636363636363637,
          12.757575757575758,
          12.878787878787879,
          13
         ],
         "y": [
          81.8596820917366,
          81.9691109932557,
          82.07925724588593,
          82.19015328000357,
          82.30183328955259,
          82.41433333423815,
          82.52769144679645,
          82.64194774533804,
          82.75714455069695,
          82.8733265086374,
          82.99054071667032,
          83.10883685511317,
          83.22826732188292,
          83.34888737034125,
          83.47075524930969,
          83.5939323441375,
          83.71848331743006,
          83.84447624773217,
          83.97198276410055,
          84.10107817409452,
          84.23184158226216,
          84.36435599569904,
          84.49870841271661,
          84.6349898900781,
          84.77329558365739,
          84.91372475676293,
          85.05638074976805,
          85.20137090413007,
          85.34880643340071,
          85.49880223347397,
          85.65147662414192,
          85.8069510140939,
          85.96534948186915,
          86.12679826603099,
          86.29142515903817,
          86.4593588010124,
          86.63072787188185,
          86.80566018324194,
          86.98428167469838,
          87.16671532338249,
          87.35307997963616,
          87.54348914638047,
          87.73804972416808,
          87.9368607480934,
          88.14001214627284,
          88.34758355217876,
          88.55964320440651,
          88.77624696722113,
          88.99743750330605,
          89.22324362648648,
          89.45367985692272,
          89.68874619461474,
          89.92842811940227,
          90.17269681746014,
          90.42150962610484,
          90.67481068107139,
          90.9325317437644,
          91.19459318071154,
          91.46090506379642,
          91.73136835792455,
          92.00587616254333,
          92.2843149747317,
          92.5665659441477,
          92.8525060936601,
          93.1420094836631,
          93.43494830256132,
          93.73119387042661,
          94.03061754713724,
          94.33309154023443,
          94.63848961115494,
          94.94668768135944,
          95.25756434215864,
          95.57100127376047,
          95.8868835802709,
          96.20510004813826,
          96.52554333590517,
          96.84811010319834,
          97.17270108670932,
          97.49922113056421,
          97.8275791779998,
          98.15768823070462,
          98.4894652815831,
          98.82283122608719,
          99.15771075665754,
          99.49403224423743,
          99.8317276102821,
          100.17073219218611,
          100.51098460460025,
          100.85242659870296,
          101.19500292113257,
          101.53866117397214,
          101.88335167690414,
          102.22902733241767,
          102.57564349474856,
          102.92315784306271,
          103.27153025924962,
          103.62072271057306,
          103.97069913732787,
          104.3214253455701,
          104.67286890492348
         ]
        },
        {
         "fill": "tonexty",
         "fillcolor": "rgba(255,0,0,0.2)",
         "line": {
          "width": 0
         },
         "mode": "lines",
         "name": "SEM",
         "type": "scatter",
         "x": [
          1,
          1.121212121212121,
          1.2424242424242424,
          1.3636363636363638,
          1.4848484848484849,
          1.606060606060606,
          1.7272727272727273,
          1.8484848484848486,
          1.9696969696969697,
          2.090909090909091,
          2.212121212121212,
          2.3333333333333335,
          2.4545454545454546,
          2.5757575757575757,
          2.6969696969696972,
          2.8181818181818183,
          2.9393939393939394,
          3.0606060606060606,
          3.1818181818181817,
          3.303030303030303,
          3.4242424242424243,
          3.5454545454545454,
          3.666666666666667,
          3.787878787878788,
          3.909090909090909,
          4.03030303030303,
          4.151515151515151,
          4.272727272727273,
          4.3939393939393945,
          4.515151515151516,
          4.636363636363637,
          4.757575757575758,
          4.878787878787879,
          5,
          5.121212121212121,
          5.242424242424242,
          5.363636363636363,
          5.484848484848485,
          5.606060606060606,
          5.7272727272727275,
          5.848484848484849,
          5.96969696969697,
          6.090909090909091,
          6.212121212121212,
          6.333333333333334,
          6.454545454545455,
          6.575757575757576,
          6.696969696969697,
          6.818181818181818,
          6.9393939393939394,
          7.0606060606060606,
          7.181818181818182,
          7.303030303030303,
          7.424242424242425,
          7.545454545454546,
          7.666666666666667,
          7.787878787878788,
          7.909090909090909,
          8.030303030303031,
          8.151515151515152,
          8.272727272727273,
          8.393939393939394,
          8.515151515151516,
          8.636363636363637,
          8.757575757575758,
          8.878787878787879,
          9,
          9.121212121212121,
          9.242424242424242,
          9.363636363636363,
          9.484848484848484,
          9.606060606060606,
          9.727272727272727,
          9.84848484848485,
          9.96969696969697,
          10.090909090909092,
          10.212121212121213,
          10.333333333333334,
          10.454545454545455,
          10.575757575757576,
          10.696969696969697,
          10.818181818181818,
          10.93939393939394,
          11.06060606060606,
          11.181818181818182,
          11.303030303030303,
          11.424242424242424,
          11.545454545454545,
          11.666666666666668,
          11.787878787878789,
          11.90909090909091,
          12.030303030303031,
          12.151515151515152,
          12.272727272727273,
          12.393939393939394,
          12.515151515151516,
          12.636363636363637,
          12.757575757575758,
          12.878787878787879,
          13
         ],
         "y": [
          65.1732849412304,
          65.52472850058376,
          65.87545470882601,
          66.22543113558082,
          66.57462358690428,
          66.92299600309117,
          67.27051035140532,
          67.61712651373621,
          67.96280216924976,
          68.30749267218175,
          68.65115092502131,
          68.99372724745092,
          69.33516924155361,
          69.67542165396777,
          70.01442623587178,
          70.35212160191645,
          70.68844308949635,
          71.02332262006668,
          71.35668856457079,
          71.68846561544926,
          72.0185746681541,
          72.34693271558967,
          72.67345275944456,
          72.99804374295555,
          73.32061051024871,
          73.64105379801562,
          73.95927026588298,
          74.27515257239341,
          74.58858950399522,
          74.89946616479445,
          75.20766423499894,
          75.51306230591945,
          75.81553629901664,
          76.11495997572726,
          76.41120554359256,
          76.70414436249078,
          76.99364775249379,
          77.27958790200617,
          77.56183887142218,
          77.84027768361055,
          78.11478548822933,
          78.38524878235748,
          78.65156066544235,
          78.91362210238948,
          79.17134316508249,
          79.42464422004905,
          79.67345702869375,
          79.91772572675161,
          80.15740765153915,
          80.39247398923116,
          80.6229102196674,
          80.84871634284784,
          81.06990687893276,
          81.28651064174737,
          81.49857029397512,
          81.70614169988102,
          81.90929309806049,
          82.1081041219858,
          82.3026646997734,
          82.49307386651772,
          82.67943852277139,
          82.8618721714555,
          83.04049366291196,
          83.21542597427204,
          83.38679504514148,
          83.55472868711571,
          83.71935558012288,
          83.88080436428473,
          84.03920283205998,
          84.19467722201196,
          84.34735161267992,
          84.49734741275316,
          84.64478294202381,
          84.78977309638583,
          84.93242908939095,
          85.0728582624965,
          85.21116395607578,
          85.34744543343727,
          85.48179785045484,
          85.61431226389173,
          85.74507567205936,
          85.87417108205334,
          86.0016775984217,
          86.12767052872383,
          86.25222150201638,
          86.37539859684419,
          86.49726647581264,
          86.61788652427094,
          86.73731699104071,
          86.85561312948356,
          86.97282733751646,
          87.08900929545692,
          87.20420610081584,
          87.31846239935743,
          87.43182051191573,
          87.5443205566013,
          87.65600056615031,
          87.76689660026796,
          87.87704285289817,
          87.98647175441728
         ]
        }
       ],
       "layout": {
        "hovermode": "x unified",
        "template": {
         "data": {
          "bar": [
           {
            "error_x": {
             "color": "#2a3f5f"
            },
            "error_y": {
             "color": "#2a3f5f"
            },
            "marker": {
             "line": {
              "color": "#E5ECF6",
              "width": 0.5
             },
             "pattern": {
              "fillmode": "overlay",
              "size": 10,
              "solidity": 0.2
             }
            },
            "type": "bar"
           }
          ],
          "barpolar": [
           {
            "marker": {
             "line": {
              "color": "#E5ECF6",
              "width": 0.5
             },
             "pattern": {
              "fillmode": "overlay",
              "size": 10,
              "solidity": 0.2
             }
            },
            "type": "barpolar"
           }
          ],
          "carpet": [
           {
            "aaxis": {
             "endlinecolor": "#2a3f5f",
             "gridcolor": "white",
             "linecolor": "white",
             "minorgridcolor": "white",
             "startlinecolor": "#2a3f5f"
            },
            "baxis": {
             "endlinecolor": "#2a3f5f",
             "gridcolor": "white",
             "linecolor": "white",
             "minorgridcolor": "white",
             "startlinecolor": "#2a3f5f"
            },
            "type": "carpet"
           }
          ],
          "choropleth": [
           {
            "colorbar": {
             "outlinewidth": 0,
             "ticks": ""
            },
            "type": "choropleth"
           }
          ],
          "contour": [
           {
            "colorbar": {
             "outlinewidth": 0,
             "ticks": ""
            },
            "colorscale": [
             [
              0,
              "#0d0887"
             ],
             [
              0.1111111111111111,
              "#46039f"
             ],
             [
              0.2222222222222222,
              "#7201a8"
             ],
             [
              0.3333333333333333,
              "#9c179e"
             ],
             [
              0.4444444444444444,
              "#bd3786"
             ],
             [
              0.5555555555555556,
              "#d8576b"
             ],
             [
              0.6666666666666666,
              "#ed7953"
             ],
             [
              0.7777777777777778,
              "#fb9f3a"
             ],
             [
              0.8888888888888888,
              "#fdca26"
             ],
             [
              1,
              "#f0f921"
             ]
            ],
            "type": "contour"
           }
          ],
          "contourcarpet": [
           {
            "colorbar": {
             "outlinewidth": 0,
             "ticks": ""
            },
            "type": "contourcarpet"
           }
          ],
          "heatmap": [
           {
            "colorbar": {
             "outlinewidth": 0,
             "ticks": ""
            },
            "colorscale": [
             [
              0,
              "#0d0887"
             ],
             [
              0.1111111111111111,
              "#46039f"
             ],
             [
              0.2222222222222222,
              "#7201a8"
             ],
             [
              0.3333333333333333,
              "#9c179e"
             ],
             [
              0.4444444444444444,
              "#bd3786"
             ],
             [
              0.5555555555555556,
              "#d8576b"
             ],
             [
              0.6666666666666666,
              "#ed7953"
             ],
             [
              0.7777777777777778,
              "#fb9f3a"
             ],
             [
              0.8888888888888888,
              "#fdca26"
             ],
             [
              1,
              "#f0f921"
             ]
            ],
            "type": "heatmap"
           }
          ],
          "heatmapgl": [
           {
            "colorbar": {
             "outlinewidth": 0,
             "ticks": ""
            },
            "colorscale": [
             [
              0,
              "#0d0887"
             ],
             [
              0.1111111111111111,
              "#46039f"
             ],
             [
              0.2222222222222222,
              "#7201a8"
             ],
             [
              0.3333333333333333,
              "#9c179e"
             ],
             [
              0.4444444444444444,
              "#bd3786"
             ],
             [
              0.5555555555555556,
              "#d8576b"
             ],
             [
              0.6666666666666666,
              "#ed7953"
             ],
             [
              0.7777777777777778,
              "#fb9f3a"
             ],
             [
              0.8888888888888888,
              "#fdca26"
             ],
             [
              1,
              "#f0f921"
             ]
            ],
            "type": "heatmapgl"
           }
          ],
          "histogram": [
           {
            "marker": {
             "pattern": {
              "fillmode": "overlay",
              "size": 10,
              "solidity": 0.2
             }
            },
            "type": "histogram"
           }
          ],
          "histogram2d": [
           {
            "colorbar": {
             "outlinewidth": 0,
             "ticks": ""
            },
            "colorscale": [
             [
              0,
              "#0d0887"
             ],
             [
              0.1111111111111111,
              "#46039f"
             ],
             [
              0.2222222222222222,
              "#7201a8"
             ],
             [
              0.3333333333333333,
              "#9c179e"
             ],
             [
              0.4444444444444444,
              "#bd3786"
             ],
             [
              0.5555555555555556,
              "#d8576b"
             ],
             [
              0.6666666666666666,
              "#ed7953"
             ],
             [
              0.7777777777777778,
              "#fb9f3a"
             ],
             [
              0.8888888888888888,
              "#fdca26"
             ],
             [
              1,
              "#f0f921"
             ]
            ],
            "type": "histogram2d"
           }
          ],
          "histogram2dcontour": [
           {
            "colorbar": {
             "outlinewidth": 0,
             "ticks": ""
            },
            "colorscale": [
             [
              0,
              "#0d0887"
             ],
             [
              0.1111111111111111,
              "#46039f"
             ],
             [
              0.2222222222222222,
              "#7201a8"
             ],
             [
              0.3333333333333333,
              "#9c179e"
             ],
             [
              0.4444444444444444,
              "#bd3786"
             ],
             [
              0.5555555555555556,
              "#d8576b"
             ],
             [
              0.6666666666666666,
              "#ed7953"
             ],
             [
              0.7777777777777778,
              "#fb9f3a"
             ],
             [
              0.8888888888888888,
              "#fdca26"
             ],
             [
              1,
              "#f0f921"
             ]
            ],
            "type": "histogram2dcontour"
           }
          ],
          "mesh3d": [
           {
            "colorbar": {
             "outlinewidth": 0,
             "ticks": ""
            },
            "type": "mesh3d"
           }
          ],
          "parcoords": [
           {
            "line": {
             "colorbar": {
              "outlinewidth": 0,
              "ticks": ""
             }
            },
            "type": "parcoords"
           }
          ],
          "pie": [
           {
            "automargin": true,
            "type": "pie"
           }
          ],
          "scatter": [
           {
            "fillpattern": {
             "fillmode": "overlay",
             "size": 10,
             "solidity": 0.2
            },
            "type": "scatter"
           }
          ],
          "scatter3d": [
           {
            "line": {
             "colorbar": {
              "outlinewidth": 0,
              "ticks": ""
             }
            },
            "marker": {
             "colorbar": {
              "outlinewidth": 0,
              "ticks": ""
             }
            },
            "type": "scatter3d"
           }
          ],
          "scattercarpet": [
           {
            "marker": {
             "colorbar": {
              "outlinewidth": 0,
              "ticks": ""
             }
            },
            "type": "scattercarpet"
           }
          ],
          "scattergeo": [
           {
            "marker": {
             "colorbar": {
              "outlinewidth": 0,
              "ticks": ""
             }
            },
            "type": "scattergeo"
           }
          ],
          "scattergl": [
           {
            "marker": {
             "colorbar": {
              "outlinewidth": 0,
              "ticks": ""
             }
            },
            "type": "scattergl"
           }
          ],
          "scattermapbox": [
           {
            "marker": {
             "colorbar": {
              "outlinewidth": 0,
              "ticks": ""
             }
            },
            "type": "scattermapbox"
           }
          ],
          "scatterpolar": [
           {
            "marker": {
             "colorbar": {
              "outlinewidth": 0,
              "ticks": ""
             }
            },
            "type": "scatterpolar"
           }
          ],
          "scatterpolargl": [
           {
            "marker": {
             "colorbar": {
              "outlinewidth": 0,
              "ticks": ""
             }
            },
            "type": "scatterpolargl"
           }
          ],
          "scatterternary": [
           {
            "marker": {
             "colorbar": {
              "outlinewidth": 0,
              "ticks": ""
             }
            },
            "type": "scatterternary"
           }
          ],
          "surface": [
           {
            "colorbar": {
             "outlinewidth": 0,
             "ticks": ""
            },
            "colorscale": [
             [
              0,
              "#0d0887"
             ],
             [
              0.1111111111111111,
              "#46039f"
             ],
             [
              0.2222222222222222,
              "#7201a8"
             ],
             [
              0.3333333333333333,
              "#9c179e"
             ],
             [
              0.4444444444444444,
              "#bd3786"
             ],
             [
              0.5555555555555556,
              "#d8576b"
             ],
             [
              0.6666666666666666,
              "#ed7953"
             ],
             [
              0.7777777777777778,
              "#fb9f3a"
             ],
             [
              0.8888888888888888,
              "#fdca26"
             ],
             [
              1,
              "#f0f921"
             ]
            ],
            "type": "surface"
           }
          ],
          "table": [
           {
            "cells": {
             "fill": {
              "color": "#EBF0F8"
             },
             "line": {
              "color": "white"
             }
            },
            "header": {
             "fill": {
              "color": "#C8D4E3"
             },
             "line": {
              "color": "white"
             }
            },
            "type": "table"
           }
          ]
         },
         "layout": {
          "annotationdefaults": {
           "arrowcolor": "#2a3f5f",
           "arrowhead": 0,
           "arrowwidth": 1
          },
          "autotypenumbers": "strict",
          "coloraxis": {
           "colorbar": {
            "outlinewidth": 0,
            "ticks": ""
           }
          },
          "colorscale": {
           "diverging": [
            [
             0,
             "#8e0152"
            ],
            [
             0.1,
             "#c51b7d"
            ],
            [
             0.2,
             "#de77ae"
            ],
            [
             0.3,
             "#f1b6da"
            ],
            [
             0.4,
             "#fde0ef"
            ],
            [
             0.5,
             "#f7f7f7"
            ],
            [
             0.6,
             "#e6f5d0"
            ],
            [
             0.7,
             "#b8e186"
            ],
            [
             0.8,
             "#7fbc41"
            ],
            [
             0.9,
             "#4d9221"
            ],
            [
             1,
             "#276419"
            ]
           ],
           "sequential": [
            [
             0,
             "#0d0887"
            ],
            [
             0.1111111111111111,
             "#46039f"
            ],
            [
             0.2222222222222222,
             "#7201a8"
            ],
            [
             0.3333333333333333,
             "#9c179e"
            ],
            [
             0.4444444444444444,
             "#bd3786"
            ],
            [
             0.5555555555555556,
             "#d8576b"
            ],
            [
             0.6666666666666666,
             "#ed7953"
            ],
            [
             0.7777777777777778,
             "#fb9f3a"
            ],
            [
             0.8888888888888888,
             "#fdca26"
            ],
            [
             1,
             "#f0f921"
            ]
           ],
           "sequentialminus": [
            [
             0,
             "#0d0887"
            ],
            [
             0.1111111111111111,
             "#46039f"
            ],
            [
             0.2222222222222222,
             "#7201a8"
            ],
            [
             0.3333333333333333,
             "#9c179e"
            ],
            [
             0.4444444444444444,
             "#bd3786"
            ],
            [
             0.5555555555555556,
             "#d8576b"
            ],
            [
             0.6666666666666666,
             "#ed7953"
            ],
            [
             0.7777777777777778,
             "#fb9f3a"
            ],
            [
             0.8888888888888888,
             "#fdca26"
            ],
            [
             1,
             "#f0f921"
            ]
           ]
          },
          "colorway": [
           "#636efa",
           "#EF553B",
           "#00cc96",
           "#ab63fa",
           "#FFA15A",
           "#19d3f3",
           "#FF6692",
           "#B6E880",
           "#FF97FF",
           "#FECB52"
          ],
          "font": {
           "color": "#2a3f5f"
          },
          "geo": {
           "bgcolor": "white",
           "lakecolor": "white",
           "landcolor": "#E5ECF6",
           "showlakes": true,
           "showland": true,
           "subunitcolor": "white"
          },
          "hoverlabel": {
           "align": "left"
          },
          "hovermode": "closest",
          "mapbox": {
           "style": "light"
          },
          "paper_bgcolor": "white",
          "plot_bgcolor": "#E5ECF6",
          "polar": {
           "angularaxis": {
            "gridcolor": "white",
            "linecolor": "white",
            "ticks": ""
           },
           "bgcolor": "#E5ECF6",
           "radialaxis": {
            "gridcolor": "white",
            "linecolor": "white",
            "ticks": ""
           }
          },
          "scene": {
           "xaxis": {
            "backgroundcolor": "#E5ECF6",
            "gridcolor": "white",
            "gridwidth": 2,
            "linecolor": "white",
            "showbackground": true,
            "ticks": "",
            "zerolinecolor": "white"
           },
           "yaxis": {
            "backgroundcolor": "#E5ECF6",
            "gridcolor": "white",
            "gridwidth": 2,
            "linecolor": "white",
            "showbackground": true,
            "ticks": "",
            "zerolinecolor": "white"
           },
           "zaxis": {
            "backgroundcolor": "#E5ECF6",
            "gridcolor": "white",
            "gridwidth": 2,
            "linecolor": "white",
            "showbackground": true,
            "ticks": "",
            "zerolinecolor": "white"
           }
          },
          "shapedefaults": {
           "line": {
            "color": "#2a3f5f"
           }
          },
          "ternary": {
           "aaxis": {
            "gridcolor": "white",
            "linecolor": "white",
            "ticks": ""
           },
           "baxis": {
            "gridcolor": "white",
            "linecolor": "white",
            "ticks": ""
           },
           "bgcolor": "#E5ECF6",
           "caxis": {
            "gridcolor": "white",
            "linecolor": "white",
            "ticks": ""
           }
          },
          "title": {
           "x": 0.05
          },
          "xaxis": {
           "automargin": true,
           "gridcolor": "white",
           "linecolor": "white",
           "ticks": "",
           "title": {
            "standoff": 15
           },
           "zerolinecolor": "white",
           "zerolinewidth": 2
          },
          "yaxis": {
           "automargin": true,
           "gridcolor": "white",
           "linecolor": "white",
           "ticks": "",
           "title": {
            "standoff": 15
           },
           "zerolinecolor": "white",
           "zerolinewidth": 2
          }
         }
        },
        "title": {
         "text": "Trials Completed by Session Number<br><b>Mouse 1003</b>"
        },
        "xaxis": {
         "title": {
          "text": "Session Number<br><b>Mouse 1003</b>"
         }
        },
        "yaxis": {
         "title": {
          "text": "Trials Completed"
         }
        }
       }
      }
     },
     "metadata": {},
     "output_type": "display_data"
    },
    {
     "data": {
      "application/vnd.plotly.v1+json": {
       "config": {
        "plotlyServerURL": "https://plot.ly"
       },
       "data": [
        {
         "marker": {
          "color": [
           0,
           0,
           0,
           0,
           0,
           0,
           0,
           0,
           0,
           0,
           0,
           0,
           0
          ],
          "colorscale": [
           [
            0,
            "rgb(103,0,31)"
           ],
           [
            0.1,
            "rgb(178,24,43)"
           ],
           [
            0.2,
            "rgb(214,96,77)"
           ],
           [
            0.3,
            "rgb(244,165,130)"
           ],
           [
            0.4,
            "rgb(253,219,199)"
           ],
           [
            0.5,
            "rgb(247,247,247)"
           ],
           [
            0.6,
            "rgb(209,229,240)"
           ],
           [
            0.7,
            "rgb(146,197,222)"
           ],
           [
            0.8,
            "rgb(67,147,195)"
           ],
           [
            0.9,
            "rgb(33,102,172)"
           ],
           [
            1,
            "rgb(5,48,97)"
           ]
          ]
         },
         "mode": "markers",
         "name": "Trials Completed",
         "showlegend": true,
         "type": "scatter",
         "x": [
          1,
          2,
          3,
          4,
          5,
          6,
          7,
          8,
          9,
          10,
          11,
          12,
          13
         ],
         "y": [
          42,
          50,
          25,
          49,
          51,
          79,
          79,
          43,
          60,
          79,
          70,
          56,
          73
         ]
        },
        {
         "line": {
          "color": "red"
         },
         "mode": "lines",
         "name": "Fitted Line",
         "type": "scatter",
         "x": [
          1,
          1.121212121212121,
          1.2424242424242424,
          1.3636363636363638,
          1.4848484848484849,
          1.606060606060606,
          1.7272727272727273,
          1.8484848484848486,
          1.9696969696969697,
          2.090909090909091,
          2.212121212121212,
          2.3333333333333335,
          2.4545454545454546,
          2.5757575757575757,
          2.6969696969696972,
          2.8181818181818183,
          2.9393939393939394,
          3.0606060606060606,
          3.1818181818181817,
          3.303030303030303,
          3.4242424242424243,
          3.5454545454545454,
          3.666666666666667,
          3.787878787878788,
          3.909090909090909,
          4.03030303030303,
          4.151515151515151,
          4.272727272727273,
          4.3939393939393945,
          4.515151515151516,
          4.636363636363637,
          4.757575757575758,
          4.878787878787879,
          5,
          5.121212121212121,
          5.242424242424242,
          5.363636363636363,
          5.484848484848485,
          5.606060606060606,
          5.7272727272727275,
          5.848484848484849,
          5.96969696969697,
          6.090909090909091,
          6.212121212121212,
          6.333333333333334,
          6.454545454545455,
          6.575757575757576,
          6.696969696969697,
          6.818181818181818,
          6.9393939393939394,
          7.0606060606060606,
          7.181818181818182,
          7.303030303030303,
          7.424242424242425,
          7.545454545454546,
          7.666666666666667,
          7.787878787878788,
          7.909090909090909,
          8.030303030303031,
          8.151515151515152,
          8.272727272727273,
          8.393939393939394,
          8.515151515151516,
          8.636363636363637,
          8.757575757575758,
          8.878787878787879,
          9,
          9.121212121212121,
          9.242424242424242,
          9.363636363636363,
          9.484848484848484,
          9.606060606060606,
          9.727272727272727,
          9.84848484848485,
          9.96969696969697,
          10.090909090909092,
          10.212121212121213,
          10.333333333333334,
          10.454545454545455,
          10.575757575757576,
          10.696969696969697,
          10.818181818181818,
          10.93939393939394,
          11.06060606060606,
          11.181818181818182,
          11.303030303030303,
          11.424242424242424,
          11.545454545454545,
          11.666666666666668,
          11.787878787878789,
          11.90909090909091,
          12.030303030303031,
          12.151515151515152,
          12.272727272727273,
          12.393939393939394,
          12.515151515151516,
          12.636363636363637,
          12.757575757575758,
          12.878787878787879,
          13
         ],
         "y": [
          42.7252747252747,
          43.03696303696301,
          43.34865134865132,
          43.66033966033964,
          43.972027972027945,
          44.28371628371626,
          44.595404595404574,
          44.90709290709289,
          45.218781218781196,
          45.53046953046951,
          45.84215784215782,
          46.15384615384613,
          46.465534465534446,
          46.77722277722276,
          47.08891108891107,
          47.40059940059938,
          47.7122877122877,
          48.023976023976005,
          48.33566433566432,
          48.64735264735263,
          48.95904095904094,
          49.270729270729255,
          49.58241758241757,
          49.89410589410588,
          50.20579420579419,
          50.517482517482506,
          50.82917082917081,
          51.14085914085913,
          51.45254745254744,
          51.76423576423575,
          52.075924075924064,
          52.38761238761238,
          52.69930069930069,
          53.010989010989,
          53.322677322677315,
          53.63436563436562,
          53.94605394605394,
          54.25774225774225,
          54.569430569430565,
          54.88111888111887,
          55.19280719280719,
          55.504495504495495,
          55.81618381618381,
          56.12787212787212,
          56.43956043956044,
          56.75124875124875,
          57.06293706293706,
          57.37462537462537,
          57.68631368631368,
          57.998001998001996,
          58.30969030969031,
          58.62137862137862,
          58.93306693306693,
          59.24475524475524,
          59.556443556443554,
          59.86813186813187,
          60.17982017982018,
          60.4915084915085,
          60.803196803196805,
          61.11488511488512,
          61.42657342657343,
          61.73826173826174,
          62.049950049950056,
          62.36163836163837,
          62.67332667332668,
          62.985014985014985,
          63.2967032967033,
          63.608391608391614,
          63.92007992007993,
          64.23176823176823,
          64.54345654345656,
          64.85514485514486,
          65.16683316683317,
          65.47852147852149,
          65.7902097902098,
          66.10189810189812,
          66.41358641358643,
          66.72527472527474,
          67.03696303696304,
          67.34865134865136,
          67.66033966033967,
          67.97202797202799,
          68.2837162837163,
          68.5954045954046,
          68.90709290709292,
          69.21878121878123,
          69.53046953046955,
          69.84215784215786,
          70.15384615384617,
          70.46553446553449,
          70.77722277722279,
          71.0889110889111,
          71.40059940059942,
          71.71228771228773,
          72.02397602397605,
          72.33566433566435,
          72.64735264735268,
          72.95904095904098,
          73.27072927072929,
          73.5824175824176
         ]
        },
        {
         "line": {
          "width": 0
         },
         "mode": "lines",
         "showlegend": false,
         "type": "scatter",
         "x": [
          1,
          1.121212121212121,
          1.2424242424242424,
          1.3636363636363638,
          1.4848484848484849,
          1.606060606060606,
          1.7272727272727273,
          1.8484848484848486,
          1.9696969696969697,
          2.090909090909091,
          2.212121212121212,
          2.3333333333333335,
          2.4545454545454546,
          2.5757575757575757,
          2.6969696969696972,
          2.8181818181818183,
          2.9393939393939394,
          3.0606060606060606,
          3.1818181818181817,
          3.303030303030303,
          3.4242424242424243,
          3.5454545454545454,
          3.666666666666667,
          3.787878787878788,
          3.909090909090909,
          4.03030303030303,
          4.151515151515151,
          4.272727272727273,
          4.3939393939393945,
          4.515151515151516,
          4.636363636363637,
          4.757575757575758,
          4.878787878787879,
          5,
          5.121212121212121,
          5.242424242424242,
          5.363636363636363,
          5.484848484848485,
          5.606060606060606,
          5.7272727272727275,
          5.848484848484849,
          5.96969696969697,
          6.090909090909091,
          6.212121212121212,
          6.333333333333334,
          6.454545454545455,
          6.575757575757576,
          6.696969696969697,
          6.818181818181818,
          6.9393939393939394,
          7.0606060606060606,
          7.181818181818182,
          7.303030303030303,
          7.424242424242425,
          7.545454545454546,
          7.666666666666667,
          7.787878787878788,
          7.909090909090909,
          8.030303030303031,
          8.151515151515152,
          8.272727272727273,
          8.393939393939394,
          8.515151515151516,
          8.636363636363637,
          8.757575757575758,
          8.878787878787879,
          9,
          9.121212121212121,
          9.242424242424242,
          9.363636363636363,
          9.484848484848484,
          9.606060606060606,
          9.727272727272727,
          9.84848484848485,
          9.96969696969697,
          10.090909090909092,
          10.212121212121213,
          10.333333333333334,
          10.454545454545455,
          10.575757575757576,
          10.696969696969697,
          10.818181818181818,
          10.93939393939394,
          11.06060606060606,
          11.181818181818182,
          11.303030303030303,
          11.424242424242424,
          11.545454545454545,
          11.666666666666668,
          11.787878787878789,
          11.90909090909091,
          12.030303030303031,
          12.151515151515152,
          12.272727272727273,
          12.393939393939394,
          12.515151515151516,
          12.636363636363637,
          12.757575757575758,
          12.878787878787879,
          13
         ],
         "y": [
          50.23860576172785,
          50.441322902253084,
          50.64468604159025,
          50.84872438438437,
          51.05346872343245,
          51.25895153171233,
          51.46520705898258,
          51.67227143295158,
          51.880182764954355,
          52.088981260003756,
          52.298709330993006,
          52.509411716719576,
          52.72113560327072,
          52.93393074815766,
          53.1478496064041,
          53.36294745758243,
          53.579282532544475,
          53.796916138310436,
          54.01591277925593,
          54.236340272372,
          54.45826985396573,
          54.681776274719645,
          54.90693787954035,
          55.133836668106866,
          55.36255833148532,
          55.59319225962483,
          55.82583151400858,
          56.06057275923061,
          56.29751614683615,
          56.536765144443585,
          56.77842630300676,
          57.022608955135375,
          57.26942483772885,
          57.518987632860885,
          57.77141242194041,
          58.02681504972529,
          58.28531139682049,
          58.54701656186808,
          58.81204395772045,
          59.08050432942205,
          59.35250470570471,
          59.628147299767825,
          59.90752837915587,
          60.19073712830357,
          60.477854530505525,
          60.76895229838295,
          61.064091883086974,
          61.363323592267875,
          61.66668584510758,
          61.974204589425135,
          62.28589290111345,
          62.60175078017251,
          62.92176515070944,
          63.24591006490515,
          63.57414710357775,
          63.906425959076955,
          64.24268518025163,
          64.58285305448055,
          64.92684859846914,
          65.27458262778265,
          65.6259588748766,
          65.98087512655162,
          66.33922435407588,
          66.70089581240492,
          67.06577608868635,
          67.43375008427809,
          67.80470191857519,
          68.17851574681977,
          68.55507648760293,
          68.93427045885093,
          69.31598592366439,
          69.70011354943357,
          70.08654678520465,
          70.47518216335925,
          70.86591953235212,
          71.25866222758924,
          71.65331718758742,
          72.04979502239752,
          72.44801004095343,
          72.84788024357616,
          73.24932728535903,
          73.6522764156196,
          74.05665639805073,
          74.46239941566138,
          74.86944096407596,
          75.27771973627426,
          75.68717750140443,
          76.09775897989414,
          76.50941171671963,
          76.92208595436968,
          77.33573450675703,
          77.75031263508427,
          78.1657779264581,
          78.58209017586574,
          78.99921127197211,
          79.41710508706886,
          79.83573737139741,
          80.2550756519799,
          80.67508913601937,
          81.09574861887076
         ]
        },
        {
         "fill": "tonexty",
         "fillcolor": "rgba(255,0,0,0.2)",
         "line": {
          "width": 0
         },
         "mode": "lines",
         "name": "SEM",
         "type": "scatter",
         "x": [
          1,
          1.121212121212121,
          1.2424242424242424,
          1.3636363636363638,
          1.4848484848484849,
          1.606060606060606,
          1.7272727272727273,
          1.8484848484848486,
          1.9696969696969697,
          2.090909090909091,
          2.212121212121212,
          2.3333333333333335,
          2.4545454545454546,
          2.5757575757575757,
          2.6969696969696972,
          2.8181818181818183,
          2.9393939393939394,
          3.0606060606060606,
          3.1818181818181817,
          3.303030303030303,
          3.4242424242424243,
          3.5454545454545454,
          3.666666666666667,
          3.787878787878788,
          3.909090909090909,
          4.03030303030303,
          4.151515151515151,
          4.272727272727273,
          4.3939393939393945,
          4.515151515151516,
          4.636363636363637,
          4.757575757575758,
          4.878787878787879,
          5,
          5.121212121212121,
          5.242424242424242,
          5.363636363636363,
          5.484848484848485,
          5.606060606060606,
          5.7272727272727275,
          5.848484848484849,
          5.96969696969697,
          6.090909090909091,
          6.212121212121212,
          6.333333333333334,
          6.454545454545455,
          6.575757575757576,
          6.696969696969697,
          6.818181818181818,
          6.9393939393939394,
          7.0606060606060606,
          7.181818181818182,
          7.303030303030303,
          7.424242424242425,
          7.545454545454546,
          7.666666666666667,
          7.787878787878788,
          7.909090909090909,
          8.030303030303031,
          8.151515151515152,
          8.272727272727273,
          8.393939393939394,
          8.515151515151516,
          8.636363636363637,
          8.757575757575758,
          8.878787878787879,
          9,
          9.121212121212121,
          9.242424242424242,
          9.363636363636363,
          9.484848484848484,
          9.606060606060606,
          9.727272727272727,
          9.84848484848485,
          9.96969696969697,
          10.090909090909092,
          10.212121212121213,
          10.333333333333334,
          10.454545454545455,
          10.575757575757576,
          10.696969696969697,
          10.818181818181818,
          10.93939393939394,
          11.06060606060606,
          11.181818181818182,
          11.303030303030303,
          11.424242424242424,
          11.545454545454545,
          11.666666666666668,
          11.787878787878789,
          11.90909090909091,
          12.030303030303031,
          12.151515151515152,
          12.272727272727273,
          12.393939393939394,
          12.515151515151516,
          12.636363636363637,
          12.757575757575758,
          12.878787878787879,
          13
         ],
         "y": [
          35.211943688821556,
          35.63260317167293,
          36.0526166557124,
          36.47195493629491,
          36.89058722062344,
          37.30848103572019,
          37.72560213182657,
          38.141914381234194,
          38.557379672608036,
          38.971957800935265,
          39.38560635332263,
          39.79828059097269,
          40.209933327798176,
          40.620514806287865,
          41.029972571418035,
          41.438251343616336,
          41.84529289203092,
          42.25103590964157,
          42.65541589207271,
          43.05836502233327,
          43.45981206411615,
          43.859682266738865,
          44.25789728529479,
          44.65437512010489,
          45.049030080103066,
          45.44177277534018,
          45.83251014433305,
          46.221145522487646,
          46.60757875825873,
          46.991706384027914,
          47.37342184884137,
          47.75261582008938,
          48.12917656087254,
          48.502990389117116,
          48.87394222341422,
          49.24191621900595,
          49.606796495287384,
          49.968467953616425,
          50.32681718114068,
          50.6817334328157,
          51.033109679909664,
          51.380843709223164,
          51.72483925321175,
          52.06500712744068,
          52.40126634861535,
          52.733545204114556,
          53.061782242787146,
          53.38592715698286,
          53.705941527519784,
          54.02179940657886,
          54.33348771826717,
          54.64100646258473,
          54.944368715424424,
          55.243600424605326,
          55.53874000930936,
          55.82983777718678,
          56.11695517938874,
          56.400163928536436,
          56.679545007924474,
          56.95518760198759,
          57.22718797827025,
          57.49564834997186,
          57.76067574582423,
          58.02238091087182,
          58.280877257967006,
          58.53627988575189,
          58.788704674831415,
          59.03826746996346,
          59.28508335255693,
          59.52926600468553,
          59.77092716324872,
          60.01017616085615,
          60.24711954846169,
          60.48186079368372,
          60.71450004806748,
          60.94513397620698,
          61.17385563958544,
          61.40075442815196,
          61.625916032972654,
          61.84942245372657,
          62.07135203532031,
          62.29177952843638,
          62.51077616938187,
          62.728409775147824,
          62.94474485010987,
          63.1598427012882,
          63.37376155953465,
          63.58655670442159,
          63.79828059097272,
          64.0089829766993,
          64.21871104768854,
          64.42750954273794,
          64.63542087474073,
          64.84248524870972,
          65.04874077597998,
          65.25422358425983,
          65.45896792330794,
          65.66300626610206,
          65.86636940543922,
          66.06908654596445
         ]
        }
       ],
       "layout": {
        "hovermode": "x unified",
        "template": {
         "data": {
          "bar": [
           {
            "error_x": {
             "color": "#2a3f5f"
            },
            "error_y": {
             "color": "#2a3f5f"
            },
            "marker": {
             "line": {
              "color": "#E5ECF6",
              "width": 0.5
             },
             "pattern": {
              "fillmode": "overlay",
              "size": 10,
              "solidity": 0.2
             }
            },
            "type": "bar"
           }
          ],
          "barpolar": [
           {
            "marker": {
             "line": {
              "color": "#E5ECF6",
              "width": 0.5
             },
             "pattern": {
              "fillmode": "overlay",
              "size": 10,
              "solidity": 0.2
             }
            },
            "type": "barpolar"
           }
          ],
          "carpet": [
           {
            "aaxis": {
             "endlinecolor": "#2a3f5f",
             "gridcolor": "white",
             "linecolor": "white",
             "minorgridcolor": "white",
             "startlinecolor": "#2a3f5f"
            },
            "baxis": {
             "endlinecolor": "#2a3f5f",
             "gridcolor": "white",
             "linecolor": "white",
             "minorgridcolor": "white",
             "startlinecolor": "#2a3f5f"
            },
            "type": "carpet"
           }
          ],
          "choropleth": [
           {
            "colorbar": {
             "outlinewidth": 0,
             "ticks": ""
            },
            "type": "choropleth"
           }
          ],
          "contour": [
           {
            "colorbar": {
             "outlinewidth": 0,
             "ticks": ""
            },
            "colorscale": [
             [
              0,
              "#0d0887"
             ],
             [
              0.1111111111111111,
              "#46039f"
             ],
             [
              0.2222222222222222,
              "#7201a8"
             ],
             [
              0.3333333333333333,
              "#9c179e"
             ],
             [
              0.4444444444444444,
              "#bd3786"
             ],
             [
              0.5555555555555556,
              "#d8576b"
             ],
             [
              0.6666666666666666,
              "#ed7953"
             ],
             [
              0.7777777777777778,
              "#fb9f3a"
             ],
             [
              0.8888888888888888,
              "#fdca26"
             ],
             [
              1,
              "#f0f921"
             ]
            ],
            "type": "contour"
           }
          ],
          "contourcarpet": [
           {
            "colorbar": {
             "outlinewidth": 0,
             "ticks": ""
            },
            "type": "contourcarpet"
           }
          ],
          "heatmap": [
           {
            "colorbar": {
             "outlinewidth": 0,
             "ticks": ""
            },
            "colorscale": [
             [
              0,
              "#0d0887"
             ],
             [
              0.1111111111111111,
              "#46039f"
             ],
             [
              0.2222222222222222,
              "#7201a8"
             ],
             [
              0.3333333333333333,
              "#9c179e"
             ],
             [
              0.4444444444444444,
              "#bd3786"
             ],
             [
              0.5555555555555556,
              "#d8576b"
             ],
             [
              0.6666666666666666,
              "#ed7953"
             ],
             [
              0.7777777777777778,
              "#fb9f3a"
             ],
             [
              0.8888888888888888,
              "#fdca26"
             ],
             [
              1,
              "#f0f921"
             ]
            ],
            "type": "heatmap"
           }
          ],
          "heatmapgl": [
           {
            "colorbar": {
             "outlinewidth": 0,
             "ticks": ""
            },
            "colorscale": [
             [
              0,
              "#0d0887"
             ],
             [
              0.1111111111111111,
              "#46039f"
             ],
             [
              0.2222222222222222,
              "#7201a8"
             ],
             [
              0.3333333333333333,
              "#9c179e"
             ],
             [
              0.4444444444444444,
              "#bd3786"
             ],
             [
              0.5555555555555556,
              "#d8576b"
             ],
             [
              0.6666666666666666,
              "#ed7953"
             ],
             [
              0.7777777777777778,
              "#fb9f3a"
             ],
             [
              0.8888888888888888,
              "#fdca26"
             ],
             [
              1,
              "#f0f921"
             ]
            ],
            "type": "heatmapgl"
           }
          ],
          "histogram": [
           {
            "marker": {
             "pattern": {
              "fillmode": "overlay",
              "size": 10,
              "solidity": 0.2
             }
            },
            "type": "histogram"
           }
          ],
          "histogram2d": [
           {
            "colorbar": {
             "outlinewidth": 0,
             "ticks": ""
            },
            "colorscale": [
             [
              0,
              "#0d0887"
             ],
             [
              0.1111111111111111,
              "#46039f"
             ],
             [
              0.2222222222222222,
              "#7201a8"
             ],
             [
              0.3333333333333333,
              "#9c179e"
             ],
             [
              0.4444444444444444,
              "#bd3786"
             ],
             [
              0.5555555555555556,
              "#d8576b"
             ],
             [
              0.6666666666666666,
              "#ed7953"
             ],
             [
              0.7777777777777778,
              "#fb9f3a"
             ],
             [
              0.8888888888888888,
              "#fdca26"
             ],
             [
              1,
              "#f0f921"
             ]
            ],
            "type": "histogram2d"
           }
          ],
          "histogram2dcontour": [
           {
            "colorbar": {
             "outlinewidth": 0,
             "ticks": ""
            },
            "colorscale": [
             [
              0,
              "#0d0887"
             ],
             [
              0.1111111111111111,
              "#46039f"
             ],
             [
              0.2222222222222222,
              "#7201a8"
             ],
             [
              0.3333333333333333,
              "#9c179e"
             ],
             [
              0.4444444444444444,
              "#bd3786"
             ],
             [
              0.5555555555555556,
              "#d8576b"
             ],
             [
              0.6666666666666666,
              "#ed7953"
             ],
             [
              0.7777777777777778,
              "#fb9f3a"
             ],
             [
              0.8888888888888888,
              "#fdca26"
             ],
             [
              1,
              "#f0f921"
             ]
            ],
            "type": "histogram2dcontour"
           }
          ],
          "mesh3d": [
           {
            "colorbar": {
             "outlinewidth": 0,
             "ticks": ""
            },
            "type": "mesh3d"
           }
          ],
          "parcoords": [
           {
            "line": {
             "colorbar": {
              "outlinewidth": 0,
              "ticks": ""
             }
            },
            "type": "parcoords"
           }
          ],
          "pie": [
           {
            "automargin": true,
            "type": "pie"
           }
          ],
          "scatter": [
           {
            "fillpattern": {
             "fillmode": "overlay",
             "size": 10,
             "solidity": 0.2
            },
            "type": "scatter"
           }
          ],
          "scatter3d": [
           {
            "line": {
             "colorbar": {
              "outlinewidth": 0,
              "ticks": ""
             }
            },
            "marker": {
             "colorbar": {
              "outlinewidth": 0,
              "ticks": ""
             }
            },
            "type": "scatter3d"
           }
          ],
          "scattercarpet": [
           {
            "marker": {
             "colorbar": {
              "outlinewidth": 0,
              "ticks": ""
             }
            },
            "type": "scattercarpet"
           }
          ],
          "scattergeo": [
           {
            "marker": {
             "colorbar": {
              "outlinewidth": 0,
              "ticks": ""
             }
            },
            "type": "scattergeo"
           }
          ],
          "scattergl": [
           {
            "marker": {
             "colorbar": {
              "outlinewidth": 0,
              "ticks": ""
             }
            },
            "type": "scattergl"
           }
          ],
          "scattermapbox": [
           {
            "marker": {
             "colorbar": {
              "outlinewidth": 0,
              "ticks": ""
             }
            },
            "type": "scattermapbox"
           }
          ],
          "scatterpolar": [
           {
            "marker": {
             "colorbar": {
              "outlinewidth": 0,
              "ticks": ""
             }
            },
            "type": "scatterpolar"
           }
          ],
          "scatterpolargl": [
           {
            "marker": {
             "colorbar": {
              "outlinewidth": 0,
              "ticks": ""
             }
            },
            "type": "scatterpolargl"
           }
          ],
          "scatterternary": [
           {
            "marker": {
             "colorbar": {
              "outlinewidth": 0,
              "ticks": ""
             }
            },
            "type": "scatterternary"
           }
          ],
          "surface": [
           {
            "colorbar": {
             "outlinewidth": 0,
             "ticks": ""
            },
            "colorscale": [
             [
              0,
              "#0d0887"
             ],
             [
              0.1111111111111111,
              "#46039f"
             ],
             [
              0.2222222222222222,
              "#7201a8"
             ],
             [
              0.3333333333333333,
              "#9c179e"
             ],
             [
              0.4444444444444444,
              "#bd3786"
             ],
             [
              0.5555555555555556,
              "#d8576b"
             ],
             [
              0.6666666666666666,
              "#ed7953"
             ],
             [
              0.7777777777777778,
              "#fb9f3a"
             ],
             [
              0.8888888888888888,
              "#fdca26"
             ],
             [
              1,
              "#f0f921"
             ]
            ],
            "type": "surface"
           }
          ],
          "table": [
           {
            "cells": {
             "fill": {
              "color": "#EBF0F8"
             },
             "line": {
              "color": "white"
             }
            },
            "header": {
             "fill": {
              "color": "#C8D4E3"
             },
             "line": {
              "color": "white"
             }
            },
            "type": "table"
           }
          ]
         },
         "layout": {
          "annotationdefaults": {
           "arrowcolor": "#2a3f5f",
           "arrowhead": 0,
           "arrowwidth": 1
          },
          "autotypenumbers": "strict",
          "coloraxis": {
           "colorbar": {
            "outlinewidth": 0,
            "ticks": ""
           }
          },
          "colorscale": {
           "diverging": [
            [
             0,
             "#8e0152"
            ],
            [
             0.1,
             "#c51b7d"
            ],
            [
             0.2,
             "#de77ae"
            ],
            [
             0.3,
             "#f1b6da"
            ],
            [
             0.4,
             "#fde0ef"
            ],
            [
             0.5,
             "#f7f7f7"
            ],
            [
             0.6,
             "#e6f5d0"
            ],
            [
             0.7,
             "#b8e186"
            ],
            [
             0.8,
             "#7fbc41"
            ],
            [
             0.9,
             "#4d9221"
            ],
            [
             1,
             "#276419"
            ]
           ],
           "sequential": [
            [
             0,
             "#0d0887"
            ],
            [
             0.1111111111111111,
             "#46039f"
            ],
            [
             0.2222222222222222,
             "#7201a8"
            ],
            [
             0.3333333333333333,
             "#9c179e"
            ],
            [
             0.4444444444444444,
             "#bd3786"
            ],
            [
             0.5555555555555556,
             "#d8576b"
            ],
            [
             0.6666666666666666,
             "#ed7953"
            ],
            [
             0.7777777777777778,
             "#fb9f3a"
            ],
            [
             0.8888888888888888,
             "#fdca26"
            ],
            [
             1,
             "#f0f921"
            ]
           ],
           "sequentialminus": [
            [
             0,
             "#0d0887"
            ],
            [
             0.1111111111111111,
             "#46039f"
            ],
            [
             0.2222222222222222,
             "#7201a8"
            ],
            [
             0.3333333333333333,
             "#9c179e"
            ],
            [
             0.4444444444444444,
             "#bd3786"
            ],
            [
             0.5555555555555556,
             "#d8576b"
            ],
            [
             0.6666666666666666,
             "#ed7953"
            ],
            [
             0.7777777777777778,
             "#fb9f3a"
            ],
            [
             0.8888888888888888,
             "#fdca26"
            ],
            [
             1,
             "#f0f921"
            ]
           ]
          },
          "colorway": [
           "#636efa",
           "#EF553B",
           "#00cc96",
           "#ab63fa",
           "#FFA15A",
           "#19d3f3",
           "#FF6692",
           "#B6E880",
           "#FF97FF",
           "#FECB52"
          ],
          "font": {
           "color": "#2a3f5f"
          },
          "geo": {
           "bgcolor": "white",
           "lakecolor": "white",
           "landcolor": "#E5ECF6",
           "showlakes": true,
           "showland": true,
           "subunitcolor": "white"
          },
          "hoverlabel": {
           "align": "left"
          },
          "hovermode": "closest",
          "mapbox": {
           "style": "light"
          },
          "paper_bgcolor": "white",
          "plot_bgcolor": "#E5ECF6",
          "polar": {
           "angularaxis": {
            "gridcolor": "white",
            "linecolor": "white",
            "ticks": ""
           },
           "bgcolor": "#E5ECF6",
           "radialaxis": {
            "gridcolor": "white",
            "linecolor": "white",
            "ticks": ""
           }
          },
          "scene": {
           "xaxis": {
            "backgroundcolor": "#E5ECF6",
            "gridcolor": "white",
            "gridwidth": 2,
            "linecolor": "white",
            "showbackground": true,
            "ticks": "",
            "zerolinecolor": "white"
           },
           "yaxis": {
            "backgroundcolor": "#E5ECF6",
            "gridcolor": "white",
            "gridwidth": 2,
            "linecolor": "white",
            "showbackground": true,
            "ticks": "",
            "zerolinecolor": "white"
           },
           "zaxis": {
            "backgroundcolor": "#E5ECF6",
            "gridcolor": "white",
            "gridwidth": 2,
            "linecolor": "white",
            "showbackground": true,
            "ticks": "",
            "zerolinecolor": "white"
           }
          },
          "shapedefaults": {
           "line": {
            "color": "#2a3f5f"
           }
          },
          "ternary": {
           "aaxis": {
            "gridcolor": "white",
            "linecolor": "white",
            "ticks": ""
           },
           "baxis": {
            "gridcolor": "white",
            "linecolor": "white",
            "ticks": ""
           },
           "bgcolor": "#E5ECF6",
           "caxis": {
            "gridcolor": "white",
            "linecolor": "white",
            "ticks": ""
           }
          },
          "title": {
           "x": 0.05
          },
          "xaxis": {
           "automargin": true,
           "gridcolor": "white",
           "linecolor": "white",
           "ticks": "",
           "title": {
            "standoff": 15
           },
           "zerolinecolor": "white",
           "zerolinewidth": 2
          },
          "yaxis": {
           "automargin": true,
           "gridcolor": "white",
           "linecolor": "white",
           "ticks": "",
           "title": {
            "standoff": 15
           },
           "zerolinecolor": "white",
           "zerolinewidth": 2
          }
         }
        },
        "title": {
         "text": "Trials Completed by Session Number<br><b>Mouse 1004</b>"
        },
        "xaxis": {
         "title": {
          "text": "Session Number<br><b>Mouse 1004</b>"
         }
        },
        "yaxis": {
         "title": {
          "text": "Trials Completed"
         }
        }
       }
      }
     },
     "metadata": {},
     "output_type": "display_data"
    },
    {
     "data": {
      "application/vnd.plotly.v1+json": {
       "config": {
        "plotlyServerURL": "https://plot.ly"
       },
       "data": [
        {
         "marker": {
          "color": [
           0,
           0,
           0,
           0,
           0,
           0,
           0,
           0,
           0,
           0,
           0,
           0,
           0
          ],
          "colorscale": [
           [
            0,
            "rgb(103,0,31)"
           ],
           [
            0.1,
            "rgb(178,24,43)"
           ],
           [
            0.2,
            "rgb(214,96,77)"
           ],
           [
            0.3,
            "rgb(244,165,130)"
           ],
           [
            0.4,
            "rgb(253,219,199)"
           ],
           [
            0.5,
            "rgb(247,247,247)"
           ],
           [
            0.6,
            "rgb(209,229,240)"
           ],
           [
            0.7,
            "rgb(146,197,222)"
           ],
           [
            0.8,
            "rgb(67,147,195)"
           ],
           [
            0.9,
            "rgb(33,102,172)"
           ],
           [
            1,
            "rgb(5,48,97)"
           ]
          ]
         },
         "mode": "markers",
         "name": "Trials Completed",
         "showlegend": true,
         "type": "scatter",
         "x": [
          1,
          2,
          3,
          4,
          5,
          6,
          7,
          8,
          9,
          10,
          11,
          12,
          13
         ],
         "y": [
          54,
          65,
          48,
          58,
          80,
          116,
          88,
          88,
          81,
          91,
          87,
          69,
          61
         ]
        },
        {
         "line": {
          "color": "red"
         },
         "mode": "lines",
         "name": "Fitted Line",
         "type": "scatter",
         "x": [
          1,
          1.121212121212121,
          1.2424242424242424,
          1.3636363636363638,
          1.4848484848484849,
          1.606060606060606,
          1.7272727272727273,
          1.8484848484848486,
          1.9696969696969697,
          2.090909090909091,
          2.212121212121212,
          2.3333333333333335,
          2.4545454545454546,
          2.5757575757575757,
          2.6969696969696972,
          2.8181818181818183,
          2.9393939393939394,
          3.0606060606060606,
          3.1818181818181817,
          3.303030303030303,
          3.4242424242424243,
          3.5454545454545454,
          3.666666666666667,
          3.787878787878788,
          3.909090909090909,
          4.03030303030303,
          4.151515151515151,
          4.272727272727273,
          4.3939393939393945,
          4.515151515151516,
          4.636363636363637,
          4.757575757575758,
          4.878787878787879,
          5,
          5.121212121212121,
          5.242424242424242,
          5.363636363636363,
          5.484848484848485,
          5.606060606060606,
          5.7272727272727275,
          5.848484848484849,
          5.96969696969697,
          6.090909090909091,
          6.212121212121212,
          6.333333333333334,
          6.454545454545455,
          6.575757575757576,
          6.696969696969697,
          6.818181818181818,
          6.9393939393939394,
          7.0606060606060606,
          7.181818181818182,
          7.303030303030303,
          7.424242424242425,
          7.545454545454546,
          7.666666666666667,
          7.787878787878788,
          7.909090909090909,
          8.030303030303031,
          8.151515151515152,
          8.272727272727273,
          8.393939393939394,
          8.515151515151516,
          8.636363636363637,
          8.757575757575758,
          8.878787878787879,
          9,
          9.121212121212121,
          9.242424242424242,
          9.363636363636363,
          9.484848484848484,
          9.606060606060606,
          9.727272727272727,
          9.84848484848485,
          9.96969696969697,
          10.090909090909092,
          10.212121212121213,
          10.333333333333334,
          10.454545454545455,
          10.575757575757576,
          10.696969696969697,
          10.818181818181818,
          10.93939393939394,
          11.06060606060606,
          11.181818181818182,
          11.303030303030303,
          11.424242424242424,
          11.545454545454545,
          11.666666666666668,
          11.787878787878789,
          11.90909090909091,
          12.030303030303031,
          12.151515151515152,
          12.272727272727273,
          12.393939393939394,
          12.515151515151516,
          12.636363636363637,
          12.757575757575758,
          12.878787878787879,
          13
         ],
         "y": [
          66.25274725274726,
          66.44655344655344,
          66.64035964035963,
          66.83416583416583,
          67.02797202797203,
          67.22177822177822,
          67.41558441558442,
          67.60939060939062,
          67.8031968031968,
          67.997002997003,
          68.19080919080919,
          68.38461538461539,
          68.57842157842158,
          68.77222777222778,
          68.96603396603398,
          69.15984015984016,
          69.35364635364635,
          69.54745254745255,
          69.74125874125875,
          69.93506493506494,
          70.12887112887114,
          70.32267732267734,
          70.51648351648353,
          70.71028971028971,
          70.90409590409591,
          71.09790209790211,
          71.2917082917083,
          71.4855144855145,
          71.6793206793207,
          71.87312687312689,
          72.06693306693307,
          72.26073926073927,
          72.45454545454547,
          72.64835164835166,
          72.84215784215786,
          73.03596403596406,
          73.22977022977024,
          73.42357642357643,
          73.61738261738263,
          73.81118881118883,
          74.00499500499502,
          74.19880119880122,
          74.39260739260742,
          74.58641358641361,
          74.7802197802198,
          74.97402597402599,
          75.16783216783219,
          75.36163836163838,
          75.55544455544458,
          75.74925074925078,
          75.94305694305697,
          76.13686313686316,
          76.33066933066935,
          76.52447552447555,
          76.71828171828174,
          76.91208791208794,
          77.10589410589414,
          77.29970029970033,
          77.49350649350652,
          77.68731268731271,
          77.88111888111891,
          78.0749250749251,
          78.2687312687313,
          78.4625374625375,
          78.6563436563437,
          78.85014985014988,
          79.04395604395607,
          79.23776223776227,
          79.43156843156846,
          79.62537462537466,
          79.81918081918086,
          80.01298701298704,
          80.20679320679324,
          80.40059940059943,
          80.59440559440563,
          80.78821178821183,
          80.98201798201802,
          81.17582417582422,
          81.36963036963041,
          81.5634365634366,
          81.75724275724279,
          81.95104895104899,
          82.14485514485519,
          82.33866133866138,
          82.53246753246758,
          82.72627372627377,
          82.92007992007996,
          83.11388611388615,
          83.30769230769235,
          83.50149850149855,
          83.69530469530474,
          83.88911088911094,
          84.08291708291713,
          84.27672327672332,
          84.47052947052951,
          84.66433566433571,
          84.8581418581419,
          85.0519480519481,
          85.2457542457543,
          85.4395604395605
         ]
        },
        {
         "line": {
          "width": 0
         },
         "mode": "lines",
         "showlegend": false,
         "type": "scatter",
         "x": [
          1,
          1.121212121212121,
          1.2424242424242424,
          1.3636363636363638,
          1.4848484848484849,
          1.606060606060606,
          1.7272727272727273,
          1.8484848484848486,
          1.9696969696969697,
          2.090909090909091,
          2.212121212121212,
          2.3333333333333335,
          2.4545454545454546,
          2.5757575757575757,
          2.6969696969696972,
          2.8181818181818183,
          2.9393939393939394,
          3.0606060606060606,
          3.1818181818181817,
          3.303030303030303,
          3.4242424242424243,
          3.5454545454545454,
          3.666666666666667,
          3.787878787878788,
          3.909090909090909,
          4.03030303030303,
          4.151515151515151,
          4.272727272727273,
          4.3939393939393945,
          4.515151515151516,
          4.636363636363637,
          4.757575757575758,
          4.878787878787879,
          5,
          5.121212121212121,
          5.242424242424242,
          5.363636363636363,
          5.484848484848485,
          5.606060606060606,
          5.7272727272727275,
          5.848484848484849,
          5.96969696969697,
          6.090909090909091,
          6.212121212121212,
          6.333333333333334,
          6.454545454545455,
          6.575757575757576,
          6.696969696969697,
          6.818181818181818,
          6.9393939393939394,
          7.0606060606060606,
          7.181818181818182,
          7.303030303030303,
          7.424242424242425,
          7.545454545454546,
          7.666666666666667,
          7.787878787878788,
          7.909090909090909,
          8.030303030303031,
          8.151515151515152,
          8.272727272727273,
          8.393939393939394,
          8.515151515151516,
          8.636363636363637,
          8.757575757575758,
          8.878787878787879,
          9,
          9.121212121212121,
          9.242424242424242,
          9.363636363636363,
          9.484848484848484,
          9.606060606060606,
          9.727272727272727,
          9.84848484848485,
          9.96969696969697,
          10.090909090909092,
          10.212121212121213,
          10.333333333333334,
          10.454545454545455,
          10.575757575757576,
          10.696969696969697,
          10.818181818181818,
          10.93939393939394,
          11.06060606060606,
          11.181818181818182,
          11.303030303030303,
          11.424242424242424,
          11.545454545454545,
          11.666666666666668,
          11.787878787878789,
          11.90909090909091,
          12.030303030303031,
          12.151515151515152,
          12.272727272727273,
          12.393939393939394,
          12.515151515151516,
          12.636363636363637,
          12.757575757575758,
          12.878787878787879,
          13
         ],
         "y": [
          75.9900716650841,
          76.0426505337453,
          76.09606662094129,
          76.15035777607622,
          76.20556390680926,
          76.26172709832446,
          76.31889173852498,
          76.37710464914876,
          76.43641522272635,
          76.496875565208,
          76.55854064397084,
          76.6214684407786,
          76.68572010909793,
          76.75136013497723,
          76.81845650045811,
          76.88708084821499,
          76.95730864579916,
          77.02921934749548,
          77.10289655138159,
          77.17842814870563,
          77.25590646217091,
          77.33542836913342,
          77.4170954050863,
          77.50101384213073,
          77.58729473642893,
          77.67605393791875,
          77.76741205486938,
          77.86149436520436,
          77.95843066595803,
          78.05835505181642,
          78.16140561348773,
          78.26772404672377,
          78.37745516325093,
          78.49074629575378,
          78.6077465904641,
          78.72860618291881,
          78.8534752551128,
          78.98250297561216,
          79.11583632818896,
          79.25361883911931,
          79.3959892183147,
          79.54307993472622,
          79.69501575169875,
          79.85191225282217,
          80.01387439295709,
          80.18099511211292,
          80.35335405136912,
          80.53101640975775,
          80.71403197878091,
          80.90243438697576,
          81.09624058078195,
          81.29545056019948,
          81.50004737878872,
          81.70999740801248,
          81.92525085636868,
          82.14574252482524,
          82.3713927723027,
          82.60210865879166,
          82.83778522943152,
          83.07830690063238,
          83.32354890904939,
          83.57337878573144,
          83.82765782076703,
          84.08624248788006,
          84.34898580329846,
          84.61573859845612,
          84.88635069135819,
          85.16067194646773,
          85.43855321755296,
          85.71984717192932,
          86.00440899787039,
          86.29209699962438,
          86.5827730864831,
          86.87630316376051,
          87.17255743442227,
          87.47141062054484,
          87.77274211385904,
          88.07643606442699,
          88.3823814160865,
          88.69047189673637,
          89.00060597088348,
          89.31268676117183,
          89.62662194489812,
          89.94232363081419,
          90.25970822084241,
          90.57869626069791,
          90.89921228282941,
          91.2211846445625,
          91.54454536385556,
          91.8692299546602,
          92.19517726350975,
          92.5223293086405,
          92.85063112267528,
          93.18003059966388,
          93.51047834707575,
          93.84192754317294,
          94.1743338000523,
          94.50765503252975,
          94.84185133294616,
          95.17688485189734
         ]
        },
        {
         "fill": "tonexty",
         "fillcolor": "rgba(255,0,0,0.2)",
         "line": {
          "width": 0
         },
         "mode": "lines",
         "name": "SEM",
         "type": "scatter",
         "x": [
          1,
          1.121212121212121,
          1.2424242424242424,
          1.3636363636363638,
          1.4848484848484849,
          1.606060606060606,
          1.7272727272727273,
          1.8484848484848486,
          1.9696969696969697,
          2.090909090909091,
          2.212121212121212,
          2.3333333333333335,
          2.4545454545454546,
          2.5757575757575757,
          2.6969696969696972,
          2.8181818181818183,
          2.9393939393939394,
          3.0606060606060606,
          3.1818181818181817,
          3.303030303030303,
          3.4242424242424243,
          3.5454545454545454,
          3.666666666666667,
          3.787878787878788,
          3.909090909090909,
          4.03030303030303,
          4.151515151515151,
          4.272727272727273,
          4.3939393939393945,
          4.515151515151516,
          4.636363636363637,
          4.757575757575758,
          4.878787878787879,
          5,
          5.121212121212121,
          5.242424242424242,
          5.363636363636363,
          5.484848484848485,
          5.606060606060606,
          5.7272727272727275,
          5.848484848484849,
          5.96969696969697,
          6.090909090909091,
          6.212121212121212,
          6.333333333333334,
          6.454545454545455,
          6.575757575757576,
          6.696969696969697,
          6.818181818181818,
          6.9393939393939394,
          7.0606060606060606,
          7.181818181818182,
          7.303030303030303,
          7.424242424242425,
          7.545454545454546,
          7.666666666666667,
          7.787878787878788,
          7.909090909090909,
          8.030303030303031,
          8.151515151515152,
          8.272727272727273,
          8.393939393939394,
          8.515151515151516,
          8.636363636363637,
          8.757575757575758,
          8.878787878787879,
          9,
          9.121212121212121,
          9.242424242424242,
          9.363636363636363,
          9.484848484848484,
          9.606060606060606,
          9.727272727272727,
          9.84848484848485,
          9.96969696969697,
          10.090909090909092,
          10.212121212121213,
          10.333333333333334,
          10.454545454545455,
          10.575757575757576,
          10.696969696969697,
          10.818181818181818,
          10.93939393939394,
          11.06060606060606,
          11.181818181818182,
          11.303030303030303,
          11.424242424242424,
          11.545454545454545,
          11.666666666666668,
          11.787878787878789,
          11.90909090909091,
          12.030303030303031,
          12.151515151515152,
          12.272727272727273,
          12.393939393939394,
          12.515151515151516,
          12.636363636363637,
          12.757575757575758,
          12.878787878787879,
          13
         ],
         "y": [
          56.51542284041041,
          56.85045635936157,
          57.18465265977798,
          57.51797389225544,
          57.85038014913479,
          58.18182934523199,
          58.512277092643856,
          58.84167656963247,
          59.16997838366724,
          59.49713042879799,
          59.82307773764753,
          60.147762328452174,
          60.47112304774524,
          60.79309540947832,
          61.11361143160984,
          61.43259947146532,
          61.74998406149355,
          62.06568574740962,
          62.379620931135904,
          62.69170172142425,
          63.00183579557137,
          63.30992627622125,
          63.61587162788077,
          63.9195655784487,
          64.22089707176289,
          64.51975025788546,
          64.81600452854723,
          65.10953460582463,
          65.40021069268336,
          65.68789869443737,
          65.97246052037842,
          66.25375447475477,
          66.53163574584,
          66.80595700094955,
          67.07656909385162,
          67.3433218890093,
          67.60606520442768,
          67.8646498715407,
          68.1189289065763,
          68.36875878325834,
          68.61400079167535,
          68.85452246287622,
          69.09019903351609,
          69.32091492000505,
          69.5465651674825,
          69.76705683593906,
          69.98231028429525,
          70.19226031351901,
          70.39685713210825,
          70.5960671115258,
          70.789873305332,
          70.97827571352683,
          71.16129128254998,
          71.33895364093861,
          71.51131258019481,
          71.67843329935064,
          71.84039543948558,
          71.997291940609,
          72.14922775758151,
          72.29631847399304,
          72.43868885318842,
          72.57647136411877,
          72.70980471669557,
          72.83883243719494,
          72.96370150938893,
          73.08456110184363,
          73.20156139655396,
          73.31485252905681,
          73.42458364558397,
          73.53090207882,
          73.63395264049133,
          73.7338770263497,
          73.83081332710337,
          73.92489563743835,
          74.01625375438898,
          74.1050129558788,
          74.191293850177,
          74.27521228722145,
          74.35687932317433,
          74.43640123013682,
          74.5138795436021,
          74.58941114092615,
          74.66308834481225,
          74.73499904650858,
          74.80522684409274,
          74.87385119184964,
          74.9409475573305,
          75.00658758320981,
          75.07083925152914,
          75.13376704833689,
          75.19543212709974,
          75.25589246958138,
          75.31520304315899,
          75.37341595378275,
          75.43058059398328,
          75.48674378549848,
          75.54194991623152,
          75.59624107136645,
          75.64965715856243,
          75.70223602722365
         ]
        }
       ],
       "layout": {
        "hovermode": "x unified",
        "template": {
         "data": {
          "bar": [
           {
            "error_x": {
             "color": "#2a3f5f"
            },
            "error_y": {
             "color": "#2a3f5f"
            },
            "marker": {
             "line": {
              "color": "#E5ECF6",
              "width": 0.5
             },
             "pattern": {
              "fillmode": "overlay",
              "size": 10,
              "solidity": 0.2
             }
            },
            "type": "bar"
           }
          ],
          "barpolar": [
           {
            "marker": {
             "line": {
              "color": "#E5ECF6",
              "width": 0.5
             },
             "pattern": {
              "fillmode": "overlay",
              "size": 10,
              "solidity": 0.2
             }
            },
            "type": "barpolar"
           }
          ],
          "carpet": [
           {
            "aaxis": {
             "endlinecolor": "#2a3f5f",
             "gridcolor": "white",
             "linecolor": "white",
             "minorgridcolor": "white",
             "startlinecolor": "#2a3f5f"
            },
            "baxis": {
             "endlinecolor": "#2a3f5f",
             "gridcolor": "white",
             "linecolor": "white",
             "minorgridcolor": "white",
             "startlinecolor": "#2a3f5f"
            },
            "type": "carpet"
           }
          ],
          "choropleth": [
           {
            "colorbar": {
             "outlinewidth": 0,
             "ticks": ""
            },
            "type": "choropleth"
           }
          ],
          "contour": [
           {
            "colorbar": {
             "outlinewidth": 0,
             "ticks": ""
            },
            "colorscale": [
             [
              0,
              "#0d0887"
             ],
             [
              0.1111111111111111,
              "#46039f"
             ],
             [
              0.2222222222222222,
              "#7201a8"
             ],
             [
              0.3333333333333333,
              "#9c179e"
             ],
             [
              0.4444444444444444,
              "#bd3786"
             ],
             [
              0.5555555555555556,
              "#d8576b"
             ],
             [
              0.6666666666666666,
              "#ed7953"
             ],
             [
              0.7777777777777778,
              "#fb9f3a"
             ],
             [
              0.8888888888888888,
              "#fdca26"
             ],
             [
              1,
              "#f0f921"
             ]
            ],
            "type": "contour"
           }
          ],
          "contourcarpet": [
           {
            "colorbar": {
             "outlinewidth": 0,
             "ticks": ""
            },
            "type": "contourcarpet"
           }
          ],
          "heatmap": [
           {
            "colorbar": {
             "outlinewidth": 0,
             "ticks": ""
            },
            "colorscale": [
             [
              0,
              "#0d0887"
             ],
             [
              0.1111111111111111,
              "#46039f"
             ],
             [
              0.2222222222222222,
              "#7201a8"
             ],
             [
              0.3333333333333333,
              "#9c179e"
             ],
             [
              0.4444444444444444,
              "#bd3786"
             ],
             [
              0.5555555555555556,
              "#d8576b"
             ],
             [
              0.6666666666666666,
              "#ed7953"
             ],
             [
              0.7777777777777778,
              "#fb9f3a"
             ],
             [
              0.8888888888888888,
              "#fdca26"
             ],
             [
              1,
              "#f0f921"
             ]
            ],
            "type": "heatmap"
           }
          ],
          "heatmapgl": [
           {
            "colorbar": {
             "outlinewidth": 0,
             "ticks": ""
            },
            "colorscale": [
             [
              0,
              "#0d0887"
             ],
             [
              0.1111111111111111,
              "#46039f"
             ],
             [
              0.2222222222222222,
              "#7201a8"
             ],
             [
              0.3333333333333333,
              "#9c179e"
             ],
             [
              0.4444444444444444,
              "#bd3786"
             ],
             [
              0.5555555555555556,
              "#d8576b"
             ],
             [
              0.6666666666666666,
              "#ed7953"
             ],
             [
              0.7777777777777778,
              "#fb9f3a"
             ],
             [
              0.8888888888888888,
              "#fdca26"
             ],
             [
              1,
              "#f0f921"
             ]
            ],
            "type": "heatmapgl"
           }
          ],
          "histogram": [
           {
            "marker": {
             "pattern": {
              "fillmode": "overlay",
              "size": 10,
              "solidity": 0.2
             }
            },
            "type": "histogram"
           }
          ],
          "histogram2d": [
           {
            "colorbar": {
             "outlinewidth": 0,
             "ticks": ""
            },
            "colorscale": [
             [
              0,
              "#0d0887"
             ],
             [
              0.1111111111111111,
              "#46039f"
             ],
             [
              0.2222222222222222,
              "#7201a8"
             ],
             [
              0.3333333333333333,
              "#9c179e"
             ],
             [
              0.4444444444444444,
              "#bd3786"
             ],
             [
              0.5555555555555556,
              "#d8576b"
             ],
             [
              0.6666666666666666,
              "#ed7953"
             ],
             [
              0.7777777777777778,
              "#fb9f3a"
             ],
             [
              0.8888888888888888,
              "#fdca26"
             ],
             [
              1,
              "#f0f921"
             ]
            ],
            "type": "histogram2d"
           }
          ],
          "histogram2dcontour": [
           {
            "colorbar": {
             "outlinewidth": 0,
             "ticks": ""
            },
            "colorscale": [
             [
              0,
              "#0d0887"
             ],
             [
              0.1111111111111111,
              "#46039f"
             ],
             [
              0.2222222222222222,
              "#7201a8"
             ],
             [
              0.3333333333333333,
              "#9c179e"
             ],
             [
              0.4444444444444444,
              "#bd3786"
             ],
             [
              0.5555555555555556,
              "#d8576b"
             ],
             [
              0.6666666666666666,
              "#ed7953"
             ],
             [
              0.7777777777777778,
              "#fb9f3a"
             ],
             [
              0.8888888888888888,
              "#fdca26"
             ],
             [
              1,
              "#f0f921"
             ]
            ],
            "type": "histogram2dcontour"
           }
          ],
          "mesh3d": [
           {
            "colorbar": {
             "outlinewidth": 0,
             "ticks": ""
            },
            "type": "mesh3d"
           }
          ],
          "parcoords": [
           {
            "line": {
             "colorbar": {
              "outlinewidth": 0,
              "ticks": ""
             }
            },
            "type": "parcoords"
           }
          ],
          "pie": [
           {
            "automargin": true,
            "type": "pie"
           }
          ],
          "scatter": [
           {
            "fillpattern": {
             "fillmode": "overlay",
             "size": 10,
             "solidity": 0.2
            },
            "type": "scatter"
           }
          ],
          "scatter3d": [
           {
            "line": {
             "colorbar": {
              "outlinewidth": 0,
              "ticks": ""
             }
            },
            "marker": {
             "colorbar": {
              "outlinewidth": 0,
              "ticks": ""
             }
            },
            "type": "scatter3d"
           }
          ],
          "scattercarpet": [
           {
            "marker": {
             "colorbar": {
              "outlinewidth": 0,
              "ticks": ""
             }
            },
            "type": "scattercarpet"
           }
          ],
          "scattergeo": [
           {
            "marker": {
             "colorbar": {
              "outlinewidth": 0,
              "ticks": ""
             }
            },
            "type": "scattergeo"
           }
          ],
          "scattergl": [
           {
            "marker": {
             "colorbar": {
              "outlinewidth": 0,
              "ticks": ""
             }
            },
            "type": "scattergl"
           }
          ],
          "scattermapbox": [
           {
            "marker": {
             "colorbar": {
              "outlinewidth": 0,
              "ticks": ""
             }
            },
            "type": "scattermapbox"
           }
          ],
          "scatterpolar": [
           {
            "marker": {
             "colorbar": {
              "outlinewidth": 0,
              "ticks": ""
             }
            },
            "type": "scatterpolar"
           }
          ],
          "scatterpolargl": [
           {
            "marker": {
             "colorbar": {
              "outlinewidth": 0,
              "ticks": ""
             }
            },
            "type": "scatterpolargl"
           }
          ],
          "scatterternary": [
           {
            "marker": {
             "colorbar": {
              "outlinewidth": 0,
              "ticks": ""
             }
            },
            "type": "scatterternary"
           }
          ],
          "surface": [
           {
            "colorbar": {
             "outlinewidth": 0,
             "ticks": ""
            },
            "colorscale": [
             [
              0,
              "#0d0887"
             ],
             [
              0.1111111111111111,
              "#46039f"
             ],
             [
              0.2222222222222222,
              "#7201a8"
             ],
             [
              0.3333333333333333,
              "#9c179e"
             ],
             [
              0.4444444444444444,
              "#bd3786"
             ],
             [
              0.5555555555555556,
              "#d8576b"
             ],
             [
              0.6666666666666666,
              "#ed7953"
             ],
             [
              0.7777777777777778,
              "#fb9f3a"
             ],
             [
              0.8888888888888888,
              "#fdca26"
             ],
             [
              1,
              "#f0f921"
             ]
            ],
            "type": "surface"
           }
          ],
          "table": [
           {
            "cells": {
             "fill": {
              "color": "#EBF0F8"
             },
             "line": {
              "color": "white"
             }
            },
            "header": {
             "fill": {
              "color": "#C8D4E3"
             },
             "line": {
              "color": "white"
             }
            },
            "type": "table"
           }
          ]
         },
         "layout": {
          "annotationdefaults": {
           "arrowcolor": "#2a3f5f",
           "arrowhead": 0,
           "arrowwidth": 1
          },
          "autotypenumbers": "strict",
          "coloraxis": {
           "colorbar": {
            "outlinewidth": 0,
            "ticks": ""
           }
          },
          "colorscale": {
           "diverging": [
            [
             0,
             "#8e0152"
            ],
            [
             0.1,
             "#c51b7d"
            ],
            [
             0.2,
             "#de77ae"
            ],
            [
             0.3,
             "#f1b6da"
            ],
            [
             0.4,
             "#fde0ef"
            ],
            [
             0.5,
             "#f7f7f7"
            ],
            [
             0.6,
             "#e6f5d0"
            ],
            [
             0.7,
             "#b8e186"
            ],
            [
             0.8,
             "#7fbc41"
            ],
            [
             0.9,
             "#4d9221"
            ],
            [
             1,
             "#276419"
            ]
           ],
           "sequential": [
            [
             0,
             "#0d0887"
            ],
            [
             0.1111111111111111,
             "#46039f"
            ],
            [
             0.2222222222222222,
             "#7201a8"
            ],
            [
             0.3333333333333333,
             "#9c179e"
            ],
            [
             0.4444444444444444,
             "#bd3786"
            ],
            [
             0.5555555555555556,
             "#d8576b"
            ],
            [
             0.6666666666666666,
             "#ed7953"
            ],
            [
             0.7777777777777778,
             "#fb9f3a"
            ],
            [
             0.8888888888888888,
             "#fdca26"
            ],
            [
             1,
             "#f0f921"
            ]
           ],
           "sequentialminus": [
            [
             0,
             "#0d0887"
            ],
            [
             0.1111111111111111,
             "#46039f"
            ],
            [
             0.2222222222222222,
             "#7201a8"
            ],
            [
             0.3333333333333333,
             "#9c179e"
            ],
            [
             0.4444444444444444,
             "#bd3786"
            ],
            [
             0.5555555555555556,
             "#d8576b"
            ],
            [
             0.6666666666666666,
             "#ed7953"
            ],
            [
             0.7777777777777778,
             "#fb9f3a"
            ],
            [
             0.8888888888888888,
             "#fdca26"
            ],
            [
             1,
             "#f0f921"
            ]
           ]
          },
          "colorway": [
           "#636efa",
           "#EF553B",
           "#00cc96",
           "#ab63fa",
           "#FFA15A",
           "#19d3f3",
           "#FF6692",
           "#B6E880",
           "#FF97FF",
           "#FECB52"
          ],
          "font": {
           "color": "#2a3f5f"
          },
          "geo": {
           "bgcolor": "white",
           "lakecolor": "white",
           "landcolor": "#E5ECF6",
           "showlakes": true,
           "showland": true,
           "subunitcolor": "white"
          },
          "hoverlabel": {
           "align": "left"
          },
          "hovermode": "closest",
          "mapbox": {
           "style": "light"
          },
          "paper_bgcolor": "white",
          "plot_bgcolor": "#E5ECF6",
          "polar": {
           "angularaxis": {
            "gridcolor": "white",
            "linecolor": "white",
            "ticks": ""
           },
           "bgcolor": "#E5ECF6",
           "radialaxis": {
            "gridcolor": "white",
            "linecolor": "white",
            "ticks": ""
           }
          },
          "scene": {
           "xaxis": {
            "backgroundcolor": "#E5ECF6",
            "gridcolor": "white",
            "gridwidth": 2,
            "linecolor": "white",
            "showbackground": true,
            "ticks": "",
            "zerolinecolor": "white"
           },
           "yaxis": {
            "backgroundcolor": "#E5ECF6",
            "gridcolor": "white",
            "gridwidth": 2,
            "linecolor": "white",
            "showbackground": true,
            "ticks": "",
            "zerolinecolor": "white"
           },
           "zaxis": {
            "backgroundcolor": "#E5ECF6",
            "gridcolor": "white",
            "gridwidth": 2,
            "linecolor": "white",
            "showbackground": true,
            "ticks": "",
            "zerolinecolor": "white"
           }
          },
          "shapedefaults": {
           "line": {
            "color": "#2a3f5f"
           }
          },
          "ternary": {
           "aaxis": {
            "gridcolor": "white",
            "linecolor": "white",
            "ticks": ""
           },
           "baxis": {
            "gridcolor": "white",
            "linecolor": "white",
            "ticks": ""
           },
           "bgcolor": "#E5ECF6",
           "caxis": {
            "gridcolor": "white",
            "linecolor": "white",
            "ticks": ""
           }
          },
          "title": {
           "x": 0.05
          },
          "xaxis": {
           "automargin": true,
           "gridcolor": "white",
           "linecolor": "white",
           "ticks": "",
           "title": {
            "standoff": 15
           },
           "zerolinecolor": "white",
           "zerolinewidth": 2
          },
          "yaxis": {
           "automargin": true,
           "gridcolor": "white",
           "linecolor": "white",
           "ticks": "",
           "title": {
            "standoff": 15
           },
           "zerolinecolor": "white",
           "zerolinewidth": 2
          }
         }
        },
        "title": {
         "text": "Trials Completed by Session Number<br><b>Mouse 1005</b>"
        },
        "xaxis": {
         "title": {
          "text": "Session Number<br><b>Mouse 1005</b>"
         }
        },
        "yaxis": {
         "title": {
          "text": "Trials Completed"
         }
        }
       }
      }
     },
     "metadata": {},
     "output_type": "display_data"
    }
   ],
   "source": [
    "# Make a subset of the summary dataframe for a specific mouse\n",
    "for mouse_id in set(mice):\n",
    "    #mouse_id = '1003'\n",
    "    mouse_df = clickbait.summary_df[clickbait.summary_df['mouse_id'] == mouse_id]\n",
    "    #mouse_df = mouse_df[mouse_df['session_id'].str.contains('diet')]   \n",
    "\n",
    "    linear_regression_plot(mouse_df, dv='trials_completed', iv='session_number', dv_name='Trials Completed', iv_name=f\"Session Number<br><b>Mouse {mouse_id}</b>\", error_type='SEM')"
   ]
  },
  {
   "cell_type": "markdown",
   "metadata": {},
   "source": [
    "### Visualize distance traveled for individual mice."
   ]
  },
  {
   "cell_type": "code",
   "execution_count": 12,
   "metadata": {},
   "outputs": [
    {
     "data": {
      "application/vnd.plotly.v1+json": {
       "config": {
        "plotlyServerURL": "https://plot.ly"
       },
       "data": [
        {
         "marker": {
          "color": [
           0,
           0,
           0,
           0,
           0,
           0,
           0,
           0,
           0,
           0,
           0,
           0
          ],
          "colorscale": [
           [
            0,
            "rgb(103,0,31)"
           ],
           [
            0.1,
            "rgb(178,24,43)"
           ],
           [
            0.2,
            "rgb(214,96,77)"
           ],
           [
            0.3,
            "rgb(244,165,130)"
           ],
           [
            0.4,
            "rgb(253,219,199)"
           ],
           [
            0.5,
            "rgb(247,247,247)"
           ],
           [
            0.6,
            "rgb(209,229,240)"
           ],
           [
            0.7,
            "rgb(146,197,222)"
           ],
           [
            0.8,
            "rgb(67,147,195)"
           ],
           [
            0.9,
            "rgb(33,102,172)"
           ],
           [
            1,
            "rgb(5,48,97)"
           ]
          ]
         },
         "mode": "markers",
         "name": "Distance Traveled",
         "showlegend": true,
         "type": "scatter",
         "x": [
          1,
          2,
          3,
          4,
          5,
          6,
          7,
          8,
          9,
          10,
          11,
          12
         ],
         "y": [
          680954.2216215223,
          595677.9086749172,
          652158.3326155453,
          631073.4833229401,
          715977.6342140008,
          872220.6645878716,
          715674.1487074024,
          832002.725634085,
          778608.8816527801,
          801789.4605783193,
          691164.6514126755,
          823474.0321009015
         ]
        },
        {
         "line": {
          "color": "red"
         },
         "mode": "lines",
         "name": "Fitted Line",
         "type": "scatter",
         "x": [
          1,
          1.1111111111111112,
          1.2222222222222223,
          1.3333333333333333,
          1.4444444444444444,
          1.5555555555555556,
          1.6666666666666665,
          1.7777777777777777,
          1.8888888888888888,
          2,
          2.111111111111111,
          2.2222222222222223,
          2.333333333333333,
          2.4444444444444446,
          2.5555555555555554,
          2.6666666666666665,
          2.7777777777777777,
          2.888888888888889,
          3,
          3.111111111111111,
          3.2222222222222223,
          3.333333333333333,
          3.444444444444444,
          3.5555555555555554,
          3.6666666666666665,
          3.7777777777777777,
          3.888888888888889,
          4,
          4.111111111111111,
          4.222222222222221,
          4.333333333333333,
          4.444444444444445,
          4.555555555555555,
          4.666666666666666,
          4.777777777777778,
          4.888888888888889,
          5,
          5.111111111111111,
          5.222222222222222,
          5.333333333333333,
          5.444444444444445,
          5.555555555555555,
          5.666666666666666,
          5.777777777777778,
          5.888888888888888,
          6,
          6.111111111111111,
          6.222222222222222,
          6.333333333333333,
          6.444444444444444,
          6.555555555555555,
          6.666666666666666,
          6.777777777777778,
          6.888888888888888,
          7,
          7.111111111111111,
          7.222222222222221,
          7.333333333333333,
          7.444444444444444,
          7.555555555555555,
          7.666666666666666,
          7.777777777777778,
          7.888888888888888,
          8,
          8.11111111111111,
          8.222222222222221,
          8.333333333333332,
          8.444444444444443,
          8.555555555555555,
          8.666666666666666,
          8.777777777777779,
          8.88888888888889,
          9,
          9.11111111111111,
          9.222222222222221,
          9.333333333333332,
          9.444444444444445,
          9.555555555555555,
          9.666666666666666,
          9.777777777777777,
          9.88888888888889,
          10,
          10.11111111111111,
          10.222222222222221,
          10.333333333333332,
          10.444444444444445,
          10.555555555555555,
          10.666666666666666,
          10.777777777777777,
          10.888888888888888,
          11,
          11.11111111111111,
          11.222222222222221,
          11.333333333333332,
          11.444444444444445,
          11.555555555555555,
          11.666666666666666,
          11.777777777777777,
          11.888888888888888,
          12
         ],
         "y": [
          647877.7124971427,
          649588.5603004377,
          651299.4081037327,
          653010.2559070277,
          654721.1037103229,
          656431.9515136179,
          658142.7993169129,
          659853.6471202079,
          661564.4949235029,
          663275.3427267979,
          664986.1905300929,
          666697.0383333879,
          668407.8861366829,
          670118.7339399781,
          671829.5817432731,
          673540.4295465681,
          675251.2773498631,
          676962.1251531581,
          678672.9729564531,
          680383.8207597481,
          682094.6685630431,
          683805.5163663381,
          685516.3641696332,
          687227.2119729283,
          688938.0597762233,
          690648.9075795183,
          692359.7553828133,
          694070.6031861083,
          695781.4509894033,
          697492.2987926983,
          699203.1465959933,
          700913.9943992884,
          702624.8422025834,
          704335.6900058785,
          706046.5378091735,
          707757.3856124685,
          709468.2334157635,
          711179.0812190585,
          712889.9290223535,
          714600.7768256485,
          716311.6246289436,
          718022.4724322386,
          719733.3202355336,
          721444.1680388286,
          723155.0158421237,
          724865.8636454187,
          726576.7114487137,
          728287.5592520087,
          729998.4070553037,
          731709.2548585988,
          733420.1026618938,
          735130.9504651888,
          736841.7982684838,
          738552.6460717788,
          740263.4938750739,
          741974.3416783689,
          743685.1894816639,
          745396.0372849589,
          747106.885088254,
          748817.732891549,
          750528.580694844,
          752239.428498139,
          753950.276301434,
          755661.124104729,
          757371.971908024,
          759082.819711319,
          760793.6675146141,
          762504.5153179092,
          764215.3631212042,
          765926.2109244992,
          767637.0587277942,
          769347.9065310892,
          771058.7543343842,
          772769.6021376792,
          774480.4499409744,
          776191.2977442692,
          777902.1455475644,
          779612.9933508594,
          781323.8411541544,
          783034.6889574494,
          784745.5367607444,
          786456.3845640394,
          788167.2323673344,
          789878.0801706295,
          791588.9279739244,
          793299.7757772196,
          795010.6235805146,
          796721.4713838096,
          798432.3191871046,
          800143.1669903996,
          801854.0147936946,
          803564.8625969896,
          805275.7104002847,
          806986.5582035796,
          808697.4060068747,
          810408.2538101698,
          812119.1016134648,
          813829.9494167598,
          815540.7972200548,
          817251.6450233499
         ]
        },
        {
         "line": {
          "width": 0
         },
         "mode": "lines",
         "showlegend": false,
         "type": "scatter",
         "x": [
          1,
          1.1111111111111112,
          1.2222222222222223,
          1.3333333333333333,
          1.4444444444444444,
          1.5555555555555556,
          1.6666666666666665,
          1.7777777777777777,
          1.8888888888888888,
          2,
          2.111111111111111,
          2.2222222222222223,
          2.333333333333333,
          2.4444444444444446,
          2.5555555555555554,
          2.6666666666666665,
          2.7777777777777777,
          2.888888888888889,
          3,
          3.111111111111111,
          3.2222222222222223,
          3.333333333333333,
          3.444444444444444,
          3.5555555555555554,
          3.6666666666666665,
          3.7777777777777777,
          3.888888888888889,
          4,
          4.111111111111111,
          4.222222222222221,
          4.333333333333333,
          4.444444444444445,
          4.555555555555555,
          4.666666666666666,
          4.777777777777778,
          4.888888888888889,
          5,
          5.111111111111111,
          5.222222222222222,
          5.333333333333333,
          5.444444444444445,
          5.555555555555555,
          5.666666666666666,
          5.777777777777778,
          5.888888888888888,
          6,
          6.111111111111111,
          6.222222222222222,
          6.333333333333333,
          6.444444444444444,
          6.555555555555555,
          6.666666666666666,
          6.777777777777778,
          6.888888888888888,
          7,
          7.111111111111111,
          7.222222222222221,
          7.333333333333333,
          7.444444444444444,
          7.555555555555555,
          7.666666666666666,
          7.777777777777778,
          7.888888888888888,
          8,
          8.11111111111111,
          8.222222222222221,
          8.333333333333332,
          8.444444444444443,
          8.555555555555555,
          8.666666666666666,
          8.777777777777779,
          8.88888888888889,
          9,
          9.11111111111111,
          9.222222222222221,
          9.333333333333332,
          9.444444444444445,
          9.555555555555555,
          9.666666666666666,
          9.777777777777777,
          9.88888888888889,
          10,
          10.11111111111111,
          10.222222222222221,
          10.333333333333332,
          10.444444444444445,
          10.555555555555555,
          10.666666666666666,
          10.777777777777777,
          10.888888888888888,
          11,
          11.11111111111111,
          11.222222222222221,
          11.333333333333332,
          11.444444444444445,
          11.555555555555555,
          11.666666666666666,
          11.777777777777777,
          11.888888888888888,
          12
         ],
         "y": [
          686697.6667759272,
          687847.5361693379,
          689000.7616603809,
          690157.4943858945,
          691317.893656223,
          692482.1274246864,
          693650.3727799047,
          694822.8164608807,
          695999.6553944469,
          697181.0972542935,
          698367.3610403377,
          699558.6776766314,
          700755.2906253415,
          701957.456513544,
          703165.4457686389,
          704379.5432571152,
          705600.0489201263,
          706827.278397903,
          708061.5636333858,
          709303.2534436133,
          710552.71404535,
          711810.3295191802,
          713076.5021938572,
          714351.6529300994,
          715636.2212803414,
          716930.6654982155,
          718235.4623689065,
          719551.1068290785,
          720878.1113430202,
          722217.0050001806,
          723568.3322986292,
          724932.6515794407,
          726310.5330788813,
          727702.5565688885,
          729109.3085619607,
          730531.3790645145,
          731969.3578731805,
          733423.8304214799,
          734895.3731997656,
          736384.5487889219,
          737891.9005675572,
          739417.9471725111,
          740963.1768123616,
          742528.0415520106,
          744112.9517019154,
          745718.270456685,
          747344.3089332103,
          748991.3217571601,
          750659.5033378701,
          752348.9849552198,
          754059.8327585148,
          755792.0467477553,
          757545.5607736353,
          759320.2435562755,
          761115.9006863402,
          762932.2775381606,
          764769.0629948458,
          766625.8938617868,
          768502.3598285265,
          770398.0088301626,
          772312.3526581174,
          774244.8726755511,
          776195.0255038554,
          778162.2485621461,
          780145.9653600701,
          782145.5904641063,
          784160.5340776241,
          786190.2061942071,
          788234.0203013564,
          790291.3966271351,
          792361.7649352765,
          794444.5668847061,
          796539.2579773545,
          798645.3091237724,
          800762.2078596716,
          802889.4592483874,
          805026.5865047355,
          807173.1313750832,
          809328.6543069965,
          811492.7344397563,
          813664.9694446096,
          815844.9752409721,
          818032.3856120793,
          820226.8517408927,
          822428.0416844715,
          824635.6398025854,
          826849.3461540805,
          829068.8758724681,
          831293.958530348,
          833524.3375006444,
          835759.7693211902,
          838000.0230679336,
          840244.8797409575,
          842494.1316665715,
          844747.5819179433,
          847005.0437560698,
          849266.3400923315,
          851531.3029734079,
          853799.773088955,
          856071.5993021344
         ]
        },
        {
         "fill": "tonexty",
         "fillcolor": "rgba(255,0,0,0.2)",
         "line": {
          "width": 0
         },
         "mode": "lines",
         "name": "SEM",
         "type": "scatter",
         "x": [
          1,
          1.1111111111111112,
          1.2222222222222223,
          1.3333333333333333,
          1.4444444444444444,
          1.5555555555555556,
          1.6666666666666665,
          1.7777777777777777,
          1.8888888888888888,
          2,
          2.111111111111111,
          2.2222222222222223,
          2.333333333333333,
          2.4444444444444446,
          2.5555555555555554,
          2.6666666666666665,
          2.7777777777777777,
          2.888888888888889,
          3,
          3.111111111111111,
          3.2222222222222223,
          3.333333333333333,
          3.444444444444444,
          3.5555555555555554,
          3.6666666666666665,
          3.7777777777777777,
          3.888888888888889,
          4,
          4.111111111111111,
          4.222222222222221,
          4.333333333333333,
          4.444444444444445,
          4.555555555555555,
          4.666666666666666,
          4.777777777777778,
          4.888888888888889,
          5,
          5.111111111111111,
          5.222222222222222,
          5.333333333333333,
          5.444444444444445,
          5.555555555555555,
          5.666666666666666,
          5.777777777777778,
          5.888888888888888,
          6,
          6.111111111111111,
          6.222222222222222,
          6.333333333333333,
          6.444444444444444,
          6.555555555555555,
          6.666666666666666,
          6.777777777777778,
          6.888888888888888,
          7,
          7.111111111111111,
          7.222222222222221,
          7.333333333333333,
          7.444444444444444,
          7.555555555555555,
          7.666666666666666,
          7.777777777777778,
          7.888888888888888,
          8,
          8.11111111111111,
          8.222222222222221,
          8.333333333333332,
          8.444444444444443,
          8.555555555555555,
          8.666666666666666,
          8.777777777777779,
          8.88888888888889,
          9,
          9.11111111111111,
          9.222222222222221,
          9.333333333333332,
          9.444444444444445,
          9.555555555555555,
          9.666666666666666,
          9.777777777777777,
          9.88888888888889,
          10,
          10.11111111111111,
          10.222222222222221,
          10.333333333333332,
          10.444444444444445,
          10.555555555555555,
          10.666666666666666,
          10.777777777777777,
          10.888888888888888,
          11,
          11.11111111111111,
          11.222222222222221,
          11.333333333333332,
          11.444444444444445,
          11.555555555555555,
          11.666666666666666,
          11.777777777777777,
          11.888888888888888,
          12
         ],
         "y": [
          609057.7582183583,
          611329.5844315375,
          613598.0545470846,
          615863.017428161,
          618124.3137644228,
          620381.7756025493,
          622635.225853921,
          624884.4777795351,
          627129.3344525589,
          629369.5881993023,
          631605.0200198481,
          633835.3989901445,
          636060.4816480244,
          638280.0113664122,
          640493.7177179073,
          642701.315836021,
          644902.5057795999,
          647096.9719084132,
          649284.3822795204,
          651464.3880758829,
          653636.6230807363,
          655800.703213496,
          657956.2261454093,
          660102.7710157571,
          662239.8982721051,
          664367.1496608211,
          666484.0483967201,
          668590.099543138,
          670684.7906357864,
          672767.592585216,
          674837.9608933574,
          676895.3372191362,
          678939.1513262856,
          680968.8234428684,
          682983.7670563862,
          684983.3921604224,
          686967.1089583464,
          688934.3320166371,
          690884.4848449414,
          692817.0048623751,
          694731.34869033,
          696626.9976919661,
          698503.4636587057,
          700360.2945256467,
          702197.079982332,
          704013.4568341523,
          705809.113964217,
          707583.7967468572,
          709337.3107727373,
          711069.5247619778,
          712780.3725652728,
          714469.8541826224,
          716138.0357633324,
          717785.0485872822,
          719411.0870638075,
          721016.4058185772,
          722601.3159684819,
          724166.1807081309,
          725711.4103479815,
          727237.4569529354,
          728744.8087315706,
          730233.984320727,
          731705.5270990126,
          733159.999647312,
          734597.978455978,
          736020.0489585318,
          737426.800951604,
          738818.8244416113,
          740196.705941052,
          741561.0252218633,
          742912.352520312,
          744251.2461774723,
          745578.250691414,
          746893.895151586,
          748198.6920222772,
          749493.1362401511,
          750777.7045903932,
          752052.8553266355,
          753319.0280013123,
          754576.6434751425,
          755826.1040768792,
          757067.7938871067,
          758302.0791225896,
          759529.3086003663,
          760749.8142633773,
          761963.9117518538,
          763171.9010069487,
          764374.066895151,
          765570.6798438611,
          766761.9964801548,
          767948.260266199,
          769129.7021260456,
          770306.541059612,
          771478.9847405878,
          772647.2300958062,
          773811.4638642697,
          774971.863134598,
          776128.5958601116,
          777281.8213511546,
          778431.6907445655
         ]
        }
       ],
       "layout": {
        "hovermode": "x unified",
        "template": {
         "data": {
          "bar": [
           {
            "error_x": {
             "color": "#2a3f5f"
            },
            "error_y": {
             "color": "#2a3f5f"
            },
            "marker": {
             "line": {
              "color": "#E5ECF6",
              "width": 0.5
             },
             "pattern": {
              "fillmode": "overlay",
              "size": 10,
              "solidity": 0.2
             }
            },
            "type": "bar"
           }
          ],
          "barpolar": [
           {
            "marker": {
             "line": {
              "color": "#E5ECF6",
              "width": 0.5
             },
             "pattern": {
              "fillmode": "overlay",
              "size": 10,
              "solidity": 0.2
             }
            },
            "type": "barpolar"
           }
          ],
          "carpet": [
           {
            "aaxis": {
             "endlinecolor": "#2a3f5f",
             "gridcolor": "white",
             "linecolor": "white",
             "minorgridcolor": "white",
             "startlinecolor": "#2a3f5f"
            },
            "baxis": {
             "endlinecolor": "#2a3f5f",
             "gridcolor": "white",
             "linecolor": "white",
             "minorgridcolor": "white",
             "startlinecolor": "#2a3f5f"
            },
            "type": "carpet"
           }
          ],
          "choropleth": [
           {
            "colorbar": {
             "outlinewidth": 0,
             "ticks": ""
            },
            "type": "choropleth"
           }
          ],
          "contour": [
           {
            "colorbar": {
             "outlinewidth": 0,
             "ticks": ""
            },
            "colorscale": [
             [
              0,
              "#0d0887"
             ],
             [
              0.1111111111111111,
              "#46039f"
             ],
             [
              0.2222222222222222,
              "#7201a8"
             ],
             [
              0.3333333333333333,
              "#9c179e"
             ],
             [
              0.4444444444444444,
              "#bd3786"
             ],
             [
              0.5555555555555556,
              "#d8576b"
             ],
             [
              0.6666666666666666,
              "#ed7953"
             ],
             [
              0.7777777777777778,
              "#fb9f3a"
             ],
             [
              0.8888888888888888,
              "#fdca26"
             ],
             [
              1,
              "#f0f921"
             ]
            ],
            "type": "contour"
           }
          ],
          "contourcarpet": [
           {
            "colorbar": {
             "outlinewidth": 0,
             "ticks": ""
            },
            "type": "contourcarpet"
           }
          ],
          "heatmap": [
           {
            "colorbar": {
             "outlinewidth": 0,
             "ticks": ""
            },
            "colorscale": [
             [
              0,
              "#0d0887"
             ],
             [
              0.1111111111111111,
              "#46039f"
             ],
             [
              0.2222222222222222,
              "#7201a8"
             ],
             [
              0.3333333333333333,
              "#9c179e"
             ],
             [
              0.4444444444444444,
              "#bd3786"
             ],
             [
              0.5555555555555556,
              "#d8576b"
             ],
             [
              0.6666666666666666,
              "#ed7953"
             ],
             [
              0.7777777777777778,
              "#fb9f3a"
             ],
             [
              0.8888888888888888,
              "#fdca26"
             ],
             [
              1,
              "#f0f921"
             ]
            ],
            "type": "heatmap"
           }
          ],
          "heatmapgl": [
           {
            "colorbar": {
             "outlinewidth": 0,
             "ticks": ""
            },
            "colorscale": [
             [
              0,
              "#0d0887"
             ],
             [
              0.1111111111111111,
              "#46039f"
             ],
             [
              0.2222222222222222,
              "#7201a8"
             ],
             [
              0.3333333333333333,
              "#9c179e"
             ],
             [
              0.4444444444444444,
              "#bd3786"
             ],
             [
              0.5555555555555556,
              "#d8576b"
             ],
             [
              0.6666666666666666,
              "#ed7953"
             ],
             [
              0.7777777777777778,
              "#fb9f3a"
             ],
             [
              0.8888888888888888,
              "#fdca26"
             ],
             [
              1,
              "#f0f921"
             ]
            ],
            "type": "heatmapgl"
           }
          ],
          "histogram": [
           {
            "marker": {
             "pattern": {
              "fillmode": "overlay",
              "size": 10,
              "solidity": 0.2
             }
            },
            "type": "histogram"
           }
          ],
          "histogram2d": [
           {
            "colorbar": {
             "outlinewidth": 0,
             "ticks": ""
            },
            "colorscale": [
             [
              0,
              "#0d0887"
             ],
             [
              0.1111111111111111,
              "#46039f"
             ],
             [
              0.2222222222222222,
              "#7201a8"
             ],
             [
              0.3333333333333333,
              "#9c179e"
             ],
             [
              0.4444444444444444,
              "#bd3786"
             ],
             [
              0.5555555555555556,
              "#d8576b"
             ],
             [
              0.6666666666666666,
              "#ed7953"
             ],
             [
              0.7777777777777778,
              "#fb9f3a"
             ],
             [
              0.8888888888888888,
              "#fdca26"
             ],
             [
              1,
              "#f0f921"
             ]
            ],
            "type": "histogram2d"
           }
          ],
          "histogram2dcontour": [
           {
            "colorbar": {
             "outlinewidth": 0,
             "ticks": ""
            },
            "colorscale": [
             [
              0,
              "#0d0887"
             ],
             [
              0.1111111111111111,
              "#46039f"
             ],
             [
              0.2222222222222222,
              "#7201a8"
             ],
             [
              0.3333333333333333,
              "#9c179e"
             ],
             [
              0.4444444444444444,
              "#bd3786"
             ],
             [
              0.5555555555555556,
              "#d8576b"
             ],
             [
              0.6666666666666666,
              "#ed7953"
             ],
             [
              0.7777777777777778,
              "#fb9f3a"
             ],
             [
              0.8888888888888888,
              "#fdca26"
             ],
             [
              1,
              "#f0f921"
             ]
            ],
            "type": "histogram2dcontour"
           }
          ],
          "mesh3d": [
           {
            "colorbar": {
             "outlinewidth": 0,
             "ticks": ""
            },
            "type": "mesh3d"
           }
          ],
          "parcoords": [
           {
            "line": {
             "colorbar": {
              "outlinewidth": 0,
              "ticks": ""
             }
            },
            "type": "parcoords"
           }
          ],
          "pie": [
           {
            "automargin": true,
            "type": "pie"
           }
          ],
          "scatter": [
           {
            "fillpattern": {
             "fillmode": "overlay",
             "size": 10,
             "solidity": 0.2
            },
            "type": "scatter"
           }
          ],
          "scatter3d": [
           {
            "line": {
             "colorbar": {
              "outlinewidth": 0,
              "ticks": ""
             }
            },
            "marker": {
             "colorbar": {
              "outlinewidth": 0,
              "ticks": ""
             }
            },
            "type": "scatter3d"
           }
          ],
          "scattercarpet": [
           {
            "marker": {
             "colorbar": {
              "outlinewidth": 0,
              "ticks": ""
             }
            },
            "type": "scattercarpet"
           }
          ],
          "scattergeo": [
           {
            "marker": {
             "colorbar": {
              "outlinewidth": 0,
              "ticks": ""
             }
            },
            "type": "scattergeo"
           }
          ],
          "scattergl": [
           {
            "marker": {
             "colorbar": {
              "outlinewidth": 0,
              "ticks": ""
             }
            },
            "type": "scattergl"
           }
          ],
          "scattermapbox": [
           {
            "marker": {
             "colorbar": {
              "outlinewidth": 0,
              "ticks": ""
             }
            },
            "type": "scattermapbox"
           }
          ],
          "scatterpolar": [
           {
            "marker": {
             "colorbar": {
              "outlinewidth": 0,
              "ticks": ""
             }
            },
            "type": "scatterpolar"
           }
          ],
          "scatterpolargl": [
           {
            "marker": {
             "colorbar": {
              "outlinewidth": 0,
              "ticks": ""
             }
            },
            "type": "scatterpolargl"
           }
          ],
          "scatterternary": [
           {
            "marker": {
             "colorbar": {
              "outlinewidth": 0,
              "ticks": ""
             }
            },
            "type": "scatterternary"
           }
          ],
          "surface": [
           {
            "colorbar": {
             "outlinewidth": 0,
             "ticks": ""
            },
            "colorscale": [
             [
              0,
              "#0d0887"
             ],
             [
              0.1111111111111111,
              "#46039f"
             ],
             [
              0.2222222222222222,
              "#7201a8"
             ],
             [
              0.3333333333333333,
              "#9c179e"
             ],
             [
              0.4444444444444444,
              "#bd3786"
             ],
             [
              0.5555555555555556,
              "#d8576b"
             ],
             [
              0.6666666666666666,
              "#ed7953"
             ],
             [
              0.7777777777777778,
              "#fb9f3a"
             ],
             [
              0.8888888888888888,
              "#fdca26"
             ],
             [
              1,
              "#f0f921"
             ]
            ],
            "type": "surface"
           }
          ],
          "table": [
           {
            "cells": {
             "fill": {
              "color": "#EBF0F8"
             },
             "line": {
              "color": "white"
             }
            },
            "header": {
             "fill": {
              "color": "#C8D4E3"
             },
             "line": {
              "color": "white"
             }
            },
            "type": "table"
           }
          ]
         },
         "layout": {
          "annotationdefaults": {
           "arrowcolor": "#2a3f5f",
           "arrowhead": 0,
           "arrowwidth": 1
          },
          "autotypenumbers": "strict",
          "coloraxis": {
           "colorbar": {
            "outlinewidth": 0,
            "ticks": ""
           }
          },
          "colorscale": {
           "diverging": [
            [
             0,
             "#8e0152"
            ],
            [
             0.1,
             "#c51b7d"
            ],
            [
             0.2,
             "#de77ae"
            ],
            [
             0.3,
             "#f1b6da"
            ],
            [
             0.4,
             "#fde0ef"
            ],
            [
             0.5,
             "#f7f7f7"
            ],
            [
             0.6,
             "#e6f5d0"
            ],
            [
             0.7,
             "#b8e186"
            ],
            [
             0.8,
             "#7fbc41"
            ],
            [
             0.9,
             "#4d9221"
            ],
            [
             1,
             "#276419"
            ]
           ],
           "sequential": [
            [
             0,
             "#0d0887"
            ],
            [
             0.1111111111111111,
             "#46039f"
            ],
            [
             0.2222222222222222,
             "#7201a8"
            ],
            [
             0.3333333333333333,
             "#9c179e"
            ],
            [
             0.4444444444444444,
             "#bd3786"
            ],
            [
             0.5555555555555556,
             "#d8576b"
            ],
            [
             0.6666666666666666,
             "#ed7953"
            ],
            [
             0.7777777777777778,
             "#fb9f3a"
            ],
            [
             0.8888888888888888,
             "#fdca26"
            ],
            [
             1,
             "#f0f921"
            ]
           ],
           "sequentialminus": [
            [
             0,
             "#0d0887"
            ],
            [
             0.1111111111111111,
             "#46039f"
            ],
            [
             0.2222222222222222,
             "#7201a8"
            ],
            [
             0.3333333333333333,
             "#9c179e"
            ],
            [
             0.4444444444444444,
             "#bd3786"
            ],
            [
             0.5555555555555556,
             "#d8576b"
            ],
            [
             0.6666666666666666,
             "#ed7953"
            ],
            [
             0.7777777777777778,
             "#fb9f3a"
            ],
            [
             0.8888888888888888,
             "#fdca26"
            ],
            [
             1,
             "#f0f921"
            ]
           ]
          },
          "colorway": [
           "#636efa",
           "#EF553B",
           "#00cc96",
           "#ab63fa",
           "#FFA15A",
           "#19d3f3",
           "#FF6692",
           "#B6E880",
           "#FF97FF",
           "#FECB52"
          ],
          "font": {
           "color": "#2a3f5f"
          },
          "geo": {
           "bgcolor": "white",
           "lakecolor": "white",
           "landcolor": "#E5ECF6",
           "showlakes": true,
           "showland": true,
           "subunitcolor": "white"
          },
          "hoverlabel": {
           "align": "left"
          },
          "hovermode": "closest",
          "mapbox": {
           "style": "light"
          },
          "paper_bgcolor": "white",
          "plot_bgcolor": "#E5ECF6",
          "polar": {
           "angularaxis": {
            "gridcolor": "white",
            "linecolor": "white",
            "ticks": ""
           },
           "bgcolor": "#E5ECF6",
           "radialaxis": {
            "gridcolor": "white",
            "linecolor": "white",
            "ticks": ""
           }
          },
          "scene": {
           "xaxis": {
            "backgroundcolor": "#E5ECF6",
            "gridcolor": "white",
            "gridwidth": 2,
            "linecolor": "white",
            "showbackground": true,
            "ticks": "",
            "zerolinecolor": "white"
           },
           "yaxis": {
            "backgroundcolor": "#E5ECF6",
            "gridcolor": "white",
            "gridwidth": 2,
            "linecolor": "white",
            "showbackground": true,
            "ticks": "",
            "zerolinecolor": "white"
           },
           "zaxis": {
            "backgroundcolor": "#E5ECF6",
            "gridcolor": "white",
            "gridwidth": 2,
            "linecolor": "white",
            "showbackground": true,
            "ticks": "",
            "zerolinecolor": "white"
           }
          },
          "shapedefaults": {
           "line": {
            "color": "#2a3f5f"
           }
          },
          "ternary": {
           "aaxis": {
            "gridcolor": "white",
            "linecolor": "white",
            "ticks": ""
           },
           "baxis": {
            "gridcolor": "white",
            "linecolor": "white",
            "ticks": ""
           },
           "bgcolor": "#E5ECF6",
           "caxis": {
            "gridcolor": "white",
            "linecolor": "white",
            "ticks": ""
           }
          },
          "title": {
           "x": 0.05
          },
          "xaxis": {
           "automargin": true,
           "gridcolor": "white",
           "linecolor": "white",
           "ticks": "",
           "title": {
            "standoff": 15
           },
           "zerolinecolor": "white",
           "zerolinewidth": 2
          },
          "yaxis": {
           "automargin": true,
           "gridcolor": "white",
           "linecolor": "white",
           "ticks": "",
           "title": {
            "standoff": 15
           },
           "zerolinecolor": "white",
           "zerolinewidth": 2
          }
         }
        },
        "title": {
         "text": "Distance Traveled by Session Number"
        },
        "xaxis": {
         "title": {
          "text": "Session Number"
         }
        },
        "yaxis": {
         "title": {
          "text": "Distance Traveled"
         }
        }
       }
      }
     },
     "metadata": {},
     "output_type": "display_data"
    },
    {
     "data": {
      "application/vnd.plotly.v1+json": {
       "config": {
        "plotlyServerURL": "https://plot.ly"
       },
       "data": [
        {
         "marker": {
          "color": [
           0,
           0,
           0,
           0,
           0,
           0,
           0,
           0,
           0,
           0,
           0,
           0,
           0
          ],
          "colorscale": [
           [
            0,
            "rgb(103,0,31)"
           ],
           [
            0.1,
            "rgb(178,24,43)"
           ],
           [
            0.2,
            "rgb(214,96,77)"
           ],
           [
            0.3,
            "rgb(244,165,130)"
           ],
           [
            0.4,
            "rgb(253,219,199)"
           ],
           [
            0.5,
            "rgb(247,247,247)"
           ],
           [
            0.6,
            "rgb(209,229,240)"
           ],
           [
            0.7,
            "rgb(146,197,222)"
           ],
           [
            0.8,
            "rgb(67,147,195)"
           ],
           [
            0.9,
            "rgb(33,102,172)"
           ],
           [
            1,
            "rgb(5,48,97)"
           ]
          ]
         },
         "mode": "markers",
         "name": "Distance Traveled",
         "showlegend": true,
         "type": "scatter",
         "x": [
          1,
          2,
          3,
          4,
          5,
          6,
          7,
          8,
          9,
          10,
          11,
          12,
          13
         ],
         "y": [
          691530.8804675475,
          559843.4326249228,
          587447.7439522601,
          585847.602871784,
          627016.8828239847,
          895881.532906181,
          697874.6297225738,
          773385.6405915248,
          769232.8606894696,
          708288.5439771388,
          760471.1504306121,
          658813.7159378035,
          728326.1467609477
         ]
        },
        {
         "line": {
          "color": "red"
         },
         "mode": "lines",
         "name": "Fitted Line",
         "type": "scatter",
         "x": [
          1,
          1.121212121212121,
          1.2424242424242424,
          1.3636363636363638,
          1.4848484848484849,
          1.606060606060606,
          1.7272727272727273,
          1.8484848484848486,
          1.9696969696969697,
          2.090909090909091,
          2.212121212121212,
          2.3333333333333335,
          2.4545454545454546,
          2.5757575757575757,
          2.6969696969696972,
          2.8181818181818183,
          2.9393939393939394,
          3.0606060606060606,
          3.1818181818181817,
          3.303030303030303,
          3.4242424242424243,
          3.5454545454545454,
          3.666666666666667,
          3.787878787878788,
          3.909090909090909,
          4.03030303030303,
          4.151515151515151,
          4.272727272727273,
          4.3939393939393945,
          4.515151515151516,
          4.636363636363637,
          4.757575757575758,
          4.878787878787879,
          5,
          5.121212121212121,
          5.242424242424242,
          5.363636363636363,
          5.484848484848485,
          5.606060606060606,
          5.7272727272727275,
          5.848484848484849,
          5.96969696969697,
          6.090909090909091,
          6.212121212121212,
          6.333333333333334,
          6.454545454545455,
          6.575757575757576,
          6.696969696969697,
          6.818181818181818,
          6.9393939393939394,
          7.0606060606060606,
          7.181818181818182,
          7.303030303030303,
          7.424242424242425,
          7.545454545454546,
          7.666666666666667,
          7.787878787878788,
          7.909090909090909,
          8.030303030303031,
          8.151515151515152,
          8.272727272727273,
          8.393939393939394,
          8.515151515151516,
          8.636363636363637,
          8.757575757575758,
          8.878787878787879,
          9,
          9.121212121212121,
          9.242424242424242,
          9.363636363636363,
          9.484848484848484,
          9.606060606060606,
          9.727272727272727,
          9.84848484848485,
          9.96969696969697,
          10.090909090909092,
          10.212121212121213,
          10.333333333333334,
          10.454545454545455,
          10.575757575757576,
          10.696969696969697,
          10.818181818181818,
          10.93939393939394,
          11.06060606060606,
          11.181818181818182,
          11.303030303030303,
          11.424242424242424,
          11.545454545454545,
          11.666666666666668,
          11.787878787878789,
          11.90909090909091,
          12.030303030303031,
          12.151515151515152,
          12.272727272727273,
          12.393939393939394,
          12.515151515151516,
          12.636363636363637,
          12.757575757575758,
          12.878787878787879,
          13
         ],
         "y": [
          631832.9534657745,
          633122.980456764,
          634413.0074477533,
          635703.0344387428,
          636993.0614297322,
          638283.0884207216,
          639573.115411711,
          640863.1424027004,
          642153.1693936898,
          643443.1963846792,
          644733.2233756686,
          646023.2503666581,
          647313.2773576474,
          648603.3043486369,
          649893.3313396262,
          651183.3583306157,
          652473.3853216051,
          653763.4123125945,
          655053.4393035839,
          656343.4662945733,
          657633.4932855627,
          658923.5202765522,
          660213.5472675415,
          661503.574258531,
          662793.6012495203,
          664083.6282405098,
          665373.6552314992,
          666663.6822224886,
          667953.709213478,
          669243.7362044674,
          670533.7631954568,
          671823.7901864463,
          673113.8171774356,
          674403.8441684251,
          675693.8711594144,
          676983.8981504039,
          678273.9251413932,
          679563.9521323827,
          680853.9791233721,
          682144.0061143615,
          683434.0331053509,
          684724.0600963403,
          686014.0870873297,
          687304.1140783192,
          688594.1410693085,
          689884.168060298,
          691174.1950512873,
          692464.2220422768,
          693754.2490332662,
          695044.2760242556,
          696334.303015245,
          697624.3300062343,
          698914.3569972238,
          700204.3839882133,
          701494.4109792026,
          702784.437970192,
          704074.4649611814,
          705364.4919521709,
          706654.5189431603,
          707944.5459341496,
          709234.5729251391,
          710524.5999161284,
          711814.6269071179,
          713104.6538981074,
          714394.6808890967,
          715684.7078800861,
          716974.7348710755,
          718264.761862065,
          719554.7888530543,
          720844.8158440437,
          722134.8428350332,
          723424.8698260225,
          724714.896817012,
          726004.9238080014,
          727294.9507989908,
          728584.9777899802,
          729875.0047809696,
          731165.031771959,
          732455.0587629484,
          733745.0857539378,
          735035.1127449273,
          736325.1397359166,
          737615.1667269061,
          738905.1937178954,
          740195.2207088849,
          741485.2476998742,
          742775.2746908637,
          744065.3016818531,
          745355.3286728425,
          746645.3556638319,
          747935.3826548214,
          749225.4096458107,
          750515.4366368002,
          751805.4636277895,
          753095.490618779,
          754385.5176097683,
          755675.5446007578,
          756965.5715917472,
          758255.5985827366,
          759545.625573726
         ]
        },
        {
         "line": {
          "width": 0
         },
         "mode": "lines",
         "showlegend": false,
         "type": "scatter",
         "x": [
          1,
          1.121212121212121,
          1.2424242424242424,
          1.3636363636363638,
          1.4848484848484849,
          1.606060606060606,
          1.7272727272727273,
          1.8484848484848486,
          1.9696969696969697,
          2.090909090909091,
          2.212121212121212,
          2.3333333333333335,
          2.4545454545454546,
          2.5757575757575757,
          2.6969696969696972,
          2.8181818181818183,
          2.9393939393939394,
          3.0606060606060606,
          3.1818181818181817,
          3.303030303030303,
          3.4242424242424243,
          3.5454545454545454,
          3.666666666666667,
          3.787878787878788,
          3.909090909090909,
          4.03030303030303,
          4.151515151515151,
          4.272727272727273,
          4.3939393939393945,
          4.515151515151516,
          4.636363636363637,
          4.757575757575758,
          4.878787878787879,
          5,
          5.121212121212121,
          5.242424242424242,
          5.363636363636363,
          5.484848484848485,
          5.606060606060606,
          5.7272727272727275,
          5.848484848484849,
          5.96969696969697,
          6.090909090909091,
          6.212121212121212,
          6.333333333333334,
          6.454545454545455,
          6.575757575757576,
          6.696969696969697,
          6.818181818181818,
          6.9393939393939394,
          7.0606060606060606,
          7.181818181818182,
          7.303030303030303,
          7.424242424242425,
          7.545454545454546,
          7.666666666666667,
          7.787878787878788,
          7.909090909090909,
          8.030303030303031,
          8.151515151515152,
          8.272727272727273,
          8.393939393939394,
          8.515151515151516,
          8.636363636363637,
          8.757575757575758,
          8.878787878787879,
          9,
          9.121212121212121,
          9.242424242424242,
          9.363636363636363,
          9.484848484848484,
          9.606060606060606,
          9.727272727272727,
          9.84848484848485,
          9.96969696969697,
          10.090909090909092,
          10.212121212121213,
          10.333333333333334,
          10.454545454545455,
          10.575757575757576,
          10.696969696969697,
          10.818181818181818,
          10.93939393939394,
          11.06060606060606,
          11.181818181818182,
          11.303030303030303,
          11.424242424242424,
          11.545454545454545,
          11.666666666666668,
          11.787878787878789,
          11.90909090909091,
          12.030303030303031,
          12.151515151515152,
          12.272727272727273,
          12.393939393939394,
          12.515151515151516,
          12.636363636363637,
          12.757575757575758,
          12.878787878787879,
          13
         ],
         "y": [
          677815.8142946295,
          678438.9192275282,
          679065.9777827708,
          679697.1686977406,
          680332.6804295806,
          680972.7117184247,
          681617.4721786075,
          682267.1829178341,
          682922.0771839422,
          683582.401038432,
          684248.4140554073,
          684920.3900438998,
          685598.6177907699,
          686283.4018204297,
          686975.063166525,
          687673.9401494187,
          688380.3891518046,
          689094.7853830494,
          689817.5236208771,
          690549.0189167801,
          691289.7072490457,
          692040.0461045345,
          692800.514967369,
          693571.6156894987,
          694353.8727147887,
          695147.8331248953,
          695954.0664718869,
          696773.1643594812,
          697605.739732129,
          698452.4258292116,
          699313.8747606465,
          700190.755660557,
          701083.752377727,
          701993.5606657381,
          702920.8848423397,
          703866.4338971074,
          704830.9170390061,
          705815.0386912561,
          706819.4929597578,
          707844.957622975,
          708892.0877149075,
          709961.5087976793,
          711053.8100449978,
          712169.5372807365,
          713309.1861363997,
          714473.1955053981,
          715661.9414792033,
          716875.7319491716,
          718114.8020472156,
          719379.3105783906,
          720669.3375693801,
          721984.8830201838,
          723325.8669041187,
          724692.1304161293,
          726083.4384243027,
          727499.4830372834,
          728939.8881635987,
          730404.214909839,
          731891.9676444994,
          733402.6005437063,
          734935.5244337526,
          736490.1137525141,
          738065.7134659913,
          739661.6457957203,
          741277.2166358002,
          742911.7215630114,
          744564.4513683885,
          746234.6970623563,
          747921.754327165,
          749624.9274092334,
          751343.5324597774,
          753076.9003446735,
          754824.3789540046,
          756585.3350483892,
          758359.1556833764,
          760145.2492552486,
          761943.0462119373,
          763751.9994717865,
          765571.5845909307,
          767401.2997174208,
          769240.6653671341,
          771089.2240532098,
          772946.539797361,
          774812.1975480949,
          776685.8025276879,
          778566.979526773,
          780455.3721626565,
          782350.6421149756,
          784252.4683500841,
          786160.5463435706,
          788074.5873085742,
          789994.3174360631,
          791919.4771519339,
          793849.820394686,
          795785.1139164821,
          797725.1366096167,
          799669.6788597556,
          801618.5419267647,
          803571.5373535007,
          805528.486402581
         ]
        },
        {
         "fill": "tonexty",
         "fillcolor": "rgba(255,0,0,0.2)",
         "line": {
          "width": 0
         },
         "mode": "lines",
         "name": "SEM",
         "type": "scatter",
         "x": [
          1,
          1.121212121212121,
          1.2424242424242424,
          1.3636363636363638,
          1.4848484848484849,
          1.606060606060606,
          1.7272727272727273,
          1.8484848484848486,
          1.9696969696969697,
          2.090909090909091,
          2.212121212121212,
          2.3333333333333335,
          2.4545454545454546,
          2.5757575757575757,
          2.6969696969696972,
          2.8181818181818183,
          2.9393939393939394,
          3.0606060606060606,
          3.1818181818181817,
          3.303030303030303,
          3.4242424242424243,
          3.5454545454545454,
          3.666666666666667,
          3.787878787878788,
          3.909090909090909,
          4.03030303030303,
          4.151515151515151,
          4.272727272727273,
          4.3939393939393945,
          4.515151515151516,
          4.636363636363637,
          4.757575757575758,
          4.878787878787879,
          5,
          5.121212121212121,
          5.242424242424242,
          5.363636363636363,
          5.484848484848485,
          5.606060606060606,
          5.7272727272727275,
          5.848484848484849,
          5.96969696969697,
          6.090909090909091,
          6.212121212121212,
          6.333333333333334,
          6.454545454545455,
          6.575757575757576,
          6.696969696969697,
          6.818181818181818,
          6.9393939393939394,
          7.0606060606060606,
          7.181818181818182,
          7.303030303030303,
          7.424242424242425,
          7.545454545454546,
          7.666666666666667,
          7.787878787878788,
          7.909090909090909,
          8.030303030303031,
          8.151515151515152,
          8.272727272727273,
          8.393939393939394,
          8.515151515151516,
          8.636363636363637,
          8.757575757575758,
          8.878787878787879,
          9,
          9.121212121212121,
          9.242424242424242,
          9.363636363636363,
          9.484848484848484,
          9.606060606060606,
          9.727272727272727,
          9.84848484848485,
          9.96969696969697,
          10.090909090909092,
          10.212121212121213,
          10.333333333333334,
          10.454545454545455,
          10.575757575757576,
          10.696969696969697,
          10.818181818181818,
          10.93939393939394,
          11.06060606060606,
          11.181818181818182,
          11.303030303030303,
          11.424242424242424,
          11.545454545454545,
          11.666666666666668,
          11.787878787878789,
          11.90909090909091,
          12.030303030303031,
          12.151515151515152,
          12.272727272727273,
          12.393939393939394,
          12.515151515151516,
          12.636363636363637,
          12.757575757575758,
          12.878787878787879,
          13
         ],
         "y": [
          585850.0926369196,
          587807.0416859998,
          589760.0371127359,
          591708.9001797449,
          593653.4424298839,
          595593.4651230185,
          597528.7586448146,
          599459.1018875666,
          601384.2616034375,
          603303.9917309263,
          605218.03269593,
          607126.1106894164,
          609027.936924525,
          610923.206876844,
          612811.5995127275,
          614692.7765118127,
          616566.3814914057,
          618432.0392421396,
          620289.3549862908,
          622137.9136723664,
          623977.2793220797,
          625806.9944485698,
          627626.579567714,
          629435.5328275632,
          631233.329784252,
          633019.4233561242,
          634793.2439911115,
          636554.200085496,
          638301.678694827,
          640035.0465797231,
          641753.6516302672,
          643456.8247123356,
          645143.8819771443,
          646814.1276711121,
          648466.8574764892,
          650101.3624037004,
          651716.9332437803,
          653312.8655735092,
          654888.4652869864,
          656443.0546057479,
          657975.9784957943,
          659486.6113950012,
          660974.3641296616,
          662438.6908759018,
          663879.0960022173,
          665295.1406151978,
          666686.4486233713,
          668052.7121353819,
          669393.6960193168,
          670709.2414701205,
          671999.26846111,
          673263.7769922849,
          674502.8470903289,
          675716.6375602973,
          676905.3835341025,
          678069.3929031007,
          679209.0417587641,
          680324.7689945027,
          681417.0702418212,
          682486.491324593,
          683533.6214165256,
          684559.0860797428,
          685563.5403482445,
          686547.6620004944,
          687512.1451423932,
          688457.6941971609,
          689385.0183737625,
          690294.8266617736,
          691187.8233789436,
          692064.7042788541,
          692926.153210289,
          693772.8393073715,
          694605.4146800194,
          695424.5125676137,
          696230.7459146052,
          697024.7063247119,
          697806.9633500018,
          698578.0640721315,
          699338.532934966,
          700088.8717904548,
          700829.5601227204,
          701561.0554186235,
          702283.7936564512,
          702998.189887696,
          703704.6388900819,
          704403.5158729755,
          705095.1772190708,
          705779.9612487307,
          706458.1889956008,
          707130.1649840933,
          707796.1780010685,
          708456.5018555584,
          709111.3961216664,
          709761.1068608931,
          710405.8673210759,
          711045.8986099199,
          711681.4103417599,
          712312.6012567298,
          712939.6598119724,
          713562.7647448711
         ]
        }
       ],
       "layout": {
        "hovermode": "x unified",
        "template": {
         "data": {
          "bar": [
           {
            "error_x": {
             "color": "#2a3f5f"
            },
            "error_y": {
             "color": "#2a3f5f"
            },
            "marker": {
             "line": {
              "color": "#E5ECF6",
              "width": 0.5
             },
             "pattern": {
              "fillmode": "overlay",
              "size": 10,
              "solidity": 0.2
             }
            },
            "type": "bar"
           }
          ],
          "barpolar": [
           {
            "marker": {
             "line": {
              "color": "#E5ECF6",
              "width": 0.5
             },
             "pattern": {
              "fillmode": "overlay",
              "size": 10,
              "solidity": 0.2
             }
            },
            "type": "barpolar"
           }
          ],
          "carpet": [
           {
            "aaxis": {
             "endlinecolor": "#2a3f5f",
             "gridcolor": "white",
             "linecolor": "white",
             "minorgridcolor": "white",
             "startlinecolor": "#2a3f5f"
            },
            "baxis": {
             "endlinecolor": "#2a3f5f",
             "gridcolor": "white",
             "linecolor": "white",
             "minorgridcolor": "white",
             "startlinecolor": "#2a3f5f"
            },
            "type": "carpet"
           }
          ],
          "choropleth": [
           {
            "colorbar": {
             "outlinewidth": 0,
             "ticks": ""
            },
            "type": "choropleth"
           }
          ],
          "contour": [
           {
            "colorbar": {
             "outlinewidth": 0,
             "ticks": ""
            },
            "colorscale": [
             [
              0,
              "#0d0887"
             ],
             [
              0.1111111111111111,
              "#46039f"
             ],
             [
              0.2222222222222222,
              "#7201a8"
             ],
             [
              0.3333333333333333,
              "#9c179e"
             ],
             [
              0.4444444444444444,
              "#bd3786"
             ],
             [
              0.5555555555555556,
              "#d8576b"
             ],
             [
              0.6666666666666666,
              "#ed7953"
             ],
             [
              0.7777777777777778,
              "#fb9f3a"
             ],
             [
              0.8888888888888888,
              "#fdca26"
             ],
             [
              1,
              "#f0f921"
             ]
            ],
            "type": "contour"
           }
          ],
          "contourcarpet": [
           {
            "colorbar": {
             "outlinewidth": 0,
             "ticks": ""
            },
            "type": "contourcarpet"
           }
          ],
          "heatmap": [
           {
            "colorbar": {
             "outlinewidth": 0,
             "ticks": ""
            },
            "colorscale": [
             [
              0,
              "#0d0887"
             ],
             [
              0.1111111111111111,
              "#46039f"
             ],
             [
              0.2222222222222222,
              "#7201a8"
             ],
             [
              0.3333333333333333,
              "#9c179e"
             ],
             [
              0.4444444444444444,
              "#bd3786"
             ],
             [
              0.5555555555555556,
              "#d8576b"
             ],
             [
              0.6666666666666666,
              "#ed7953"
             ],
             [
              0.7777777777777778,
              "#fb9f3a"
             ],
             [
              0.8888888888888888,
              "#fdca26"
             ],
             [
              1,
              "#f0f921"
             ]
            ],
            "type": "heatmap"
           }
          ],
          "heatmapgl": [
           {
            "colorbar": {
             "outlinewidth": 0,
             "ticks": ""
            },
            "colorscale": [
             [
              0,
              "#0d0887"
             ],
             [
              0.1111111111111111,
              "#46039f"
             ],
             [
              0.2222222222222222,
              "#7201a8"
             ],
             [
              0.3333333333333333,
              "#9c179e"
             ],
             [
              0.4444444444444444,
              "#bd3786"
             ],
             [
              0.5555555555555556,
              "#d8576b"
             ],
             [
              0.6666666666666666,
              "#ed7953"
             ],
             [
              0.7777777777777778,
              "#fb9f3a"
             ],
             [
              0.8888888888888888,
              "#fdca26"
             ],
             [
              1,
              "#f0f921"
             ]
            ],
            "type": "heatmapgl"
           }
          ],
          "histogram": [
           {
            "marker": {
             "pattern": {
              "fillmode": "overlay",
              "size": 10,
              "solidity": 0.2
             }
            },
            "type": "histogram"
           }
          ],
          "histogram2d": [
           {
            "colorbar": {
             "outlinewidth": 0,
             "ticks": ""
            },
            "colorscale": [
             [
              0,
              "#0d0887"
             ],
             [
              0.1111111111111111,
              "#46039f"
             ],
             [
              0.2222222222222222,
              "#7201a8"
             ],
             [
              0.3333333333333333,
              "#9c179e"
             ],
             [
              0.4444444444444444,
              "#bd3786"
             ],
             [
              0.5555555555555556,
              "#d8576b"
             ],
             [
              0.6666666666666666,
              "#ed7953"
             ],
             [
              0.7777777777777778,
              "#fb9f3a"
             ],
             [
              0.8888888888888888,
              "#fdca26"
             ],
             [
              1,
              "#f0f921"
             ]
            ],
            "type": "histogram2d"
           }
          ],
          "histogram2dcontour": [
           {
            "colorbar": {
             "outlinewidth": 0,
             "ticks": ""
            },
            "colorscale": [
             [
              0,
              "#0d0887"
             ],
             [
              0.1111111111111111,
              "#46039f"
             ],
             [
              0.2222222222222222,
              "#7201a8"
             ],
             [
              0.3333333333333333,
              "#9c179e"
             ],
             [
              0.4444444444444444,
              "#bd3786"
             ],
             [
              0.5555555555555556,
              "#d8576b"
             ],
             [
              0.6666666666666666,
              "#ed7953"
             ],
             [
              0.7777777777777778,
              "#fb9f3a"
             ],
             [
              0.8888888888888888,
              "#fdca26"
             ],
             [
              1,
              "#f0f921"
             ]
            ],
            "type": "histogram2dcontour"
           }
          ],
          "mesh3d": [
           {
            "colorbar": {
             "outlinewidth": 0,
             "ticks": ""
            },
            "type": "mesh3d"
           }
          ],
          "parcoords": [
           {
            "line": {
             "colorbar": {
              "outlinewidth": 0,
              "ticks": ""
             }
            },
            "type": "parcoords"
           }
          ],
          "pie": [
           {
            "automargin": true,
            "type": "pie"
           }
          ],
          "scatter": [
           {
            "fillpattern": {
             "fillmode": "overlay",
             "size": 10,
             "solidity": 0.2
            },
            "type": "scatter"
           }
          ],
          "scatter3d": [
           {
            "line": {
             "colorbar": {
              "outlinewidth": 0,
              "ticks": ""
             }
            },
            "marker": {
             "colorbar": {
              "outlinewidth": 0,
              "ticks": ""
             }
            },
            "type": "scatter3d"
           }
          ],
          "scattercarpet": [
           {
            "marker": {
             "colorbar": {
              "outlinewidth": 0,
              "ticks": ""
             }
            },
            "type": "scattercarpet"
           }
          ],
          "scattergeo": [
           {
            "marker": {
             "colorbar": {
              "outlinewidth": 0,
              "ticks": ""
             }
            },
            "type": "scattergeo"
           }
          ],
          "scattergl": [
           {
            "marker": {
             "colorbar": {
              "outlinewidth": 0,
              "ticks": ""
             }
            },
            "type": "scattergl"
           }
          ],
          "scattermapbox": [
           {
            "marker": {
             "colorbar": {
              "outlinewidth": 0,
              "ticks": ""
             }
            },
            "type": "scattermapbox"
           }
          ],
          "scatterpolar": [
           {
            "marker": {
             "colorbar": {
              "outlinewidth": 0,
              "ticks": ""
             }
            },
            "type": "scatterpolar"
           }
          ],
          "scatterpolargl": [
           {
            "marker": {
             "colorbar": {
              "outlinewidth": 0,
              "ticks": ""
             }
            },
            "type": "scatterpolargl"
           }
          ],
          "scatterternary": [
           {
            "marker": {
             "colorbar": {
              "outlinewidth": 0,
              "ticks": ""
             }
            },
            "type": "scatterternary"
           }
          ],
          "surface": [
           {
            "colorbar": {
             "outlinewidth": 0,
             "ticks": ""
            },
            "colorscale": [
             [
              0,
              "#0d0887"
             ],
             [
              0.1111111111111111,
              "#46039f"
             ],
             [
              0.2222222222222222,
              "#7201a8"
             ],
             [
              0.3333333333333333,
              "#9c179e"
             ],
             [
              0.4444444444444444,
              "#bd3786"
             ],
             [
              0.5555555555555556,
              "#d8576b"
             ],
             [
              0.6666666666666666,
              "#ed7953"
             ],
             [
              0.7777777777777778,
              "#fb9f3a"
             ],
             [
              0.8888888888888888,
              "#fdca26"
             ],
             [
              1,
              "#f0f921"
             ]
            ],
            "type": "surface"
           }
          ],
          "table": [
           {
            "cells": {
             "fill": {
              "color": "#EBF0F8"
             },
             "line": {
              "color": "white"
             }
            },
            "header": {
             "fill": {
              "color": "#C8D4E3"
             },
             "line": {
              "color": "white"
             }
            },
            "type": "table"
           }
          ]
         },
         "layout": {
          "annotationdefaults": {
           "arrowcolor": "#2a3f5f",
           "arrowhead": 0,
           "arrowwidth": 1
          },
          "autotypenumbers": "strict",
          "coloraxis": {
           "colorbar": {
            "outlinewidth": 0,
            "ticks": ""
           }
          },
          "colorscale": {
           "diverging": [
            [
             0,
             "#8e0152"
            ],
            [
             0.1,
             "#c51b7d"
            ],
            [
             0.2,
             "#de77ae"
            ],
            [
             0.3,
             "#f1b6da"
            ],
            [
             0.4,
             "#fde0ef"
            ],
            [
             0.5,
             "#f7f7f7"
            ],
            [
             0.6,
             "#e6f5d0"
            ],
            [
             0.7,
             "#b8e186"
            ],
            [
             0.8,
             "#7fbc41"
            ],
            [
             0.9,
             "#4d9221"
            ],
            [
             1,
             "#276419"
            ]
           ],
           "sequential": [
            [
             0,
             "#0d0887"
            ],
            [
             0.1111111111111111,
             "#46039f"
            ],
            [
             0.2222222222222222,
             "#7201a8"
            ],
            [
             0.3333333333333333,
             "#9c179e"
            ],
            [
             0.4444444444444444,
             "#bd3786"
            ],
            [
             0.5555555555555556,
             "#d8576b"
            ],
            [
             0.6666666666666666,
             "#ed7953"
            ],
            [
             0.7777777777777778,
             "#fb9f3a"
            ],
            [
             0.8888888888888888,
             "#fdca26"
            ],
            [
             1,
             "#f0f921"
            ]
           ],
           "sequentialminus": [
            [
             0,
             "#0d0887"
            ],
            [
             0.1111111111111111,
             "#46039f"
            ],
            [
             0.2222222222222222,
             "#7201a8"
            ],
            [
             0.3333333333333333,
             "#9c179e"
            ],
            [
             0.4444444444444444,
             "#bd3786"
            ],
            [
             0.5555555555555556,
             "#d8576b"
            ],
            [
             0.6666666666666666,
             "#ed7953"
            ],
            [
             0.7777777777777778,
             "#fb9f3a"
            ],
            [
             0.8888888888888888,
             "#fdca26"
            ],
            [
             1,
             "#f0f921"
            ]
           ]
          },
          "colorway": [
           "#636efa",
           "#EF553B",
           "#00cc96",
           "#ab63fa",
           "#FFA15A",
           "#19d3f3",
           "#FF6692",
           "#B6E880",
           "#FF97FF",
           "#FECB52"
          ],
          "font": {
           "color": "#2a3f5f"
          },
          "geo": {
           "bgcolor": "white",
           "lakecolor": "white",
           "landcolor": "#E5ECF6",
           "showlakes": true,
           "showland": true,
           "subunitcolor": "white"
          },
          "hoverlabel": {
           "align": "left"
          },
          "hovermode": "closest",
          "mapbox": {
           "style": "light"
          },
          "paper_bgcolor": "white",
          "plot_bgcolor": "#E5ECF6",
          "polar": {
           "angularaxis": {
            "gridcolor": "white",
            "linecolor": "white",
            "ticks": ""
           },
           "bgcolor": "#E5ECF6",
           "radialaxis": {
            "gridcolor": "white",
            "linecolor": "white",
            "ticks": ""
           }
          },
          "scene": {
           "xaxis": {
            "backgroundcolor": "#E5ECF6",
            "gridcolor": "white",
            "gridwidth": 2,
            "linecolor": "white",
            "showbackground": true,
            "ticks": "",
            "zerolinecolor": "white"
           },
           "yaxis": {
            "backgroundcolor": "#E5ECF6",
            "gridcolor": "white",
            "gridwidth": 2,
            "linecolor": "white",
            "showbackground": true,
            "ticks": "",
            "zerolinecolor": "white"
           },
           "zaxis": {
            "backgroundcolor": "#E5ECF6",
            "gridcolor": "white",
            "gridwidth": 2,
            "linecolor": "white",
            "showbackground": true,
            "ticks": "",
            "zerolinecolor": "white"
           }
          },
          "shapedefaults": {
           "line": {
            "color": "#2a3f5f"
           }
          },
          "ternary": {
           "aaxis": {
            "gridcolor": "white",
            "linecolor": "white",
            "ticks": ""
           },
           "baxis": {
            "gridcolor": "white",
            "linecolor": "white",
            "ticks": ""
           },
           "bgcolor": "#E5ECF6",
           "caxis": {
            "gridcolor": "white",
            "linecolor": "white",
            "ticks": ""
           }
          },
          "title": {
           "x": 0.05
          },
          "xaxis": {
           "automargin": true,
           "gridcolor": "white",
           "linecolor": "white",
           "ticks": "",
           "title": {
            "standoff": 15
           },
           "zerolinecolor": "white",
           "zerolinewidth": 2
          },
          "yaxis": {
           "automargin": true,
           "gridcolor": "white",
           "linecolor": "white",
           "ticks": "",
           "title": {
            "standoff": 15
           },
           "zerolinecolor": "white",
           "zerolinewidth": 2
          }
         }
        },
        "title": {
         "text": "Distance Traveled by Session Number"
        },
        "xaxis": {
         "title": {
          "text": "Session Number"
         }
        },
        "yaxis": {
         "title": {
          "text": "Distance Traveled"
         }
        }
       }
      }
     },
     "metadata": {},
     "output_type": "display_data"
    },
    {
     "data": {
      "application/vnd.plotly.v1+json": {
       "config": {
        "plotlyServerURL": "https://plot.ly"
       },
       "data": [
        {
         "marker": {
          "color": [
           0,
           0,
           0,
           0,
           0,
           0,
           0,
           0,
           0,
           0,
           0,
           0,
           0
          ],
          "colorscale": [
           [
            0,
            "rgb(103,0,31)"
           ],
           [
            0.1,
            "rgb(178,24,43)"
           ],
           [
            0.2,
            "rgb(214,96,77)"
           ],
           [
            0.3,
            "rgb(244,165,130)"
           ],
           [
            0.4,
            "rgb(253,219,199)"
           ],
           [
            0.5,
            "rgb(247,247,247)"
           ],
           [
            0.6,
            "rgb(209,229,240)"
           ],
           [
            0.7,
            "rgb(146,197,222)"
           ],
           [
            0.8,
            "rgb(67,147,195)"
           ],
           [
            0.9,
            "rgb(33,102,172)"
           ],
           [
            1,
            "rgb(5,48,97)"
           ]
          ]
         },
         "mode": "markers",
         "name": "Distance Traveled",
         "showlegend": true,
         "type": "scatter",
         "x": [
          1,
          2,
          3,
          4,
          5,
          6,
          7,
          8,
          9,
          10,
          11,
          12,
          13
         ],
         "y": [
          527043.615620008,
          412585.8061645681,
          392643.79069106013,
          488899.83299048763,
          430572.26676102815,
          682065.3240596766,
          540875.3793193466,
          517215.3820509962,
          596642.3700303929,
          634605.4488535561,
          658633.2805240792,
          615655.2561136064,
          684700.903419169
         ]
        },
        {
         "line": {
          "color": "red"
         },
         "mode": "lines",
         "name": "Fitted Line",
         "type": "scatter",
         "x": [
          1,
          1.121212121212121,
          1.2424242424242424,
          1.3636363636363638,
          1.4848484848484849,
          1.606060606060606,
          1.7272727272727273,
          1.8484848484848486,
          1.9696969696969697,
          2.090909090909091,
          2.212121212121212,
          2.3333333333333335,
          2.4545454545454546,
          2.5757575757575757,
          2.6969696969696972,
          2.8181818181818183,
          2.9393939393939394,
          3.0606060606060606,
          3.1818181818181817,
          3.303030303030303,
          3.4242424242424243,
          3.5454545454545454,
          3.666666666666667,
          3.787878787878788,
          3.909090909090909,
          4.03030303030303,
          4.151515151515151,
          4.272727272727273,
          4.3939393939393945,
          4.515151515151516,
          4.636363636363637,
          4.757575757575758,
          4.878787878787879,
          5,
          5.121212121212121,
          5.242424242424242,
          5.363636363636363,
          5.484848484848485,
          5.606060606060606,
          5.7272727272727275,
          5.848484848484849,
          5.96969696969697,
          6.090909090909091,
          6.212121212121212,
          6.333333333333334,
          6.454545454545455,
          6.575757575757576,
          6.696969696969697,
          6.818181818181818,
          6.9393939393939394,
          7.0606060606060606,
          7.181818181818182,
          7.303030303030303,
          7.424242424242425,
          7.545454545454546,
          7.666666666666667,
          7.787878787878788,
          7.909090909090909,
          8.030303030303031,
          8.151515151515152,
          8.272727272727273,
          8.393939393939394,
          8.515151515151516,
          8.636363636363637,
          8.757575757575758,
          8.878787878787879,
          9,
          9.121212121212121,
          9.242424242424242,
          9.363636363636363,
          9.484848484848484,
          9.606060606060606,
          9.727272727272727,
          9.84848484848485,
          9.96969696969697,
          10.090909090909092,
          10.212121212121213,
          10.333333333333334,
          10.454545454545455,
          10.575757575757576,
          10.696969696969697,
          10.818181818181818,
          10.93939393939394,
          11.06060606060606,
          11.181818181818182,
          11.303030303030303,
          11.424242424242424,
          11.545454545454545,
          11.666666666666668,
          11.787878787878789,
          11.90909090909091,
          12.030303030303031,
          12.151515151515152,
          12.272727272727273,
          12.393939393939394,
          12.515151515151516,
          12.636363636363637,
          12.757575757575758,
          12.878787878787879,
          13
         ],
         "y": [
          432813.21376056434,
          435230.56710588,
          437647.92045119574,
          440065.2737965114,
          442482.6271418271,
          444899.98048714275,
          447317.3338324584,
          449734.6871777741,
          452152.0405230898,
          454569.3938684055,
          456986.74721372116,
          459404.10055903683,
          461821.4539043525,
          464238.80724966817,
          466656.16059498384,
          469073.51394029957,
          471490.86728561524,
          473908.2206309309,
          476325.5739762466,
          478742.92732156225,
          481160.2806668779,
          483577.63401219365,
          485994.9873575093,
          488412.340702825,
          490829.69404814066,
          493247.04739345633,
          495664.400738772,
          498081.7540840877,
          500499.1074294034,
          502916.4607747191,
          505333.81412003475,
          507751.1674653504,
          510168.5208106661,
          512585.87415598176,
          515003.2275012974,
          517420.58084661316,
          519837.9341919288,
          522255.2875372445,
          524672.6408825602,
          527089.9942278758,
          529507.3475731915,
          531924.7009185072,
          534342.0542638229,
          536759.4076091385,
          539176.7609544543,
          541594.11429977,
          544011.4676450856,
          546428.8209904013,
          548846.174335717,
          551263.5276810327,
          553680.8810263483,
          556098.234371664,
          558515.5877169797,
          560932.9410622953,
          563350.294407611,
          565767.6477529267,
          568185.0010982424,
          570602.354443558,
          573019.7077888738,
          575437.0611341895,
          577854.4144795052,
          580271.7678248208,
          582689.1211701365,
          585106.4745154522,
          587523.8278607678,
          589941.1812060835,
          592358.5345513992,
          594775.8878967148,
          597193.2412420305,
          599610.5945873462,
          602027.9479326619,
          604445.3012779776,
          606862.6546232933,
          609280.007968609,
          611697.3613139247,
          614114.7146592403,
          616532.068004556,
          618949.4213498717,
          621366.7746951873,
          623784.128040503,
          626201.4813858187,
          628618.8347311344,
          631036.18807645,
          633453.5414217657,
          635870.8947670814,
          638288.248112397,
          640705.6014577127,
          643122.9548030285,
          645540.3081483442,
          647957.6614936598,
          650375.0148389755,
          652792.3681842912,
          655209.7215296068,
          657627.0748749225,
          660044.4282202382,
          662461.781565554,
          664879.1349108696,
          667296.4882561853,
          669713.841601501,
          672131.1949468167
         ]
        },
        {
         "line": {
          "width": 0
         },
         "mode": "lines",
         "showlegend": false,
         "type": "scatter",
         "x": [
          1,
          1.121212121212121,
          1.2424242424242424,
          1.3636363636363638,
          1.4848484848484849,
          1.606060606060606,
          1.7272727272727273,
          1.8484848484848486,
          1.9696969696969697,
          2.090909090909091,
          2.212121212121212,
          2.3333333333333335,
          2.4545454545454546,
          2.5757575757575757,
          2.6969696969696972,
          2.8181818181818183,
          2.9393939393939394,
          3.0606060606060606,
          3.1818181818181817,
          3.303030303030303,
          3.4242424242424243,
          3.5454545454545454,
          3.666666666666667,
          3.787878787878788,
          3.909090909090909,
          4.03030303030303,
          4.151515151515151,
          4.272727272727273,
          4.3939393939393945,
          4.515151515151516,
          4.636363636363637,
          4.757575757575758,
          4.878787878787879,
          5,
          5.121212121212121,
          5.242424242424242,
          5.363636363636363,
          5.484848484848485,
          5.606060606060606,
          5.7272727272727275,
          5.848484848484849,
          5.96969696969697,
          6.090909090909091,
          6.212121212121212,
          6.333333333333334,
          6.454545454545455,
          6.575757575757576,
          6.696969696969697,
          6.818181818181818,
          6.9393939393939394,
          7.0606060606060606,
          7.181818181818182,
          7.303030303030303,
          7.424242424242425,
          7.545454545454546,
          7.666666666666667,
          7.787878787878788,
          7.909090909090909,
          8.030303030303031,
          8.151515151515152,
          8.272727272727273,
          8.393939393939394,
          8.515151515151516,
          8.636363636363637,
          8.757575757575758,
          8.878787878787879,
          9,
          9.121212121212121,
          9.242424242424242,
          9.363636363636363,
          9.484848484848484,
          9.606060606060606,
          9.727272727272727,
          9.84848484848485,
          9.96969696969697,
          10.090909090909092,
          10.212121212121213,
          10.333333333333334,
          10.454545454545455,
          10.575757575757576,
          10.696969696969697,
          10.818181818181818,
          10.93939393939394,
          11.06060606060606,
          11.181818181818182,
          11.303030303030303,
          11.424242424242424,
          11.545454545454545,
          11.666666666666668,
          11.787878787878789,
          11.90909090909091,
          12.030303030303031,
          12.151515151515152,
          12.272727272727273,
          12.393939393939394,
          12.515151515151516,
          12.636363636363637,
          12.757575757575758,
          12.878787878787879,
          13
         ],
         "y": [
          468812.44771937944,
          470707.6786310592,
          472606.00476937735,
          474507.5660649246,
          476412.51005773316,
          478320.9923382222,
          480233.1770100454,
          482149.2371748295,
          484069.35543851333,
          485993.724438644,
          487922.5473915659,
          489856.0386579174,
          491794.42432423536,
          493737.94279772945,
          495686.8454104203,
          497641.3970278183,
          499601.8766561388,
          501568.57804069325,
          503541.81024654163,
          505521.898210748,
          507509.1832536232,
          509504.0235341909,
          511506.7944327729,
          513517.88884109934,
          515537.71733774344,
          517566.7082240374,
          519605.3073930332,
          521653.97800166055,
          523713.1999141625,
          525783.4688833524,
          527865.2954354801,
          529959.2034247688,
          532065.728225311,
          534185.4145312709,
          536318.8137415608,
          538466.4809125898,
          540628.971272523,
          542806.836302844,
          545000.6194077749,
          547210.8512090525,
          549438.044522143,
          551682.6890894603,
          553945.2461655185,
          556226.143066952,
          558525.7678156056,
          560844.4640139926,
          563182.5260980105,
          565540.195110795,
          567917.6551332966,
          570315.0304914109,
          572732.3838367265,
          575169.7151692436,
          577626.9618373733,
          580103.9995152202,
          582600.6441218336,
          585116.654614078,
          587651.7365560558,
          590205.5463452537,
          592777.6959598269,
          595367.758083141,
          597975.2714606818,
          600599.7463500355,
          603240.669935736,
          605897.5115960464,
          608569.7279267445,
          611256.7674463469,
          613958.0749266882,
          616673.0953113597,
          619401.2772014488,
          622142.0759027915,
          624894.9560412952,
          627659.3937627367,
          630434.8785408662,
          633220.9146228702,
          636017.0221445058,
          638822.737948843,
          641637.6161428303,
          644461.2284251353,
          647293.1642171845,
          650133.0306272482,
          652980.4522750044,
          655835.0710014293,
          658696.5454862124,
          661564.5507922893,
          664438.7778546001,
          667318.9329278335,
          670204.7370057739,
          673095.9252229114,
          675992.2462472247,
          678893.4616715047,
          681799.345409214,
          684709.6830997147,
          687624.2715266623,
          690542.9180525095,
          693465.4400713177,
          696391.66448146,
          699321.4271792828,
          702254.5725743669,
          705190.9531266801,
          708130.4289056318
         ]
        },
        {
         "fill": "tonexty",
         "fillcolor": "rgba(255,0,0,0.2)",
         "line": {
          "width": 0
         },
         "mode": "lines",
         "name": "SEM",
         "type": "scatter",
         "x": [
          1,
          1.121212121212121,
          1.2424242424242424,
          1.3636363636363638,
          1.4848484848484849,
          1.606060606060606,
          1.7272727272727273,
          1.8484848484848486,
          1.9696969696969697,
          2.090909090909091,
          2.212121212121212,
          2.3333333333333335,
          2.4545454545454546,
          2.5757575757575757,
          2.6969696969696972,
          2.8181818181818183,
          2.9393939393939394,
          3.0606060606060606,
          3.1818181818181817,
          3.303030303030303,
          3.4242424242424243,
          3.5454545454545454,
          3.666666666666667,
          3.787878787878788,
          3.909090909090909,
          4.03030303030303,
          4.151515151515151,
          4.272727272727273,
          4.3939393939393945,
          4.515151515151516,
          4.636363636363637,
          4.757575757575758,
          4.878787878787879,
          5,
          5.121212121212121,
          5.242424242424242,
          5.363636363636363,
          5.484848484848485,
          5.606060606060606,
          5.7272727272727275,
          5.848484848484849,
          5.96969696969697,
          6.090909090909091,
          6.212121212121212,
          6.333333333333334,
          6.454545454545455,
          6.575757575757576,
          6.696969696969697,
          6.818181818181818,
          6.9393939393939394,
          7.0606060606060606,
          7.181818181818182,
          7.303030303030303,
          7.424242424242425,
          7.545454545454546,
          7.666666666666667,
          7.787878787878788,
          7.909090909090909,
          8.030303030303031,
          8.151515151515152,
          8.272727272727273,
          8.393939393939394,
          8.515151515151516,
          8.636363636363637,
          8.757575757575758,
          8.878787878787879,
          9,
          9.121212121212121,
          9.242424242424242,
          9.363636363636363,
          9.484848484848484,
          9.606060606060606,
          9.727272727272727,
          9.84848484848485,
          9.96969696969697,
          10.090909090909092,
          10.212121212121213,
          10.333333333333334,
          10.454545454545455,
          10.575757575757576,
          10.696969696969697,
          10.818181818181818,
          10.93939393939394,
          11.06060606060606,
          11.181818181818182,
          11.303030303030303,
          11.424242424242424,
          11.545454545454545,
          11.666666666666668,
          11.787878787878789,
          11.90909090909091,
          12.030303030303031,
          12.151515151515152,
          12.272727272727273,
          12.393939393939394,
          12.515151515151516,
          12.636363636363637,
          12.757575757575758,
          12.878787878787879,
          13
         ],
         "y": [
          396813.9798017492,
          399753.45558070083,
          402689.8361330141,
          405622.98152809823,
          408552.744225921,
          411478.9686360633,
          414401.49065487145,
          417320.13718071865,
          420234.7256076663,
          423145.06329816696,
          426050.9470358764,
          428952.16246015625,
          431848.48348446965,
          434739.6717016069,
          437625.47577954736,
          440505.6308527808,
          443379.8579150917,
          446247.8632211686,
          449109.33770595153,
          451963.9564323765,
          454811.37808013265,
          457651.2444901964,
          460483.18028224574,
          463306.79256455065,
          466121.6707585379,
          468927.3865628753,
          471723.49408451084,
          474509.5301665148,
          477285.0149446443,
          480049.45266608574,
          482802.3328045895,
          485543.1315059321,
          488271.3133960212,
          490986.3337806927,
          493687.641261034,
          496374.68078063655,
          499046.8971113346,
          501703.73877164494,
          504344.66235734546,
          506969.1372466992,
          509576.65062424,
          512166.712747554,
          514738.86236212717,
          517292.67215132504,
          519827.754093303,
          522343.76458554744,
          524840.4091921608,
          527317.4468700077,
          529774.6935381374,
          532212.0248706545,
          534629.3782159701,
          537026.7535740844,
          539404.213596586,
          541761.8826093705,
          544099.9446933884,
          546418.6408917754,
          548718.2656404289,
          550999.1625418623,
          553261.7196179207,
          555506.364185238,
          557733.5574983285,
          559943.7892996061,
          562137.572404537,
          564315.437434858,
          566477.9277947912,
          568625.5949658201,
          570758.9941761101,
          572878.68048207,
          574985.2052826122,
          577079.1132719009,
          579160.9398240285,
          581231.2087932186,
          583290.4307057204,
          585339.1013143478,
          587377.7004833436,
          589406.6913696376,
          591426.5198662817,
          593437.6142746081,
          595440.3851731902,
          597435.2254537578,
          599422.510496633,
          601402.5984608394,
          603375.8306666877,
          605342.5320512421,
          607303.0116795626,
          609257.5632969606,
          611206.4659096515,
          613149.9843831456,
          615088.3700494636,
          617021.861315815,
          618950.684268737,
          620875.0532688677,
          622795.1715325514,
          624711.2316973355,
          626623.4163691587,
          628531.898649648,
          630436.8426424565,
          632338.4039380037,
          634236.7300763219,
          636131.9609880015
         ]
        }
       ],
       "layout": {
        "hovermode": "x unified",
        "template": {
         "data": {
          "bar": [
           {
            "error_x": {
             "color": "#2a3f5f"
            },
            "error_y": {
             "color": "#2a3f5f"
            },
            "marker": {
             "line": {
              "color": "#E5ECF6",
              "width": 0.5
             },
             "pattern": {
              "fillmode": "overlay",
              "size": 10,
              "solidity": 0.2
             }
            },
            "type": "bar"
           }
          ],
          "barpolar": [
           {
            "marker": {
             "line": {
              "color": "#E5ECF6",
              "width": 0.5
             },
             "pattern": {
              "fillmode": "overlay",
              "size": 10,
              "solidity": 0.2
             }
            },
            "type": "barpolar"
           }
          ],
          "carpet": [
           {
            "aaxis": {
             "endlinecolor": "#2a3f5f",
             "gridcolor": "white",
             "linecolor": "white",
             "minorgridcolor": "white",
             "startlinecolor": "#2a3f5f"
            },
            "baxis": {
             "endlinecolor": "#2a3f5f",
             "gridcolor": "white",
             "linecolor": "white",
             "minorgridcolor": "white",
             "startlinecolor": "#2a3f5f"
            },
            "type": "carpet"
           }
          ],
          "choropleth": [
           {
            "colorbar": {
             "outlinewidth": 0,
             "ticks": ""
            },
            "type": "choropleth"
           }
          ],
          "contour": [
           {
            "colorbar": {
             "outlinewidth": 0,
             "ticks": ""
            },
            "colorscale": [
             [
              0,
              "#0d0887"
             ],
             [
              0.1111111111111111,
              "#46039f"
             ],
             [
              0.2222222222222222,
              "#7201a8"
             ],
             [
              0.3333333333333333,
              "#9c179e"
             ],
             [
              0.4444444444444444,
              "#bd3786"
             ],
             [
              0.5555555555555556,
              "#d8576b"
             ],
             [
              0.6666666666666666,
              "#ed7953"
             ],
             [
              0.7777777777777778,
              "#fb9f3a"
             ],
             [
              0.8888888888888888,
              "#fdca26"
             ],
             [
              1,
              "#f0f921"
             ]
            ],
            "type": "contour"
           }
          ],
          "contourcarpet": [
           {
            "colorbar": {
             "outlinewidth": 0,
             "ticks": ""
            },
            "type": "contourcarpet"
           }
          ],
          "heatmap": [
           {
            "colorbar": {
             "outlinewidth": 0,
             "ticks": ""
            },
            "colorscale": [
             [
              0,
              "#0d0887"
             ],
             [
              0.1111111111111111,
              "#46039f"
             ],
             [
              0.2222222222222222,
              "#7201a8"
             ],
             [
              0.3333333333333333,
              "#9c179e"
             ],
             [
              0.4444444444444444,
              "#bd3786"
             ],
             [
              0.5555555555555556,
              "#d8576b"
             ],
             [
              0.6666666666666666,
              "#ed7953"
             ],
             [
              0.7777777777777778,
              "#fb9f3a"
             ],
             [
              0.8888888888888888,
              "#fdca26"
             ],
             [
              1,
              "#f0f921"
             ]
            ],
            "type": "heatmap"
           }
          ],
          "heatmapgl": [
           {
            "colorbar": {
             "outlinewidth": 0,
             "ticks": ""
            },
            "colorscale": [
             [
              0,
              "#0d0887"
             ],
             [
              0.1111111111111111,
              "#46039f"
             ],
             [
              0.2222222222222222,
              "#7201a8"
             ],
             [
              0.3333333333333333,
              "#9c179e"
             ],
             [
              0.4444444444444444,
              "#bd3786"
             ],
             [
              0.5555555555555556,
              "#d8576b"
             ],
             [
              0.6666666666666666,
              "#ed7953"
             ],
             [
              0.7777777777777778,
              "#fb9f3a"
             ],
             [
              0.8888888888888888,
              "#fdca26"
             ],
             [
              1,
              "#f0f921"
             ]
            ],
            "type": "heatmapgl"
           }
          ],
          "histogram": [
           {
            "marker": {
             "pattern": {
              "fillmode": "overlay",
              "size": 10,
              "solidity": 0.2
             }
            },
            "type": "histogram"
           }
          ],
          "histogram2d": [
           {
            "colorbar": {
             "outlinewidth": 0,
             "ticks": ""
            },
            "colorscale": [
             [
              0,
              "#0d0887"
             ],
             [
              0.1111111111111111,
              "#46039f"
             ],
             [
              0.2222222222222222,
              "#7201a8"
             ],
             [
              0.3333333333333333,
              "#9c179e"
             ],
             [
              0.4444444444444444,
              "#bd3786"
             ],
             [
              0.5555555555555556,
              "#d8576b"
             ],
             [
              0.6666666666666666,
              "#ed7953"
             ],
             [
              0.7777777777777778,
              "#fb9f3a"
             ],
             [
              0.8888888888888888,
              "#fdca26"
             ],
             [
              1,
              "#f0f921"
             ]
            ],
            "type": "histogram2d"
           }
          ],
          "histogram2dcontour": [
           {
            "colorbar": {
             "outlinewidth": 0,
             "ticks": ""
            },
            "colorscale": [
             [
              0,
              "#0d0887"
             ],
             [
              0.1111111111111111,
              "#46039f"
             ],
             [
              0.2222222222222222,
              "#7201a8"
             ],
             [
              0.3333333333333333,
              "#9c179e"
             ],
             [
              0.4444444444444444,
              "#bd3786"
             ],
             [
              0.5555555555555556,
              "#d8576b"
             ],
             [
              0.6666666666666666,
              "#ed7953"
             ],
             [
              0.7777777777777778,
              "#fb9f3a"
             ],
             [
              0.8888888888888888,
              "#fdca26"
             ],
             [
              1,
              "#f0f921"
             ]
            ],
            "type": "histogram2dcontour"
           }
          ],
          "mesh3d": [
           {
            "colorbar": {
             "outlinewidth": 0,
             "ticks": ""
            },
            "type": "mesh3d"
           }
          ],
          "parcoords": [
           {
            "line": {
             "colorbar": {
              "outlinewidth": 0,
              "ticks": ""
             }
            },
            "type": "parcoords"
           }
          ],
          "pie": [
           {
            "automargin": true,
            "type": "pie"
           }
          ],
          "scatter": [
           {
            "fillpattern": {
             "fillmode": "overlay",
             "size": 10,
             "solidity": 0.2
            },
            "type": "scatter"
           }
          ],
          "scatter3d": [
           {
            "line": {
             "colorbar": {
              "outlinewidth": 0,
              "ticks": ""
             }
            },
            "marker": {
             "colorbar": {
              "outlinewidth": 0,
              "ticks": ""
             }
            },
            "type": "scatter3d"
           }
          ],
          "scattercarpet": [
           {
            "marker": {
             "colorbar": {
              "outlinewidth": 0,
              "ticks": ""
             }
            },
            "type": "scattercarpet"
           }
          ],
          "scattergeo": [
           {
            "marker": {
             "colorbar": {
              "outlinewidth": 0,
              "ticks": ""
             }
            },
            "type": "scattergeo"
           }
          ],
          "scattergl": [
           {
            "marker": {
             "colorbar": {
              "outlinewidth": 0,
              "ticks": ""
             }
            },
            "type": "scattergl"
           }
          ],
          "scattermapbox": [
           {
            "marker": {
             "colorbar": {
              "outlinewidth": 0,
              "ticks": ""
             }
            },
            "type": "scattermapbox"
           }
          ],
          "scatterpolar": [
           {
            "marker": {
             "colorbar": {
              "outlinewidth": 0,
              "ticks": ""
             }
            },
            "type": "scatterpolar"
           }
          ],
          "scatterpolargl": [
           {
            "marker": {
             "colorbar": {
              "outlinewidth": 0,
              "ticks": ""
             }
            },
            "type": "scatterpolargl"
           }
          ],
          "scatterternary": [
           {
            "marker": {
             "colorbar": {
              "outlinewidth": 0,
              "ticks": ""
             }
            },
            "type": "scatterternary"
           }
          ],
          "surface": [
           {
            "colorbar": {
             "outlinewidth": 0,
             "ticks": ""
            },
            "colorscale": [
             [
              0,
              "#0d0887"
             ],
             [
              0.1111111111111111,
              "#46039f"
             ],
             [
              0.2222222222222222,
              "#7201a8"
             ],
             [
              0.3333333333333333,
              "#9c179e"
             ],
             [
              0.4444444444444444,
              "#bd3786"
             ],
             [
              0.5555555555555556,
              "#d8576b"
             ],
             [
              0.6666666666666666,
              "#ed7953"
             ],
             [
              0.7777777777777778,
              "#fb9f3a"
             ],
             [
              0.8888888888888888,
              "#fdca26"
             ],
             [
              1,
              "#f0f921"
             ]
            ],
            "type": "surface"
           }
          ],
          "table": [
           {
            "cells": {
             "fill": {
              "color": "#EBF0F8"
             },
             "line": {
              "color": "white"
             }
            },
            "header": {
             "fill": {
              "color": "#C8D4E3"
             },
             "line": {
              "color": "white"
             }
            },
            "type": "table"
           }
          ]
         },
         "layout": {
          "annotationdefaults": {
           "arrowcolor": "#2a3f5f",
           "arrowhead": 0,
           "arrowwidth": 1
          },
          "autotypenumbers": "strict",
          "coloraxis": {
           "colorbar": {
            "outlinewidth": 0,
            "ticks": ""
           }
          },
          "colorscale": {
           "diverging": [
            [
             0,
             "#8e0152"
            ],
            [
             0.1,
             "#c51b7d"
            ],
            [
             0.2,
             "#de77ae"
            ],
            [
             0.3,
             "#f1b6da"
            ],
            [
             0.4,
             "#fde0ef"
            ],
            [
             0.5,
             "#f7f7f7"
            ],
            [
             0.6,
             "#e6f5d0"
            ],
            [
             0.7,
             "#b8e186"
            ],
            [
             0.8,
             "#7fbc41"
            ],
            [
             0.9,
             "#4d9221"
            ],
            [
             1,
             "#276419"
            ]
           ],
           "sequential": [
            [
             0,
             "#0d0887"
            ],
            [
             0.1111111111111111,
             "#46039f"
            ],
            [
             0.2222222222222222,
             "#7201a8"
            ],
            [
             0.3333333333333333,
             "#9c179e"
            ],
            [
             0.4444444444444444,
             "#bd3786"
            ],
            [
             0.5555555555555556,
             "#d8576b"
            ],
            [
             0.6666666666666666,
             "#ed7953"
            ],
            [
             0.7777777777777778,
             "#fb9f3a"
            ],
            [
             0.8888888888888888,
             "#fdca26"
            ],
            [
             1,
             "#f0f921"
            ]
           ],
           "sequentialminus": [
            [
             0,
             "#0d0887"
            ],
            [
             0.1111111111111111,
             "#46039f"
            ],
            [
             0.2222222222222222,
             "#7201a8"
            ],
            [
             0.3333333333333333,
             "#9c179e"
            ],
            [
             0.4444444444444444,
             "#bd3786"
            ],
            [
             0.5555555555555556,
             "#d8576b"
            ],
            [
             0.6666666666666666,
             "#ed7953"
            ],
            [
             0.7777777777777778,
             "#fb9f3a"
            ],
            [
             0.8888888888888888,
             "#fdca26"
            ],
            [
             1,
             "#f0f921"
            ]
           ]
          },
          "colorway": [
           "#636efa",
           "#EF553B",
           "#00cc96",
           "#ab63fa",
           "#FFA15A",
           "#19d3f3",
           "#FF6692",
           "#B6E880",
           "#FF97FF",
           "#FECB52"
          ],
          "font": {
           "color": "#2a3f5f"
          },
          "geo": {
           "bgcolor": "white",
           "lakecolor": "white",
           "landcolor": "#E5ECF6",
           "showlakes": true,
           "showland": true,
           "subunitcolor": "white"
          },
          "hoverlabel": {
           "align": "left"
          },
          "hovermode": "closest",
          "mapbox": {
           "style": "light"
          },
          "paper_bgcolor": "white",
          "plot_bgcolor": "#E5ECF6",
          "polar": {
           "angularaxis": {
            "gridcolor": "white",
            "linecolor": "white",
            "ticks": ""
           },
           "bgcolor": "#E5ECF6",
           "radialaxis": {
            "gridcolor": "white",
            "linecolor": "white",
            "ticks": ""
           }
          },
          "scene": {
           "xaxis": {
            "backgroundcolor": "#E5ECF6",
            "gridcolor": "white",
            "gridwidth": 2,
            "linecolor": "white",
            "showbackground": true,
            "ticks": "",
            "zerolinecolor": "white"
           },
           "yaxis": {
            "backgroundcolor": "#E5ECF6",
            "gridcolor": "white",
            "gridwidth": 2,
            "linecolor": "white",
            "showbackground": true,
            "ticks": "",
            "zerolinecolor": "white"
           },
           "zaxis": {
            "backgroundcolor": "#E5ECF6",
            "gridcolor": "white",
            "gridwidth": 2,
            "linecolor": "white",
            "showbackground": true,
            "ticks": "",
            "zerolinecolor": "white"
           }
          },
          "shapedefaults": {
           "line": {
            "color": "#2a3f5f"
           }
          },
          "ternary": {
           "aaxis": {
            "gridcolor": "white",
            "linecolor": "white",
            "ticks": ""
           },
           "baxis": {
            "gridcolor": "white",
            "linecolor": "white",
            "ticks": ""
           },
           "bgcolor": "#E5ECF6",
           "caxis": {
            "gridcolor": "white",
            "linecolor": "white",
            "ticks": ""
           }
          },
          "title": {
           "x": 0.05
          },
          "xaxis": {
           "automargin": true,
           "gridcolor": "white",
           "linecolor": "white",
           "ticks": "",
           "title": {
            "standoff": 15
           },
           "zerolinecolor": "white",
           "zerolinewidth": 2
          },
          "yaxis": {
           "automargin": true,
           "gridcolor": "white",
           "linecolor": "white",
           "ticks": "",
           "title": {
            "standoff": 15
           },
           "zerolinecolor": "white",
           "zerolinewidth": 2
          }
         }
        },
        "title": {
         "text": "Distance Traveled by Session Number"
        },
        "xaxis": {
         "title": {
          "text": "Session Number"
         }
        },
        "yaxis": {
         "title": {
          "text": "Distance Traveled"
         }
        }
       }
      }
     },
     "metadata": {},
     "output_type": "display_data"
    },
    {
     "data": {
      "application/vnd.plotly.v1+json": {
       "config": {
        "plotlyServerURL": "https://plot.ly"
       },
       "data": [
        {
         "marker": {
          "color": [
           0,
           0,
           0,
           0,
           0,
           0,
           0,
           0,
           0,
           0,
           0,
           0,
           0
          ],
          "colorscale": [
           [
            0,
            "rgb(103,0,31)"
           ],
           [
            0.1,
            "rgb(178,24,43)"
           ],
           [
            0.2,
            "rgb(214,96,77)"
           ],
           [
            0.3,
            "rgb(244,165,130)"
           ],
           [
            0.4,
            "rgb(253,219,199)"
           ],
           [
            0.5,
            "rgb(247,247,247)"
           ],
           [
            0.6,
            "rgb(209,229,240)"
           ],
           [
            0.7,
            "rgb(146,197,222)"
           ],
           [
            0.8,
            "rgb(67,147,195)"
           ],
           [
            0.9,
            "rgb(33,102,172)"
           ],
           [
            1,
            "rgb(5,48,97)"
           ]
          ]
         },
         "mode": "markers",
         "name": "Distance Traveled",
         "showlegend": true,
         "type": "scatter",
         "x": [
          1,
          2,
          3,
          4,
          5,
          6,
          7,
          8,
          9,
          10,
          11,
          12,
          13
         ],
         "y": [
          655297.5804871407,
          457448.3631451816,
          439316.15887511737,
          468885.9627721219,
          584143.4478082042,
          740486.559914116,
          659202.1323992705,
          747118.9791622803,
          696948.2481736927,
          687219.3504889571,
          706788.9183672273,
          624743.2130849316,
          614257.2321552876
         ]
        },
        {
         "line": {
          "color": "red"
         },
         "mode": "lines",
         "name": "Fitted Line",
         "type": "scatter",
         "x": [
          1,
          1.121212121212121,
          1.2424242424242424,
          1.3636363636363638,
          1.4848484848484849,
          1.606060606060606,
          1.7272727272727273,
          1.8484848484848486,
          1.9696969696969697,
          2.090909090909091,
          2.212121212121212,
          2.3333333333333335,
          2.4545454545454546,
          2.5757575757575757,
          2.6969696969696972,
          2.8181818181818183,
          2.9393939393939394,
          3.0606060606060606,
          3.1818181818181817,
          3.303030303030303,
          3.4242424242424243,
          3.5454545454545454,
          3.666666666666667,
          3.787878787878788,
          3.909090909090909,
          4.03030303030303,
          4.151515151515151,
          4.272727272727273,
          4.3939393939393945,
          4.515151515151516,
          4.636363636363637,
          4.757575757575758,
          4.878787878787879,
          5,
          5.121212121212121,
          5.242424242424242,
          5.363636363636363,
          5.484848484848485,
          5.606060606060606,
          5.7272727272727275,
          5.848484848484849,
          5.96969696969697,
          6.090909090909091,
          6.212121212121212,
          6.333333333333334,
          6.454545454545455,
          6.575757575757576,
          6.696969696969697,
          6.818181818181818,
          6.9393939393939394,
          7.0606060606060606,
          7.181818181818182,
          7.303030303030303,
          7.424242424242425,
          7.545454545454546,
          7.666666666666667,
          7.787878787878788,
          7.909090909090909,
          8.030303030303031,
          8.151515151515152,
          8.272727272727273,
          8.393939393939394,
          8.515151515151516,
          8.636363636363637,
          8.757575757575758,
          8.878787878787879,
          9,
          9.121212121212121,
          9.242424242424242,
          9.363636363636363,
          9.484848484848484,
          9.606060606060606,
          9.727272727272727,
          9.84848484848485,
          9.96969696969697,
          10.090909090909092,
          10.212121212121213,
          10.333333333333334,
          10.454545454545455,
          10.575757575757576,
          10.696969696969697,
          10.818181818181818,
          10.93939393939394,
          11.06060606060606,
          11.181818181818182,
          11.303030303030303,
          11.424242424242424,
          11.545454545454545,
          11.666666666666668,
          11.787878787878789,
          11.90909090909091,
          12.030303030303031,
          12.151515151515152,
          12.272727272727273,
          12.393939393939394,
          12.515151515151516,
          12.636363636363637,
          12.757575757575758,
          12.878787878787879,
          13
         ],
         "y": [
          537702.163576017,
          539398.7106161807,
          541095.2576563443,
          542791.804696508,
          544488.3517366716,
          546184.8987768353,
          547881.445816999,
          549577.9928571626,
          551274.5398973263,
          552971.0869374899,
          554667.6339776536,
          556364.1810178172,
          558060.7280579809,
          559757.2750981445,
          561453.8221383082,
          563150.3691784719,
          564846.9162186355,
          566543.4632587992,
          568240.0102989628,
          569936.5573391265,
          571633.1043792901,
          573329.6514194538,
          575026.1984596174,
          576722.7454997811,
          578419.2925399448,
          580115.8395801084,
          581812.386620272,
          583508.9336604357,
          585205.4807005993,
          586902.0277407629,
          588598.5747809266,
          590295.1218210902,
          591991.6688612539,
          593688.2159014175,
          595384.7629415812,
          597081.3099817449,
          598777.8570219085,
          600474.4040620722,
          602170.9511022358,
          603867.4981423995,
          605564.0451825631,
          607260.5922227268,
          608957.1392628904,
          610653.6863030541,
          612350.2333432178,
          614046.7803833814,
          615743.3274235451,
          617439.8744637087,
          619136.4215038724,
          620832.968544036,
          622529.5155841997,
          624226.0626243632,
          625922.6096645269,
          627619.1567046905,
          629315.7037448543,
          631012.2507850179,
          632708.7978251815,
          634405.3448653452,
          636101.8919055088,
          637798.4389456725,
          639494.9859858361,
          641191.5330259998,
          642888.0800661634,
          644584.6271063271,
          646281.1741464908,
          647977.7211866544,
          649674.2682268181,
          651370.8152669817,
          653067.3623071454,
          654763.909347309,
          656460.4563874727,
          658157.0034276363,
          659853.5504678,
          661550.0975079637,
          663246.6445481273,
          664943.191588291,
          666639.7386284546,
          668336.2856686183,
          670032.8327087818,
          671729.3797489456,
          673425.9267891091,
          675122.4738292729,
          676819.0208694364,
          678515.5679096001,
          680212.1149497638,
          681908.6619899274,
          683605.2090300911,
          685301.7560702547,
          686998.3031104184,
          688694.850150582,
          690391.3971907457,
          692087.9442309093,
          693784.491271073,
          695481.0383112367,
          697177.5853514003,
          698874.132391564,
          700570.6794317276,
          702267.2264718913,
          703963.7735120549,
          705660.3205522186
         ]
        },
        {
         "line": {
          "width": 0
         },
         "mode": "lines",
         "showlegend": false,
         "type": "scatter",
         "x": [
          1,
          1.121212121212121,
          1.2424242424242424,
          1.3636363636363638,
          1.4848484848484849,
          1.606060606060606,
          1.7272727272727273,
          1.8484848484848486,
          1.9696969696969697,
          2.090909090909091,
          2.212121212121212,
          2.3333333333333335,
          2.4545454545454546,
          2.5757575757575757,
          2.6969696969696972,
          2.8181818181818183,
          2.9393939393939394,
          3.0606060606060606,
          3.1818181818181817,
          3.303030303030303,
          3.4242424242424243,
          3.5454545454545454,
          3.666666666666667,
          3.787878787878788,
          3.909090909090909,
          4.03030303030303,
          4.151515151515151,
          4.272727272727273,
          4.3939393939393945,
          4.515151515151516,
          4.636363636363637,
          4.757575757575758,
          4.878787878787879,
          5,
          5.121212121212121,
          5.242424242424242,
          5.363636363636363,
          5.484848484848485,
          5.606060606060606,
          5.7272727272727275,
          5.848484848484849,
          5.96969696969697,
          6.090909090909091,
          6.212121212121212,
          6.333333333333334,
          6.454545454545455,
          6.575757575757576,
          6.696969696969697,
          6.818181818181818,
          6.9393939393939394,
          7.0606060606060606,
          7.181818181818182,
          7.303030303030303,
          7.424242424242425,
          7.545454545454546,
          7.666666666666667,
          7.787878787878788,
          7.909090909090909,
          8.030303030303031,
          8.151515151515152,
          8.272727272727273,
          8.393939393939394,
          8.515151515151516,
          8.636363636363637,
          8.757575757575758,
          8.878787878787879,
          9,
          9.121212121212121,
          9.242424242424242,
          9.363636363636363,
          9.484848484848484,
          9.606060606060606,
          9.727272727272727,
          9.84848484848485,
          9.96969696969697,
          10.090909090909092,
          10.212121212121213,
          10.333333333333334,
          10.454545454545455,
          10.575757575757576,
          10.696969696969697,
          10.818181818181818,
          10.93939393939394,
          11.06060606060606,
          11.181818181818182,
          11.303030303030303,
          11.424242424242424,
          11.545454545454545,
          11.666666666666668,
          11.787878787878789,
          11.90909090909091,
          12.030303030303031,
          12.151515151515152,
          12.272727272727273,
          12.393939393939394,
          12.515151515151516,
          12.636363636363637,
          12.757575757575758,
          12.878787878787879,
          13
         ],
         "y": [
          587423.186356781,
          588398.594123624,
          589378.2769212739,
          590362.4280175124,
          591351.2511900451,
          592344.9613355221,
          593343.7851088077,
          594347.9615924878,
          595357.7429962076,
          596373.3953849587,
          597395.1994348384,
          598423.4512140959,
          599458.4629864275,
          600500.5640324593,
          601550.1014841648,
          602607.4411655524,
          603672.9684313332,
          604747.0889933989,
          605830.2297228024,
          606922.8394125144,
          608025.3894835372,
          609138.3746139797,
          610262.3132674723,
          611397.7480938582,
          612545.2461714987,
          613705.3990568783,
          614878.8226036181,
          616066.1565096714,
          617268.063548611,
          618485.2284388117,
          619718.3563032578,
          620968.1706731167,
          622235.4109904408,
          623520.829569876,
          624825.187986458,
          626149.2528668426,
          627493.7910749108,
          628859.5642997427,
          630247.3230743562,
          631657.8002769982,
          633091.7041924477,
          634549.7112377016,
          636032.4584831548,
          637540.5361252582,
          639074.4800877207,
          640634.7649436517,
          642221.7973587594,
          643835.9102543291,
          645477.3578772466,
          647146.3119425738,
          648842.8589827374,
          650566.9989977374,
          652318.6454551473,
          654097.6266399049,
          655903.6883051246,
          657736.4975295208,
          659595.6476473856,
          661480.6640856095,
          663391.0109204836,
          665326.097955557,
          667285.2881204349,
          669267.9049981202,
          671273.240303834,
          673300.5611593294,
          675349.1170315885,
          677418.1462315312,
          679506.8818952765,
          681614.5573961686,
          683740.4111591718,
          685883.6908696402,
          688043.6570855215,
          690219.5862756481,
          692410.7733170355,
          694616.5334913098,
          696836.2040248972,
          699069.1452198449,
          701314.7412225318,
          703572.4004764732,
          705841.5559033077,
          708121.6648531926,
          710412.208862497,
          712712.6932531125,
          715022.6466040362,
          717341.6201222978,
          719669.1869368443,
          722004.941335784,
          724348.4979644058,
          726699.4909987013,
          729057.5733066971,
          731422.4156077668,
          733793.7056382145,
          736171.1473297906,
          738554.4600063981,
          740943.3776030454,
          743337.6479100871,
          745737.0318449375,
          748141.3027527321,
          750550.2457368209,
          752963.6570194983,
          755381.3433329826
         ]
        },
        {
         "fill": "tonexty",
         "fillcolor": "rgba(255,0,0,0.2)",
         "line": {
          "width": 0
         },
         "mode": "lines",
         "name": "SEM",
         "type": "scatter",
         "x": [
          1,
          1.121212121212121,
          1.2424242424242424,
          1.3636363636363638,
          1.4848484848484849,
          1.606060606060606,
          1.7272727272727273,
          1.8484848484848486,
          1.9696969696969697,
          2.090909090909091,
          2.212121212121212,
          2.3333333333333335,
          2.4545454545454546,
          2.5757575757575757,
          2.6969696969696972,
          2.8181818181818183,
          2.9393939393939394,
          3.0606060606060606,
          3.1818181818181817,
          3.303030303030303,
          3.4242424242424243,
          3.5454545454545454,
          3.666666666666667,
          3.787878787878788,
          3.909090909090909,
          4.03030303030303,
          4.151515151515151,
          4.272727272727273,
          4.3939393939393945,
          4.515151515151516,
          4.636363636363637,
          4.757575757575758,
          4.878787878787879,
          5,
          5.121212121212121,
          5.242424242424242,
          5.363636363636363,
          5.484848484848485,
          5.606060606060606,
          5.7272727272727275,
          5.848484848484849,
          5.96969696969697,
          6.090909090909091,
          6.212121212121212,
          6.333333333333334,
          6.454545454545455,
          6.575757575757576,
          6.696969696969697,
          6.818181818181818,
          6.9393939393939394,
          7.0606060606060606,
          7.181818181818182,
          7.303030303030303,
          7.424242424242425,
          7.545454545454546,
          7.666666666666667,
          7.787878787878788,
          7.909090909090909,
          8.030303030303031,
          8.151515151515152,
          8.272727272727273,
          8.393939393939394,
          8.515151515151516,
          8.636363636363637,
          8.757575757575758,
          8.878787878787879,
          9,
          9.121212121212121,
          9.242424242424242,
          9.363636363636363,
          9.484848484848484,
          9.606060606060606,
          9.727272727272727,
          9.84848484848485,
          9.96969696969697,
          10.090909090909092,
          10.212121212121213,
          10.333333333333334,
          10.454545454545455,
          10.575757575757576,
          10.696969696969697,
          10.818181818181818,
          10.93939393939394,
          11.06060606060606,
          11.181818181818182,
          11.303030303030303,
          11.424242424242424,
          11.545454545454545,
          11.666666666666668,
          11.787878787878789,
          11.90909090909091,
          12.030303030303031,
          12.151515151515152,
          12.272727272727273,
          12.393939393939394,
          12.515151515151516,
          12.636363636363637,
          12.757575757575758,
          12.878787878787879,
          13
         ],
         "y": [
          487981.14079525304,
          490398.8271087374,
          492812.23839141475,
          495221.1813755036,
          497625.45228329813,
          500024.83621814847,
          502419.1065251901,
          504808.02412183746,
          507191.336798445,
          509568.77849002107,
          511940.0685204688,
          514304.9108215385,
          516662.9931295343,
          519013.98616382974,
          521357.5427924516,
          523693.29719139135,
          526020.8640059378,
          528339.8375241994,
          530649.7908751232,
          532950.2752657386,
          535240.8192750431,
          537520.9282249279,
          539790.0836517626,
          542047.742905704,
          544293.3389083908,
          546526.2801033385,
          548745.9506369258,
          550951.7108112001,
          553142.8978525875,
          555318.8270427141,
          557478.7932585954,
          559622.0729690638,
          561747.926732067,
          563855.6022329591,
          565944.3378967044,
          568013.3670966472,
          570061.9229689062,
          572089.2438244016,
          574094.5791301155,
          576077.1960078008,
          578036.3861726786,
          579971.473207752,
          581881.8200426261,
          583766.83648085,
          585625.9865987148,
          587458.7958231111,
          589264.8574883307,
          591043.8386730884,
          592795.4851304982,
          594519.6251454983,
          596216.172185662,
          597885.126250989,
          599526.5738739065,
          601140.6867694762,
          602727.719184584,
          604288.0040405149,
          605821.9480029774,
          607330.0256450808,
          608812.772890534,
          610270.7799357879,
          611704.6838512374,
          613115.1610538794,
          614502.9198284929,
          615868.6930533248,
          617213.231261393,
          618537.2961417777,
          619841.6545583596,
          621127.0731377949,
          622394.3134551189,
          623644.1278249779,
          624877.2556894239,
          626094.4205796246,
          627296.3276185645,
          628483.6615246175,
          629657.0850713574,
          630817.237956737,
          631964.7360343775,
          633100.1708607634,
          634224.1095142559,
          635337.0946446985,
          636439.6447157213,
          637532.2544054333,
          638615.3951348367,
          639689.5156969024,
          640755.0429626832,
          641812.3826440708,
          642861.9200957763,
          643904.0211418081,
          644939.0329141397,
          645967.2846933972,
          646989.0887432769,
          648004.741132028,
          649014.5225357478,
          650018.6990194279,
          651017.5227927135,
          652011.2329381905,
          653000.0561107232,
          653984.2072069617,
          654963.8900046116,
          655939.2977714546
         ]
        }
       ],
       "layout": {
        "hovermode": "x unified",
        "template": {
         "data": {
          "bar": [
           {
            "error_x": {
             "color": "#2a3f5f"
            },
            "error_y": {
             "color": "#2a3f5f"
            },
            "marker": {
             "line": {
              "color": "#E5ECF6",
              "width": 0.5
             },
             "pattern": {
              "fillmode": "overlay",
              "size": 10,
              "solidity": 0.2
             }
            },
            "type": "bar"
           }
          ],
          "barpolar": [
           {
            "marker": {
             "line": {
              "color": "#E5ECF6",
              "width": 0.5
             },
             "pattern": {
              "fillmode": "overlay",
              "size": 10,
              "solidity": 0.2
             }
            },
            "type": "barpolar"
           }
          ],
          "carpet": [
           {
            "aaxis": {
             "endlinecolor": "#2a3f5f",
             "gridcolor": "white",
             "linecolor": "white",
             "minorgridcolor": "white",
             "startlinecolor": "#2a3f5f"
            },
            "baxis": {
             "endlinecolor": "#2a3f5f",
             "gridcolor": "white",
             "linecolor": "white",
             "minorgridcolor": "white",
             "startlinecolor": "#2a3f5f"
            },
            "type": "carpet"
           }
          ],
          "choropleth": [
           {
            "colorbar": {
             "outlinewidth": 0,
             "ticks": ""
            },
            "type": "choropleth"
           }
          ],
          "contour": [
           {
            "colorbar": {
             "outlinewidth": 0,
             "ticks": ""
            },
            "colorscale": [
             [
              0,
              "#0d0887"
             ],
             [
              0.1111111111111111,
              "#46039f"
             ],
             [
              0.2222222222222222,
              "#7201a8"
             ],
             [
              0.3333333333333333,
              "#9c179e"
             ],
             [
              0.4444444444444444,
              "#bd3786"
             ],
             [
              0.5555555555555556,
              "#d8576b"
             ],
             [
              0.6666666666666666,
              "#ed7953"
             ],
             [
              0.7777777777777778,
              "#fb9f3a"
             ],
             [
              0.8888888888888888,
              "#fdca26"
             ],
             [
              1,
              "#f0f921"
             ]
            ],
            "type": "contour"
           }
          ],
          "contourcarpet": [
           {
            "colorbar": {
             "outlinewidth": 0,
             "ticks": ""
            },
            "type": "contourcarpet"
           }
          ],
          "heatmap": [
           {
            "colorbar": {
             "outlinewidth": 0,
             "ticks": ""
            },
            "colorscale": [
             [
              0,
              "#0d0887"
             ],
             [
              0.1111111111111111,
              "#46039f"
             ],
             [
              0.2222222222222222,
              "#7201a8"
             ],
             [
              0.3333333333333333,
              "#9c179e"
             ],
             [
              0.4444444444444444,
              "#bd3786"
             ],
             [
              0.5555555555555556,
              "#d8576b"
             ],
             [
              0.6666666666666666,
              "#ed7953"
             ],
             [
              0.7777777777777778,
              "#fb9f3a"
             ],
             [
              0.8888888888888888,
              "#fdca26"
             ],
             [
              1,
              "#f0f921"
             ]
            ],
            "type": "heatmap"
           }
          ],
          "heatmapgl": [
           {
            "colorbar": {
             "outlinewidth": 0,
             "ticks": ""
            },
            "colorscale": [
             [
              0,
              "#0d0887"
             ],
             [
              0.1111111111111111,
              "#46039f"
             ],
             [
              0.2222222222222222,
              "#7201a8"
             ],
             [
              0.3333333333333333,
              "#9c179e"
             ],
             [
              0.4444444444444444,
              "#bd3786"
             ],
             [
              0.5555555555555556,
              "#d8576b"
             ],
             [
              0.6666666666666666,
              "#ed7953"
             ],
             [
              0.7777777777777778,
              "#fb9f3a"
             ],
             [
              0.8888888888888888,
              "#fdca26"
             ],
             [
              1,
              "#f0f921"
             ]
            ],
            "type": "heatmapgl"
           }
          ],
          "histogram": [
           {
            "marker": {
             "pattern": {
              "fillmode": "overlay",
              "size": 10,
              "solidity": 0.2
             }
            },
            "type": "histogram"
           }
          ],
          "histogram2d": [
           {
            "colorbar": {
             "outlinewidth": 0,
             "ticks": ""
            },
            "colorscale": [
             [
              0,
              "#0d0887"
             ],
             [
              0.1111111111111111,
              "#46039f"
             ],
             [
              0.2222222222222222,
              "#7201a8"
             ],
             [
              0.3333333333333333,
              "#9c179e"
             ],
             [
              0.4444444444444444,
              "#bd3786"
             ],
             [
              0.5555555555555556,
              "#d8576b"
             ],
             [
              0.6666666666666666,
              "#ed7953"
             ],
             [
              0.7777777777777778,
              "#fb9f3a"
             ],
             [
              0.8888888888888888,
              "#fdca26"
             ],
             [
              1,
              "#f0f921"
             ]
            ],
            "type": "histogram2d"
           }
          ],
          "histogram2dcontour": [
           {
            "colorbar": {
             "outlinewidth": 0,
             "ticks": ""
            },
            "colorscale": [
             [
              0,
              "#0d0887"
             ],
             [
              0.1111111111111111,
              "#46039f"
             ],
             [
              0.2222222222222222,
              "#7201a8"
             ],
             [
              0.3333333333333333,
              "#9c179e"
             ],
             [
              0.4444444444444444,
              "#bd3786"
             ],
             [
              0.5555555555555556,
              "#d8576b"
             ],
             [
              0.6666666666666666,
              "#ed7953"
             ],
             [
              0.7777777777777778,
              "#fb9f3a"
             ],
             [
              0.8888888888888888,
              "#fdca26"
             ],
             [
              1,
              "#f0f921"
             ]
            ],
            "type": "histogram2dcontour"
           }
          ],
          "mesh3d": [
           {
            "colorbar": {
             "outlinewidth": 0,
             "ticks": ""
            },
            "type": "mesh3d"
           }
          ],
          "parcoords": [
           {
            "line": {
             "colorbar": {
              "outlinewidth": 0,
              "ticks": ""
             }
            },
            "type": "parcoords"
           }
          ],
          "pie": [
           {
            "automargin": true,
            "type": "pie"
           }
          ],
          "scatter": [
           {
            "fillpattern": {
             "fillmode": "overlay",
             "size": 10,
             "solidity": 0.2
            },
            "type": "scatter"
           }
          ],
          "scatter3d": [
           {
            "line": {
             "colorbar": {
              "outlinewidth": 0,
              "ticks": ""
             }
            },
            "marker": {
             "colorbar": {
              "outlinewidth": 0,
              "ticks": ""
             }
            },
            "type": "scatter3d"
           }
          ],
          "scattercarpet": [
           {
            "marker": {
             "colorbar": {
              "outlinewidth": 0,
              "ticks": ""
             }
            },
            "type": "scattercarpet"
           }
          ],
          "scattergeo": [
           {
            "marker": {
             "colorbar": {
              "outlinewidth": 0,
              "ticks": ""
             }
            },
            "type": "scattergeo"
           }
          ],
          "scattergl": [
           {
            "marker": {
             "colorbar": {
              "outlinewidth": 0,
              "ticks": ""
             }
            },
            "type": "scattergl"
           }
          ],
          "scattermapbox": [
           {
            "marker": {
             "colorbar": {
              "outlinewidth": 0,
              "ticks": ""
             }
            },
            "type": "scattermapbox"
           }
          ],
          "scatterpolar": [
           {
            "marker": {
             "colorbar": {
              "outlinewidth": 0,
              "ticks": ""
             }
            },
            "type": "scatterpolar"
           }
          ],
          "scatterpolargl": [
           {
            "marker": {
             "colorbar": {
              "outlinewidth": 0,
              "ticks": ""
             }
            },
            "type": "scatterpolargl"
           }
          ],
          "scatterternary": [
           {
            "marker": {
             "colorbar": {
              "outlinewidth": 0,
              "ticks": ""
             }
            },
            "type": "scatterternary"
           }
          ],
          "surface": [
           {
            "colorbar": {
             "outlinewidth": 0,
             "ticks": ""
            },
            "colorscale": [
             [
              0,
              "#0d0887"
             ],
             [
              0.1111111111111111,
              "#46039f"
             ],
             [
              0.2222222222222222,
              "#7201a8"
             ],
             [
              0.3333333333333333,
              "#9c179e"
             ],
             [
              0.4444444444444444,
              "#bd3786"
             ],
             [
              0.5555555555555556,
              "#d8576b"
             ],
             [
              0.6666666666666666,
              "#ed7953"
             ],
             [
              0.7777777777777778,
              "#fb9f3a"
             ],
             [
              0.8888888888888888,
              "#fdca26"
             ],
             [
              1,
              "#f0f921"
             ]
            ],
            "type": "surface"
           }
          ],
          "table": [
           {
            "cells": {
             "fill": {
              "color": "#EBF0F8"
             },
             "line": {
              "color": "white"
             }
            },
            "header": {
             "fill": {
              "color": "#C8D4E3"
             },
             "line": {
              "color": "white"
             }
            },
            "type": "table"
           }
          ]
         },
         "layout": {
          "annotationdefaults": {
           "arrowcolor": "#2a3f5f",
           "arrowhead": 0,
           "arrowwidth": 1
          },
          "autotypenumbers": "strict",
          "coloraxis": {
           "colorbar": {
            "outlinewidth": 0,
            "ticks": ""
           }
          },
          "colorscale": {
           "diverging": [
            [
             0,
             "#8e0152"
            ],
            [
             0.1,
             "#c51b7d"
            ],
            [
             0.2,
             "#de77ae"
            ],
            [
             0.3,
             "#f1b6da"
            ],
            [
             0.4,
             "#fde0ef"
            ],
            [
             0.5,
             "#f7f7f7"
            ],
            [
             0.6,
             "#e6f5d0"
            ],
            [
             0.7,
             "#b8e186"
            ],
            [
             0.8,
             "#7fbc41"
            ],
            [
             0.9,
             "#4d9221"
            ],
            [
             1,
             "#276419"
            ]
           ],
           "sequential": [
            [
             0,
             "#0d0887"
            ],
            [
             0.1111111111111111,
             "#46039f"
            ],
            [
             0.2222222222222222,
             "#7201a8"
            ],
            [
             0.3333333333333333,
             "#9c179e"
            ],
            [
             0.4444444444444444,
             "#bd3786"
            ],
            [
             0.5555555555555556,
             "#d8576b"
            ],
            [
             0.6666666666666666,
             "#ed7953"
            ],
            [
             0.7777777777777778,
             "#fb9f3a"
            ],
            [
             0.8888888888888888,
             "#fdca26"
            ],
            [
             1,
             "#f0f921"
            ]
           ],
           "sequentialminus": [
            [
             0,
             "#0d0887"
            ],
            [
             0.1111111111111111,
             "#46039f"
            ],
            [
             0.2222222222222222,
             "#7201a8"
            ],
            [
             0.3333333333333333,
             "#9c179e"
            ],
            [
             0.4444444444444444,
             "#bd3786"
            ],
            [
             0.5555555555555556,
             "#d8576b"
            ],
            [
             0.6666666666666666,
             "#ed7953"
            ],
            [
             0.7777777777777778,
             "#fb9f3a"
            ],
            [
             0.8888888888888888,
             "#fdca26"
            ],
            [
             1,
             "#f0f921"
            ]
           ]
          },
          "colorway": [
           "#636efa",
           "#EF553B",
           "#00cc96",
           "#ab63fa",
           "#FFA15A",
           "#19d3f3",
           "#FF6692",
           "#B6E880",
           "#FF97FF",
           "#FECB52"
          ],
          "font": {
           "color": "#2a3f5f"
          },
          "geo": {
           "bgcolor": "white",
           "lakecolor": "white",
           "landcolor": "#E5ECF6",
           "showlakes": true,
           "showland": true,
           "subunitcolor": "white"
          },
          "hoverlabel": {
           "align": "left"
          },
          "hovermode": "closest",
          "mapbox": {
           "style": "light"
          },
          "paper_bgcolor": "white",
          "plot_bgcolor": "#E5ECF6",
          "polar": {
           "angularaxis": {
            "gridcolor": "white",
            "linecolor": "white",
            "ticks": ""
           },
           "bgcolor": "#E5ECF6",
           "radialaxis": {
            "gridcolor": "white",
            "linecolor": "white",
            "ticks": ""
           }
          },
          "scene": {
           "xaxis": {
            "backgroundcolor": "#E5ECF6",
            "gridcolor": "white",
            "gridwidth": 2,
            "linecolor": "white",
            "showbackground": true,
            "ticks": "",
            "zerolinecolor": "white"
           },
           "yaxis": {
            "backgroundcolor": "#E5ECF6",
            "gridcolor": "white",
            "gridwidth": 2,
            "linecolor": "white",
            "showbackground": true,
            "ticks": "",
            "zerolinecolor": "white"
           },
           "zaxis": {
            "backgroundcolor": "#E5ECF6",
            "gridcolor": "white",
            "gridwidth": 2,
            "linecolor": "white",
            "showbackground": true,
            "ticks": "",
            "zerolinecolor": "white"
           }
          },
          "shapedefaults": {
           "line": {
            "color": "#2a3f5f"
           }
          },
          "ternary": {
           "aaxis": {
            "gridcolor": "white",
            "linecolor": "white",
            "ticks": ""
           },
           "baxis": {
            "gridcolor": "white",
            "linecolor": "white",
            "ticks": ""
           },
           "bgcolor": "#E5ECF6",
           "caxis": {
            "gridcolor": "white",
            "linecolor": "white",
            "ticks": ""
           }
          },
          "title": {
           "x": 0.05
          },
          "xaxis": {
           "automargin": true,
           "gridcolor": "white",
           "linecolor": "white",
           "ticks": "",
           "title": {
            "standoff": 15
           },
           "zerolinecolor": "white",
           "zerolinewidth": 2
          },
          "yaxis": {
           "automargin": true,
           "gridcolor": "white",
           "linecolor": "white",
           "ticks": "",
           "title": {
            "standoff": 15
           },
           "zerolinecolor": "white",
           "zerolinewidth": 2
          }
         }
        },
        "title": {
         "text": "Distance Traveled by Session Number"
        },
        "xaxis": {
         "title": {
          "text": "Session Number"
         }
        },
        "yaxis": {
         "title": {
          "text": "Distance Traveled"
         }
        }
       }
      }
     },
     "metadata": {},
     "output_type": "display_data"
    }
   ],
   "source": [
    "# Make a subset of the summary dataframe for a specific mouse\n",
    "for mouse_id in set(mice):\n",
    "    #mouse_id = '1003'\n",
    "    mouse_df = clickbait.summary_df[clickbait.summary_df['mouse_id'] == mouse_id]\n",
    "    #mouse_df = mouse_df[mouse_df['session_id'].str.contains('full')]   \n",
    "\n",
    "    linear_regression_plot(mouse_df, dv='distance_traveled', iv='session_number', dv_name='Distance Traveled', iv_name='Session Number', error_type='SEM')"
   ]
  },
  {
   "cell_type": "markdown",
   "metadata": {},
   "source": [
    "### Heatmaps"
   ]
  },
  {
   "cell_type": "code",
   "execution_count": 13,
   "metadata": {},
   "outputs": [
    {
     "data": {
      "image/png": "[encoded data removed]",
      "text/plain": [
       "<Figure size 630x1000 with 2 Axes>"
      ]
     },
     "metadata": {},
     "output_type": "display_data"
    }
   ],
   "source": [
    "# Visualize occupancy heatmap\n",
    "mouse = 1006\n",
    "session = 'diet2'\n",
    "session = clickbait.get_session(mouse, session)\n",
    "\n",
    "no_drink = session.event_data[session.event_data['drinking'] == 0]\n",
    "no_drink = no_drink[no_drink['iti'] == 0]\n",
    "\n",
    "visualize_occupancy_heatmap(no_drink, grid_x=125, grid_y=270, dim_x=894, dim_y=1952, log_scale=True, normalize=False, title=\"Mouse 1006 Session 2\", title_size=20, label_size=16, tick_size=15)"
   ]
  },
  {
   "cell_type": "code",
   "execution_count": 14,
   "metadata": {},
   "outputs": [
    {
     "data": {
      "image/png": "[encoded data removed]",
      "text/plain": [
       "<Figure size 630x1000 with 2 Axes>"
      ]
     },
     "metadata": {},
     "output_type": "display_data"
    }
   ],
   "source": [
    "# Visualize occupancy heatmap\n",
    "mouse = 1006\n",
    "session = 'full7'\n",
    "session = clickbait.get_session(mouse, session)\n",
    "\n",
    "no_drink = session.event_data[session.event_data['drinking'] == 0]\n",
    "no_drink = no_drink[no_drink['iti'] == 0]\n",
    "\n",
    "visualize_occupancy_heatmap(no_drink, grid_x=125, grid_y=270, dim_x=894, dim_y=1952, log_scale=True, normalize=False, title=\"Mouse 1006 Session 10\", title_size=20, label_size=16, tick_size=15)"
   ]
  },
  {
   "cell_type": "code",
   "execution_count": 15,
   "metadata": {},
   "outputs": [
    {
     "data": {
      "application/vnd.plotly.v1+json": {
       "config": {
        "plotlyServerURL": "https://plot.ly"
       },
       "data": [
        {
         "marker": {
          "color": [
           0,
           0,
           0,
           0,
           0,
           0,
           0,
           0,
           0,
           0,
           0,
           0
          ],
          "colorscale": [
           [
            0,
            "rgb(103,0,31)"
           ],
           [
            0.1,
            "rgb(178,24,43)"
           ],
           [
            0.2,
            "rgb(214,96,77)"
           ],
           [
            0.3,
            "rgb(244,165,130)"
           ],
           [
            0.4,
            "rgb(253,219,199)"
           ],
           [
            0.5,
            "rgb(247,247,247)"
           ],
           [
            0.6,
            "rgb(209,229,240)"
           ],
           [
            0.7,
            "rgb(146,197,222)"
           ],
           [
            0.8,
            "rgb(67,147,195)"
           ],
           [
            0.9,
            "rgb(33,102,172)"
           ],
           [
            1,
            "rgb(5,48,97)"
           ]
          ]
         },
         "mode": "markers",
         "name": "Distance Traveled",
         "showlegend": true,
         "type": "scatter",
         "x": [
          1,
          2,
          3,
          4,
          5,
          6,
          7,
          8,
          9,
          10,
          11,
          12
         ],
         "y": [
          680954.2216215223,
          595677.9086749172,
          652158.3326155453,
          631073.4833229401,
          715977.6342140008,
          872220.6645878716,
          715674.1487074024,
          832002.725634085,
          778608.8816527801,
          801789.4605783193,
          691164.6514126755,
          823474.0321009015
         ]
        },
        {
         "line": {
          "color": "red"
         },
         "mode": "lines",
         "name": "Fitted Line",
         "type": "scatter",
         "x": [
          1,
          1.1111111111111112,
          1.2222222222222223,
          1.3333333333333333,
          1.4444444444444444,
          1.5555555555555556,
          1.6666666666666665,
          1.7777777777777777,
          1.8888888888888888,
          2,
          2.111111111111111,
          2.2222222222222223,
          2.333333333333333,
          2.4444444444444446,
          2.5555555555555554,
          2.6666666666666665,
          2.7777777777777777,
          2.888888888888889,
          3,
          3.111111111111111,
          3.2222222222222223,
          3.333333333333333,
          3.444444444444444,
          3.5555555555555554,
          3.6666666666666665,
          3.7777777777777777,
          3.888888888888889,
          4,
          4.111111111111111,
          4.222222222222221,
          4.333333333333333,
          4.444444444444445,
          4.555555555555555,
          4.666666666666666,
          4.777777777777778,
          4.888888888888889,
          5,
          5.111111111111111,
          5.222222222222222,
          5.333333333333333,
          5.444444444444445,
          5.555555555555555,
          5.666666666666666,
          5.777777777777778,
          5.888888888888888,
          6,
          6.111111111111111,
          6.222222222222222,
          6.333333333333333,
          6.444444444444444,
          6.555555555555555,
          6.666666666666666,
          6.777777777777778,
          6.888888888888888,
          7,
          7.111111111111111,
          7.222222222222221,
          7.333333333333333,
          7.444444444444444,
          7.555555555555555,
          7.666666666666666,
          7.777777777777778,
          7.888888888888888,
          8,
          8.11111111111111,
          8.222222222222221,
          8.333333333333332,
          8.444444444444443,
          8.555555555555555,
          8.666666666666666,
          8.777777777777779,
          8.88888888888889,
          9,
          9.11111111111111,
          9.222222222222221,
          9.333333333333332,
          9.444444444444445,
          9.555555555555555,
          9.666666666666666,
          9.777777777777777,
          9.88888888888889,
          10,
          10.11111111111111,
          10.222222222222221,
          10.333333333333332,
          10.444444444444445,
          10.555555555555555,
          10.666666666666666,
          10.777777777777777,
          10.888888888888888,
          11,
          11.11111111111111,
          11.222222222222221,
          11.333333333333332,
          11.444444444444445,
          11.555555555555555,
          11.666666666666666,
          11.777777777777777,
          11.888888888888888,
          12
         ],
         "y": [
          647877.7124971427,
          649588.5603004377,
          651299.4081037327,
          653010.2559070277,
          654721.1037103229,
          656431.9515136179,
          658142.7993169129,
          659853.6471202079,
          661564.4949235029,
          663275.3427267979,
          664986.1905300929,
          666697.0383333879,
          668407.8861366829,
          670118.7339399781,
          671829.5817432731,
          673540.4295465681,
          675251.2773498631,
          676962.1251531581,
          678672.9729564531,
          680383.8207597481,
          682094.6685630431,
          683805.5163663381,
          685516.3641696332,
          687227.2119729283,
          688938.0597762233,
          690648.9075795183,
          692359.7553828133,
          694070.6031861083,
          695781.4509894033,
          697492.2987926983,
          699203.1465959933,
          700913.9943992884,
          702624.8422025834,
          704335.6900058785,
          706046.5378091735,
          707757.3856124685,
          709468.2334157635,
          711179.0812190585,
          712889.9290223535,
          714600.7768256485,
          716311.6246289436,
          718022.4724322386,
          719733.3202355336,
          721444.1680388286,
          723155.0158421237,
          724865.8636454187,
          726576.7114487137,
          728287.5592520087,
          729998.4070553037,
          731709.2548585988,
          733420.1026618938,
          735130.9504651888,
          736841.7982684838,
          738552.6460717788,
          740263.4938750739,
          741974.3416783689,
          743685.1894816639,
          745396.0372849589,
          747106.885088254,
          748817.732891549,
          750528.580694844,
          752239.428498139,
          753950.276301434,
          755661.124104729,
          757371.971908024,
          759082.819711319,
          760793.6675146141,
          762504.5153179092,
          764215.3631212042,
          765926.2109244992,
          767637.0587277942,
          769347.9065310892,
          771058.7543343842,
          772769.6021376792,
          774480.4499409744,
          776191.2977442692,
          777902.1455475644,
          779612.9933508594,
          781323.8411541544,
          783034.6889574494,
          784745.5367607444,
          786456.3845640394,
          788167.2323673344,
          789878.0801706295,
          791588.9279739244,
          793299.7757772196,
          795010.6235805146,
          796721.4713838096,
          798432.3191871046,
          800143.1669903996,
          801854.0147936946,
          803564.8625969896,
          805275.7104002847,
          806986.5582035796,
          808697.4060068747,
          810408.2538101698,
          812119.1016134648,
          813829.9494167598,
          815540.7972200548,
          817251.6450233499
         ]
        },
        {
         "line": {
          "width": 0
         },
         "mode": "lines",
         "showlegend": false,
         "type": "scatter",
         "x": [
          1,
          1.1111111111111112,
          1.2222222222222223,
          1.3333333333333333,
          1.4444444444444444,
          1.5555555555555556,
          1.6666666666666665,
          1.7777777777777777,
          1.8888888888888888,
          2,
          2.111111111111111,
          2.2222222222222223,
          2.333333333333333,
          2.4444444444444446,
          2.5555555555555554,
          2.6666666666666665,
          2.7777777777777777,
          2.888888888888889,
          3,
          3.111111111111111,
          3.2222222222222223,
          3.333333333333333,
          3.444444444444444,
          3.5555555555555554,
          3.6666666666666665,
          3.7777777777777777,
          3.888888888888889,
          4,
          4.111111111111111,
          4.222222222222221,
          4.333333333333333,
          4.444444444444445,
          4.555555555555555,
          4.666666666666666,
          4.777777777777778,
          4.888888888888889,
          5,
          5.111111111111111,
          5.222222222222222,
          5.333333333333333,
          5.444444444444445,
          5.555555555555555,
          5.666666666666666,
          5.777777777777778,
          5.888888888888888,
          6,
          6.111111111111111,
          6.222222222222222,
          6.333333333333333,
          6.444444444444444,
          6.555555555555555,
          6.666666666666666,
          6.777777777777778,
          6.888888888888888,
          7,
          7.111111111111111,
          7.222222222222221,
          7.333333333333333,
          7.444444444444444,
          7.555555555555555,
          7.666666666666666,
          7.777777777777778,
          7.888888888888888,
          8,
          8.11111111111111,
          8.222222222222221,
          8.333333333333332,
          8.444444444444443,
          8.555555555555555,
          8.666666666666666,
          8.777777777777779,
          8.88888888888889,
          9,
          9.11111111111111,
          9.222222222222221,
          9.333333333333332,
          9.444444444444445,
          9.555555555555555,
          9.666666666666666,
          9.777777777777777,
          9.88888888888889,
          10,
          10.11111111111111,
          10.222222222222221,
          10.333333333333332,
          10.444444444444445,
          10.555555555555555,
          10.666666666666666,
          10.777777777777777,
          10.888888888888888,
          11,
          11.11111111111111,
          11.222222222222221,
          11.333333333333332,
          11.444444444444445,
          11.555555555555555,
          11.666666666666666,
          11.777777777777777,
          11.888888888888888,
          12
         ],
         "y": [
          686697.6667759272,
          687847.5361693379,
          689000.7616603809,
          690157.4943858945,
          691317.893656223,
          692482.1274246864,
          693650.3727799047,
          694822.8164608807,
          695999.6553944469,
          697181.0972542935,
          698367.3610403377,
          699558.6776766314,
          700755.2906253415,
          701957.456513544,
          703165.4457686389,
          704379.5432571152,
          705600.0489201263,
          706827.278397903,
          708061.5636333858,
          709303.2534436133,
          710552.71404535,
          711810.3295191802,
          713076.5021938572,
          714351.6529300994,
          715636.2212803414,
          716930.6654982155,
          718235.4623689065,
          719551.1068290785,
          720878.1113430202,
          722217.0050001806,
          723568.3322986292,
          724932.6515794407,
          726310.5330788813,
          727702.5565688885,
          729109.3085619607,
          730531.3790645145,
          731969.3578731805,
          733423.8304214799,
          734895.3731997656,
          736384.5487889219,
          737891.9005675572,
          739417.9471725111,
          740963.1768123616,
          742528.0415520106,
          744112.9517019154,
          745718.270456685,
          747344.3089332103,
          748991.3217571601,
          750659.5033378701,
          752348.9849552198,
          754059.8327585148,
          755792.0467477553,
          757545.5607736353,
          759320.2435562755,
          761115.9006863402,
          762932.2775381606,
          764769.0629948458,
          766625.8938617868,
          768502.3598285265,
          770398.0088301626,
          772312.3526581174,
          774244.8726755511,
          776195.0255038554,
          778162.2485621461,
          780145.9653600701,
          782145.5904641063,
          784160.5340776241,
          786190.2061942071,
          788234.0203013564,
          790291.3966271351,
          792361.7649352765,
          794444.5668847061,
          796539.2579773545,
          798645.3091237724,
          800762.2078596716,
          802889.4592483874,
          805026.5865047355,
          807173.1313750832,
          809328.6543069965,
          811492.7344397563,
          813664.9694446096,
          815844.9752409721,
          818032.3856120793,
          820226.8517408927,
          822428.0416844715,
          824635.6398025854,
          826849.3461540805,
          829068.8758724681,
          831293.958530348,
          833524.3375006444,
          835759.7693211902,
          838000.0230679336,
          840244.8797409575,
          842494.1316665715,
          844747.5819179433,
          847005.0437560698,
          849266.3400923315,
          851531.3029734079,
          853799.773088955,
          856071.5993021344
         ]
        },
        {
         "fill": "tonexty",
         "fillcolor": "rgba(255,0,0,0.2)",
         "line": {
          "width": 0
         },
         "mode": "lines",
         "name": "SEM",
         "type": "scatter",
         "x": [
          1,
          1.1111111111111112,
          1.2222222222222223,
          1.3333333333333333,
          1.4444444444444444,
          1.5555555555555556,
          1.6666666666666665,
          1.7777777777777777,
          1.8888888888888888,
          2,
          2.111111111111111,
          2.2222222222222223,
          2.333333333333333,
          2.4444444444444446,
          2.5555555555555554,
          2.6666666666666665,
          2.7777777777777777,
          2.888888888888889,
          3,
          3.111111111111111,
          3.2222222222222223,
          3.333333333333333,
          3.444444444444444,
          3.5555555555555554,
          3.6666666666666665,
          3.7777777777777777,
          3.888888888888889,
          4,
          4.111111111111111,
          4.222222222222221,
          4.333333333333333,
          4.444444444444445,
          4.555555555555555,
          4.666666666666666,
          4.777777777777778,
          4.888888888888889,
          5,
          5.111111111111111,
          5.222222222222222,
          5.333333333333333,
          5.444444444444445,
          5.555555555555555,
          5.666666666666666,
          5.777777777777778,
          5.888888888888888,
          6,
          6.111111111111111,
          6.222222222222222,
          6.333333333333333,
          6.444444444444444,
          6.555555555555555,
          6.666666666666666,
          6.777777777777778,
          6.888888888888888,
          7,
          7.111111111111111,
          7.222222222222221,
          7.333333333333333,
          7.444444444444444,
          7.555555555555555,
          7.666666666666666,
          7.777777777777778,
          7.888888888888888,
          8,
          8.11111111111111,
          8.222222222222221,
          8.333333333333332,
          8.444444444444443,
          8.555555555555555,
          8.666666666666666,
          8.777777777777779,
          8.88888888888889,
          9,
          9.11111111111111,
          9.222222222222221,
          9.333333333333332,
          9.444444444444445,
          9.555555555555555,
          9.666666666666666,
          9.777777777777777,
          9.88888888888889,
          10,
          10.11111111111111,
          10.222222222222221,
          10.333333333333332,
          10.444444444444445,
          10.555555555555555,
          10.666666666666666,
          10.777777777777777,
          10.888888888888888,
          11,
          11.11111111111111,
          11.222222222222221,
          11.333333333333332,
          11.444444444444445,
          11.555555555555555,
          11.666666666666666,
          11.777777777777777,
          11.888888888888888,
          12
         ],
         "y": [
          609057.7582183583,
          611329.5844315375,
          613598.0545470846,
          615863.017428161,
          618124.3137644228,
          620381.7756025493,
          622635.225853921,
          624884.4777795351,
          627129.3344525589,
          629369.5881993023,
          631605.0200198481,
          633835.3989901445,
          636060.4816480244,
          638280.0113664122,
          640493.7177179073,
          642701.315836021,
          644902.5057795999,
          647096.9719084132,
          649284.3822795204,
          651464.3880758829,
          653636.6230807363,
          655800.703213496,
          657956.2261454093,
          660102.7710157571,
          662239.8982721051,
          664367.1496608211,
          666484.0483967201,
          668590.099543138,
          670684.7906357864,
          672767.592585216,
          674837.9608933574,
          676895.3372191362,
          678939.1513262856,
          680968.8234428684,
          682983.7670563862,
          684983.3921604224,
          686967.1089583464,
          688934.3320166371,
          690884.4848449414,
          692817.0048623751,
          694731.34869033,
          696626.9976919661,
          698503.4636587057,
          700360.2945256467,
          702197.079982332,
          704013.4568341523,
          705809.113964217,
          707583.7967468572,
          709337.3107727373,
          711069.5247619778,
          712780.3725652728,
          714469.8541826224,
          716138.0357633324,
          717785.0485872822,
          719411.0870638075,
          721016.4058185772,
          722601.3159684819,
          724166.1807081309,
          725711.4103479815,
          727237.4569529354,
          728744.8087315706,
          730233.984320727,
          731705.5270990126,
          733159.999647312,
          734597.978455978,
          736020.0489585318,
          737426.800951604,
          738818.8244416113,
          740196.705941052,
          741561.0252218633,
          742912.352520312,
          744251.2461774723,
          745578.250691414,
          746893.895151586,
          748198.6920222772,
          749493.1362401511,
          750777.7045903932,
          752052.8553266355,
          753319.0280013123,
          754576.6434751425,
          755826.1040768792,
          757067.7938871067,
          758302.0791225896,
          759529.3086003663,
          760749.8142633773,
          761963.9117518538,
          763171.9010069487,
          764374.066895151,
          765570.6798438611,
          766761.9964801548,
          767948.260266199,
          769129.7021260456,
          770306.541059612,
          771478.9847405878,
          772647.2300958062,
          773811.4638642697,
          774971.863134598,
          776128.5958601116,
          777281.8213511546,
          778431.6907445655
         ]
        }
       ],
       "layout": {
        "hovermode": "x unified",
        "template": {
         "data": {
          "bar": [
           {
            "error_x": {
             "color": "#2a3f5f"
            },
            "error_y": {
             "color": "#2a3f5f"
            },
            "marker": {
             "line": {
              "color": "#E5ECF6",
              "width": 0.5
             },
             "pattern": {
              "fillmode": "overlay",
              "size": 10,
              "solidity": 0.2
             }
            },
            "type": "bar"
           }
          ],
          "barpolar": [
           {
            "marker": {
             "line": {
              "color": "#E5ECF6",
              "width": 0.5
             },
             "pattern": {
              "fillmode": "overlay",
              "size": 10,
              "solidity": 0.2
             }
            },
            "type": "barpolar"
           }
          ],
          "carpet": [
           {
            "aaxis": {
             "endlinecolor": "#2a3f5f",
             "gridcolor": "white",
             "linecolor": "white",
             "minorgridcolor": "white",
             "startlinecolor": "#2a3f5f"
            },
            "baxis": {
             "endlinecolor": "#2a3f5f",
             "gridcolor": "white",
             "linecolor": "white",
             "minorgridcolor": "white",
             "startlinecolor": "#2a3f5f"
            },
            "type": "carpet"
           }
          ],
          "choropleth": [
           {
            "colorbar": {
             "outlinewidth": 0,
             "ticks": ""
            },
            "type": "choropleth"
           }
          ],
          "contour": [
           {
            "colorbar": {
             "outlinewidth": 0,
             "ticks": ""
            },
            "colorscale": [
             [
              0,
              "#0d0887"
             ],
             [
              0.1111111111111111,
              "#46039f"
             ],
             [
              0.2222222222222222,
              "#7201a8"
             ],
             [
              0.3333333333333333,
              "#9c179e"
             ],
             [
              0.4444444444444444,
              "#bd3786"
             ],
             [
              0.5555555555555556,
              "#d8576b"
             ],
             [
              0.6666666666666666,
              "#ed7953"
             ],
             [
              0.7777777777777778,
              "#fb9f3a"
             ],
             [
              0.8888888888888888,
              "#fdca26"
             ],
             [
              1,
              "#f0f921"
             ]
            ],
            "type": "contour"
           }
          ],
          "contourcarpet": [
           {
            "colorbar": {
             "outlinewidth": 0,
             "ticks": ""
            },
            "type": "contourcarpet"
           }
          ],
          "heatmap": [
           {
            "colorbar": {
             "outlinewidth": 0,
             "ticks": ""
            },
            "colorscale": [
             [
              0,
              "#0d0887"
             ],
             [
              0.1111111111111111,
              "#46039f"
             ],
             [
              0.2222222222222222,
              "#7201a8"
             ],
             [
              0.3333333333333333,
              "#9c179e"
             ],
             [
              0.4444444444444444,
              "#bd3786"
             ],
             [
              0.5555555555555556,
              "#d8576b"
             ],
             [
              0.6666666666666666,
              "#ed7953"
             ],
             [
              0.7777777777777778,
              "#fb9f3a"
             ],
             [
              0.8888888888888888,
              "#fdca26"
             ],
             [
              1,
              "#f0f921"
             ]
            ],
            "type": "heatmap"
           }
          ],
          "heatmapgl": [
           {
            "colorbar": {
             "outlinewidth": 0,
             "ticks": ""
            },
            "colorscale": [
             [
              0,
              "#0d0887"
             ],
             [
              0.1111111111111111,
              "#46039f"
             ],
             [
              0.2222222222222222,
              "#7201a8"
             ],
             [
              0.3333333333333333,
              "#9c179e"
             ],
             [
              0.4444444444444444,
              "#bd3786"
             ],
             [
              0.5555555555555556,
              "#d8576b"
             ],
             [
              0.6666666666666666,
              "#ed7953"
             ],
             [
              0.7777777777777778,
              "#fb9f3a"
             ],
             [
              0.8888888888888888,
              "#fdca26"
             ],
             [
              1,
              "#f0f921"
             ]
            ],
            "type": "heatmapgl"
           }
          ],
          "histogram": [
           {
            "marker": {
             "pattern": {
              "fillmode": "overlay",
              "size": 10,
              "solidity": 0.2
             }
            },
            "type": "histogram"
           }
          ],
          "histogram2d": [
           {
            "colorbar": {
             "outlinewidth": 0,
             "ticks": ""
            },
            "colorscale": [
             [
              0,
              "#0d0887"
             ],
             [
              0.1111111111111111,
              "#46039f"
             ],
             [
              0.2222222222222222,
              "#7201a8"
             ],
             [
              0.3333333333333333,
              "#9c179e"
             ],
             [
              0.4444444444444444,
              "#bd3786"
             ],
             [
              0.5555555555555556,
              "#d8576b"
             ],
             [
              0.6666666666666666,
              "#ed7953"
             ],
             [
              0.7777777777777778,
              "#fb9f3a"
             ],
             [
              0.8888888888888888,
              "#fdca26"
             ],
             [
              1,
              "#f0f921"
             ]
            ],
            "type": "histogram2d"
           }
          ],
          "histogram2dcontour": [
           {
            "colorbar": {
             "outlinewidth": 0,
             "ticks": ""
            },
            "colorscale": [
             [
              0,
              "#0d0887"
             ],
             [
              0.1111111111111111,
              "#46039f"
             ],
             [
              0.2222222222222222,
              "#7201a8"
             ],
             [
              0.3333333333333333,
              "#9c179e"
             ],
             [
              0.4444444444444444,
              "#bd3786"
             ],
             [
              0.5555555555555556,
              "#d8576b"
             ],
             [
              0.6666666666666666,
              "#ed7953"
             ],
             [
              0.7777777777777778,
              "#fb9f3a"
             ],
             [
              0.8888888888888888,
              "#fdca26"
             ],
             [
              1,
              "#f0f921"
             ]
            ],
            "type": "histogram2dcontour"
           }
          ],
          "mesh3d": [
           {
            "colorbar": {
             "outlinewidth": 0,
             "ticks": ""
            },
            "type": "mesh3d"
           }
          ],
          "parcoords": [
           {
            "line": {
             "colorbar": {
              "outlinewidth": 0,
              "ticks": ""
             }
            },
            "type": "parcoords"
           }
          ],
          "pie": [
           {
            "automargin": true,
            "type": "pie"
           }
          ],
          "scatter": [
           {
            "fillpattern": {
             "fillmode": "overlay",
             "size": 10,
             "solidity": 0.2
            },
            "type": "scatter"
           }
          ],
          "scatter3d": [
           {
            "line": {
             "colorbar": {
              "outlinewidth": 0,
              "ticks": ""
             }
            },
            "marker": {
             "colorbar": {
              "outlinewidth": 0,
              "ticks": ""
             }
            },
            "type": "scatter3d"
           }
          ],
          "scattercarpet": [
           {
            "marker": {
             "colorbar": {
              "outlinewidth": 0,
              "ticks": ""
             }
            },
            "type": "scattercarpet"
           }
          ],
          "scattergeo": [
           {
            "marker": {
             "colorbar": {
              "outlinewidth": 0,
              "ticks": ""
             }
            },
            "type": "scattergeo"
           }
          ],
          "scattergl": [
           {
            "marker": {
             "colorbar": {
              "outlinewidth": 0,
              "ticks": ""
             }
            },
            "type": "scattergl"
           }
          ],
          "scattermapbox": [
           {
            "marker": {
             "colorbar": {
              "outlinewidth": 0,
              "ticks": ""
             }
            },
            "type": "scattermapbox"
           }
          ],
          "scatterpolar": [
           {
            "marker": {
             "colorbar": {
              "outlinewidth": 0,
              "ticks": ""
             }
            },
            "type": "scatterpolar"
           }
          ],
          "scatterpolargl": [
           {
            "marker": {
             "colorbar": {
              "outlinewidth": 0,
              "ticks": ""
             }
            },
            "type": "scatterpolargl"
           }
          ],
          "scatterternary": [
           {
            "marker": {
             "colorbar": {
              "outlinewidth": 0,
              "ticks": ""
             }
            },
            "type": "scatterternary"
           }
          ],
          "surface": [
           {
            "colorbar": {
             "outlinewidth": 0,
             "ticks": ""
            },
            "colorscale": [
             [
              0,
              "#0d0887"
             ],
             [
              0.1111111111111111,
              "#46039f"
             ],
             [
              0.2222222222222222,
              "#7201a8"
             ],
             [
              0.3333333333333333,
              "#9c179e"
             ],
             [
              0.4444444444444444,
              "#bd3786"
             ],
             [
              0.5555555555555556,
              "#d8576b"
             ],
             [
              0.6666666666666666,
              "#ed7953"
             ],
             [
              0.7777777777777778,
              "#fb9f3a"
             ],
             [
              0.8888888888888888,
              "#fdca26"
             ],
             [
              1,
              "#f0f921"
             ]
            ],
            "type": "surface"
           }
          ],
          "table": [
           {
            "cells": {
             "fill": {
              "color": "#EBF0F8"
             },
             "line": {
              "color": "white"
             }
            },
            "header": {
             "fill": {
              "color": "#C8D4E3"
             },
             "line": {
              "color": "white"
             }
            },
            "type": "table"
           }
          ]
         },
         "layout": {
          "annotationdefaults": {
           "arrowcolor": "#2a3f5f",
           "arrowhead": 0,
           "arrowwidth": 1
          },
          "autotypenumbers": "strict",
          "coloraxis": {
           "colorbar": {
            "outlinewidth": 0,
            "ticks": ""
           }
          },
          "colorscale": {
           "diverging": [
            [
             0,
             "#8e0152"
            ],
            [
             0.1,
             "#c51b7d"
            ],
            [
             0.2,
             "#de77ae"
            ],
            [
             0.3,
             "#f1b6da"
            ],
            [
             0.4,
             "#fde0ef"
            ],
            [
             0.5,
             "#f7f7f7"
            ],
            [
             0.6,
             "#e6f5d0"
            ],
            [
             0.7,
             "#b8e186"
            ],
            [
             0.8,
             "#7fbc41"
            ],
            [
             0.9,
             "#4d9221"
            ],
            [
             1,
             "#276419"
            ]
           ],
           "sequential": [
            [
             0,
             "#0d0887"
            ],
            [
             0.1111111111111111,
             "#46039f"
            ],
            [
             0.2222222222222222,
             "#7201a8"
            ],
            [
             0.3333333333333333,
             "#9c179e"
            ],
            [
             0.4444444444444444,
             "#bd3786"
            ],
            [
             0.5555555555555556,
             "#d8576b"
            ],
            [
             0.6666666666666666,
             "#ed7953"
            ],
            [
             0.7777777777777778,
             "#fb9f3a"
            ],
            [
             0.8888888888888888,
             "#fdca26"
            ],
            [
             1,
             "#f0f921"
            ]
           ],
           "sequentialminus": [
            [
             0,
             "#0d0887"
            ],
            [
             0.1111111111111111,
             "#46039f"
            ],
            [
             0.2222222222222222,
             "#7201a8"
            ],
            [
             0.3333333333333333,
             "#9c179e"
            ],
            [
             0.4444444444444444,
             "#bd3786"
            ],
            [
             0.5555555555555556,
             "#d8576b"
            ],
            [
             0.6666666666666666,
             "#ed7953"
            ],
            [
             0.7777777777777778,
             "#fb9f3a"
            ],
            [
             0.8888888888888888,
             "#fdca26"
            ],
            [
             1,
             "#f0f921"
            ]
           ]
          },
          "colorway": [
           "#636efa",
           "#EF553B",
           "#00cc96",
           "#ab63fa",
           "#FFA15A",
           "#19d3f3",
           "#FF6692",
           "#B6E880",
           "#FF97FF",
           "#FECB52"
          ],
          "font": {
           "color": "#2a3f5f"
          },
          "geo": {
           "bgcolor": "white",
           "lakecolor": "white",
           "landcolor": "#E5ECF6",
           "showlakes": true,
           "showland": true,
           "subunitcolor": "white"
          },
          "hoverlabel": {
           "align": "left"
          },
          "hovermode": "closest",
          "mapbox": {
           "style": "light"
          },
          "paper_bgcolor": "white",
          "plot_bgcolor": "#E5ECF6",
          "polar": {
           "angularaxis": {
            "gridcolor": "white",
            "linecolor": "white",
            "ticks": ""
           },
           "bgcolor": "#E5ECF6",
           "radialaxis": {
            "gridcolor": "white",
            "linecolor": "white",
            "ticks": ""
           }
          },
          "scene": {
           "xaxis": {
            "backgroundcolor": "#E5ECF6",
            "gridcolor": "white",
            "gridwidth": 2,
            "linecolor": "white",
            "showbackground": true,
            "ticks": "",
            "zerolinecolor": "white"
           },
           "yaxis": {
            "backgroundcolor": "#E5ECF6",
            "gridcolor": "white",
            "gridwidth": 2,
            "linecolor": "white",
            "showbackground": true,
            "ticks": "",
            "zerolinecolor": "white"
           },
           "zaxis": {
            "backgroundcolor": "#E5ECF6",
            "gridcolor": "white",
            "gridwidth": 2,
            "linecolor": "white",
            "showbackground": true,
            "ticks": "",
            "zerolinecolor": "white"
           }
          },
          "shapedefaults": {
           "line": {
            "color": "#2a3f5f"
           }
          },
          "ternary": {
           "aaxis": {
            "gridcolor": "white",
            "linecolor": "white",
            "ticks": ""
           },
           "baxis": {
            "gridcolor": "white",
            "linecolor": "white",
            "ticks": ""
           },
           "bgcolor": "#E5ECF6",
           "caxis": {
            "gridcolor": "white",
            "linecolor": "white",
            "ticks": ""
           }
          },
          "title": {
           "x": 0.05
          },
          "xaxis": {
           "automargin": true,
           "gridcolor": "white",
           "linecolor": "white",
           "ticks": "",
           "title": {
            "standoff": 15
           },
           "zerolinecolor": "white",
           "zerolinewidth": 2
          },
          "yaxis": {
           "automargin": true,
           "gridcolor": "white",
           "linecolor": "white",
           "ticks": "",
           "title": {
            "standoff": 15
           },
           "zerolinecolor": "white",
           "zerolinewidth": 2
          }
         }
        },
        "title": {
         "text": "Distance Traveled by Session Number"
        },
        "xaxis": {
         "title": {
          "text": "Session Number"
         }
        },
        "yaxis": {
         "title": {
          "text": "Distance Traveled"
         }
        }
       }
      }
     },
     "metadata": {},
     "output_type": "display_data"
    },
    {
     "data": {
      "application/vnd.plotly.v1+json": {
       "config": {
        "plotlyServerURL": "https://plot.ly"
       },
       "data": [
        {
         "marker": {
          "color": [
           0,
           0,
           0,
           0,
           0,
           0,
           0,
           0,
           0,
           0,
           0,
           0,
           0
          ],
          "colorscale": [
           [
            0,
            "rgb(103,0,31)"
           ],
           [
            0.1,
            "rgb(178,24,43)"
           ],
           [
            0.2,
            "rgb(214,96,77)"
           ],
           [
            0.3,
            "rgb(244,165,130)"
           ],
           [
            0.4,
            "rgb(253,219,199)"
           ],
           [
            0.5,
            "rgb(247,247,247)"
           ],
           [
            0.6,
            "rgb(209,229,240)"
           ],
           [
            0.7,
            "rgb(146,197,222)"
           ],
           [
            0.8,
            "rgb(67,147,195)"
           ],
           [
            0.9,
            "rgb(33,102,172)"
           ],
           [
            1,
            "rgb(5,48,97)"
           ]
          ]
         },
         "mode": "markers",
         "name": "Distance Traveled",
         "showlegend": true,
         "type": "scatter",
         "x": [
          1,
          2,
          3,
          4,
          5,
          6,
          7,
          8,
          9,
          10,
          11,
          12,
          13
         ],
         "y": [
          691530.8804675475,
          559843.4326249228,
          587447.7439522601,
          585847.602871784,
          627016.8828239847,
          895881.532906181,
          697874.6297225738,
          773385.6405915248,
          769232.8606894696,
          708288.5439771388,
          760471.1504306121,
          658813.7159378035,
          728326.1467609477
         ]
        },
        {
         "line": {
          "color": "red"
         },
         "mode": "lines",
         "name": "Fitted Line",
         "type": "scatter",
         "x": [
          1,
          1.121212121212121,
          1.2424242424242424,
          1.3636363636363638,
          1.4848484848484849,
          1.606060606060606,
          1.7272727272727273,
          1.8484848484848486,
          1.9696969696969697,
          2.090909090909091,
          2.212121212121212,
          2.3333333333333335,
          2.4545454545454546,
          2.5757575757575757,
          2.6969696969696972,
          2.8181818181818183,
          2.9393939393939394,
          3.0606060606060606,
          3.1818181818181817,
          3.303030303030303,
          3.4242424242424243,
          3.5454545454545454,
          3.666666666666667,
          3.787878787878788,
          3.909090909090909,
          4.03030303030303,
          4.151515151515151,
          4.272727272727273,
          4.3939393939393945,
          4.515151515151516,
          4.636363636363637,
          4.757575757575758,
          4.878787878787879,
          5,
          5.121212121212121,
          5.242424242424242,
          5.363636363636363,
          5.484848484848485,
          5.606060606060606,
          5.7272727272727275,
          5.848484848484849,
          5.96969696969697,
          6.090909090909091,
          6.212121212121212,
          6.333333333333334,
          6.454545454545455,
          6.575757575757576,
          6.696969696969697,
          6.818181818181818,
          6.9393939393939394,
          7.0606060606060606,
          7.181818181818182,
          7.303030303030303,
          7.424242424242425,
          7.545454545454546,
          7.666666666666667,
          7.787878787878788,
          7.909090909090909,
          8.030303030303031,
          8.151515151515152,
          8.272727272727273,
          8.393939393939394,
          8.515151515151516,
          8.636363636363637,
          8.757575757575758,
          8.878787878787879,
          9,
          9.121212121212121,
          9.242424242424242,
          9.363636363636363,
          9.484848484848484,
          9.606060606060606,
          9.727272727272727,
          9.84848484848485,
          9.96969696969697,
          10.090909090909092,
          10.212121212121213,
          10.333333333333334,
          10.454545454545455,
          10.575757575757576,
          10.696969696969697,
          10.818181818181818,
          10.93939393939394,
          11.06060606060606,
          11.181818181818182,
          11.303030303030303,
          11.424242424242424,
          11.545454545454545,
          11.666666666666668,
          11.787878787878789,
          11.90909090909091,
          12.030303030303031,
          12.151515151515152,
          12.272727272727273,
          12.393939393939394,
          12.515151515151516,
          12.636363636363637,
          12.757575757575758,
          12.878787878787879,
          13
         ],
         "y": [
          631832.9534657745,
          633122.980456764,
          634413.0074477533,
          635703.0344387428,
          636993.0614297322,
          638283.0884207216,
          639573.115411711,
          640863.1424027004,
          642153.1693936898,
          643443.1963846792,
          644733.2233756686,
          646023.2503666581,
          647313.2773576474,
          648603.3043486369,
          649893.3313396262,
          651183.3583306157,
          652473.3853216051,
          653763.4123125945,
          655053.4393035839,
          656343.4662945733,
          657633.4932855627,
          658923.5202765522,
          660213.5472675415,
          661503.574258531,
          662793.6012495203,
          664083.6282405098,
          665373.6552314992,
          666663.6822224886,
          667953.709213478,
          669243.7362044674,
          670533.7631954568,
          671823.7901864463,
          673113.8171774356,
          674403.8441684251,
          675693.8711594144,
          676983.8981504039,
          678273.9251413932,
          679563.9521323827,
          680853.9791233721,
          682144.0061143615,
          683434.0331053509,
          684724.0600963403,
          686014.0870873297,
          687304.1140783192,
          688594.1410693085,
          689884.168060298,
          691174.1950512873,
          692464.2220422768,
          693754.2490332662,
          695044.2760242556,
          696334.303015245,
          697624.3300062343,
          698914.3569972238,
          700204.3839882133,
          701494.4109792026,
          702784.437970192,
          704074.4649611814,
          705364.4919521709,
          706654.5189431603,
          707944.5459341496,
          709234.5729251391,
          710524.5999161284,
          711814.6269071179,
          713104.6538981074,
          714394.6808890967,
          715684.7078800861,
          716974.7348710755,
          718264.761862065,
          719554.7888530543,
          720844.8158440437,
          722134.8428350332,
          723424.8698260225,
          724714.896817012,
          726004.9238080014,
          727294.9507989908,
          728584.9777899802,
          729875.0047809696,
          731165.031771959,
          732455.0587629484,
          733745.0857539378,
          735035.1127449273,
          736325.1397359166,
          737615.1667269061,
          738905.1937178954,
          740195.2207088849,
          741485.2476998742,
          742775.2746908637,
          744065.3016818531,
          745355.3286728425,
          746645.3556638319,
          747935.3826548214,
          749225.4096458107,
          750515.4366368002,
          751805.4636277895,
          753095.490618779,
          754385.5176097683,
          755675.5446007578,
          756965.5715917472,
          758255.5985827366,
          759545.625573726
         ]
        },
        {
         "line": {
          "width": 0
         },
         "mode": "lines",
         "showlegend": false,
         "type": "scatter",
         "x": [
          1,
          1.121212121212121,
          1.2424242424242424,
          1.3636363636363638,
          1.4848484848484849,
          1.606060606060606,
          1.7272727272727273,
          1.8484848484848486,
          1.9696969696969697,
          2.090909090909091,
          2.212121212121212,
          2.3333333333333335,
          2.4545454545454546,
          2.5757575757575757,
          2.6969696969696972,
          2.8181818181818183,
          2.9393939393939394,
          3.0606060606060606,
          3.1818181818181817,
          3.303030303030303,
          3.4242424242424243,
          3.5454545454545454,
          3.666666666666667,
          3.787878787878788,
          3.909090909090909,
          4.03030303030303,
          4.151515151515151,
          4.272727272727273,
          4.3939393939393945,
          4.515151515151516,
          4.636363636363637,
          4.757575757575758,
          4.878787878787879,
          5,
          5.121212121212121,
          5.242424242424242,
          5.363636363636363,
          5.484848484848485,
          5.606060606060606,
          5.7272727272727275,
          5.848484848484849,
          5.96969696969697,
          6.090909090909091,
          6.212121212121212,
          6.333333333333334,
          6.454545454545455,
          6.575757575757576,
          6.696969696969697,
          6.818181818181818,
          6.9393939393939394,
          7.0606060606060606,
          7.181818181818182,
          7.303030303030303,
          7.424242424242425,
          7.545454545454546,
          7.666666666666667,
          7.787878787878788,
          7.909090909090909,
          8.030303030303031,
          8.151515151515152,
          8.272727272727273,
          8.393939393939394,
          8.515151515151516,
          8.636363636363637,
          8.757575757575758,
          8.878787878787879,
          9,
          9.121212121212121,
          9.242424242424242,
          9.363636363636363,
          9.484848484848484,
          9.606060606060606,
          9.727272727272727,
          9.84848484848485,
          9.96969696969697,
          10.090909090909092,
          10.212121212121213,
          10.333333333333334,
          10.454545454545455,
          10.575757575757576,
          10.696969696969697,
          10.818181818181818,
          10.93939393939394,
          11.06060606060606,
          11.181818181818182,
          11.303030303030303,
          11.424242424242424,
          11.545454545454545,
          11.666666666666668,
          11.787878787878789,
          11.90909090909091,
          12.030303030303031,
          12.151515151515152,
          12.272727272727273,
          12.393939393939394,
          12.515151515151516,
          12.636363636363637,
          12.757575757575758,
          12.878787878787879,
          13
         ],
         "y": [
          677815.8142946295,
          678438.9192275282,
          679065.9777827708,
          679697.1686977406,
          680332.6804295806,
          680972.7117184247,
          681617.4721786075,
          682267.1829178341,
          682922.0771839422,
          683582.401038432,
          684248.4140554073,
          684920.3900438998,
          685598.6177907699,
          686283.4018204297,
          686975.063166525,
          687673.9401494187,
          688380.3891518046,
          689094.7853830494,
          689817.5236208771,
          690549.0189167801,
          691289.7072490457,
          692040.0461045345,
          692800.514967369,
          693571.6156894987,
          694353.8727147887,
          695147.8331248953,
          695954.0664718869,
          696773.1643594812,
          697605.739732129,
          698452.4258292116,
          699313.8747606465,
          700190.755660557,
          701083.752377727,
          701993.5606657381,
          702920.8848423397,
          703866.4338971074,
          704830.9170390061,
          705815.0386912561,
          706819.4929597578,
          707844.957622975,
          708892.0877149075,
          709961.5087976793,
          711053.8100449978,
          712169.5372807365,
          713309.1861363997,
          714473.1955053981,
          715661.9414792033,
          716875.7319491716,
          718114.8020472156,
          719379.3105783906,
          720669.3375693801,
          721984.8830201838,
          723325.8669041187,
          724692.1304161293,
          726083.4384243027,
          727499.4830372834,
          728939.8881635987,
          730404.214909839,
          731891.9676444994,
          733402.6005437063,
          734935.5244337526,
          736490.1137525141,
          738065.7134659913,
          739661.6457957203,
          741277.2166358002,
          742911.7215630114,
          744564.4513683885,
          746234.6970623563,
          747921.754327165,
          749624.9274092334,
          751343.5324597774,
          753076.9003446735,
          754824.3789540046,
          756585.3350483892,
          758359.1556833764,
          760145.2492552486,
          761943.0462119373,
          763751.9994717865,
          765571.5845909307,
          767401.2997174208,
          769240.6653671341,
          771089.2240532098,
          772946.539797361,
          774812.1975480949,
          776685.8025276879,
          778566.979526773,
          780455.3721626565,
          782350.6421149756,
          784252.4683500841,
          786160.5463435706,
          788074.5873085742,
          789994.3174360631,
          791919.4771519339,
          793849.820394686,
          795785.1139164821,
          797725.1366096167,
          799669.6788597556,
          801618.5419267647,
          803571.5373535007,
          805528.486402581
         ]
        },
        {
         "fill": "tonexty",
         "fillcolor": "rgba(255,0,0,0.2)",
         "line": {
          "width": 0
         },
         "mode": "lines",
         "name": "SEM",
         "type": "scatter",
         "x": [
          1,
          1.121212121212121,
          1.2424242424242424,
          1.3636363636363638,
          1.4848484848484849,
          1.606060606060606,
          1.7272727272727273,
          1.8484848484848486,
          1.9696969696969697,
          2.090909090909091,
          2.212121212121212,
          2.3333333333333335,
          2.4545454545454546,
          2.5757575757575757,
          2.6969696969696972,
          2.8181818181818183,
          2.9393939393939394,
          3.0606060606060606,
          3.1818181818181817,
          3.303030303030303,
          3.4242424242424243,
          3.5454545454545454,
          3.666666666666667,
          3.787878787878788,
          3.909090909090909,
          4.03030303030303,
          4.151515151515151,
          4.272727272727273,
          4.3939393939393945,
          4.515151515151516,
          4.636363636363637,
          4.757575757575758,
          4.878787878787879,
          5,
          5.121212121212121,
          5.242424242424242,
          5.363636363636363,
          5.484848484848485,
          5.606060606060606,
          5.7272727272727275,
          5.848484848484849,
          5.96969696969697,
          6.090909090909091,
          6.212121212121212,
          6.333333333333334,
          6.454545454545455,
          6.575757575757576,
          6.696969696969697,
          6.818181818181818,
          6.9393939393939394,
          7.0606060606060606,
          7.181818181818182,
          7.303030303030303,
          7.424242424242425,
          7.545454545454546,
          7.666666666666667,
          7.787878787878788,
          7.909090909090909,
          8.030303030303031,
          8.151515151515152,
          8.272727272727273,
          8.393939393939394,
          8.515151515151516,
          8.636363636363637,
          8.757575757575758,
          8.878787878787879,
          9,
          9.121212121212121,
          9.242424242424242,
          9.363636363636363,
          9.484848484848484,
          9.606060606060606,
          9.727272727272727,
          9.84848484848485,
          9.96969696969697,
          10.090909090909092,
          10.212121212121213,
          10.333333333333334,
          10.454545454545455,
          10.575757575757576,
          10.696969696969697,
          10.818181818181818,
          10.93939393939394,
          11.06060606060606,
          11.181818181818182,
          11.303030303030303,
          11.424242424242424,
          11.545454545454545,
          11.666666666666668,
          11.787878787878789,
          11.90909090909091,
          12.030303030303031,
          12.151515151515152,
          12.272727272727273,
          12.393939393939394,
          12.515151515151516,
          12.636363636363637,
          12.757575757575758,
          12.878787878787879,
          13
         ],
         "y": [
          585850.0926369196,
          587807.0416859998,
          589760.0371127359,
          591708.9001797449,
          593653.4424298839,
          595593.4651230185,
          597528.7586448146,
          599459.1018875666,
          601384.2616034375,
          603303.9917309263,
          605218.03269593,
          607126.1106894164,
          609027.936924525,
          610923.206876844,
          612811.5995127275,
          614692.7765118127,
          616566.3814914057,
          618432.0392421396,
          620289.3549862908,
          622137.9136723664,
          623977.2793220797,
          625806.9944485698,
          627626.579567714,
          629435.5328275632,
          631233.329784252,
          633019.4233561242,
          634793.2439911115,
          636554.200085496,
          638301.678694827,
          640035.0465797231,
          641753.6516302672,
          643456.8247123356,
          645143.8819771443,
          646814.1276711121,
          648466.8574764892,
          650101.3624037004,
          651716.9332437803,
          653312.8655735092,
          654888.4652869864,
          656443.0546057479,
          657975.9784957943,
          659486.6113950012,
          660974.3641296616,
          662438.6908759018,
          663879.0960022173,
          665295.1406151978,
          666686.4486233713,
          668052.7121353819,
          669393.6960193168,
          670709.2414701205,
          671999.26846111,
          673263.7769922849,
          674502.8470903289,
          675716.6375602973,
          676905.3835341025,
          678069.3929031007,
          679209.0417587641,
          680324.7689945027,
          681417.0702418212,
          682486.491324593,
          683533.6214165256,
          684559.0860797428,
          685563.5403482445,
          686547.6620004944,
          687512.1451423932,
          688457.6941971609,
          689385.0183737625,
          690294.8266617736,
          691187.8233789436,
          692064.7042788541,
          692926.153210289,
          693772.8393073715,
          694605.4146800194,
          695424.5125676137,
          696230.7459146052,
          697024.7063247119,
          697806.9633500018,
          698578.0640721315,
          699338.532934966,
          700088.8717904548,
          700829.5601227204,
          701561.0554186235,
          702283.7936564512,
          702998.189887696,
          703704.6388900819,
          704403.5158729755,
          705095.1772190708,
          705779.9612487307,
          706458.1889956008,
          707130.1649840933,
          707796.1780010685,
          708456.5018555584,
          709111.3961216664,
          709761.1068608931,
          710405.8673210759,
          711045.8986099199,
          711681.4103417599,
          712312.6012567298,
          712939.6598119724,
          713562.7647448711
         ]
        }
       ],
       "layout": {
        "hovermode": "x unified",
        "template": {
         "data": {
          "bar": [
           {
            "error_x": {
             "color": "#2a3f5f"
            },
            "error_y": {
             "color": "#2a3f5f"
            },
            "marker": {
             "line": {
              "color": "#E5ECF6",
              "width": 0.5
             },
             "pattern": {
              "fillmode": "overlay",
              "size": 10,
              "solidity": 0.2
             }
            },
            "type": "bar"
           }
          ],
          "barpolar": [
           {
            "marker": {
             "line": {
              "color": "#E5ECF6",
              "width": 0.5
             },
             "pattern": {
              "fillmode": "overlay",
              "size": 10,
              "solidity": 0.2
             }
            },
            "type": "barpolar"
           }
          ],
          "carpet": [
           {
            "aaxis": {
             "endlinecolor": "#2a3f5f",
             "gridcolor": "white",
             "linecolor": "white",
             "minorgridcolor": "white",
             "startlinecolor": "#2a3f5f"
            },
            "baxis": {
             "endlinecolor": "#2a3f5f",
             "gridcolor": "white",
             "linecolor": "white",
             "minorgridcolor": "white",
             "startlinecolor": "#2a3f5f"
            },
            "type": "carpet"
           }
          ],
          "choropleth": [
           {
            "colorbar": {
             "outlinewidth": 0,
             "ticks": ""
            },
            "type": "choropleth"
           }
          ],
          "contour": [
           {
            "colorbar": {
             "outlinewidth": 0,
             "ticks": ""
            },
            "colorscale": [
             [
              0,
              "#0d0887"
             ],
             [
              0.1111111111111111,
              "#46039f"
             ],
             [
              0.2222222222222222,
              "#7201a8"
             ],
             [
              0.3333333333333333,
              "#9c179e"
             ],
             [
              0.4444444444444444,
              "#bd3786"
             ],
             [
              0.5555555555555556,
              "#d8576b"
             ],
             [
              0.6666666666666666,
              "#ed7953"
             ],
             [
              0.7777777777777778,
              "#fb9f3a"
             ],
             [
              0.8888888888888888,
              "#fdca26"
             ],
             [
              1,
              "#f0f921"
             ]
            ],
            "type": "contour"
           }
          ],
          "contourcarpet": [
           {
            "colorbar": {
             "outlinewidth": 0,
             "ticks": ""
            },
            "type": "contourcarpet"
           }
          ],
          "heatmap": [
           {
            "colorbar": {
             "outlinewidth": 0,
             "ticks": ""
            },
            "colorscale": [
             [
              0,
              "#0d0887"
             ],
             [
              0.1111111111111111,
              "#46039f"
             ],
             [
              0.2222222222222222,
              "#7201a8"
             ],
             [
              0.3333333333333333,
              "#9c179e"
             ],
             [
              0.4444444444444444,
              "#bd3786"
             ],
             [
              0.5555555555555556,
              "#d8576b"
             ],
             [
              0.6666666666666666,
              "#ed7953"
             ],
             [
              0.7777777777777778,
              "#fb9f3a"
             ],
             [
              0.8888888888888888,
              "#fdca26"
             ],
             [
              1,
              "#f0f921"
             ]
            ],
            "type": "heatmap"
           }
          ],
          "heatmapgl": [
           {
            "colorbar": {
             "outlinewidth": 0,
             "ticks": ""
            },
            "colorscale": [
             [
              0,
              "#0d0887"
             ],
             [
              0.1111111111111111,
              "#46039f"
             ],
             [
              0.2222222222222222,
              "#7201a8"
             ],
             [
              0.3333333333333333,
              "#9c179e"
             ],
             [
              0.4444444444444444,
              "#bd3786"
             ],
             [
              0.5555555555555556,
              "#d8576b"
             ],
             [
              0.6666666666666666,
              "#ed7953"
             ],
             [
              0.7777777777777778,
              "#fb9f3a"
             ],
             [
              0.8888888888888888,
              "#fdca26"
             ],
             [
              1,
              "#f0f921"
             ]
            ],
            "type": "heatmapgl"
           }
          ],
          "histogram": [
           {
            "marker": {
             "pattern": {
              "fillmode": "overlay",
              "size": 10,
              "solidity": 0.2
             }
            },
            "type": "histogram"
           }
          ],
          "histogram2d": [
           {
            "colorbar": {
             "outlinewidth": 0,
             "ticks": ""
            },
            "colorscale": [
             [
              0,
              "#0d0887"
             ],
             [
              0.1111111111111111,
              "#46039f"
             ],
             [
              0.2222222222222222,
              "#7201a8"
             ],
             [
              0.3333333333333333,
              "#9c179e"
             ],
             [
              0.4444444444444444,
              "#bd3786"
             ],
             [
              0.5555555555555556,
              "#d8576b"
             ],
             [
              0.6666666666666666,
              "#ed7953"
             ],
             [
              0.7777777777777778,
              "#fb9f3a"
             ],
             [
              0.8888888888888888,
              "#fdca26"
             ],
             [
              1,
              "#f0f921"
             ]
            ],
            "type": "histogram2d"
           }
          ],
          "histogram2dcontour": [
           {
            "colorbar": {
             "outlinewidth": 0,
             "ticks": ""
            },
            "colorscale": [
             [
              0,
              "#0d0887"
             ],
             [
              0.1111111111111111,
              "#46039f"
             ],
             [
              0.2222222222222222,
              "#7201a8"
             ],
             [
              0.3333333333333333,
              "#9c179e"
             ],
             [
              0.4444444444444444,
              "#bd3786"
             ],
             [
              0.5555555555555556,
              "#d8576b"
             ],
             [
              0.6666666666666666,
              "#ed7953"
             ],
             [
              0.7777777777777778,
              "#fb9f3a"
             ],
             [
              0.8888888888888888,
              "#fdca26"
             ],
             [
              1,
              "#f0f921"
             ]
            ],
            "type": "histogram2dcontour"
           }
          ],
          "mesh3d": [
           {
            "colorbar": {
             "outlinewidth": 0,
             "ticks": ""
            },
            "type": "mesh3d"
           }
          ],
          "parcoords": [
           {
            "line": {
             "colorbar": {
              "outlinewidth": 0,
              "ticks": ""
             }
            },
            "type": "parcoords"
           }
          ],
          "pie": [
           {
            "automargin": true,
            "type": "pie"
           }
          ],
          "scatter": [
           {
            "fillpattern": {
             "fillmode": "overlay",
             "size": 10,
             "solidity": 0.2
            },
            "type": "scatter"
           }
          ],
          "scatter3d": [
           {
            "line": {
             "colorbar": {
              "outlinewidth": 0,
              "ticks": ""
             }
            },
            "marker": {
             "colorbar": {
              "outlinewidth": 0,
              "ticks": ""
             }
            },
            "type": "scatter3d"
           }
          ],
          "scattercarpet": [
           {
            "marker": {
             "colorbar": {
              "outlinewidth": 0,
              "ticks": ""
             }
            },
            "type": "scattercarpet"
           }
          ],
          "scattergeo": [
           {
            "marker": {
             "colorbar": {
              "outlinewidth": 0,
              "ticks": ""
             }
            },
            "type": "scattergeo"
           }
          ],
          "scattergl": [
           {
            "marker": {
             "colorbar": {
              "outlinewidth": 0,
              "ticks": ""
             }
            },
            "type": "scattergl"
           }
          ],
          "scattermapbox": [
           {
            "marker": {
             "colorbar": {
              "outlinewidth": 0,
              "ticks": ""
             }
            },
            "type": "scattermapbox"
           }
          ],
          "scatterpolar": [
           {
            "marker": {
             "colorbar": {
              "outlinewidth": 0,
              "ticks": ""
             }
            },
            "type": "scatterpolar"
           }
          ],
          "scatterpolargl": [
           {
            "marker": {
             "colorbar": {
              "outlinewidth": 0,
              "ticks": ""
             }
            },
            "type": "scatterpolargl"
           }
          ],
          "scatterternary": [
           {
            "marker": {
             "colorbar": {
              "outlinewidth": 0,
              "ticks": ""
             }
            },
            "type": "scatterternary"
           }
          ],
          "surface": [
           {
            "colorbar": {
             "outlinewidth": 0,
             "ticks": ""
            },
            "colorscale": [
             [
              0,
              "#0d0887"
             ],
             [
              0.1111111111111111,
              "#46039f"
             ],
             [
              0.2222222222222222,
              "#7201a8"
             ],
             [
              0.3333333333333333,
              "#9c179e"
             ],
             [
              0.4444444444444444,
              "#bd3786"
             ],
             [
              0.5555555555555556,
              "#d8576b"
             ],
             [
              0.6666666666666666,
              "#ed7953"
             ],
             [
              0.7777777777777778,
              "#fb9f3a"
             ],
             [
              0.8888888888888888,
              "#fdca26"
             ],
             [
              1,
              "#f0f921"
             ]
            ],
            "type": "surface"
           }
          ],
          "table": [
           {
            "cells": {
             "fill": {
              "color": "#EBF0F8"
             },
             "line": {
              "color": "white"
             }
            },
            "header": {
             "fill": {
              "color": "#C8D4E3"
             },
             "line": {
              "color": "white"
             }
            },
            "type": "table"
           }
          ]
         },
         "layout": {
          "annotationdefaults": {
           "arrowcolor": "#2a3f5f",
           "arrowhead": 0,
           "arrowwidth": 1
          },
          "autotypenumbers": "strict",
          "coloraxis": {
           "colorbar": {
            "outlinewidth": 0,
            "ticks": ""
           }
          },
          "colorscale": {
           "diverging": [
            [
             0,
             "#8e0152"
            ],
            [
             0.1,
             "#c51b7d"
            ],
            [
             0.2,
             "#de77ae"
            ],
            [
             0.3,
             "#f1b6da"
            ],
            [
             0.4,
             "#fde0ef"
            ],
            [
             0.5,
             "#f7f7f7"
            ],
            [
             0.6,
             "#e6f5d0"
            ],
            [
             0.7,
             "#b8e186"
            ],
            [
             0.8,
             "#7fbc41"
            ],
            [
             0.9,
             "#4d9221"
            ],
            [
             1,
             "#276419"
            ]
           ],
           "sequential": [
            [
             0,
             "#0d0887"
            ],
            [
             0.1111111111111111,
             "#46039f"
            ],
            [
             0.2222222222222222,
             "#7201a8"
            ],
            [
             0.3333333333333333,
             "#9c179e"
            ],
            [
             0.4444444444444444,
             "#bd3786"
            ],
            [
             0.5555555555555556,
             "#d8576b"
            ],
            [
             0.6666666666666666,
             "#ed7953"
            ],
            [
             0.7777777777777778,
             "#fb9f3a"
            ],
            [
             0.8888888888888888,
             "#fdca26"
            ],
            [
             1,
             "#f0f921"
            ]
           ],
           "sequentialminus": [
            [
             0,
             "#0d0887"
            ],
            [
             0.1111111111111111,
             "#46039f"
            ],
            [
             0.2222222222222222,
             "#7201a8"
            ],
            [
             0.3333333333333333,
             "#9c179e"
            ],
            [
             0.4444444444444444,
             "#bd3786"
            ],
            [
             0.5555555555555556,
             "#d8576b"
            ],
            [
             0.6666666666666666,
             "#ed7953"
            ],
            [
             0.7777777777777778,
             "#fb9f3a"
            ],
            [
             0.8888888888888888,
             "#fdca26"
            ],
            [
             1,
             "#f0f921"
            ]
           ]
          },
          "colorway": [
           "#636efa",
           "#EF553B",
           "#00cc96",
           "#ab63fa",
           "#FFA15A",
           "#19d3f3",
           "#FF6692",
           "#B6E880",
           "#FF97FF",
           "#FECB52"
          ],
          "font": {
           "color": "#2a3f5f"
          },
          "geo": {
           "bgcolor": "white",
           "lakecolor": "white",
           "landcolor": "#E5ECF6",
           "showlakes": true,
           "showland": true,
           "subunitcolor": "white"
          },
          "hoverlabel": {
           "align": "left"
          },
          "hovermode": "closest",
          "mapbox": {
           "style": "light"
          },
          "paper_bgcolor": "white",
          "plot_bgcolor": "#E5ECF6",
          "polar": {
           "angularaxis": {
            "gridcolor": "white",
            "linecolor": "white",
            "ticks": ""
           },
           "bgcolor": "#E5ECF6",
           "radialaxis": {
            "gridcolor": "white",
            "linecolor": "white",
            "ticks": ""
           }
          },
          "scene": {
           "xaxis": {
            "backgroundcolor": "#E5ECF6",
            "gridcolor": "white",
            "gridwidth": 2,
            "linecolor": "white",
            "showbackground": true,
            "ticks": "",
            "zerolinecolor": "white"
           },
           "yaxis": {
            "backgroundcolor": "#E5ECF6",
            "gridcolor": "white",
            "gridwidth": 2,
            "linecolor": "white",
            "showbackground": true,
            "ticks": "",
            "zerolinecolor": "white"
           },
           "zaxis": {
            "backgroundcolor": "#E5ECF6",
            "gridcolor": "white",
            "gridwidth": 2,
            "linecolor": "white",
            "showbackground": true,
            "ticks": "",
            "zerolinecolor": "white"
           }
          },
          "shapedefaults": {
           "line": {
            "color": "#2a3f5f"
           }
          },
          "ternary": {
           "aaxis": {
            "gridcolor": "white",
            "linecolor": "white",
            "ticks": ""
           },
           "baxis": {
            "gridcolor": "white",
            "linecolor": "white",
            "ticks": ""
           },
           "bgcolor": "#E5ECF6",
           "caxis": {
            "gridcolor": "white",
            "linecolor": "white",
            "ticks": ""
           }
          },
          "title": {
           "x": 0.05
          },
          "xaxis": {
           "automargin": true,
           "gridcolor": "white",
           "linecolor": "white",
           "ticks": "",
           "title": {
            "standoff": 15
           },
           "zerolinecolor": "white",
           "zerolinewidth": 2
          },
          "yaxis": {
           "automargin": true,
           "gridcolor": "white",
           "linecolor": "white",
           "ticks": "",
           "title": {
            "standoff": 15
           },
           "zerolinecolor": "white",
           "zerolinewidth": 2
          }
         }
        },
        "title": {
         "text": "Distance Traveled by Session Number"
        },
        "xaxis": {
         "title": {
          "text": "Session Number"
         }
        },
        "yaxis": {
         "title": {
          "text": "Distance Traveled"
         }
        }
       }
      }
     },
     "metadata": {},
     "output_type": "display_data"
    },
    {
     "data": {
      "application/vnd.plotly.v1+json": {
       "config": {
        "plotlyServerURL": "https://plot.ly"
       },
       "data": [
        {
         "marker": {
          "color": [
           0,
           0,
           0,
           0,
           0,
           0,
           0,
           0,
           0,
           0,
           0,
           0,
           0
          ],
          "colorscale": [
           [
            0,
            "rgb(103,0,31)"
           ],
           [
            0.1,
            "rgb(178,24,43)"
           ],
           [
            0.2,
            "rgb(214,96,77)"
           ],
           [
            0.3,
            "rgb(244,165,130)"
           ],
           [
            0.4,
            "rgb(253,219,199)"
           ],
           [
            0.5,
            "rgb(247,247,247)"
           ],
           [
            0.6,
            "rgb(209,229,240)"
           ],
           [
            0.7,
            "rgb(146,197,222)"
           ],
           [
            0.8,
            "rgb(67,147,195)"
           ],
           [
            0.9,
            "rgb(33,102,172)"
           ],
           [
            1,
            "rgb(5,48,97)"
           ]
          ]
         },
         "mode": "markers",
         "name": "Distance Traveled",
         "showlegend": true,
         "type": "scatter",
         "x": [
          1,
          2,
          3,
          4,
          5,
          6,
          7,
          8,
          9,
          10,
          11,
          12,
          13
         ],
         "y": [
          527043.615620008,
          412585.8061645681,
          392643.79069106013,
          488899.83299048763,
          430572.26676102815,
          682065.3240596766,
          540875.3793193466,
          517215.3820509962,
          596642.3700303929,
          634605.4488535561,
          658633.2805240792,
          615655.2561136064,
          684700.903419169
         ]
        },
        {
         "line": {
          "color": "red"
         },
         "mode": "lines",
         "name": "Fitted Line",
         "type": "scatter",
         "x": [
          1,
          1.121212121212121,
          1.2424242424242424,
          1.3636363636363638,
          1.4848484848484849,
          1.606060606060606,
          1.7272727272727273,
          1.8484848484848486,
          1.9696969696969697,
          2.090909090909091,
          2.212121212121212,
          2.3333333333333335,
          2.4545454545454546,
          2.5757575757575757,
          2.6969696969696972,
          2.8181818181818183,
          2.9393939393939394,
          3.0606060606060606,
          3.1818181818181817,
          3.303030303030303,
          3.4242424242424243,
          3.5454545454545454,
          3.666666666666667,
          3.787878787878788,
          3.909090909090909,
          4.03030303030303,
          4.151515151515151,
          4.272727272727273,
          4.3939393939393945,
          4.515151515151516,
          4.636363636363637,
          4.757575757575758,
          4.878787878787879,
          5,
          5.121212121212121,
          5.242424242424242,
          5.363636363636363,
          5.484848484848485,
          5.606060606060606,
          5.7272727272727275,
          5.848484848484849,
          5.96969696969697,
          6.090909090909091,
          6.212121212121212,
          6.333333333333334,
          6.454545454545455,
          6.575757575757576,
          6.696969696969697,
          6.818181818181818,
          6.9393939393939394,
          7.0606060606060606,
          7.181818181818182,
          7.303030303030303,
          7.424242424242425,
          7.545454545454546,
          7.666666666666667,
          7.787878787878788,
          7.909090909090909,
          8.030303030303031,
          8.151515151515152,
          8.272727272727273,
          8.393939393939394,
          8.515151515151516,
          8.636363636363637,
          8.757575757575758,
          8.878787878787879,
          9,
          9.121212121212121,
          9.242424242424242,
          9.363636363636363,
          9.484848484848484,
          9.606060606060606,
          9.727272727272727,
          9.84848484848485,
          9.96969696969697,
          10.090909090909092,
          10.212121212121213,
          10.333333333333334,
          10.454545454545455,
          10.575757575757576,
          10.696969696969697,
          10.818181818181818,
          10.93939393939394,
          11.06060606060606,
          11.181818181818182,
          11.303030303030303,
          11.424242424242424,
          11.545454545454545,
          11.666666666666668,
          11.787878787878789,
          11.90909090909091,
          12.030303030303031,
          12.151515151515152,
          12.272727272727273,
          12.393939393939394,
          12.515151515151516,
          12.636363636363637,
          12.757575757575758,
          12.878787878787879,
          13
         ],
         "y": [
          432813.21376056434,
          435230.56710588,
          437647.92045119574,
          440065.2737965114,
          442482.6271418271,
          444899.98048714275,
          447317.3338324584,
          449734.6871777741,
          452152.0405230898,
          454569.3938684055,
          456986.74721372116,
          459404.10055903683,
          461821.4539043525,
          464238.80724966817,
          466656.16059498384,
          469073.51394029957,
          471490.86728561524,
          473908.2206309309,
          476325.5739762466,
          478742.92732156225,
          481160.2806668779,
          483577.63401219365,
          485994.9873575093,
          488412.340702825,
          490829.69404814066,
          493247.04739345633,
          495664.400738772,
          498081.7540840877,
          500499.1074294034,
          502916.4607747191,
          505333.81412003475,
          507751.1674653504,
          510168.5208106661,
          512585.87415598176,
          515003.2275012974,
          517420.58084661316,
          519837.9341919288,
          522255.2875372445,
          524672.6408825602,
          527089.9942278758,
          529507.3475731915,
          531924.7009185072,
          534342.0542638229,
          536759.4076091385,
          539176.7609544543,
          541594.11429977,
          544011.4676450856,
          546428.8209904013,
          548846.174335717,
          551263.5276810327,
          553680.8810263483,
          556098.234371664,
          558515.5877169797,
          560932.9410622953,
          563350.294407611,
          565767.6477529267,
          568185.0010982424,
          570602.354443558,
          573019.7077888738,
          575437.0611341895,
          577854.4144795052,
          580271.7678248208,
          582689.1211701365,
          585106.4745154522,
          587523.8278607678,
          589941.1812060835,
          592358.5345513992,
          594775.8878967148,
          597193.2412420305,
          599610.5945873462,
          602027.9479326619,
          604445.3012779776,
          606862.6546232933,
          609280.007968609,
          611697.3613139247,
          614114.7146592403,
          616532.068004556,
          618949.4213498717,
          621366.7746951873,
          623784.128040503,
          626201.4813858187,
          628618.8347311344,
          631036.18807645,
          633453.5414217657,
          635870.8947670814,
          638288.248112397,
          640705.6014577127,
          643122.9548030285,
          645540.3081483442,
          647957.6614936598,
          650375.0148389755,
          652792.3681842912,
          655209.7215296068,
          657627.0748749225,
          660044.4282202382,
          662461.781565554,
          664879.1349108696,
          667296.4882561853,
          669713.841601501,
          672131.1949468167
         ]
        },
        {
         "line": {
          "width": 0
         },
         "mode": "lines",
         "showlegend": false,
         "type": "scatter",
         "x": [
          1,
          1.121212121212121,
          1.2424242424242424,
          1.3636363636363638,
          1.4848484848484849,
          1.606060606060606,
          1.7272727272727273,
          1.8484848484848486,
          1.9696969696969697,
          2.090909090909091,
          2.212121212121212,
          2.3333333333333335,
          2.4545454545454546,
          2.5757575757575757,
          2.6969696969696972,
          2.8181818181818183,
          2.9393939393939394,
          3.0606060606060606,
          3.1818181818181817,
          3.303030303030303,
          3.4242424242424243,
          3.5454545454545454,
          3.666666666666667,
          3.787878787878788,
          3.909090909090909,
          4.03030303030303,
          4.151515151515151,
          4.272727272727273,
          4.3939393939393945,
          4.515151515151516,
          4.636363636363637,
          4.757575757575758,
          4.878787878787879,
          5,
          5.121212121212121,
          5.242424242424242,
          5.363636363636363,
          5.484848484848485,
          5.606060606060606,
          5.7272727272727275,
          5.848484848484849,
          5.96969696969697,
          6.090909090909091,
          6.212121212121212,
          6.333333333333334,
          6.454545454545455,
          6.575757575757576,
          6.696969696969697,
          6.818181818181818,
          6.9393939393939394,
          7.0606060606060606,
          7.181818181818182,
          7.303030303030303,
          7.424242424242425,
          7.545454545454546,
          7.666666666666667,
          7.787878787878788,
          7.909090909090909,
          8.030303030303031,
          8.151515151515152,
          8.272727272727273,
          8.393939393939394,
          8.515151515151516,
          8.636363636363637,
          8.757575757575758,
          8.878787878787879,
          9,
          9.121212121212121,
          9.242424242424242,
          9.363636363636363,
          9.484848484848484,
          9.606060606060606,
          9.727272727272727,
          9.84848484848485,
          9.96969696969697,
          10.090909090909092,
          10.212121212121213,
          10.333333333333334,
          10.454545454545455,
          10.575757575757576,
          10.696969696969697,
          10.818181818181818,
          10.93939393939394,
          11.06060606060606,
          11.181818181818182,
          11.303030303030303,
          11.424242424242424,
          11.545454545454545,
          11.666666666666668,
          11.787878787878789,
          11.90909090909091,
          12.030303030303031,
          12.151515151515152,
          12.272727272727273,
          12.393939393939394,
          12.515151515151516,
          12.636363636363637,
          12.757575757575758,
          12.878787878787879,
          13
         ],
         "y": [
          468812.44771937944,
          470707.6786310592,
          472606.00476937735,
          474507.5660649246,
          476412.51005773316,
          478320.9923382222,
          480233.1770100454,
          482149.2371748295,
          484069.35543851333,
          485993.724438644,
          487922.5473915659,
          489856.0386579174,
          491794.42432423536,
          493737.94279772945,
          495686.8454104203,
          497641.3970278183,
          499601.8766561388,
          501568.57804069325,
          503541.81024654163,
          505521.898210748,
          507509.1832536232,
          509504.0235341909,
          511506.7944327729,
          513517.88884109934,
          515537.71733774344,
          517566.7082240374,
          519605.3073930332,
          521653.97800166055,
          523713.1999141625,
          525783.4688833524,
          527865.2954354801,
          529959.2034247688,
          532065.728225311,
          534185.4145312709,
          536318.8137415608,
          538466.4809125898,
          540628.971272523,
          542806.836302844,
          545000.6194077749,
          547210.8512090525,
          549438.044522143,
          551682.6890894603,
          553945.2461655185,
          556226.143066952,
          558525.7678156056,
          560844.4640139926,
          563182.5260980105,
          565540.195110795,
          567917.6551332966,
          570315.0304914109,
          572732.3838367265,
          575169.7151692436,
          577626.9618373733,
          580103.9995152202,
          582600.6441218336,
          585116.654614078,
          587651.7365560558,
          590205.5463452537,
          592777.6959598269,
          595367.758083141,
          597975.2714606818,
          600599.7463500355,
          603240.669935736,
          605897.5115960464,
          608569.7279267445,
          611256.7674463469,
          613958.0749266882,
          616673.0953113597,
          619401.2772014488,
          622142.0759027915,
          624894.9560412952,
          627659.3937627367,
          630434.8785408662,
          633220.9146228702,
          636017.0221445058,
          638822.737948843,
          641637.6161428303,
          644461.2284251353,
          647293.1642171845,
          650133.0306272482,
          652980.4522750044,
          655835.0710014293,
          658696.5454862124,
          661564.5507922893,
          664438.7778546001,
          667318.9329278335,
          670204.7370057739,
          673095.9252229114,
          675992.2462472247,
          678893.4616715047,
          681799.345409214,
          684709.6830997147,
          687624.2715266623,
          690542.9180525095,
          693465.4400713177,
          696391.66448146,
          699321.4271792828,
          702254.5725743669,
          705190.9531266801,
          708130.4289056318
         ]
        },
        {
         "fill": "tonexty",
         "fillcolor": "rgba(255,0,0,0.2)",
         "line": {
          "width": 0
         },
         "mode": "lines",
         "name": "SEM",
         "type": "scatter",
         "x": [
          1,
          1.121212121212121,
          1.2424242424242424,
          1.3636363636363638,
          1.4848484848484849,
          1.606060606060606,
          1.7272727272727273,
          1.8484848484848486,
          1.9696969696969697,
          2.090909090909091,
          2.212121212121212,
          2.3333333333333335,
          2.4545454545454546,
          2.5757575757575757,
          2.6969696969696972,
          2.8181818181818183,
          2.9393939393939394,
          3.0606060606060606,
          3.1818181818181817,
          3.303030303030303,
          3.4242424242424243,
          3.5454545454545454,
          3.666666666666667,
          3.787878787878788,
          3.909090909090909,
          4.03030303030303,
          4.151515151515151,
          4.272727272727273,
          4.3939393939393945,
          4.515151515151516,
          4.636363636363637,
          4.757575757575758,
          4.878787878787879,
          5,
          5.121212121212121,
          5.242424242424242,
          5.363636363636363,
          5.484848484848485,
          5.606060606060606,
          5.7272727272727275,
          5.848484848484849,
          5.96969696969697,
          6.090909090909091,
          6.212121212121212,
          6.333333333333334,
          6.454545454545455,
          6.575757575757576,
          6.696969696969697,
          6.818181818181818,
          6.9393939393939394,
          7.0606060606060606,
          7.181818181818182,
          7.303030303030303,
          7.424242424242425,
          7.545454545454546,
          7.666666666666667,
          7.787878787878788,
          7.909090909090909,
          8.030303030303031,
          8.151515151515152,
          8.272727272727273,
          8.393939393939394,
          8.515151515151516,
          8.636363636363637,
          8.757575757575758,
          8.878787878787879,
          9,
          9.121212121212121,
          9.242424242424242,
          9.363636363636363,
          9.484848484848484,
          9.606060606060606,
          9.727272727272727,
          9.84848484848485,
          9.96969696969697,
          10.090909090909092,
          10.212121212121213,
          10.333333333333334,
          10.454545454545455,
          10.575757575757576,
          10.696969696969697,
          10.818181818181818,
          10.93939393939394,
          11.06060606060606,
          11.181818181818182,
          11.303030303030303,
          11.424242424242424,
          11.545454545454545,
          11.666666666666668,
          11.787878787878789,
          11.90909090909091,
          12.030303030303031,
          12.151515151515152,
          12.272727272727273,
          12.393939393939394,
          12.515151515151516,
          12.636363636363637,
          12.757575757575758,
          12.878787878787879,
          13
         ],
         "y": [
          396813.9798017492,
          399753.45558070083,
          402689.8361330141,
          405622.98152809823,
          408552.744225921,
          411478.9686360633,
          414401.49065487145,
          417320.13718071865,
          420234.7256076663,
          423145.06329816696,
          426050.9470358764,
          428952.16246015625,
          431848.48348446965,
          434739.6717016069,
          437625.47577954736,
          440505.6308527808,
          443379.8579150917,
          446247.8632211686,
          449109.33770595153,
          451963.9564323765,
          454811.37808013265,
          457651.2444901964,
          460483.18028224574,
          463306.79256455065,
          466121.6707585379,
          468927.3865628753,
          471723.49408451084,
          474509.5301665148,
          477285.0149446443,
          480049.45266608574,
          482802.3328045895,
          485543.1315059321,
          488271.3133960212,
          490986.3337806927,
          493687.641261034,
          496374.68078063655,
          499046.8971113346,
          501703.73877164494,
          504344.66235734546,
          506969.1372466992,
          509576.65062424,
          512166.712747554,
          514738.86236212717,
          517292.67215132504,
          519827.754093303,
          522343.76458554744,
          524840.4091921608,
          527317.4468700077,
          529774.6935381374,
          532212.0248706545,
          534629.3782159701,
          537026.7535740844,
          539404.213596586,
          541761.8826093705,
          544099.9446933884,
          546418.6408917754,
          548718.2656404289,
          550999.1625418623,
          553261.7196179207,
          555506.364185238,
          557733.5574983285,
          559943.7892996061,
          562137.572404537,
          564315.437434858,
          566477.9277947912,
          568625.5949658201,
          570758.9941761101,
          572878.68048207,
          574985.2052826122,
          577079.1132719009,
          579160.9398240285,
          581231.2087932186,
          583290.4307057204,
          585339.1013143478,
          587377.7004833436,
          589406.6913696376,
          591426.5198662817,
          593437.6142746081,
          595440.3851731902,
          597435.2254537578,
          599422.510496633,
          601402.5984608394,
          603375.8306666877,
          605342.5320512421,
          607303.0116795626,
          609257.5632969606,
          611206.4659096515,
          613149.9843831456,
          615088.3700494636,
          617021.861315815,
          618950.684268737,
          620875.0532688677,
          622795.1715325514,
          624711.2316973355,
          626623.4163691587,
          628531.898649648,
          630436.8426424565,
          632338.4039380037,
          634236.7300763219,
          636131.9609880015
         ]
        }
       ],
       "layout": {
        "hovermode": "x unified",
        "template": {
         "data": {
          "bar": [
           {
            "error_x": {
             "color": "#2a3f5f"
            },
            "error_y": {
             "color": "#2a3f5f"
            },
            "marker": {
             "line": {
              "color": "#E5ECF6",
              "width": 0.5
             },
             "pattern": {
              "fillmode": "overlay",
              "size": 10,
              "solidity": 0.2
             }
            },
            "type": "bar"
           }
          ],
          "barpolar": [
           {
            "marker": {
             "line": {
              "color": "#E5ECF6",
              "width": 0.5
             },
             "pattern": {
              "fillmode": "overlay",
              "size": 10,
              "solidity": 0.2
             }
            },
            "type": "barpolar"
           }
          ],
          "carpet": [
           {
            "aaxis": {
             "endlinecolor": "#2a3f5f",
             "gridcolor": "white",
             "linecolor": "white",
             "minorgridcolor": "white",
             "startlinecolor": "#2a3f5f"
            },
            "baxis": {
             "endlinecolor": "#2a3f5f",
             "gridcolor": "white",
             "linecolor": "white",
             "minorgridcolor": "white",
             "startlinecolor": "#2a3f5f"
            },
            "type": "carpet"
           }
          ],
          "choropleth": [
           {
            "colorbar": {
             "outlinewidth": 0,
             "ticks": ""
            },
            "type": "choropleth"
           }
          ],
          "contour": [
           {
            "colorbar": {
             "outlinewidth": 0,
             "ticks": ""
            },
            "colorscale": [
             [
              0,
              "#0d0887"
             ],
             [
              0.1111111111111111,
              "#46039f"
             ],
             [
              0.2222222222222222,
              "#7201a8"
             ],
             [
              0.3333333333333333,
              "#9c179e"
             ],
             [
              0.4444444444444444,
              "#bd3786"
             ],
             [
              0.5555555555555556,
              "#d8576b"
             ],
             [
              0.6666666666666666,
              "#ed7953"
             ],
             [
              0.7777777777777778,
              "#fb9f3a"
             ],
             [
              0.8888888888888888,
              "#fdca26"
             ],
             [
              1,
              "#f0f921"
             ]
            ],
            "type": "contour"
           }
          ],
          "contourcarpet": [
           {
            "colorbar": {
             "outlinewidth": 0,
             "ticks": ""
            },
            "type": "contourcarpet"
           }
          ],
          "heatmap": [
           {
            "colorbar": {
             "outlinewidth": 0,
             "ticks": ""
            },
            "colorscale": [
             [
              0,
              "#0d0887"
             ],
             [
              0.1111111111111111,
              "#46039f"
             ],
             [
              0.2222222222222222,
              "#7201a8"
             ],
             [
              0.3333333333333333,
              "#9c179e"
             ],
             [
              0.4444444444444444,
              "#bd3786"
             ],
             [
              0.5555555555555556,
              "#d8576b"
             ],
             [
              0.6666666666666666,
              "#ed7953"
             ],
             [
              0.7777777777777778,
              "#fb9f3a"
             ],
             [
              0.8888888888888888,
              "#fdca26"
             ],
             [
              1,
              "#f0f921"
             ]
            ],
            "type": "heatmap"
           }
          ],
          "heatmapgl": [
           {
            "colorbar": {
             "outlinewidth": 0,
             "ticks": ""
            },
            "colorscale": [
             [
              0,
              "#0d0887"
             ],
             [
              0.1111111111111111,
              "#46039f"
             ],
             [
              0.2222222222222222,
              "#7201a8"
             ],
             [
              0.3333333333333333,
              "#9c179e"
             ],
             [
              0.4444444444444444,
              "#bd3786"
             ],
             [
              0.5555555555555556,
              "#d8576b"
             ],
             [
              0.6666666666666666,
              "#ed7953"
             ],
             [
              0.7777777777777778,
              "#fb9f3a"
             ],
             [
              0.8888888888888888,
              "#fdca26"
             ],
             [
              1,
              "#f0f921"
             ]
            ],
            "type": "heatmapgl"
           }
          ],
          "histogram": [
           {
            "marker": {
             "pattern": {
              "fillmode": "overlay",
              "size": 10,
              "solidity": 0.2
             }
            },
            "type": "histogram"
           }
          ],
          "histogram2d": [
           {
            "colorbar": {
             "outlinewidth": 0,
             "ticks": ""
            },
            "colorscale": [
             [
              0,
              "#0d0887"
             ],
             [
              0.1111111111111111,
              "#46039f"
             ],
             [
              0.2222222222222222,
              "#7201a8"
             ],
             [
              0.3333333333333333,
              "#9c179e"
             ],
             [
              0.4444444444444444,
              "#bd3786"
             ],
             [
              0.5555555555555556,
              "#d8576b"
             ],
             [
              0.6666666666666666,
              "#ed7953"
             ],
             [
              0.7777777777777778,
              "#fb9f3a"
             ],
             [
              0.8888888888888888,
              "#fdca26"
             ],
             [
              1,
              "#f0f921"
             ]
            ],
            "type": "histogram2d"
           }
          ],
          "histogram2dcontour": [
           {
            "colorbar": {
             "outlinewidth": 0,
             "ticks": ""
            },
            "colorscale": [
             [
              0,
              "#0d0887"
             ],
             [
              0.1111111111111111,
              "#46039f"
             ],
             [
              0.2222222222222222,
              "#7201a8"
             ],
             [
              0.3333333333333333,
              "#9c179e"
             ],
             [
              0.4444444444444444,
              "#bd3786"
             ],
             [
              0.5555555555555556,
              "#d8576b"
             ],
             [
              0.6666666666666666,
              "#ed7953"
             ],
             [
              0.7777777777777778,
              "#fb9f3a"
             ],
             [
              0.8888888888888888,
              "#fdca26"
             ],
             [
              1,
              "#f0f921"
             ]
            ],
            "type": "histogram2dcontour"
           }
          ],
          "mesh3d": [
           {
            "colorbar": {
             "outlinewidth": 0,
             "ticks": ""
            },
            "type": "mesh3d"
           }
          ],
          "parcoords": [
           {
            "line": {
             "colorbar": {
              "outlinewidth": 0,
              "ticks": ""
             }
            },
            "type": "parcoords"
           }
          ],
          "pie": [
           {
            "automargin": true,
            "type": "pie"
           }
          ],
          "scatter": [
           {
            "fillpattern": {
             "fillmode": "overlay",
             "size": 10,
             "solidity": 0.2
            },
            "type": "scatter"
           }
          ],
          "scatter3d": [
           {
            "line": {
             "colorbar": {
              "outlinewidth": 0,
              "ticks": ""
             }
            },
            "marker": {
             "colorbar": {
              "outlinewidth": 0,
              "ticks": ""
             }
            },
            "type": "scatter3d"
           }
          ],
          "scattercarpet": [
           {
            "marker": {
             "colorbar": {
              "outlinewidth": 0,
              "ticks": ""
             }
            },
            "type": "scattercarpet"
           }
          ],
          "scattergeo": [
           {
            "marker": {
             "colorbar": {
              "outlinewidth": 0,
              "ticks": ""
             }
            },
            "type": "scattergeo"
           }
          ],
          "scattergl": [
           {
            "marker": {
             "colorbar": {
              "outlinewidth": 0,
              "ticks": ""
             }
            },
            "type": "scattergl"
           }
          ],
          "scattermapbox": [
           {
            "marker": {
             "colorbar": {
              "outlinewidth": 0,
              "ticks": ""
             }
            },
            "type": "scattermapbox"
           }
          ],
          "scatterpolar": [
           {
            "marker": {
             "colorbar": {
              "outlinewidth": 0,
              "ticks": ""
             }
            },
            "type": "scatterpolar"
           }
          ],
          "scatterpolargl": [
           {
            "marker": {
             "colorbar": {
              "outlinewidth": 0,
              "ticks": ""
             }
            },
            "type": "scatterpolargl"
           }
          ],
          "scatterternary": [
           {
            "marker": {
             "colorbar": {
              "outlinewidth": 0,
              "ticks": ""
             }
            },
            "type": "scatterternary"
           }
          ],
          "surface": [
           {
            "colorbar": {
             "outlinewidth": 0,
             "ticks": ""
            },
            "colorscale": [
             [
              0,
              "#0d0887"
             ],
             [
              0.1111111111111111,
              "#46039f"
             ],
             [
              0.2222222222222222,
              "#7201a8"
             ],
             [
              0.3333333333333333,
              "#9c179e"
             ],
             [
              0.4444444444444444,
              "#bd3786"
             ],
             [
              0.5555555555555556,
              "#d8576b"
             ],
             [
              0.6666666666666666,
              "#ed7953"
             ],
             [
              0.7777777777777778,
              "#fb9f3a"
             ],
             [
              0.8888888888888888,
              "#fdca26"
             ],
             [
              1,
              "#f0f921"
             ]
            ],
            "type": "surface"
           }
          ],
          "table": [
           {
            "cells": {
             "fill": {
              "color": "#EBF0F8"
             },
             "line": {
              "color": "white"
             }
            },
            "header": {
             "fill": {
              "color": "#C8D4E3"
             },
             "line": {
              "color": "white"
             }
            },
            "type": "table"
           }
          ]
         },
         "layout": {
          "annotationdefaults": {
           "arrowcolor": "#2a3f5f",
           "arrowhead": 0,
           "arrowwidth": 1
          },
          "autotypenumbers": "strict",
          "coloraxis": {
           "colorbar": {
            "outlinewidth": 0,
            "ticks": ""
           }
          },
          "colorscale": {
           "diverging": [
            [
             0,
             "#8e0152"
            ],
            [
             0.1,
             "#c51b7d"
            ],
            [
             0.2,
             "#de77ae"
            ],
            [
             0.3,
             "#f1b6da"
            ],
            [
             0.4,
             "#fde0ef"
            ],
            [
             0.5,
             "#f7f7f7"
            ],
            [
             0.6,
             "#e6f5d0"
            ],
            [
             0.7,
             "#b8e186"
            ],
            [
             0.8,
             "#7fbc41"
            ],
            [
             0.9,
             "#4d9221"
            ],
            [
             1,
             "#276419"
            ]
           ],
           "sequential": [
            [
             0,
             "#0d0887"
            ],
            [
             0.1111111111111111,
             "#46039f"
            ],
            [
             0.2222222222222222,
             "#7201a8"
            ],
            [
             0.3333333333333333,
             "#9c179e"
            ],
            [
             0.4444444444444444,
             "#bd3786"
            ],
            [
             0.5555555555555556,
             "#d8576b"
            ],
            [
             0.6666666666666666,
             "#ed7953"
            ],
            [
             0.7777777777777778,
             "#fb9f3a"
            ],
            [
             0.8888888888888888,
             "#fdca26"
            ],
            [
             1,
             "#f0f921"
            ]
           ],
           "sequentialminus": [
            [
             0,
             "#0d0887"
            ],
            [
             0.1111111111111111,
             "#46039f"
            ],
            [
             0.2222222222222222,
             "#7201a8"
            ],
            [
             0.3333333333333333,
             "#9c179e"
            ],
            [
             0.4444444444444444,
             "#bd3786"
            ],
            [
             0.5555555555555556,
             "#d8576b"
            ],
            [
             0.6666666666666666,
             "#ed7953"
            ],
            [
             0.7777777777777778,
             "#fb9f3a"
            ],
            [
             0.8888888888888888,
             "#fdca26"
            ],
            [
             1,
             "#f0f921"
            ]
           ]
          },
          "colorway": [
           "#636efa",
           "#EF553B",
           "#00cc96",
           "#ab63fa",
           "#FFA15A",
           "#19d3f3",
           "#FF6692",
           "#B6E880",
           "#FF97FF",
           "#FECB52"
          ],
          "font": {
           "color": "#2a3f5f"
          },
          "geo": {
           "bgcolor": "white",
           "lakecolor": "white",
           "landcolor": "#E5ECF6",
           "showlakes": true,
           "showland": true,
           "subunitcolor": "white"
          },
          "hoverlabel": {
           "align": "left"
          },
          "hovermode": "closest",
          "mapbox": {
           "style": "light"
          },
          "paper_bgcolor": "white",
          "plot_bgcolor": "#E5ECF6",
          "polar": {
           "angularaxis": {
            "gridcolor": "white",
            "linecolor": "white",
            "ticks": ""
           },
           "bgcolor": "#E5ECF6",
           "radialaxis": {
            "gridcolor": "white",
            "linecolor": "white",
            "ticks": ""
           }
          },
          "scene": {
           "xaxis": {
            "backgroundcolor": "#E5ECF6",
            "gridcolor": "white",
            "gridwidth": 2,
            "linecolor": "white",
            "showbackground": true,
            "ticks": "",
            "zerolinecolor": "white"
           },
           "yaxis": {
            "backgroundcolor": "#E5ECF6",
            "gridcolor": "white",
            "gridwidth": 2,
            "linecolor": "white",
            "showbackground": true,
            "ticks": "",
            "zerolinecolor": "white"
           },
           "zaxis": {
            "backgroundcolor": "#E5ECF6",
            "gridcolor": "white",
            "gridwidth": 2,
            "linecolor": "white",
            "showbackground": true,
            "ticks": "",
            "zerolinecolor": "white"
           }
          },
          "shapedefaults": {
           "line": {
            "color": "#2a3f5f"
           }
          },
          "ternary": {
           "aaxis": {
            "gridcolor": "white",
            "linecolor": "white",
            "ticks": ""
           },
           "baxis": {
            "gridcolor": "white",
            "linecolor": "white",
            "ticks": ""
           },
           "bgcolor": "#E5ECF6",
           "caxis": {
            "gridcolor": "white",
            "linecolor": "white",
            "ticks": ""
           }
          },
          "title": {
           "x": 0.05
          },
          "xaxis": {
           "automargin": true,
           "gridcolor": "white",
           "linecolor": "white",
           "ticks": "",
           "title": {
            "standoff": 15
           },
           "zerolinecolor": "white",
           "zerolinewidth": 2
          },
          "yaxis": {
           "automargin": true,
           "gridcolor": "white",
           "linecolor": "white",
           "ticks": "",
           "title": {
            "standoff": 15
           },
           "zerolinecolor": "white",
           "zerolinewidth": 2
          }
         }
        },
        "title": {
         "text": "Distance Traveled by Session Number"
        },
        "xaxis": {
         "title": {
          "text": "Session Number"
         }
        },
        "yaxis": {
         "title": {
          "text": "Distance Traveled"
         }
        }
       }
      }
     },
     "metadata": {},
     "output_type": "display_data"
    },
    {
     "data": {
      "application/vnd.plotly.v1+json": {
       "config": {
        "plotlyServerURL": "https://plot.ly"
       },
       "data": [
        {
         "marker": {
          "color": [
           0,
           0,
           0,
           0,
           0,
           0,
           0,
           0,
           0,
           0,
           0,
           0,
           0
          ],
          "colorscale": [
           [
            0,
            "rgb(103,0,31)"
           ],
           [
            0.1,
            "rgb(178,24,43)"
           ],
           [
            0.2,
            "rgb(214,96,77)"
           ],
           [
            0.3,
            "rgb(244,165,130)"
           ],
           [
            0.4,
            "rgb(253,219,199)"
           ],
           [
            0.5,
            "rgb(247,247,247)"
           ],
           [
            0.6,
            "rgb(209,229,240)"
           ],
           [
            0.7,
            "rgb(146,197,222)"
           ],
           [
            0.8,
            "rgb(67,147,195)"
           ],
           [
            0.9,
            "rgb(33,102,172)"
           ],
           [
            1,
            "rgb(5,48,97)"
           ]
          ]
         },
         "mode": "markers",
         "name": "Distance Traveled",
         "showlegend": true,
         "type": "scatter",
         "x": [
          1,
          2,
          3,
          4,
          5,
          6,
          7,
          8,
          9,
          10,
          11,
          12,
          13
         ],
         "y": [
          655297.5804871407,
          457448.3631451816,
          439316.15887511737,
          468885.9627721219,
          584143.4478082042,
          740486.559914116,
          659202.1323992705,
          747118.9791622803,
          696948.2481736927,
          687219.3504889571,
          706788.9183672273,
          624743.2130849316,
          614257.2321552876
         ]
        },
        {
         "line": {
          "color": "red"
         },
         "mode": "lines",
         "name": "Fitted Line",
         "type": "scatter",
         "x": [
          1,
          1.121212121212121,
          1.2424242424242424,
          1.3636363636363638,
          1.4848484848484849,
          1.606060606060606,
          1.7272727272727273,
          1.8484848484848486,
          1.9696969696969697,
          2.090909090909091,
          2.212121212121212,
          2.3333333333333335,
          2.4545454545454546,
          2.5757575757575757,
          2.6969696969696972,
          2.8181818181818183,
          2.9393939393939394,
          3.0606060606060606,
          3.1818181818181817,
          3.303030303030303,
          3.4242424242424243,
          3.5454545454545454,
          3.666666666666667,
          3.787878787878788,
          3.909090909090909,
          4.03030303030303,
          4.151515151515151,
          4.272727272727273,
          4.3939393939393945,
          4.515151515151516,
          4.636363636363637,
          4.757575757575758,
          4.878787878787879,
          5,
          5.121212121212121,
          5.242424242424242,
          5.363636363636363,
          5.484848484848485,
          5.606060606060606,
          5.7272727272727275,
          5.848484848484849,
          5.96969696969697,
          6.090909090909091,
          6.212121212121212,
          6.333333333333334,
          6.454545454545455,
          6.575757575757576,
          6.696969696969697,
          6.818181818181818,
          6.9393939393939394,
          7.0606060606060606,
          7.181818181818182,
          7.303030303030303,
          7.424242424242425,
          7.545454545454546,
          7.666666666666667,
          7.787878787878788,
          7.909090909090909,
          8.030303030303031,
          8.151515151515152,
          8.272727272727273,
          8.393939393939394,
          8.515151515151516,
          8.636363636363637,
          8.757575757575758,
          8.878787878787879,
          9,
          9.121212121212121,
          9.242424242424242,
          9.363636363636363,
          9.484848484848484,
          9.606060606060606,
          9.727272727272727,
          9.84848484848485,
          9.96969696969697,
          10.090909090909092,
          10.212121212121213,
          10.333333333333334,
          10.454545454545455,
          10.575757575757576,
          10.696969696969697,
          10.818181818181818,
          10.93939393939394,
          11.06060606060606,
          11.181818181818182,
          11.303030303030303,
          11.424242424242424,
          11.545454545454545,
          11.666666666666668,
          11.787878787878789,
          11.90909090909091,
          12.030303030303031,
          12.151515151515152,
          12.272727272727273,
          12.393939393939394,
          12.515151515151516,
          12.636363636363637,
          12.757575757575758,
          12.878787878787879,
          13
         ],
         "y": [
          537702.163576017,
          539398.7106161807,
          541095.2576563443,
          542791.804696508,
          544488.3517366716,
          546184.8987768353,
          547881.445816999,
          549577.9928571626,
          551274.5398973263,
          552971.0869374899,
          554667.6339776536,
          556364.1810178172,
          558060.7280579809,
          559757.2750981445,
          561453.8221383082,
          563150.3691784719,
          564846.9162186355,
          566543.4632587992,
          568240.0102989628,
          569936.5573391265,
          571633.1043792901,
          573329.6514194538,
          575026.1984596174,
          576722.7454997811,
          578419.2925399448,
          580115.8395801084,
          581812.386620272,
          583508.9336604357,
          585205.4807005993,
          586902.0277407629,
          588598.5747809266,
          590295.1218210902,
          591991.6688612539,
          593688.2159014175,
          595384.7629415812,
          597081.3099817449,
          598777.8570219085,
          600474.4040620722,
          602170.9511022358,
          603867.4981423995,
          605564.0451825631,
          607260.5922227268,
          608957.1392628904,
          610653.6863030541,
          612350.2333432178,
          614046.7803833814,
          615743.3274235451,
          617439.8744637087,
          619136.4215038724,
          620832.968544036,
          622529.5155841997,
          624226.0626243632,
          625922.6096645269,
          627619.1567046905,
          629315.7037448543,
          631012.2507850179,
          632708.7978251815,
          634405.3448653452,
          636101.8919055088,
          637798.4389456725,
          639494.9859858361,
          641191.5330259998,
          642888.0800661634,
          644584.6271063271,
          646281.1741464908,
          647977.7211866544,
          649674.2682268181,
          651370.8152669817,
          653067.3623071454,
          654763.909347309,
          656460.4563874727,
          658157.0034276363,
          659853.5504678,
          661550.0975079637,
          663246.6445481273,
          664943.191588291,
          666639.7386284546,
          668336.2856686183,
          670032.8327087818,
          671729.3797489456,
          673425.9267891091,
          675122.4738292729,
          676819.0208694364,
          678515.5679096001,
          680212.1149497638,
          681908.6619899274,
          683605.2090300911,
          685301.7560702547,
          686998.3031104184,
          688694.850150582,
          690391.3971907457,
          692087.9442309093,
          693784.491271073,
          695481.0383112367,
          697177.5853514003,
          698874.132391564,
          700570.6794317276,
          702267.2264718913,
          703963.7735120549,
          705660.3205522186
         ]
        },
        {
         "line": {
          "width": 0
         },
         "mode": "lines",
         "showlegend": false,
         "type": "scatter",
         "x": [
          1,
          1.121212121212121,
          1.2424242424242424,
          1.3636363636363638,
          1.4848484848484849,
          1.606060606060606,
          1.7272727272727273,
          1.8484848484848486,
          1.9696969696969697,
          2.090909090909091,
          2.212121212121212,
          2.3333333333333335,
          2.4545454545454546,
          2.5757575757575757,
          2.6969696969696972,
          2.8181818181818183,
          2.9393939393939394,
          3.0606060606060606,
          3.1818181818181817,
          3.303030303030303,
          3.4242424242424243,
          3.5454545454545454,
          3.666666666666667,
          3.787878787878788,
          3.909090909090909,
          4.03030303030303,
          4.151515151515151,
          4.272727272727273,
          4.3939393939393945,
          4.515151515151516,
          4.636363636363637,
          4.757575757575758,
          4.878787878787879,
          5,
          5.121212121212121,
          5.242424242424242,
          5.363636363636363,
          5.484848484848485,
          5.606060606060606,
          5.7272727272727275,
          5.848484848484849,
          5.96969696969697,
          6.090909090909091,
          6.212121212121212,
          6.333333333333334,
          6.454545454545455,
          6.575757575757576,
          6.696969696969697,
          6.818181818181818,
          6.9393939393939394,
          7.0606060606060606,
          7.181818181818182,
          7.303030303030303,
          7.424242424242425,
          7.545454545454546,
          7.666666666666667,
          7.787878787878788,
          7.909090909090909,
          8.030303030303031,
          8.151515151515152,
          8.272727272727273,
          8.393939393939394,
          8.515151515151516,
          8.636363636363637,
          8.757575757575758,
          8.878787878787879,
          9,
          9.121212121212121,
          9.242424242424242,
          9.363636363636363,
          9.484848484848484,
          9.606060606060606,
          9.727272727272727,
          9.84848484848485,
          9.96969696969697,
          10.090909090909092,
          10.212121212121213,
          10.333333333333334,
          10.454545454545455,
          10.575757575757576,
          10.696969696969697,
          10.818181818181818,
          10.93939393939394,
          11.06060606060606,
          11.181818181818182,
          11.303030303030303,
          11.424242424242424,
          11.545454545454545,
          11.666666666666668,
          11.787878787878789,
          11.90909090909091,
          12.030303030303031,
          12.151515151515152,
          12.272727272727273,
          12.393939393939394,
          12.515151515151516,
          12.636363636363637,
          12.757575757575758,
          12.878787878787879,
          13
         ],
         "y": [
          587423.186356781,
          588398.594123624,
          589378.2769212739,
          590362.4280175124,
          591351.2511900451,
          592344.9613355221,
          593343.7851088077,
          594347.9615924878,
          595357.7429962076,
          596373.3953849587,
          597395.1994348384,
          598423.4512140959,
          599458.4629864275,
          600500.5640324593,
          601550.1014841648,
          602607.4411655524,
          603672.9684313332,
          604747.0889933989,
          605830.2297228024,
          606922.8394125144,
          608025.3894835372,
          609138.3746139797,
          610262.3132674723,
          611397.7480938582,
          612545.2461714987,
          613705.3990568783,
          614878.8226036181,
          616066.1565096714,
          617268.063548611,
          618485.2284388117,
          619718.3563032578,
          620968.1706731167,
          622235.4109904408,
          623520.829569876,
          624825.187986458,
          626149.2528668426,
          627493.7910749108,
          628859.5642997427,
          630247.3230743562,
          631657.8002769982,
          633091.7041924477,
          634549.7112377016,
          636032.4584831548,
          637540.5361252582,
          639074.4800877207,
          640634.7649436517,
          642221.7973587594,
          643835.9102543291,
          645477.3578772466,
          647146.3119425738,
          648842.8589827374,
          650566.9989977374,
          652318.6454551473,
          654097.6266399049,
          655903.6883051246,
          657736.4975295208,
          659595.6476473856,
          661480.6640856095,
          663391.0109204836,
          665326.097955557,
          667285.2881204349,
          669267.9049981202,
          671273.240303834,
          673300.5611593294,
          675349.1170315885,
          677418.1462315312,
          679506.8818952765,
          681614.5573961686,
          683740.4111591718,
          685883.6908696402,
          688043.6570855215,
          690219.5862756481,
          692410.7733170355,
          694616.5334913098,
          696836.2040248972,
          699069.1452198449,
          701314.7412225318,
          703572.4004764732,
          705841.5559033077,
          708121.6648531926,
          710412.208862497,
          712712.6932531125,
          715022.6466040362,
          717341.6201222978,
          719669.1869368443,
          722004.941335784,
          724348.4979644058,
          726699.4909987013,
          729057.5733066971,
          731422.4156077668,
          733793.7056382145,
          736171.1473297906,
          738554.4600063981,
          740943.3776030454,
          743337.6479100871,
          745737.0318449375,
          748141.3027527321,
          750550.2457368209,
          752963.6570194983,
          755381.3433329826
         ]
        },
        {
         "fill": "tonexty",
         "fillcolor": "rgba(255,0,0,0.2)",
         "line": {
          "width": 0
         },
         "mode": "lines",
         "name": "SEM",
         "type": "scatter",
         "x": [
          1,
          1.121212121212121,
          1.2424242424242424,
          1.3636363636363638,
          1.4848484848484849,
          1.606060606060606,
          1.7272727272727273,
          1.8484848484848486,
          1.9696969696969697,
          2.090909090909091,
          2.212121212121212,
          2.3333333333333335,
          2.4545454545454546,
          2.5757575757575757,
          2.6969696969696972,
          2.8181818181818183,
          2.9393939393939394,
          3.0606060606060606,
          3.1818181818181817,
          3.303030303030303,
          3.4242424242424243,
          3.5454545454545454,
          3.666666666666667,
          3.787878787878788,
          3.909090909090909,
          4.03030303030303,
          4.151515151515151,
          4.272727272727273,
          4.3939393939393945,
          4.515151515151516,
          4.636363636363637,
          4.757575757575758,
          4.878787878787879,
          5,
          5.121212121212121,
          5.242424242424242,
          5.363636363636363,
          5.484848484848485,
          5.606060606060606,
          5.7272727272727275,
          5.848484848484849,
          5.96969696969697,
          6.090909090909091,
          6.212121212121212,
          6.333333333333334,
          6.454545454545455,
          6.575757575757576,
          6.696969696969697,
          6.818181818181818,
          6.9393939393939394,
          7.0606060606060606,
          7.181818181818182,
          7.303030303030303,
          7.424242424242425,
          7.545454545454546,
          7.666666666666667,
          7.787878787878788,
          7.909090909090909,
          8.030303030303031,
          8.151515151515152,
          8.272727272727273,
          8.393939393939394,
          8.515151515151516,
          8.636363636363637,
          8.757575757575758,
          8.878787878787879,
          9,
          9.121212121212121,
          9.242424242424242,
          9.363636363636363,
          9.484848484848484,
          9.606060606060606,
          9.727272727272727,
          9.84848484848485,
          9.96969696969697,
          10.090909090909092,
          10.212121212121213,
          10.333333333333334,
          10.454545454545455,
          10.575757575757576,
          10.696969696969697,
          10.818181818181818,
          10.93939393939394,
          11.06060606060606,
          11.181818181818182,
          11.303030303030303,
          11.424242424242424,
          11.545454545454545,
          11.666666666666668,
          11.787878787878789,
          11.90909090909091,
          12.030303030303031,
          12.151515151515152,
          12.272727272727273,
          12.393939393939394,
          12.515151515151516,
          12.636363636363637,
          12.757575757575758,
          12.878787878787879,
          13
         ],
         "y": [
          487981.14079525304,
          490398.8271087374,
          492812.23839141475,
          495221.1813755036,
          497625.45228329813,
          500024.83621814847,
          502419.1065251901,
          504808.02412183746,
          507191.336798445,
          509568.77849002107,
          511940.0685204688,
          514304.9108215385,
          516662.9931295343,
          519013.98616382974,
          521357.5427924516,
          523693.29719139135,
          526020.8640059378,
          528339.8375241994,
          530649.7908751232,
          532950.2752657386,
          535240.8192750431,
          537520.9282249279,
          539790.0836517626,
          542047.742905704,
          544293.3389083908,
          546526.2801033385,
          548745.9506369258,
          550951.7108112001,
          553142.8978525875,
          555318.8270427141,
          557478.7932585954,
          559622.0729690638,
          561747.926732067,
          563855.6022329591,
          565944.3378967044,
          568013.3670966472,
          570061.9229689062,
          572089.2438244016,
          574094.5791301155,
          576077.1960078008,
          578036.3861726786,
          579971.473207752,
          581881.8200426261,
          583766.83648085,
          585625.9865987148,
          587458.7958231111,
          589264.8574883307,
          591043.8386730884,
          592795.4851304982,
          594519.6251454983,
          596216.172185662,
          597885.126250989,
          599526.5738739065,
          601140.6867694762,
          602727.719184584,
          604288.0040405149,
          605821.9480029774,
          607330.0256450808,
          608812.772890534,
          610270.7799357879,
          611704.6838512374,
          613115.1610538794,
          614502.9198284929,
          615868.6930533248,
          617213.231261393,
          618537.2961417777,
          619841.6545583596,
          621127.0731377949,
          622394.3134551189,
          623644.1278249779,
          624877.2556894239,
          626094.4205796246,
          627296.3276185645,
          628483.6615246175,
          629657.0850713574,
          630817.237956737,
          631964.7360343775,
          633100.1708607634,
          634224.1095142559,
          635337.0946446985,
          636439.6447157213,
          637532.2544054333,
          638615.3951348367,
          639689.5156969024,
          640755.0429626832,
          641812.3826440708,
          642861.9200957763,
          643904.0211418081,
          644939.0329141397,
          645967.2846933972,
          646989.0887432769,
          648004.741132028,
          649014.5225357478,
          650018.6990194279,
          651017.5227927135,
          652011.2329381905,
          653000.0561107232,
          653984.2072069617,
          654963.8900046116,
          655939.2977714546
         ]
        }
       ],
       "layout": {
        "hovermode": "x unified",
        "template": {
         "data": {
          "bar": [
           {
            "error_x": {
             "color": "#2a3f5f"
            },
            "error_y": {
             "color": "#2a3f5f"
            },
            "marker": {
             "line": {
              "color": "#E5ECF6",
              "width": 0.5
             },
             "pattern": {
              "fillmode": "overlay",
              "size": 10,
              "solidity": 0.2
             }
            },
            "type": "bar"
           }
          ],
          "barpolar": [
           {
            "marker": {
             "line": {
              "color": "#E5ECF6",
              "width": 0.5
             },
             "pattern": {
              "fillmode": "overlay",
              "size": 10,
              "solidity": 0.2
             }
            },
            "type": "barpolar"
           }
          ],
          "carpet": [
           {
            "aaxis": {
             "endlinecolor": "#2a3f5f",
             "gridcolor": "white",
             "linecolor": "white",
             "minorgridcolor": "white",
             "startlinecolor": "#2a3f5f"
            },
            "baxis": {
             "endlinecolor": "#2a3f5f",
             "gridcolor": "white",
             "linecolor": "white",
             "minorgridcolor": "white",
             "startlinecolor": "#2a3f5f"
            },
            "type": "carpet"
           }
          ],
          "choropleth": [
           {
            "colorbar": {
             "outlinewidth": 0,
             "ticks": ""
            },
            "type": "choropleth"
           }
          ],
          "contour": [
           {
            "colorbar": {
             "outlinewidth": 0,
             "ticks": ""
            },
            "colorscale": [
             [
              0,
              "#0d0887"
             ],
             [
              0.1111111111111111,
              "#46039f"
             ],
             [
              0.2222222222222222,
              "#7201a8"
             ],
             [
              0.3333333333333333,
              "#9c179e"
             ],
             [
              0.4444444444444444,
              "#bd3786"
             ],
             [
              0.5555555555555556,
              "#d8576b"
             ],
             [
              0.6666666666666666,
              "#ed7953"
             ],
             [
              0.7777777777777778,
              "#fb9f3a"
             ],
             [
              0.8888888888888888,
              "#fdca26"
             ],
             [
              1,
              "#f0f921"
             ]
            ],
            "type": "contour"
           }
          ],
          "contourcarpet": [
           {
            "colorbar": {
             "outlinewidth": 0,
             "ticks": ""
            },
            "type": "contourcarpet"
           }
          ],
          "heatmap": [
           {
            "colorbar": {
             "outlinewidth": 0,
             "ticks": ""
            },
            "colorscale": [
             [
              0,
              "#0d0887"
             ],
             [
              0.1111111111111111,
              "#46039f"
             ],
             [
              0.2222222222222222,
              "#7201a8"
             ],
             [
              0.3333333333333333,
              "#9c179e"
             ],
             [
              0.4444444444444444,
              "#bd3786"
             ],
             [
              0.5555555555555556,
              "#d8576b"
             ],
             [
              0.6666666666666666,
              "#ed7953"
             ],
             [
              0.7777777777777778,
              "#fb9f3a"
             ],
             [
              0.8888888888888888,
              "#fdca26"
             ],
             [
              1,
              "#f0f921"
             ]
            ],
            "type": "heatmap"
           }
          ],
          "heatmapgl": [
           {
            "colorbar": {
             "outlinewidth": 0,
             "ticks": ""
            },
            "colorscale": [
             [
              0,
              "#0d0887"
             ],
             [
              0.1111111111111111,
              "#46039f"
             ],
             [
              0.2222222222222222,
              "#7201a8"
             ],
             [
              0.3333333333333333,
              "#9c179e"
             ],
             [
              0.4444444444444444,
              "#bd3786"
             ],
             [
              0.5555555555555556,
              "#d8576b"
             ],
             [
              0.6666666666666666,
              "#ed7953"
             ],
             [
              0.7777777777777778,
              "#fb9f3a"
             ],
             [
              0.8888888888888888,
              "#fdca26"
             ],
             [
              1,
              "#f0f921"
             ]
            ],
            "type": "heatmapgl"
           }
          ],
          "histogram": [
           {
            "marker": {
             "pattern": {
              "fillmode": "overlay",
              "size": 10,
              "solidity": 0.2
             }
            },
            "type": "histogram"
           }
          ],
          "histogram2d": [
           {
            "colorbar": {
             "outlinewidth": 0,
             "ticks": ""
            },
            "colorscale": [
             [
              0,
              "#0d0887"
             ],
             [
              0.1111111111111111,
              "#46039f"
             ],
             [
              0.2222222222222222,
              "#7201a8"
             ],
             [
              0.3333333333333333,
              "#9c179e"
             ],
             [
              0.4444444444444444,
              "#bd3786"
             ],
             [
              0.5555555555555556,
              "#d8576b"
             ],
             [
              0.6666666666666666,
              "#ed7953"
             ],
             [
              0.7777777777777778,
              "#fb9f3a"
             ],
             [
              0.8888888888888888,
              "#fdca26"
             ],
             [
              1,
              "#f0f921"
             ]
            ],
            "type": "histogram2d"
           }
          ],
          "histogram2dcontour": [
           {
            "colorbar": {
             "outlinewidth": 0,
             "ticks": ""
            },
            "colorscale": [
             [
              0,
              "#0d0887"
             ],
             [
              0.1111111111111111,
              "#46039f"
             ],
             [
              0.2222222222222222,
              "#7201a8"
             ],
             [
              0.3333333333333333,
              "#9c179e"
             ],
             [
              0.4444444444444444,
              "#bd3786"
             ],
             [
              0.5555555555555556,
              "#d8576b"
             ],
             [
              0.6666666666666666,
              "#ed7953"
             ],
             [
              0.7777777777777778,
              "#fb9f3a"
             ],
             [
              0.8888888888888888,
              "#fdca26"
             ],
             [
              1,
              "#f0f921"
             ]
            ],
            "type": "histogram2dcontour"
           }
          ],
          "mesh3d": [
           {
            "colorbar": {
             "outlinewidth": 0,
             "ticks": ""
            },
            "type": "mesh3d"
           }
          ],
          "parcoords": [
           {
            "line": {
             "colorbar": {
              "outlinewidth": 0,
              "ticks": ""
             }
            },
            "type": "parcoords"
           }
          ],
          "pie": [
           {
            "automargin": true,
            "type": "pie"
           }
          ],
          "scatter": [
           {
            "fillpattern": {
             "fillmode": "overlay",
             "size": 10,
             "solidity": 0.2
            },
            "type": "scatter"
           }
          ],
          "scatter3d": [
           {
            "line": {
             "colorbar": {
              "outlinewidth": 0,
              "ticks": ""
             }
            },
            "marker": {
             "colorbar": {
              "outlinewidth": 0,
              "ticks": ""
             }
            },
            "type": "scatter3d"
           }
          ],
          "scattercarpet": [
           {
            "marker": {
             "colorbar": {
              "outlinewidth": 0,
              "ticks": ""
             }
            },
            "type": "scattercarpet"
           }
          ],
          "scattergeo": [
           {
            "marker": {
             "colorbar": {
              "outlinewidth": 0,
              "ticks": ""
             }
            },
            "type": "scattergeo"
           }
          ],
          "scattergl": [
           {
            "marker": {
             "colorbar": {
              "outlinewidth": 0,
              "ticks": ""
             }
            },
            "type": "scattergl"
           }
          ],
          "scattermapbox": [
           {
            "marker": {
             "colorbar": {
              "outlinewidth": 0,
              "ticks": ""
             }
            },
            "type": "scattermapbox"
           }
          ],
          "scatterpolar": [
           {
            "marker": {
             "colorbar": {
              "outlinewidth": 0,
              "ticks": ""
             }
            },
            "type": "scatterpolar"
           }
          ],
          "scatterpolargl": [
           {
            "marker": {
             "colorbar": {
              "outlinewidth": 0,
              "ticks": ""
             }
            },
            "type": "scatterpolargl"
           }
          ],
          "scatterternary": [
           {
            "marker": {
             "colorbar": {
              "outlinewidth": 0,
              "ticks": ""
             }
            },
            "type": "scatterternary"
           }
          ],
          "surface": [
           {
            "colorbar": {
             "outlinewidth": 0,
             "ticks": ""
            },
            "colorscale": [
             [
              0,
              "#0d0887"
             ],
             [
              0.1111111111111111,
              "#46039f"
             ],
             [
              0.2222222222222222,
              "#7201a8"
             ],
             [
              0.3333333333333333,
              "#9c179e"
             ],
             [
              0.4444444444444444,
              "#bd3786"
             ],
             [
              0.5555555555555556,
              "#d8576b"
             ],
             [
              0.6666666666666666,
              "#ed7953"
             ],
             [
              0.7777777777777778,
              "#fb9f3a"
             ],
             [
              0.8888888888888888,
              "#fdca26"
             ],
             [
              1,
              "#f0f921"
             ]
            ],
            "type": "surface"
           }
          ],
          "table": [
           {
            "cells": {
             "fill": {
              "color": "#EBF0F8"
             },
             "line": {
              "color": "white"
             }
            },
            "header": {
             "fill": {
              "color": "#C8D4E3"
             },
             "line": {
              "color": "white"
             }
            },
            "type": "table"
           }
          ]
         },
         "layout": {
          "annotationdefaults": {
           "arrowcolor": "#2a3f5f",
           "arrowhead": 0,
           "arrowwidth": 1
          },
          "autotypenumbers": "strict",
          "coloraxis": {
           "colorbar": {
            "outlinewidth": 0,
            "ticks": ""
           }
          },
          "colorscale": {
           "diverging": [
            [
             0,
             "#8e0152"
            ],
            [
             0.1,
             "#c51b7d"
            ],
            [
             0.2,
             "#de77ae"
            ],
            [
             0.3,
             "#f1b6da"
            ],
            [
             0.4,
             "#fde0ef"
            ],
            [
             0.5,
             "#f7f7f7"
            ],
            [
             0.6,
             "#e6f5d0"
            ],
            [
             0.7,
             "#b8e186"
            ],
            [
             0.8,
             "#7fbc41"
            ],
            [
             0.9,
             "#4d9221"
            ],
            [
             1,
             "#276419"
            ]
           ],
           "sequential": [
            [
             0,
             "#0d0887"
            ],
            [
             0.1111111111111111,
             "#46039f"
            ],
            [
             0.2222222222222222,
             "#7201a8"
            ],
            [
             0.3333333333333333,
             "#9c179e"
            ],
            [
             0.4444444444444444,
             "#bd3786"
            ],
            [
             0.5555555555555556,
             "#d8576b"
            ],
            [
             0.6666666666666666,
             "#ed7953"
            ],
            [
             0.7777777777777778,
             "#fb9f3a"
            ],
            [
             0.8888888888888888,
             "#fdca26"
            ],
            [
             1,
             "#f0f921"
            ]
           ],
           "sequentialminus": [
            [
             0,
             "#0d0887"
            ],
            [
             0.1111111111111111,
             "#46039f"
            ],
            [
             0.2222222222222222,
             "#7201a8"
            ],
            [
             0.3333333333333333,
             "#9c179e"
            ],
            [
             0.4444444444444444,
             "#bd3786"
            ],
            [
             0.5555555555555556,
             "#d8576b"
            ],
            [
             0.6666666666666666,
             "#ed7953"
            ],
            [
             0.7777777777777778,
             "#fb9f3a"
            ],
            [
             0.8888888888888888,
             "#fdca26"
            ],
            [
             1,
             "#f0f921"
            ]
           ]
          },
          "colorway": [
           "#636efa",
           "#EF553B",
           "#00cc96",
           "#ab63fa",
           "#FFA15A",
           "#19d3f3",
           "#FF6692",
           "#B6E880",
           "#FF97FF",
           "#FECB52"
          ],
          "font": {
           "color": "#2a3f5f"
          },
          "geo": {
           "bgcolor": "white",
           "lakecolor": "white",
           "landcolor": "#E5ECF6",
           "showlakes": true,
           "showland": true,
           "subunitcolor": "white"
          },
          "hoverlabel": {
           "align": "left"
          },
          "hovermode": "closest",
          "mapbox": {
           "style": "light"
          },
          "paper_bgcolor": "white",
          "plot_bgcolor": "#E5ECF6",
          "polar": {
           "angularaxis": {
            "gridcolor": "white",
            "linecolor": "white",
            "ticks": ""
           },
           "bgcolor": "#E5ECF6",
           "radialaxis": {
            "gridcolor": "white",
            "linecolor": "white",
            "ticks": ""
           }
          },
          "scene": {
           "xaxis": {
            "backgroundcolor": "#E5ECF6",
            "gridcolor": "white",
            "gridwidth": 2,
            "linecolor": "white",
            "showbackground": true,
            "ticks": "",
            "zerolinecolor": "white"
           },
           "yaxis": {
            "backgroundcolor": "#E5ECF6",
            "gridcolor": "white",
            "gridwidth": 2,
            "linecolor": "white",
            "showbackground": true,
            "ticks": "",
            "zerolinecolor": "white"
           },
           "zaxis": {
            "backgroundcolor": "#E5ECF6",
            "gridcolor": "white",
            "gridwidth": 2,
            "linecolor": "white",
            "showbackground": true,
            "ticks": "",
            "zerolinecolor": "white"
           }
          },
          "shapedefaults": {
           "line": {
            "color": "#2a3f5f"
           }
          },
          "ternary": {
           "aaxis": {
            "gridcolor": "white",
            "linecolor": "white",
            "ticks": ""
           },
           "baxis": {
            "gridcolor": "white",
            "linecolor": "white",
            "ticks": ""
           },
           "bgcolor": "#E5ECF6",
           "caxis": {
            "gridcolor": "white",
            "linecolor": "white",
            "ticks": ""
           }
          },
          "title": {
           "x": 0.05
          },
          "xaxis": {
           "automargin": true,
           "gridcolor": "white",
           "linecolor": "white",
           "ticks": "",
           "title": {
            "standoff": 15
           },
           "zerolinecolor": "white",
           "zerolinewidth": 2
          },
          "yaxis": {
           "automargin": true,
           "gridcolor": "white",
           "linecolor": "white",
           "ticks": "",
           "title": {
            "standoff": 15
           },
           "zerolinecolor": "white",
           "zerolinewidth": 2
          }
         }
        },
        "title": {
         "text": "Distance Traveled by Session Number"
        },
        "xaxis": {
         "title": {
          "text": "Session Number"
         }
        },
        "yaxis": {
         "title": {
          "text": "Distance Traveled"
         }
        }
       }
      }
     },
     "metadata": {},
     "output_type": "display_data"
    }
   ],
   "source": [
    "# Make a subset of the summary dataframe for a specific mouse\n",
    "for mouse_id in set(mice):\n",
    "    #mouse_id = '1003'\n",
    "    mouse_df = clickbait.summary_df[clickbait.summary_df['mouse_id'] == mouse_id]\n",
    "    #mouse_df = mouse_df[mouse_df['session_id'].str.contains('full')]   \n",
    "\n",
    "    linear_regression_plot(mouse_df, dv='distance_traveled', iv='session_number', dv_name='Distance Traveled', iv_name='Session Number', error_type='SEM')"
   ]
  },
  {
   "cell_type": "code",
   "execution_count": 16,
   "metadata": {},
   "outputs": [
    {
     "name": "stdout",
     "output_type": "stream",
     "text": [
      "Unique mouse IDs: ['1003' '1004' '1005' '1006']\n",
      "\n",
      "Sample of data:\n",
      "  mouse_id  session_number  trials_completed\n",
      "0     1003               1                72\n",
      "1     1003               2                66\n",
      "2     1003               3                87\n",
      "3     1003               4                83\n",
      "4     1003               5                49\n"
     ]
    }
   ],
   "source": [
    "# Try converting mouse_id to int first since it may be comparing different types\n",
    "clickbait.summary_df.loc[clickbait.summary_df['mouse_id'].astype(int) == 1003, 'trials_completed']\n",
    "\n",
    "# If that doesn't work, let's check what values actually exist\n",
    "print(\"Unique mouse IDs:\", clickbait.summary_df['mouse_id'].unique())\n",
    "print(\"\\nSample of data:\")\n",
    "print(clickbait.summary_df[['mouse_id', 'session_number', 'trials_completed']].head())"
   ]
  },
  {
   "cell_type": "code",
   "execution_count": 17,
   "metadata": {},
   "outputs": [
    {
     "data": {
      "text/plain": [
       "0      72\n",
       "1      66\n",
       "2      87\n",
       "3      83\n",
       "4      49\n",
       "5     112\n",
       "6      86\n",
       "7      91\n",
       "8      96\n",
       "9      89\n",
       "10    101\n",
       "11     71\n",
       "12    101\n",
       "Name: trials_completed, dtype: uint8"
      ]
     },
     "execution_count": 17,
     "metadata": {},
     "output_type": "execute_result"
    }
   ],
   "source": [
    "clickbait.summary_df.loc[clickbait.summary_df['mouse_id'].astype(int) == 1003, 'trials_completed']"
   ]
  },
  {
   "cell_type": "code",
   "execution_count": 18,
   "metadata": {},
   "outputs": [
    {
     "data": {
      "application/vnd.plotly.v1+json": {
       "config": {
        "plotlyServerURL": "https://plot.ly"
       },
       "data": [
        {
         "marker": {
          "color": "gray"
         },
         "mode": "markers",
         "name": "Mouse 1003",
         "showlegend": false,
         "type": "scatter",
         "x": [
          1,
          2,
          3,
          4,
          5,
          6,
          7,
          8,
          9,
          10,
          11,
          12,
          13
         ],
         "xaxis": "x",
         "y": [
          72,
          66,
          87,
          83,
          49,
          112,
          86,
          91,
          96,
          89,
          101,
          71,
          101
         ],
         "yaxis": "y"
        },
        {
         "line": {
          "color": "red"
         },
         "mode": "lines",
         "name": "Fitted Line",
         "showlegend": false,
         "type": "scatter",
         "x": [
          1,
          1.121212121212121,
          1.2424242424242424,
          1.3636363636363638,
          1.4848484848484849,
          1.606060606060606,
          1.7272727272727273,
          1.8484848484848486,
          1.9696969696969697,
          2.090909090909091,
          2.212121212121212,
          2.3333333333333335,
          2.4545454545454546,
          2.5757575757575757,
          2.6969696969696972,
          2.8181818181818183,
          2.9393939393939394,
          3.0606060606060606,
          3.1818181818181817,
          3.303030303030303,
          3.4242424242424243,
          3.5454545454545454,
          3.666666666666667,
          3.787878787878788,
          3.909090909090909,
          4.03030303030303,
          4.151515151515151,
          4.272727272727273,
          4.3939393939393945,
          4.515151515151516,
          4.636363636363637,
          4.757575757575758,
          4.878787878787879,
          5,
          5.121212121212121,
          5.242424242424242,
          5.363636363636363,
          5.484848484848485,
          5.606060606060606,
          5.7272727272727275,
          5.848484848484849,
          5.96969696969697,
          6.090909090909091,
          6.212121212121212,
          6.333333333333334,
          6.454545454545455,
          6.575757575757576,
          6.696969696969697,
          6.818181818181818,
          6.9393939393939394,
          7.0606060606060606,
          7.181818181818182,
          7.303030303030303,
          7.424242424242425,
          7.545454545454546,
          7.666666666666667,
          7.787878787878788,
          7.909090909090909,
          8.030303030303031,
          8.151515151515152,
          8.272727272727273,
          8.393939393939394,
          8.515151515151516,
          8.636363636363637,
          8.757575757575758,
          8.878787878787879,
          9,
          9.121212121212121,
          9.242424242424242,
          9.363636363636363,
          9.484848484848484,
          9.606060606060606,
          9.727272727272727,
          9.84848484848485,
          9.96969696969697,
          10.090909090909092,
          10.212121212121213,
          10.333333333333334,
          10.454545454545455,
          10.575757575757576,
          10.696969696969697,
          10.818181818181818,
          10.93939393939394,
          11.06060606060606,
          11.181818181818182,
          11.303030303030303,
          11.424242424242424,
          11.545454545454545,
          11.666666666666668,
          11.787878787878789,
          11.90909090909091,
          12.030303030303031,
          12.151515151515152,
          12.272727272727273,
          12.393939393939394,
          12.515151515151516,
          12.636363636363637,
          12.757575757575758,
          12.878787878787879,
          13
         ],
         "xaxis": "x",
         "y": [
          73.5164835164835,
          73.74691974691973,
          73.97735597735597,
          74.2077922077922,
          74.43822843822844,
          74.66866466866466,
          74.89910089910089,
          75.12953712953713,
          75.35997335997335,
          75.59040959040958,
          75.82084582084582,
          76.05128205128204,
          76.28171828171827,
          76.51215451215451,
          76.74259074259074,
          76.97302697302698,
          77.2034632034632,
          77.43389943389943,
          77.66433566433567,
          77.89477189477189,
          78.12520812520813,
          78.35564435564436,
          78.58608058608058,
          78.81651681651682,
          79.04695304695305,
          79.27738927738928,
          79.50782550782552,
          79.73826173826174,
          79.96869796869797,
          80.1991341991342,
          80.42957042957043,
          80.66000666000667,
          80.8904428904429,
          81.12087912087912,
          81.35131535131536,
          81.58175158175159,
          81.81218781218782,
          82.04262404262406,
          82.27306027306028,
          82.50349650349652,
          82.73393273393275,
          82.96436896436897,
          83.19480519480521,
          83.42524142524144,
          83.65567765567766,
          83.8861138861139,
          84.11655011655013,
          84.34698634698637,
          84.5774225774226,
          84.80785880785882,
          85.03829503829506,
          85.26873126873129,
          85.49916749916751,
          85.72960372960375,
          85.96003996003998,
          86.1904761904762,
          86.42091242091244,
          86.65134865134867,
          86.88178488178491,
          87.11222111222114,
          87.34265734265736,
          87.5730935730936,
          87.80352980352983,
          88.03396603396607,
          88.26440226440229,
          88.49483849483852,
          88.72527472527474,
          88.95571095571098,
          89.18614718614721,
          89.41658341658345,
          89.64701964701968,
          89.8774558774559,
          90.10789210789214,
          90.33832833832837,
          90.5687645687646,
          90.79920079920083,
          91.02963702963706,
          91.2600732600733,
          91.49050949050952,
          91.72094572094576,
          91.95138195138199,
          92.18181818181822,
          92.41225441225444,
          92.64269064269068,
          92.8731268731269,
          93.10356310356315,
          93.33399933399937,
          93.5644355644356,
          93.79487179487184,
          94.02530802530806,
          94.2557442557443,
          94.48618048618053,
          94.71661671661676,
          94.947052947053,
          95.17748917748922,
          95.40792540792546,
          95.63836163836169,
          95.86879786879791,
          96.09923409923414,
          96.32967032967038
         ],
         "yaxis": "y"
        },
        {
         "line": {
          "width": 0
         },
         "mode": "lines",
         "showlegend": false,
         "type": "scatter",
         "x": [
          1,
          1.121212121212121,
          1.2424242424242424,
          1.3636363636363638,
          1.4848484848484849,
          1.606060606060606,
          1.7272727272727273,
          1.8484848484848486,
          1.9696969696969697,
          2.090909090909091,
          2.212121212121212,
          2.3333333333333335,
          2.4545454545454546,
          2.5757575757575757,
          2.6969696969696972,
          2.8181818181818183,
          2.9393939393939394,
          3.0606060606060606,
          3.1818181818181817,
          3.303030303030303,
          3.4242424242424243,
          3.5454545454545454,
          3.666666666666667,
          3.787878787878788,
          3.909090909090909,
          4.03030303030303,
          4.151515151515151,
          4.272727272727273,
          4.3939393939393945,
          4.515151515151516,
          4.636363636363637,
          4.757575757575758,
          4.878787878787879,
          5,
          5.121212121212121,
          5.242424242424242,
          5.363636363636363,
          5.484848484848485,
          5.606060606060606,
          5.7272727272727275,
          5.848484848484849,
          5.96969696969697,
          6.090909090909091,
          6.212121212121212,
          6.333333333333334,
          6.454545454545455,
          6.575757575757576,
          6.696969696969697,
          6.818181818181818,
          6.9393939393939394,
          7.0606060606060606,
          7.181818181818182,
          7.303030303030303,
          7.424242424242425,
          7.545454545454546,
          7.666666666666667,
          7.787878787878788,
          7.909090909090909,
          8.030303030303031,
          8.151515151515152,
          8.272727272727273,
          8.393939393939394,
          8.515151515151516,
          8.636363636363637,
          8.757575757575758,
          8.878787878787879,
          9,
          9.121212121212121,
          9.242424242424242,
          9.363636363636363,
          9.484848484848484,
          9.606060606060606,
          9.727272727272727,
          9.84848484848485,
          9.96969696969697,
          10.090909090909092,
          10.212121212121213,
          10.333333333333334,
          10.454545454545455,
          10.575757575757576,
          10.696969696969697,
          10.818181818181818,
          10.93939393939394,
          11.06060606060606,
          11.181818181818182,
          11.303030303030303,
          11.424242424242424,
          11.545454545454545,
          11.666666666666668,
          11.787878787878789,
          11.90909090909091,
          12.030303030303031,
          12.151515151515152,
          12.272727272727273,
          12.393939393939394,
          12.515151515151516,
          12.636363636363637,
          12.757575757575758,
          12.878787878787879,
          13
         ],
         "xaxis": "x",
         "y": [
          81.8596820917366,
          81.9691109932557,
          82.07925724588593,
          82.19015328000357,
          82.30183328955259,
          82.41433333423815,
          82.52769144679645,
          82.64194774533804,
          82.75714455069695,
          82.8733265086374,
          82.99054071667032,
          83.10883685511317,
          83.22826732188292,
          83.34888737034125,
          83.47075524930969,
          83.5939323441375,
          83.71848331743006,
          83.84447624773217,
          83.97198276410055,
          84.10107817409452,
          84.23184158226216,
          84.36435599569904,
          84.49870841271661,
          84.6349898900781,
          84.77329558365739,
          84.91372475676293,
          85.05638074976805,
          85.20137090413007,
          85.34880643340071,
          85.49880223347397,
          85.65147662414192,
          85.8069510140939,
          85.96534948186915,
          86.12679826603099,
          86.29142515903817,
          86.4593588010124,
          86.63072787188185,
          86.80566018324194,
          86.98428167469838,
          87.16671532338249,
          87.35307997963616,
          87.54348914638047,
          87.73804972416808,
          87.9368607480934,
          88.14001214627284,
          88.34758355217876,
          88.55964320440651,
          88.77624696722113,
          88.99743750330605,
          89.22324362648648,
          89.45367985692272,
          89.68874619461474,
          89.92842811940227,
          90.17269681746014,
          90.42150962610484,
          90.67481068107139,
          90.9325317437644,
          91.19459318071154,
          91.46090506379642,
          91.73136835792455,
          92.00587616254333,
          92.2843149747317,
          92.5665659441477,
          92.8525060936601,
          93.1420094836631,
          93.43494830256132,
          93.73119387042661,
          94.03061754713724,
          94.33309154023443,
          94.63848961115494,
          94.94668768135944,
          95.25756434215864,
          95.57100127376047,
          95.8868835802709,
          96.20510004813826,
          96.52554333590517,
          96.84811010319834,
          97.17270108670932,
          97.49922113056421,
          97.8275791779998,
          98.15768823070462,
          98.4894652815831,
          98.82283122608719,
          99.15771075665754,
          99.49403224423743,
          99.8317276102821,
          100.17073219218611,
          100.51098460460025,
          100.85242659870296,
          101.19500292113257,
          101.53866117397214,
          101.88335167690414,
          102.22902733241767,
          102.57564349474856,
          102.92315784306271,
          103.27153025924962,
          103.62072271057306,
          103.97069913732787,
          104.3214253455701,
          104.67286890492348
         ],
         "yaxis": "y"
        },
        {
         "fill": "tonexty",
         "fillcolor": "rgba(255,0,0,0.2)",
         "line": {
          "width": 0
         },
         "mode": "lines",
         "name": "SEM",
         "showlegend": false,
         "type": "scatter",
         "x": [
          1,
          1.121212121212121,
          1.2424242424242424,
          1.3636363636363638,
          1.4848484848484849,
          1.606060606060606,
          1.7272727272727273,
          1.8484848484848486,
          1.9696969696969697,
          2.090909090909091,
          2.212121212121212,
          2.3333333333333335,
          2.4545454545454546,
          2.5757575757575757,
          2.6969696969696972,
          2.8181818181818183,
          2.9393939393939394,
          3.0606060606060606,
          3.1818181818181817,
          3.303030303030303,
          3.4242424242424243,
          3.5454545454545454,
          3.666666666666667,
          3.787878787878788,
          3.909090909090909,
          4.03030303030303,
          4.151515151515151,
          4.272727272727273,
          4.3939393939393945,
          4.515151515151516,
          4.636363636363637,
          4.757575757575758,
          4.878787878787879,
          5,
          5.121212121212121,
          5.242424242424242,
          5.363636363636363,
          5.484848484848485,
          5.606060606060606,
          5.7272727272727275,
          5.848484848484849,
          5.96969696969697,
          6.090909090909091,
          6.212121212121212,
          6.333333333333334,
          6.454545454545455,
          6.575757575757576,
          6.696969696969697,
          6.818181818181818,
          6.9393939393939394,
          7.0606060606060606,
          7.181818181818182,
          7.303030303030303,
          7.424242424242425,
          7.545454545454546,
          7.666666666666667,
          7.787878787878788,
          7.909090909090909,
          8.030303030303031,
          8.151515151515152,
          8.272727272727273,
          8.393939393939394,
          8.515151515151516,
          8.636363636363637,
          8.757575757575758,
          8.878787878787879,
          9,
          9.121212121212121,
          9.242424242424242,
          9.363636363636363,
          9.484848484848484,
          9.606060606060606,
          9.727272727272727,
          9.84848484848485,
          9.96969696969697,
          10.090909090909092,
          10.212121212121213,
          10.333333333333334,
          10.454545454545455,
          10.575757575757576,
          10.696969696969697,
          10.818181818181818,
          10.93939393939394,
          11.06060606060606,
          11.181818181818182,
          11.303030303030303,
          11.424242424242424,
          11.545454545454545,
          11.666666666666668,
          11.787878787878789,
          11.90909090909091,
          12.030303030303031,
          12.151515151515152,
          12.272727272727273,
          12.393939393939394,
          12.515151515151516,
          12.636363636363637,
          12.757575757575758,
          12.878787878787879,
          13
         ],
         "xaxis": "x",
         "y": [
          65.1732849412304,
          65.52472850058376,
          65.87545470882601,
          66.22543113558082,
          66.57462358690428,
          66.92299600309117,
          67.27051035140532,
          67.61712651373621,
          67.96280216924976,
          68.30749267218175,
          68.65115092502131,
          68.99372724745092,
          69.33516924155361,
          69.67542165396777,
          70.01442623587178,
          70.35212160191645,
          70.68844308949635,
          71.02332262006668,
          71.35668856457079,
          71.68846561544926,
          72.0185746681541,
          72.34693271558967,
          72.67345275944456,
          72.99804374295555,
          73.32061051024871,
          73.64105379801562,
          73.95927026588298,
          74.27515257239341,
          74.58858950399522,
          74.89946616479445,
          75.20766423499894,
          75.51306230591945,
          75.81553629901664,
          76.11495997572726,
          76.41120554359256,
          76.70414436249078,
          76.99364775249379,
          77.27958790200617,
          77.56183887142218,
          77.84027768361055,
          78.11478548822933,
          78.38524878235748,
          78.65156066544235,
          78.91362210238948,
          79.17134316508249,
          79.42464422004905,
          79.67345702869375,
          79.91772572675161,
          80.15740765153915,
          80.39247398923116,
          80.6229102196674,
          80.84871634284784,
          81.06990687893276,
          81.28651064174737,
          81.49857029397512,
          81.70614169988102,
          81.90929309806049,
          82.1081041219858,
          82.3026646997734,
          82.49307386651772,
          82.67943852277139,
          82.8618721714555,
          83.04049366291196,
          83.21542597427204,
          83.38679504514148,
          83.55472868711571,
          83.71935558012288,
          83.88080436428473,
          84.03920283205998,
          84.19467722201196,
          84.34735161267992,
          84.49734741275316,
          84.64478294202381,
          84.78977309638583,
          84.93242908939095,
          85.0728582624965,
          85.21116395607578,
          85.34744543343727,
          85.48179785045484,
          85.61431226389173,
          85.74507567205936,
          85.87417108205334,
          86.0016775984217,
          86.12767052872383,
          86.25222150201638,
          86.37539859684419,
          86.49726647581264,
          86.61788652427094,
          86.73731699104071,
          86.85561312948356,
          86.97282733751646,
          87.08900929545692,
          87.20420610081584,
          87.31846239935743,
          87.43182051191573,
          87.5443205566013,
          87.65600056615031,
          87.76689660026796,
          87.87704285289817,
          87.98647175441728
         ],
         "yaxis": "y"
        },
        {
         "marker": {
          "color": "gray"
         },
         "mode": "markers",
         "name": "Mouse 1004",
         "showlegend": false,
         "type": "scatter",
         "x": [
          1,
          2,
          3,
          4,
          5,
          6,
          7,
          8,
          9,
          10,
          11,
          12,
          13
         ],
         "xaxis": "x2",
         "y": [
          42,
          50,
          25,
          49,
          51,
          79,
          79,
          43,
          60,
          79,
          70,
          56,
          73
         ],
         "yaxis": "y2"
        },
        {
         "line": {
          "color": "red"
         },
         "mode": "lines",
         "name": "Fitted Line",
         "showlegend": false,
         "type": "scatter",
         "x": [
          1,
          1.121212121212121,
          1.2424242424242424,
          1.3636363636363638,
          1.4848484848484849,
          1.606060606060606,
          1.7272727272727273,
          1.8484848484848486,
          1.9696969696969697,
          2.090909090909091,
          2.212121212121212,
          2.3333333333333335,
          2.4545454545454546,
          2.5757575757575757,
          2.6969696969696972,
          2.8181818181818183,
          2.9393939393939394,
          3.0606060606060606,
          3.1818181818181817,
          3.303030303030303,
          3.4242424242424243,
          3.5454545454545454,
          3.666666666666667,
          3.787878787878788,
          3.909090909090909,
          4.03030303030303,
          4.151515151515151,
          4.272727272727273,
          4.3939393939393945,
          4.515151515151516,
          4.636363636363637,
          4.757575757575758,
          4.878787878787879,
          5,
          5.121212121212121,
          5.242424242424242,
          5.363636363636363,
          5.484848484848485,
          5.606060606060606,
          5.7272727272727275,
          5.848484848484849,
          5.96969696969697,
          6.090909090909091,
          6.212121212121212,
          6.333333333333334,
          6.454545454545455,
          6.575757575757576,
          6.696969696969697,
          6.818181818181818,
          6.9393939393939394,
          7.0606060606060606,
          7.181818181818182,
          7.303030303030303,
          7.424242424242425,
          7.545454545454546,
          7.666666666666667,
          7.787878787878788,
          7.909090909090909,
          8.030303030303031,
          8.151515151515152,
          8.272727272727273,
          8.393939393939394,
          8.515151515151516,
          8.636363636363637,
          8.757575757575758,
          8.878787878787879,
          9,
          9.121212121212121,
          9.242424242424242,
          9.363636363636363,
          9.484848484848484,
          9.606060606060606,
          9.727272727272727,
          9.84848484848485,
          9.96969696969697,
          10.090909090909092,
          10.212121212121213,
          10.333333333333334,
          10.454545454545455,
          10.575757575757576,
          10.696969696969697,
          10.818181818181818,
          10.93939393939394,
          11.06060606060606,
          11.181818181818182,
          11.303030303030303,
          11.424242424242424,
          11.545454545454545,
          11.666666666666668,
          11.787878787878789,
          11.90909090909091,
          12.030303030303031,
          12.151515151515152,
          12.272727272727273,
          12.393939393939394,
          12.515151515151516,
          12.636363636363637,
          12.757575757575758,
          12.878787878787879,
          13
         ],
         "xaxis": "x2",
         "y": [
          42.7252747252747,
          43.03696303696301,
          43.34865134865132,
          43.66033966033964,
          43.972027972027945,
          44.28371628371626,
          44.595404595404574,
          44.90709290709289,
          45.218781218781196,
          45.53046953046951,
          45.84215784215782,
          46.15384615384613,
          46.465534465534446,
          46.77722277722276,
          47.08891108891107,
          47.40059940059938,
          47.7122877122877,
          48.023976023976005,
          48.33566433566432,
          48.64735264735263,
          48.95904095904094,
          49.270729270729255,
          49.58241758241757,
          49.89410589410588,
          50.20579420579419,
          50.517482517482506,
          50.82917082917081,
          51.14085914085913,
          51.45254745254744,
          51.76423576423575,
          52.075924075924064,
          52.38761238761238,
          52.69930069930069,
          53.010989010989,
          53.322677322677315,
          53.63436563436562,
          53.94605394605394,
          54.25774225774225,
          54.569430569430565,
          54.88111888111887,
          55.19280719280719,
          55.504495504495495,
          55.81618381618381,
          56.12787212787212,
          56.43956043956044,
          56.75124875124875,
          57.06293706293706,
          57.37462537462537,
          57.68631368631368,
          57.998001998001996,
          58.30969030969031,
          58.62137862137862,
          58.93306693306693,
          59.24475524475524,
          59.556443556443554,
          59.86813186813187,
          60.17982017982018,
          60.4915084915085,
          60.803196803196805,
          61.11488511488512,
          61.42657342657343,
          61.73826173826174,
          62.049950049950056,
          62.36163836163837,
          62.67332667332668,
          62.985014985014985,
          63.2967032967033,
          63.608391608391614,
          63.92007992007993,
          64.23176823176823,
          64.54345654345656,
          64.85514485514486,
          65.16683316683317,
          65.47852147852149,
          65.7902097902098,
          66.10189810189812,
          66.41358641358643,
          66.72527472527474,
          67.03696303696304,
          67.34865134865136,
          67.66033966033967,
          67.97202797202799,
          68.2837162837163,
          68.5954045954046,
          68.90709290709292,
          69.21878121878123,
          69.53046953046955,
          69.84215784215786,
          70.15384615384617,
          70.46553446553449,
          70.77722277722279,
          71.0889110889111,
          71.40059940059942,
          71.71228771228773,
          72.02397602397605,
          72.33566433566435,
          72.64735264735268,
          72.95904095904098,
          73.27072927072929,
          73.5824175824176
         ],
         "yaxis": "y2"
        },
        {
         "line": {
          "width": 0
         },
         "mode": "lines",
         "showlegend": false,
         "type": "scatter",
         "x": [
          1,
          1.121212121212121,
          1.2424242424242424,
          1.3636363636363638,
          1.4848484848484849,
          1.606060606060606,
          1.7272727272727273,
          1.8484848484848486,
          1.9696969696969697,
          2.090909090909091,
          2.212121212121212,
          2.3333333333333335,
          2.4545454545454546,
          2.5757575757575757,
          2.6969696969696972,
          2.8181818181818183,
          2.9393939393939394,
          3.0606060606060606,
          3.1818181818181817,
          3.303030303030303,
          3.4242424242424243,
          3.5454545454545454,
          3.666666666666667,
          3.787878787878788,
          3.909090909090909,
          4.03030303030303,
          4.151515151515151,
          4.272727272727273,
          4.3939393939393945,
          4.515151515151516,
          4.636363636363637,
          4.757575757575758,
          4.878787878787879,
          5,
          5.121212121212121,
          5.242424242424242,
          5.363636363636363,
          5.484848484848485,
          5.606060606060606,
          5.7272727272727275,
          5.848484848484849,
          5.96969696969697,
          6.090909090909091,
          6.212121212121212,
          6.333333333333334,
          6.454545454545455,
          6.575757575757576,
          6.696969696969697,
          6.818181818181818,
          6.9393939393939394,
          7.0606060606060606,
          7.181818181818182,
          7.303030303030303,
          7.424242424242425,
          7.545454545454546,
          7.666666666666667,
          7.787878787878788,
          7.909090909090909,
          8.030303030303031,
          8.151515151515152,
          8.272727272727273,
          8.393939393939394,
          8.515151515151516,
          8.636363636363637,
          8.757575757575758,
          8.878787878787879,
          9,
          9.121212121212121,
          9.242424242424242,
          9.363636363636363,
          9.484848484848484,
          9.606060606060606,
          9.727272727272727,
          9.84848484848485,
          9.96969696969697,
          10.090909090909092,
          10.212121212121213,
          10.333333333333334,
          10.454545454545455,
          10.575757575757576,
          10.696969696969697,
          10.818181818181818,
          10.93939393939394,
          11.06060606060606,
          11.181818181818182,
          11.303030303030303,
          11.424242424242424,
          11.545454545454545,
          11.666666666666668,
          11.787878787878789,
          11.90909090909091,
          12.030303030303031,
          12.151515151515152,
          12.272727272727273,
          12.393939393939394,
          12.515151515151516,
          12.636363636363637,
          12.757575757575758,
          12.878787878787879,
          13
         ],
         "xaxis": "x2",
         "y": [
          50.23860576172785,
          50.441322902253084,
          50.64468604159025,
          50.84872438438437,
          51.05346872343245,
          51.25895153171233,
          51.46520705898258,
          51.67227143295158,
          51.880182764954355,
          52.088981260003756,
          52.298709330993006,
          52.509411716719576,
          52.72113560327072,
          52.93393074815766,
          53.1478496064041,
          53.36294745758243,
          53.579282532544475,
          53.796916138310436,
          54.01591277925593,
          54.236340272372,
          54.45826985396573,
          54.681776274719645,
          54.90693787954035,
          55.133836668106866,
          55.36255833148532,
          55.59319225962483,
          55.82583151400858,
          56.06057275923061,
          56.29751614683615,
          56.536765144443585,
          56.77842630300676,
          57.022608955135375,
          57.26942483772885,
          57.518987632860885,
          57.77141242194041,
          58.02681504972529,
          58.28531139682049,
          58.54701656186808,
          58.81204395772045,
          59.08050432942205,
          59.35250470570471,
          59.628147299767825,
          59.90752837915587,
          60.19073712830357,
          60.477854530505525,
          60.76895229838295,
          61.064091883086974,
          61.363323592267875,
          61.66668584510758,
          61.974204589425135,
          62.28589290111345,
          62.60175078017251,
          62.92176515070944,
          63.24591006490515,
          63.57414710357775,
          63.906425959076955,
          64.24268518025163,
          64.58285305448055,
          64.92684859846914,
          65.27458262778265,
          65.6259588748766,
          65.98087512655162,
          66.33922435407588,
          66.70089581240492,
          67.06577608868635,
          67.43375008427809,
          67.80470191857519,
          68.17851574681977,
          68.55507648760293,
          68.93427045885093,
          69.31598592366439,
          69.70011354943357,
          70.08654678520465,
          70.47518216335925,
          70.86591953235212,
          71.25866222758924,
          71.65331718758742,
          72.04979502239752,
          72.44801004095343,
          72.84788024357616,
          73.24932728535903,
          73.6522764156196,
          74.05665639805073,
          74.46239941566138,
          74.86944096407596,
          75.27771973627426,
          75.68717750140443,
          76.09775897989414,
          76.50941171671963,
          76.92208595436968,
          77.33573450675703,
          77.75031263508427,
          78.1657779264581,
          78.58209017586574,
          78.99921127197211,
          79.41710508706886,
          79.83573737139741,
          80.2550756519799,
          80.67508913601937,
          81.09574861887076
         ],
         "yaxis": "y2"
        },
        {
         "fill": "tonexty",
         "fillcolor": "rgba(255,0,0,0.2)",
         "line": {
          "width": 0
         },
         "mode": "lines",
         "name": "SEM",
         "showlegend": false,
         "type": "scatter",
         "x": [
          1,
          1.121212121212121,
          1.2424242424242424,
          1.3636363636363638,
          1.4848484848484849,
          1.606060606060606,
          1.7272727272727273,
          1.8484848484848486,
          1.9696969696969697,
          2.090909090909091,
          2.212121212121212,
          2.3333333333333335,
          2.4545454545454546,
          2.5757575757575757,
          2.6969696969696972,
          2.8181818181818183,
          2.9393939393939394,
          3.0606060606060606,
          3.1818181818181817,
          3.303030303030303,
          3.4242424242424243,
          3.5454545454545454,
          3.666666666666667,
          3.787878787878788,
          3.909090909090909,
          4.03030303030303,
          4.151515151515151,
          4.272727272727273,
          4.3939393939393945,
          4.515151515151516,
          4.636363636363637,
          4.757575757575758,
          4.878787878787879,
          5,
          5.121212121212121,
          5.242424242424242,
          5.363636363636363,
          5.484848484848485,
          5.606060606060606,
          5.7272727272727275,
          5.848484848484849,
          5.96969696969697,
          6.090909090909091,
          6.212121212121212,
          6.333333333333334,
          6.454545454545455,
          6.575757575757576,
          6.696969696969697,
          6.818181818181818,
          6.9393939393939394,
          7.0606060606060606,
          7.181818181818182,
          7.303030303030303,
          7.424242424242425,
          7.545454545454546,
          7.666666666666667,
          7.787878787878788,
          7.909090909090909,
          8.030303030303031,
          8.151515151515152,
          8.272727272727273,
          8.393939393939394,
          8.515151515151516,
          8.636363636363637,
          8.757575757575758,
          8.878787878787879,
          9,
          9.121212121212121,
          9.242424242424242,
          9.363636363636363,
          9.484848484848484,
          9.606060606060606,
          9.727272727272727,
          9.84848484848485,
          9.96969696969697,
          10.090909090909092,
          10.212121212121213,
          10.333333333333334,
          10.454545454545455,
          10.575757575757576,
          10.696969696969697,
          10.818181818181818,
          10.93939393939394,
          11.06060606060606,
          11.181818181818182,
          11.303030303030303,
          11.424242424242424,
          11.545454545454545,
          11.666666666666668,
          11.787878787878789,
          11.90909090909091,
          12.030303030303031,
          12.151515151515152,
          12.272727272727273,
          12.393939393939394,
          12.515151515151516,
          12.636363636363637,
          12.757575757575758,
          12.878787878787879,
          13
         ],
         "xaxis": "x2",
         "y": [
          35.211943688821556,
          35.63260317167293,
          36.0526166557124,
          36.47195493629491,
          36.89058722062344,
          37.30848103572019,
          37.72560213182657,
          38.141914381234194,
          38.557379672608036,
          38.971957800935265,
          39.38560635332263,
          39.79828059097269,
          40.209933327798176,
          40.620514806287865,
          41.029972571418035,
          41.438251343616336,
          41.84529289203092,
          42.25103590964157,
          42.65541589207271,
          43.05836502233327,
          43.45981206411615,
          43.859682266738865,
          44.25789728529479,
          44.65437512010489,
          45.049030080103066,
          45.44177277534018,
          45.83251014433305,
          46.221145522487646,
          46.60757875825873,
          46.991706384027914,
          47.37342184884137,
          47.75261582008938,
          48.12917656087254,
          48.502990389117116,
          48.87394222341422,
          49.24191621900595,
          49.606796495287384,
          49.968467953616425,
          50.32681718114068,
          50.6817334328157,
          51.033109679909664,
          51.380843709223164,
          51.72483925321175,
          52.06500712744068,
          52.40126634861535,
          52.733545204114556,
          53.061782242787146,
          53.38592715698286,
          53.705941527519784,
          54.02179940657886,
          54.33348771826717,
          54.64100646258473,
          54.944368715424424,
          55.243600424605326,
          55.53874000930936,
          55.82983777718678,
          56.11695517938874,
          56.400163928536436,
          56.679545007924474,
          56.95518760198759,
          57.22718797827025,
          57.49564834997186,
          57.76067574582423,
          58.02238091087182,
          58.280877257967006,
          58.53627988575189,
          58.788704674831415,
          59.03826746996346,
          59.28508335255693,
          59.52926600468553,
          59.77092716324872,
          60.01017616085615,
          60.24711954846169,
          60.48186079368372,
          60.71450004806748,
          60.94513397620698,
          61.17385563958544,
          61.40075442815196,
          61.625916032972654,
          61.84942245372657,
          62.07135203532031,
          62.29177952843638,
          62.51077616938187,
          62.728409775147824,
          62.94474485010987,
          63.1598427012882,
          63.37376155953465,
          63.58655670442159,
          63.79828059097272,
          64.0089829766993,
          64.21871104768854,
          64.42750954273794,
          64.63542087474073,
          64.84248524870972,
          65.04874077597998,
          65.25422358425983,
          65.45896792330794,
          65.66300626610206,
          65.86636940543922,
          66.06908654596445
         ],
         "yaxis": "y2"
        },
        {
         "marker": {
          "color": "gray"
         },
         "mode": "markers",
         "name": "Mouse 1005",
         "showlegend": false,
         "type": "scatter",
         "x": [
          1,
          2,
          3,
          4,
          5,
          6,
          7,
          8,
          9,
          10,
          11,
          12,
          13
         ],
         "xaxis": "x3",
         "y": [
          54,
          65,
          48,
          58,
          80,
          116,
          88,
          88,
          81,
          91,
          87,
          69,
          61
         ],
         "yaxis": "y3"
        },
        {
         "line": {
          "color": "red"
         },
         "mode": "lines",
         "name": "Fitted Line",
         "showlegend": false,
         "type": "scatter",
         "x": [
          1,
          1.121212121212121,
          1.2424242424242424,
          1.3636363636363638,
          1.4848484848484849,
          1.606060606060606,
          1.7272727272727273,
          1.8484848484848486,
          1.9696969696969697,
          2.090909090909091,
          2.212121212121212,
          2.3333333333333335,
          2.4545454545454546,
          2.5757575757575757,
          2.6969696969696972,
          2.8181818181818183,
          2.9393939393939394,
          3.0606060606060606,
          3.1818181818181817,
          3.303030303030303,
          3.4242424242424243,
          3.5454545454545454,
          3.666666666666667,
          3.787878787878788,
          3.909090909090909,
          4.03030303030303,
          4.151515151515151,
          4.272727272727273,
          4.3939393939393945,
          4.515151515151516,
          4.636363636363637,
          4.757575757575758,
          4.878787878787879,
          5,
          5.121212121212121,
          5.242424242424242,
          5.363636363636363,
          5.484848484848485,
          5.606060606060606,
          5.7272727272727275,
          5.848484848484849,
          5.96969696969697,
          6.090909090909091,
          6.212121212121212,
          6.333333333333334,
          6.454545454545455,
          6.575757575757576,
          6.696969696969697,
          6.818181818181818,
          6.9393939393939394,
          7.0606060606060606,
          7.181818181818182,
          7.303030303030303,
          7.424242424242425,
          7.545454545454546,
          7.666666666666667,
          7.787878787878788,
          7.909090909090909,
          8.030303030303031,
          8.151515151515152,
          8.272727272727273,
          8.393939393939394,
          8.515151515151516,
          8.636363636363637,
          8.757575757575758,
          8.878787878787879,
          9,
          9.121212121212121,
          9.242424242424242,
          9.363636363636363,
          9.484848484848484,
          9.606060606060606,
          9.727272727272727,
          9.84848484848485,
          9.96969696969697,
          10.090909090909092,
          10.212121212121213,
          10.333333333333334,
          10.454545454545455,
          10.575757575757576,
          10.696969696969697,
          10.818181818181818,
          10.93939393939394,
          11.06060606060606,
          11.181818181818182,
          11.303030303030303,
          11.424242424242424,
          11.545454545454545,
          11.666666666666668,
          11.787878787878789,
          11.90909090909091,
          12.030303030303031,
          12.151515151515152,
          12.272727272727273,
          12.393939393939394,
          12.515151515151516,
          12.636363636363637,
          12.757575757575758,
          12.878787878787879,
          13
         ],
         "xaxis": "x3",
         "y": [
          66.25274725274726,
          66.44655344655344,
          66.64035964035963,
          66.83416583416583,
          67.02797202797203,
          67.22177822177822,
          67.41558441558442,
          67.60939060939062,
          67.8031968031968,
          67.997002997003,
          68.19080919080919,
          68.38461538461539,
          68.57842157842158,
          68.77222777222778,
          68.96603396603398,
          69.15984015984016,
          69.35364635364635,
          69.54745254745255,
          69.74125874125875,
          69.93506493506494,
          70.12887112887114,
          70.32267732267734,
          70.51648351648353,
          70.71028971028971,
          70.90409590409591,
          71.09790209790211,
          71.2917082917083,
          71.4855144855145,
          71.6793206793207,
          71.87312687312689,
          72.06693306693307,
          72.26073926073927,
          72.45454545454547,
          72.64835164835166,
          72.84215784215786,
          73.03596403596406,
          73.22977022977024,
          73.42357642357643,
          73.61738261738263,
          73.81118881118883,
          74.00499500499502,
          74.19880119880122,
          74.39260739260742,
          74.58641358641361,
          74.7802197802198,
          74.97402597402599,
          75.16783216783219,
          75.36163836163838,
          75.55544455544458,
          75.74925074925078,
          75.94305694305697,
          76.13686313686316,
          76.33066933066935,
          76.52447552447555,
          76.71828171828174,
          76.91208791208794,
          77.10589410589414,
          77.29970029970033,
          77.49350649350652,
          77.68731268731271,
          77.88111888111891,
          78.0749250749251,
          78.2687312687313,
          78.4625374625375,
          78.6563436563437,
          78.85014985014988,
          79.04395604395607,
          79.23776223776227,
          79.43156843156846,
          79.62537462537466,
          79.81918081918086,
          80.01298701298704,
          80.20679320679324,
          80.40059940059943,
          80.59440559440563,
          80.78821178821183,
          80.98201798201802,
          81.17582417582422,
          81.36963036963041,
          81.5634365634366,
          81.75724275724279,
          81.95104895104899,
          82.14485514485519,
          82.33866133866138,
          82.53246753246758,
          82.72627372627377,
          82.92007992007996,
          83.11388611388615,
          83.30769230769235,
          83.50149850149855,
          83.69530469530474,
          83.88911088911094,
          84.08291708291713,
          84.27672327672332,
          84.47052947052951,
          84.66433566433571,
          84.8581418581419,
          85.0519480519481,
          85.2457542457543,
          85.4395604395605
         ],
         "yaxis": "y3"
        },
        {
         "line": {
          "width": 0
         },
         "mode": "lines",
         "showlegend": false,
         "type": "scatter",
         "x": [
          1,
          1.121212121212121,
          1.2424242424242424,
          1.3636363636363638,
          1.4848484848484849,
          1.606060606060606,
          1.7272727272727273,
          1.8484848484848486,
          1.9696969696969697,
          2.090909090909091,
          2.212121212121212,
          2.3333333333333335,
          2.4545454545454546,
          2.5757575757575757,
          2.6969696969696972,
          2.8181818181818183,
          2.9393939393939394,
          3.0606060606060606,
          3.1818181818181817,
          3.303030303030303,
          3.4242424242424243,
          3.5454545454545454,
          3.666666666666667,
          3.787878787878788,
          3.909090909090909,
          4.03030303030303,
          4.151515151515151,
          4.272727272727273,
          4.3939393939393945,
          4.515151515151516,
          4.636363636363637,
          4.757575757575758,
          4.878787878787879,
          5,
          5.121212121212121,
          5.242424242424242,
          5.363636363636363,
          5.484848484848485,
          5.606060606060606,
          5.7272727272727275,
          5.848484848484849,
          5.96969696969697,
          6.090909090909091,
          6.212121212121212,
          6.333333333333334,
          6.454545454545455,
          6.575757575757576,
          6.696969696969697,
          6.818181818181818,
          6.9393939393939394,
          7.0606060606060606,
          7.181818181818182,
          7.303030303030303,
          7.424242424242425,
          7.545454545454546,
          7.666666666666667,
          7.787878787878788,
          7.909090909090909,
          8.030303030303031,
          8.151515151515152,
          8.272727272727273,
          8.393939393939394,
          8.515151515151516,
          8.636363636363637,
          8.757575757575758,
          8.878787878787879,
          9,
          9.121212121212121,
          9.242424242424242,
          9.363636363636363,
          9.484848484848484,
          9.606060606060606,
          9.727272727272727,
          9.84848484848485,
          9.96969696969697,
          10.090909090909092,
          10.212121212121213,
          10.333333333333334,
          10.454545454545455,
          10.575757575757576,
          10.696969696969697,
          10.818181818181818,
          10.93939393939394,
          11.06060606060606,
          11.181818181818182,
          11.303030303030303,
          11.424242424242424,
          11.545454545454545,
          11.666666666666668,
          11.787878787878789,
          11.90909090909091,
          12.030303030303031,
          12.151515151515152,
          12.272727272727273,
          12.393939393939394,
          12.515151515151516,
          12.636363636363637,
          12.757575757575758,
          12.878787878787879,
          13
         ],
         "xaxis": "x3",
         "y": [
          75.9900716650841,
          76.0426505337453,
          76.09606662094129,
          76.15035777607622,
          76.20556390680926,
          76.26172709832446,
          76.31889173852498,
          76.37710464914876,
          76.43641522272635,
          76.496875565208,
          76.55854064397084,
          76.6214684407786,
          76.68572010909793,
          76.75136013497723,
          76.81845650045811,
          76.88708084821499,
          76.95730864579916,
          77.02921934749548,
          77.10289655138159,
          77.17842814870563,
          77.25590646217091,
          77.33542836913342,
          77.4170954050863,
          77.50101384213073,
          77.58729473642893,
          77.67605393791875,
          77.76741205486938,
          77.86149436520436,
          77.95843066595803,
          78.05835505181642,
          78.16140561348773,
          78.26772404672377,
          78.37745516325093,
          78.49074629575378,
          78.6077465904641,
          78.72860618291881,
          78.8534752551128,
          78.98250297561216,
          79.11583632818896,
          79.25361883911931,
          79.3959892183147,
          79.54307993472622,
          79.69501575169875,
          79.85191225282217,
          80.01387439295709,
          80.18099511211292,
          80.35335405136912,
          80.53101640975775,
          80.71403197878091,
          80.90243438697576,
          81.09624058078195,
          81.29545056019948,
          81.50004737878872,
          81.70999740801248,
          81.92525085636868,
          82.14574252482524,
          82.3713927723027,
          82.60210865879166,
          82.83778522943152,
          83.07830690063238,
          83.32354890904939,
          83.57337878573144,
          83.82765782076703,
          84.08624248788006,
          84.34898580329846,
          84.61573859845612,
          84.88635069135819,
          85.16067194646773,
          85.43855321755296,
          85.71984717192932,
          86.00440899787039,
          86.29209699962438,
          86.5827730864831,
          86.87630316376051,
          87.17255743442227,
          87.47141062054484,
          87.77274211385904,
          88.07643606442699,
          88.3823814160865,
          88.69047189673637,
          89.00060597088348,
          89.31268676117183,
          89.62662194489812,
          89.94232363081419,
          90.25970822084241,
          90.57869626069791,
          90.89921228282941,
          91.2211846445625,
          91.54454536385556,
          91.8692299546602,
          92.19517726350975,
          92.5223293086405,
          92.85063112267528,
          93.18003059966388,
          93.51047834707575,
          93.84192754317294,
          94.1743338000523,
          94.50765503252975,
          94.84185133294616,
          95.17688485189734
         ],
         "yaxis": "y3"
        },
        {
         "fill": "tonexty",
         "fillcolor": "rgba(255,0,0,0.2)",
         "line": {
          "width": 0
         },
         "mode": "lines",
         "name": "SEM",
         "showlegend": false,
         "type": "scatter",
         "x": [
          1,
          1.121212121212121,
          1.2424242424242424,
          1.3636363636363638,
          1.4848484848484849,
          1.606060606060606,
          1.7272727272727273,
          1.8484848484848486,
          1.9696969696969697,
          2.090909090909091,
          2.212121212121212,
          2.3333333333333335,
          2.4545454545454546,
          2.5757575757575757,
          2.6969696969696972,
          2.8181818181818183,
          2.9393939393939394,
          3.0606060606060606,
          3.1818181818181817,
          3.303030303030303,
          3.4242424242424243,
          3.5454545454545454,
          3.666666666666667,
          3.787878787878788,
          3.909090909090909,
          4.03030303030303,
          4.151515151515151,
          4.272727272727273,
          4.3939393939393945,
          4.515151515151516,
          4.636363636363637,
          4.757575757575758,
          4.878787878787879,
          5,
          5.121212121212121,
          5.242424242424242,
          5.363636363636363,
          5.484848484848485,
          5.606060606060606,
          5.7272727272727275,
          5.848484848484849,
          5.96969696969697,
          6.090909090909091,
          6.212121212121212,
          6.333333333333334,
          6.454545454545455,
          6.575757575757576,
          6.696969696969697,
          6.818181818181818,
          6.9393939393939394,
          7.0606060606060606,
          7.181818181818182,
          7.303030303030303,
          7.424242424242425,
          7.545454545454546,
          7.666666666666667,
          7.787878787878788,
          7.909090909090909,
          8.030303030303031,
          8.151515151515152,
          8.272727272727273,
          8.393939393939394,
          8.515151515151516,
          8.636363636363637,
          8.757575757575758,
          8.878787878787879,
          9,
          9.121212121212121,
          9.242424242424242,
          9.363636363636363,
          9.484848484848484,
          9.606060606060606,
          9.727272727272727,
          9.84848484848485,
          9.96969696969697,
          10.090909090909092,
          10.212121212121213,
          10.333333333333334,
          10.454545454545455,
          10.575757575757576,
          10.696969696969697,
          10.818181818181818,
          10.93939393939394,
          11.06060606060606,
          11.181818181818182,
          11.303030303030303,
          11.424242424242424,
          11.545454545454545,
          11.666666666666668,
          11.787878787878789,
          11.90909090909091,
          12.030303030303031,
          12.151515151515152,
          12.272727272727273,
          12.393939393939394,
          12.515151515151516,
          12.636363636363637,
          12.757575757575758,
          12.878787878787879,
          13
         ],
         "xaxis": "x3",
         "y": [
          56.51542284041041,
          56.85045635936157,
          57.18465265977798,
          57.51797389225544,
          57.85038014913479,
          58.18182934523199,
          58.512277092643856,
          58.84167656963247,
          59.16997838366724,
          59.49713042879799,
          59.82307773764753,
          60.147762328452174,
          60.47112304774524,
          60.79309540947832,
          61.11361143160984,
          61.43259947146532,
          61.74998406149355,
          62.06568574740962,
          62.379620931135904,
          62.69170172142425,
          63.00183579557137,
          63.30992627622125,
          63.61587162788077,
          63.9195655784487,
          64.22089707176289,
          64.51975025788546,
          64.81600452854723,
          65.10953460582463,
          65.40021069268336,
          65.68789869443737,
          65.97246052037842,
          66.25375447475477,
          66.53163574584,
          66.80595700094955,
          67.07656909385162,
          67.3433218890093,
          67.60606520442768,
          67.8646498715407,
          68.1189289065763,
          68.36875878325834,
          68.61400079167535,
          68.85452246287622,
          69.09019903351609,
          69.32091492000505,
          69.5465651674825,
          69.76705683593906,
          69.98231028429525,
          70.19226031351901,
          70.39685713210825,
          70.5960671115258,
          70.789873305332,
          70.97827571352683,
          71.16129128254998,
          71.33895364093861,
          71.51131258019481,
          71.67843329935064,
          71.84039543948558,
          71.997291940609,
          72.14922775758151,
          72.29631847399304,
          72.43868885318842,
          72.57647136411877,
          72.70980471669557,
          72.83883243719494,
          72.96370150938893,
          73.08456110184363,
          73.20156139655396,
          73.31485252905681,
          73.42458364558397,
          73.53090207882,
          73.63395264049133,
          73.7338770263497,
          73.83081332710337,
          73.92489563743835,
          74.01625375438898,
          74.1050129558788,
          74.191293850177,
          74.27521228722145,
          74.35687932317433,
          74.43640123013682,
          74.5138795436021,
          74.58941114092615,
          74.66308834481225,
          74.73499904650858,
          74.80522684409274,
          74.87385119184964,
          74.9409475573305,
          75.00658758320981,
          75.07083925152914,
          75.13376704833689,
          75.19543212709974,
          75.25589246958138,
          75.31520304315899,
          75.37341595378275,
          75.43058059398328,
          75.48674378549848,
          75.54194991623152,
          75.59624107136645,
          75.64965715856243,
          75.70223602722365
         ],
         "yaxis": "y3"
        },
        {
         "marker": {
          "color": "gray"
         },
         "mode": "markers",
         "name": "Mouse 1006",
         "showlegend": false,
         "type": "scatter",
         "x": [
          1,
          2,
          3,
          4,
          5,
          6,
          7,
          8,
          9,
          10,
          11,
          12
         ],
         "xaxis": "x4",
         "y": [
          80,
          68,
          106,
          82,
          69,
          104,
          94,
          97,
          110,
          106,
          83,
          99
         ],
         "yaxis": "y4"
        },
        {
         "line": {
          "color": "red"
         },
         "mode": "lines",
         "name": "Fitted Line",
         "showlegend": false,
         "type": "scatter",
         "x": [
          1,
          1.1111111111111112,
          1.2222222222222223,
          1.3333333333333333,
          1.4444444444444444,
          1.5555555555555556,
          1.6666666666666665,
          1.7777777777777777,
          1.8888888888888888,
          2,
          2.111111111111111,
          2.2222222222222223,
          2.333333333333333,
          2.4444444444444446,
          2.5555555555555554,
          2.6666666666666665,
          2.7777777777777777,
          2.888888888888889,
          3,
          3.111111111111111,
          3.2222222222222223,
          3.333333333333333,
          3.444444444444444,
          3.5555555555555554,
          3.6666666666666665,
          3.7777777777777777,
          3.888888888888889,
          4,
          4.111111111111111,
          4.222222222222221,
          4.333333333333333,
          4.444444444444445,
          4.555555555555555,
          4.666666666666666,
          4.777777777777778,
          4.888888888888889,
          5,
          5.111111111111111,
          5.222222222222222,
          5.333333333333333,
          5.444444444444445,
          5.555555555555555,
          5.666666666666666,
          5.777777777777778,
          5.888888888888888,
          6,
          6.111111111111111,
          6.222222222222222,
          6.333333333333333,
          6.444444444444444,
          6.555555555555555,
          6.666666666666666,
          6.777777777777778,
          6.888888888888888,
          7,
          7.111111111111111,
          7.222222222222221,
          7.333333333333333,
          7.444444444444444,
          7.555555555555555,
          7.666666666666666,
          7.777777777777778,
          7.888888888888888,
          8,
          8.11111111111111,
          8.222222222222221,
          8.333333333333332,
          8.444444444444443,
          8.555555555555555,
          8.666666666666666,
          8.777777777777779,
          8.88888888888889,
          9,
          9.11111111111111,
          9.222222222222221,
          9.333333333333332,
          9.444444444444445,
          9.555555555555555,
          9.666666666666666,
          9.777777777777777,
          9.88888888888889,
          10,
          10.11111111111111,
          10.222222222222221,
          10.333333333333332,
          10.444444444444445,
          10.555555555555555,
          10.666666666666666,
          10.777777777777777,
          10.888888888888888,
          11,
          11.11111111111111,
          11.222222222222221,
          11.333333333333332,
          11.444444444444445,
          11.555555555555555,
          11.666666666666666,
          11.777777777777777,
          11.888888888888888,
          12
         ],
         "xaxis": "x4",
         "y": [
          80.76923076923075,
          80.98601398601396,
          81.20279720279717,
          81.4195804195804,
          81.63636363636361,
          81.85314685314682,
          82.06993006993004,
          82.28671328671327,
          82.50349650349648,
          82.72027972027969,
          82.9370629370629,
          83.15384615384613,
          83.37062937062935,
          83.58741258741256,
          83.80419580419577,
          84.02097902097898,
          84.23776223776221,
          84.45454545454542,
          84.67132867132864,
          84.88811188811185,
          85.10489510489508,
          85.32167832167829,
          85.5384615384615,
          85.75524475524472,
          85.97202797202793,
          86.18881118881116,
          86.40559440559437,
          86.62237762237758,
          86.8391608391608,
          87.05594405594402,
          87.27272727272724,
          87.48951048951045,
          87.70629370629366,
          87.92307692307688,
          88.1398601398601,
          88.35664335664332,
          88.57342657342653,
          88.79020979020974,
          89.00699300699297,
          89.22377622377618,
          89.4405594405594,
          89.65734265734261,
          89.87412587412582,
          90.09090909090905,
          90.30769230769226,
          90.52447552447548,
          90.74125874125869,
          90.95804195804192,
          91.17482517482513,
          91.39160839160834,
          91.60839160839156,
          91.82517482517477,
          92.041958041958,
          92.25874125874121,
          92.47552447552442,
          92.69230769230764,
          92.90909090909085,
          93.12587412587408,
          93.34265734265729,
          93.5594405594405,
          93.77622377622373,
          93.99300699300694,
          94.20979020979016,
          94.42657342657337,
          94.64335664335658,
          94.86013986013981,
          95.07692307692302,
          95.29370629370624,
          95.51048951048945,
          95.72727272727266,
          95.94405594405589,
          96.1608391608391,
          96.37762237762232,
          96.59440559440554,
          96.81118881118874,
          97.02797202797197,
          97.24475524475518,
          97.4615384615384,
          97.67832167832162,
          97.89510489510484,
          98.11188811188805,
          98.32867132867126,
          98.54545454545448,
          98.7622377622377,
          98.97902097902092,
          99.19580419580413,
          99.41258741258736,
          99.62937062937056,
          99.84615384615378,
          100.062937062937,
          100.27972027972021,
          100.49650349650344,
          100.71328671328665,
          100.93006993006986,
          101.14685314685308,
          101.36363636363629,
          101.58041958041952,
          101.79720279720273,
          102.01398601398594,
          102.23076923076917
         ],
         "yaxis": "y4"
        },
        {
         "line": {
          "width": 0
         },
         "mode": "lines",
         "showlegend": false,
         "type": "scatter",
         "x": [
          1,
          1.1111111111111112,
          1.2222222222222223,
          1.3333333333333333,
          1.4444444444444444,
          1.5555555555555556,
          1.6666666666666665,
          1.7777777777777777,
          1.8888888888888888,
          2,
          2.111111111111111,
          2.2222222222222223,
          2.333333333333333,
          2.4444444444444446,
          2.5555555555555554,
          2.6666666666666665,
          2.7777777777777777,
          2.888888888888889,
          3,
          3.111111111111111,
          3.2222222222222223,
          3.333333333333333,
          3.444444444444444,
          3.5555555555555554,
          3.6666666666666665,
          3.7777777777777777,
          3.888888888888889,
          4,
          4.111111111111111,
          4.222222222222221,
          4.333333333333333,
          4.444444444444445,
          4.555555555555555,
          4.666666666666666,
          4.777777777777778,
          4.888888888888889,
          5,
          5.111111111111111,
          5.222222222222222,
          5.333333333333333,
          5.444444444444445,
          5.555555555555555,
          5.666666666666666,
          5.777777777777778,
          5.888888888888888,
          6,
          6.111111111111111,
          6.222222222222222,
          6.333333333333333,
          6.444444444444444,
          6.555555555555555,
          6.666666666666666,
          6.777777777777778,
          6.888888888888888,
          7,
          7.111111111111111,
          7.222222222222221,
          7.333333333333333,
          7.444444444444444,
          7.555555555555555,
          7.666666666666666,
          7.777777777777778,
          7.888888888888888,
          8,
          8.11111111111111,
          8.222222222222221,
          8.333333333333332,
          8.444444444444443,
          8.555555555555555,
          8.666666666666666,
          8.777777777777779,
          8.88888888888889,
          9,
          9.11111111111111,
          9.222222222222221,
          9.333333333333332,
          9.444444444444445,
          9.555555555555555,
          9.666666666666666,
          9.777777777777777,
          9.88888888888889,
          10,
          10.11111111111111,
          10.222222222222221,
          10.333333333333332,
          10.444444444444445,
          10.555555555555555,
          10.666666666666666,
          10.777777777777777,
          10.888888888888888,
          11,
          11.11111111111111,
          11.222222222222221,
          11.333333333333332,
          11.444444444444445,
          11.555555555555555,
          11.666666666666666,
          11.777777777777777,
          11.888888888888888,
          12
         ],
         "xaxis": "x4",
         "y": [
          88.09630725631537,
          88.2072085421899,
          88.31874327507654,
          88.43093998131435,
          88.54382872995146,
          88.6574412213556,
          88.77181088013752,
          88.88697295237064,
          89.0029646070313,
          89.11982504151275,
          89.23759559097813,
          89.35631984121271,
          89.47604374450962,
          89.59681573797417,
          89.71868686345542,
          89.84171088810973,
          89.96594442436269,
          90.09144704776392,
          90.21828141091981,
          90.34651335134022,
          90.47621199064811,
          90.6074498221751,
          90.74030278350537,
          90.87485031004104,
          91.01117536515406,
          91.14936444197606,
          91.2895075313785,
          91.43169805023584,
          91.5760327236759,
          91.7226114147442,
          91.87153689478804,
          92.02291454795413,
          92.17685200354859,
          92.33345869068869,
          92.49284531073964,
          92.65512322452663,
          92.82040375327878,
          92.98879739470962,
          93.16041295855348,
          93.33535662920039,
          93.51373096670487,
          93.69563386123355,
          93.88115745976751,
          94.07038708734576,
          94.26340018806012,
          94.46026531311655,
          94.66104118430638,
          94.86577586097916,
          95.07450603694602,
          95.28725649064211,
          95.50403970742532,
          95.72485568729566,
          95.94969194489524,
          96.1785237017889,
          96.4113142641655,
          96.64801557267549,
          96.88856890552756,
          97.13290571151576,
          97.38094854654823,
          97.63261208558598,
          97.88780418164794,
          98.14642694456745,
          98.40837781429003,
          98.67355060642562,
          98.9418365112399,
          99.21312503101935,
          99.48730484453483,
          99.76426459096116,
          100.04389356893313,
          100.32608234933346,
          100.61072330285606,
          100.8977110453542,
          101.18694280548057,
          101.47831872018968,
          101.77174206435365,
          102.0671194210981,
          102.3643607995515,
          102.66337970658226,
          102.96409317881843,
          103.26642178085787,
          103.57028957511642,
          103.87562406826244,
          104.18235613867297,
          104.49041994883818,
          104.79975284615166,
          105.11029525506378,
          105.42199056314897,
          105.73478500325083,
          106.04862753352036,
          106.36346971685222,
          106.67926560095327,
          106.99597160003826,
          107.31354637894403,
          107.63195074027735,
          107.95114751506185,
          108.27110145722413,
          108.59177914215347,
          108.9131488694821,
          109.23518057016187,
          109.5578457178538
         ],
         "yaxis": "y4"
        },
        {
         "fill": "tonexty",
         "fillcolor": "rgba(255,0,0,0.2)",
         "line": {
          "width": 0
         },
         "mode": "lines",
         "name": "SEM",
         "showlegend": false,
         "type": "scatter",
         "x": [
          1,
          1.1111111111111112,
          1.2222222222222223,
          1.3333333333333333,
          1.4444444444444444,
          1.5555555555555556,
          1.6666666666666665,
          1.7777777777777777,
          1.8888888888888888,
          2,
          2.111111111111111,
          2.2222222222222223,
          2.333333333333333,
          2.4444444444444446,
          2.5555555555555554,
          2.6666666666666665,
          2.7777777777777777,
          2.888888888888889,
          3,
          3.111111111111111,
          3.2222222222222223,
          3.333333333333333,
          3.444444444444444,
          3.5555555555555554,
          3.6666666666666665,
          3.7777777777777777,
          3.888888888888889,
          4,
          4.111111111111111,
          4.222222222222221,
          4.333333333333333,
          4.444444444444445,
          4.555555555555555,
          4.666666666666666,
          4.777777777777778,
          4.888888888888889,
          5,
          5.111111111111111,
          5.222222222222222,
          5.333333333333333,
          5.444444444444445,
          5.555555555555555,
          5.666666666666666,
          5.777777777777778,
          5.888888888888888,
          6,
          6.111111111111111,
          6.222222222222222,
          6.333333333333333,
          6.444444444444444,
          6.555555555555555,
          6.666666666666666,
          6.777777777777778,
          6.888888888888888,
          7,
          7.111111111111111,
          7.222222222222221,
          7.333333333333333,
          7.444444444444444,
          7.555555555555555,
          7.666666666666666,
          7.777777777777778,
          7.888888888888888,
          8,
          8.11111111111111,
          8.222222222222221,
          8.333333333333332,
          8.444444444444443,
          8.555555555555555,
          8.666666666666666,
          8.777777777777779,
          8.88888888888889,
          9,
          9.11111111111111,
          9.222222222222221,
          9.333333333333332,
          9.444444444444445,
          9.555555555555555,
          9.666666666666666,
          9.777777777777777,
          9.88888888888889,
          10,
          10.11111111111111,
          10.222222222222221,
          10.333333333333332,
          10.444444444444445,
          10.555555555555555,
          10.666666666666666,
          10.777777777777777,
          10.888888888888888,
          11,
          11.11111111111111,
          11.222222222222221,
          11.333333333333332,
          11.444444444444445,
          11.555555555555555,
          11.666666666666666,
          11.777777777777777,
          11.888888888888888,
          12
         ],
         "xaxis": "x4",
         "y": [
          73.44215428214612,
          73.76481942983801,
          74.0868511305178,
          74.40822085784644,
          74.72889854277577,
          75.04885248493805,
          75.36804925972255,
          75.68645362105589,
          76.00402839996165,
          76.32073439904663,
          76.63653028314768,
          76.95137246647955,
          77.26521499674907,
          77.57800943685095,
          77.88970474493613,
          78.20024715384824,
          78.50958005116173,
          78.81764386132693,
          79.12437593173746,
          79.42971042488348,
          79.73357821914205,
          80.03590682118148,
          80.33662029341764,
          80.6356392004484,
          80.9328805789018,
          81.22825793564625,
          81.52168127981024,
          81.81305719451933,
          82.1022889546457,
          82.38927669714386,
          82.67391765066644,
          82.95610643106677,
          83.23573540903874,
          83.51269515546507,
          83.78687496898057,
          84.05816348876,
          84.32644939357428,
          84.59162218570987,
          84.85357305543246,
          85.11219581835198,
          85.36738791441392,
          85.61905145345168,
          85.86709428848414,
          86.11143109447234,
          86.35198442732441,
          86.5886857358344,
          86.821476298211,
          87.05030805510468,
          87.27514431270424,
          87.49596029257458,
          87.7127435093578,
          87.92549396305388,
          88.13422413902076,
          88.33895881569352,
          88.53973468688335,
          88.73659981193978,
          88.92961291265414,
          89.1188425402324,
          89.30436613876635,
          89.48626903329503,
          89.66464337079952,
          89.83958704144644,
          90.01120260529028,
          90.17959624672112,
          90.34487677547327,
          90.50715468926028,
          90.66654130931121,
          90.82314799645131,
          90.97708545204577,
          91.12846310521186,
          91.27738858525572,
          91.423967276324,
          91.56830194976406,
          91.71049246862141,
          91.85063555802384,
          91.98882463484584,
          92.12514968995886,
          92.25969721649453,
          92.39255017782482,
          92.5237880093518,
          92.65348664865968,
          92.78171858908009,
          92.90855295223598,
          93.03405557563723,
          93.15828911189017,
          93.28131313654448,
          93.40318426202575,
          93.52395625549028,
          93.6436801587872,
          93.76240440902177,
          93.88017495848715,
          93.99703539296861,
          94.11302704762927,
          94.22818911986238,
          94.3425587786443,
          94.45617127004844,
          94.56906001868556,
          94.68125672492336,
          94.79279145781001,
          94.90369274368454
         ],
         "yaxis": "y4"
        }
       ],
       "layout": {
        "annotations": [
         {
          "font": {
           "size": 16
          },
          "showarrow": false,
          "text": "Mouse 1003",
          "x": 0.225,
          "xanchor": "center",
          "xref": "paper",
          "y": 1,
          "yanchor": "bottom",
          "yref": "paper"
         },
         {
          "font": {
           "size": 16
          },
          "showarrow": false,
          "text": "Mouse 1004",
          "x": 0.775,
          "xanchor": "center",
          "xref": "paper",
          "y": 1,
          "yanchor": "bottom",
          "yref": "paper"
         },
         {
          "font": {
           "size": 16
          },
          "showarrow": false,
          "text": "Mouse 1005",
          "x": 0.225,
          "xanchor": "center",
          "xref": "paper",
          "y": 0.375,
          "yanchor": "bottom",
          "yref": "paper"
         },
         {
          "font": {
           "size": 16
          },
          "showarrow": false,
          "text": "Mouse 1006",
          "x": 0.775,
          "xanchor": "center",
          "xref": "paper",
          "y": 0.375,
          "yanchor": "bottom",
          "yref": "paper"
         }
        ],
        "height": 1000,
        "hovermode": "closest",
        "showlegend": false,
        "template": {
         "data": {
          "bar": [
           {
            "error_x": {
             "color": "#2a3f5f"
            },
            "error_y": {
             "color": "#2a3f5f"
            },
            "marker": {
             "line": {
              "color": "#E5ECF6",
              "width": 0.5
             },
             "pattern": {
              "fillmode": "overlay",
              "size": 10,
              "solidity": 0.2
             }
            },
            "type": "bar"
           }
          ],
          "barpolar": [
           {
            "marker": {
             "line": {
              "color": "#E5ECF6",
              "width": 0.5
             },
             "pattern": {
              "fillmode": "overlay",
              "size": 10,
              "solidity": 0.2
             }
            },
            "type": "barpolar"
           }
          ],
          "carpet": [
           {
            "aaxis": {
             "endlinecolor": "#2a3f5f",
             "gridcolor": "white",
             "linecolor": "white",
             "minorgridcolor": "white",
             "startlinecolor": "#2a3f5f"
            },
            "baxis": {
             "endlinecolor": "#2a3f5f",
             "gridcolor": "white",
             "linecolor": "white",
             "minorgridcolor": "white",
             "startlinecolor": "#2a3f5f"
            },
            "type": "carpet"
           }
          ],
          "choropleth": [
           {
            "colorbar": {
             "outlinewidth": 0,
             "ticks": ""
            },
            "type": "choropleth"
           }
          ],
          "contour": [
           {
            "colorbar": {
             "outlinewidth": 0,
             "ticks": ""
            },
            "colorscale": [
             [
              0,
              "#0d0887"
             ],
             [
              0.1111111111111111,
              "#46039f"
             ],
             [
              0.2222222222222222,
              "#7201a8"
             ],
             [
              0.3333333333333333,
              "#9c179e"
             ],
             [
              0.4444444444444444,
              "#bd3786"
             ],
             [
              0.5555555555555556,
              "#d8576b"
             ],
             [
              0.6666666666666666,
              "#ed7953"
             ],
             [
              0.7777777777777778,
              "#fb9f3a"
             ],
             [
              0.8888888888888888,
              "#fdca26"
             ],
             [
              1,
              "#f0f921"
             ]
            ],
            "type": "contour"
           }
          ],
          "contourcarpet": [
           {
            "colorbar": {
             "outlinewidth": 0,
             "ticks": ""
            },
            "type": "contourcarpet"
           }
          ],
          "heatmap": [
           {
            "colorbar": {
             "outlinewidth": 0,
             "ticks": ""
            },
            "colorscale": [
             [
              0,
              "#0d0887"
             ],
             [
              0.1111111111111111,
              "#46039f"
             ],
             [
              0.2222222222222222,
              "#7201a8"
             ],
             [
              0.3333333333333333,
              "#9c179e"
             ],
             [
              0.4444444444444444,
              "#bd3786"
             ],
             [
              0.5555555555555556,
              "#d8576b"
             ],
             [
              0.6666666666666666,
              "#ed7953"
             ],
             [
              0.7777777777777778,
              "#fb9f3a"
             ],
             [
              0.8888888888888888,
              "#fdca26"
             ],
             [
              1,
              "#f0f921"
             ]
            ],
            "type": "heatmap"
           }
          ],
          "heatmapgl": [
           {
            "colorbar": {
             "outlinewidth": 0,
             "ticks": ""
            },
            "colorscale": [
             [
              0,
              "#0d0887"
             ],
             [
              0.1111111111111111,
              "#46039f"
             ],
             [
              0.2222222222222222,
              "#7201a8"
             ],
             [
              0.3333333333333333,
              "#9c179e"
             ],
             [
              0.4444444444444444,
              "#bd3786"
             ],
             [
              0.5555555555555556,
              "#d8576b"
             ],
             [
              0.6666666666666666,
              "#ed7953"
             ],
             [
              0.7777777777777778,
              "#fb9f3a"
             ],
             [
              0.8888888888888888,
              "#fdca26"
             ],
             [
              1,
              "#f0f921"
             ]
            ],
            "type": "heatmapgl"
           }
          ],
          "histogram": [
           {
            "marker": {
             "pattern": {
              "fillmode": "overlay",
              "size": 10,
              "solidity": 0.2
             }
            },
            "type": "histogram"
           }
          ],
          "histogram2d": [
           {
            "colorbar": {
             "outlinewidth": 0,
             "ticks": ""
            },
            "colorscale": [
             [
              0,
              "#0d0887"
             ],
             [
              0.1111111111111111,
              "#46039f"
             ],
             [
              0.2222222222222222,
              "#7201a8"
             ],
             [
              0.3333333333333333,
              "#9c179e"
             ],
             [
              0.4444444444444444,
              "#bd3786"
             ],
             [
              0.5555555555555556,
              "#d8576b"
             ],
             [
              0.6666666666666666,
              "#ed7953"
             ],
             [
              0.7777777777777778,
              "#fb9f3a"
             ],
             [
              0.8888888888888888,
              "#fdca26"
             ],
             [
              1,
              "#f0f921"
             ]
            ],
            "type": "histogram2d"
           }
          ],
          "histogram2dcontour": [
           {
            "colorbar": {
             "outlinewidth": 0,
             "ticks": ""
            },
            "colorscale": [
             [
              0,
              "#0d0887"
             ],
             [
              0.1111111111111111,
              "#46039f"
             ],
             [
              0.2222222222222222,
              "#7201a8"
             ],
             [
              0.3333333333333333,
              "#9c179e"
             ],
             [
              0.4444444444444444,
              "#bd3786"
             ],
             [
              0.5555555555555556,
              "#d8576b"
             ],
             [
              0.6666666666666666,
              "#ed7953"
             ],
             [
              0.7777777777777778,
              "#fb9f3a"
             ],
             [
              0.8888888888888888,
              "#fdca26"
             ],
             [
              1,
              "#f0f921"
             ]
            ],
            "type": "histogram2dcontour"
           }
          ],
          "mesh3d": [
           {
            "colorbar": {
             "outlinewidth": 0,
             "ticks": ""
            },
            "type": "mesh3d"
           }
          ],
          "parcoords": [
           {
            "line": {
             "colorbar": {
              "outlinewidth": 0,
              "ticks": ""
             }
            },
            "type": "parcoords"
           }
          ],
          "pie": [
           {
            "automargin": true,
            "type": "pie"
           }
          ],
          "scatter": [
           {
            "fillpattern": {
             "fillmode": "overlay",
             "size": 10,
             "solidity": 0.2
            },
            "type": "scatter"
           }
          ],
          "scatter3d": [
           {
            "line": {
             "colorbar": {
              "outlinewidth": 0,
              "ticks": ""
             }
            },
            "marker": {
             "colorbar": {
              "outlinewidth": 0,
              "ticks": ""
             }
            },
            "type": "scatter3d"
           }
          ],
          "scattercarpet": [
           {
            "marker": {
             "colorbar": {
              "outlinewidth": 0,
              "ticks": ""
             }
            },
            "type": "scattercarpet"
           }
          ],
          "scattergeo": [
           {
            "marker": {
             "colorbar": {
              "outlinewidth": 0,
              "ticks": ""
             }
            },
            "type": "scattergeo"
           }
          ],
          "scattergl": [
           {
            "marker": {
             "colorbar": {
              "outlinewidth": 0,
              "ticks": ""
             }
            },
            "type": "scattergl"
           }
          ],
          "scattermapbox": [
           {
            "marker": {
             "colorbar": {
              "outlinewidth": 0,
              "ticks": ""
             }
            },
            "type": "scattermapbox"
           }
          ],
          "scatterpolar": [
           {
            "marker": {
             "colorbar": {
              "outlinewidth": 0,
              "ticks": ""
             }
            },
            "type": "scatterpolar"
           }
          ],
          "scatterpolargl": [
           {
            "marker": {
             "colorbar": {
              "outlinewidth": 0,
              "ticks": ""
             }
            },
            "type": "scatterpolargl"
           }
          ],
          "scatterternary": [
           {
            "marker": {
             "colorbar": {
              "outlinewidth": 0,
              "ticks": ""
             }
            },
            "type": "scatterternary"
           }
          ],
          "surface": [
           {
            "colorbar": {
             "outlinewidth": 0,
             "ticks": ""
            },
            "colorscale": [
             [
              0,
              "#0d0887"
             ],
             [
              0.1111111111111111,
              "#46039f"
             ],
             [
              0.2222222222222222,
              "#7201a8"
             ],
             [
              0.3333333333333333,
              "#9c179e"
             ],
             [
              0.4444444444444444,
              "#bd3786"
             ],
             [
              0.5555555555555556,
              "#d8576b"
             ],
             [
              0.6666666666666666,
              "#ed7953"
             ],
             [
              0.7777777777777778,
              "#fb9f3a"
             ],
             [
              0.8888888888888888,
              "#fdca26"
             ],
             [
              1,
              "#f0f921"
             ]
            ],
            "type": "surface"
           }
          ],
          "table": [
           {
            "cells": {
             "fill": {
              "color": "#EBF0F8"
             },
             "line": {
              "color": "white"
             }
            },
            "header": {
             "fill": {
              "color": "#C8D4E3"
             },
             "line": {
              "color": "white"
             }
            },
            "type": "table"
           }
          ]
         },
         "layout": {
          "annotationdefaults": {
           "arrowcolor": "#2a3f5f",
           "arrowhead": 0,
           "arrowwidth": 1
          },
          "autotypenumbers": "strict",
          "coloraxis": {
           "colorbar": {
            "outlinewidth": 0,
            "ticks": ""
           }
          },
          "colorscale": {
           "diverging": [
            [
             0,
             "#8e0152"
            ],
            [
             0.1,
             "#c51b7d"
            ],
            [
             0.2,
             "#de77ae"
            ],
            [
             0.3,
             "#f1b6da"
            ],
            [
             0.4,
             "#fde0ef"
            ],
            [
             0.5,
             "#f7f7f7"
            ],
            [
             0.6,
             "#e6f5d0"
            ],
            [
             0.7,
             "#b8e186"
            ],
            [
             0.8,
             "#7fbc41"
            ],
            [
             0.9,
             "#4d9221"
            ],
            [
             1,
             "#276419"
            ]
           ],
           "sequential": [
            [
             0,
             "#0d0887"
            ],
            [
             0.1111111111111111,
             "#46039f"
            ],
            [
             0.2222222222222222,
             "#7201a8"
            ],
            [
             0.3333333333333333,
             "#9c179e"
            ],
            [
             0.4444444444444444,
             "#bd3786"
            ],
            [
             0.5555555555555556,
             "#d8576b"
            ],
            [
             0.6666666666666666,
             "#ed7953"
            ],
            [
             0.7777777777777778,
             "#fb9f3a"
            ],
            [
             0.8888888888888888,
             "#fdca26"
            ],
            [
             1,
             "#f0f921"
            ]
           ],
           "sequentialminus": [
            [
             0,
             "#0d0887"
            ],
            [
             0.1111111111111111,
             "#46039f"
            ],
            [
             0.2222222222222222,
             "#7201a8"
            ],
            [
             0.3333333333333333,
             "#9c179e"
            ],
            [
             0.4444444444444444,
             "#bd3786"
            ],
            [
             0.5555555555555556,
             "#d8576b"
            ],
            [
             0.6666666666666666,
             "#ed7953"
            ],
            [
             0.7777777777777778,
             "#fb9f3a"
            ],
            [
             0.8888888888888888,
             "#fdca26"
            ],
            [
             1,
             "#f0f921"
            ]
           ]
          },
          "colorway": [
           "#636efa",
           "#EF553B",
           "#00cc96",
           "#ab63fa",
           "#FFA15A",
           "#19d3f3",
           "#FF6692",
           "#B6E880",
           "#FF97FF",
           "#FECB52"
          ],
          "font": {
           "color": "#2a3f5f"
          },
          "geo": {
           "bgcolor": "white",
           "lakecolor": "white",
           "landcolor": "#E5ECF6",
           "showlakes": true,
           "showland": true,
           "subunitcolor": "white"
          },
          "hoverlabel": {
           "align": "left"
          },
          "hovermode": "closest",
          "mapbox": {
           "style": "light"
          },
          "paper_bgcolor": "white",
          "plot_bgcolor": "#E5ECF6",
          "polar": {
           "angularaxis": {
            "gridcolor": "white",
            "linecolor": "white",
            "ticks": ""
           },
           "bgcolor": "#E5ECF6",
           "radialaxis": {
            "gridcolor": "white",
            "linecolor": "white",
            "ticks": ""
           }
          },
          "scene": {
           "xaxis": {
            "backgroundcolor": "#E5ECF6",
            "gridcolor": "white",
            "gridwidth": 2,
            "linecolor": "white",
            "showbackground": true,
            "ticks": "",
            "zerolinecolor": "white"
           },
           "yaxis": {
            "backgroundcolor": "#E5ECF6",
            "gridcolor": "white",
            "gridwidth": 2,
            "linecolor": "white",
            "showbackground": true,
            "ticks": "",
            "zerolinecolor": "white"
           },
           "zaxis": {
            "backgroundcolor": "#E5ECF6",
            "gridcolor": "white",
            "gridwidth": 2,
            "linecolor": "white",
            "showbackground": true,
            "ticks": "",
            "zerolinecolor": "white"
           }
          },
          "shapedefaults": {
           "line": {
            "color": "#2a3f5f"
           }
          },
          "ternary": {
           "aaxis": {
            "gridcolor": "white",
            "linecolor": "white",
            "ticks": ""
           },
           "baxis": {
            "gridcolor": "white",
            "linecolor": "white",
            "ticks": ""
           },
           "bgcolor": "#E5ECF6",
           "caxis": {
            "gridcolor": "white",
            "linecolor": "white",
            "ticks": ""
           }
          },
          "title": {
           "x": 0.05
          },
          "xaxis": {
           "automargin": true,
           "gridcolor": "white",
           "linecolor": "white",
           "ticks": "",
           "title": {
            "standoff": 15
           },
           "zerolinecolor": "white",
           "zerolinewidth": 2
          },
          "yaxis": {
           "automargin": true,
           "gridcolor": "white",
           "linecolor": "white",
           "ticks": "",
           "title": {
            "standoff": 15
           },
           "zerolinecolor": "white",
           "zerolinewidth": 2
          }
         }
        },
        "title": {
         "text": "Trials Completed vs Session Number by Mouse"
        },
        "width": 1900,
        "xaxis": {
         "anchor": "y",
         "domain": [
          0,
          0.45
         ],
         "title": {
          "text": "Session Number"
         }
        },
        "xaxis2": {
         "anchor": "y2",
         "domain": [
          0.55,
          1
         ],
         "title": {
          "text": "Session Number"
         }
        },
        "xaxis3": {
         "anchor": "y3",
         "domain": [
          0,
          0.45
         ],
         "title": {
          "text": "Session Number"
         }
        },
        "xaxis4": {
         "anchor": "y4",
         "domain": [
          0.55,
          1
         ],
         "title": {
          "text": "Session Number"
         }
        },
        "yaxis": {
         "anchor": "x",
         "domain": [
          0.625,
          1
         ],
         "title": {
          "text": "Trials Completed"
         }
        },
        "yaxis2": {
         "anchor": "x2",
         "domain": [
          0.625,
          1
         ],
         "title": {
          "text": "Trials Completed"
         }
        },
        "yaxis3": {
         "anchor": "x3",
         "domain": [
          0,
          0.375
         ],
         "title": {
          "text": "Trials Completed"
         }
        },
        "yaxis4": {
         "anchor": "x4",
         "domain": [
          0,
          0.375
         ],
         "title": {
          "text": "Trials Completed"
         }
        }
       }
      }
     },
     "metadata": {},
     "output_type": "display_data"
    }
   ],
   "source": [
    "linear_regression_plot_grid(\n",
    "    df=clickbait.summary_df,\n",
    "    mouse_ids=['1003', '1004', '1005', '1006'],\n",
    "    dv_col='trials_completed',\n",
    "    iv_col='session_number'\n",
    ")"
   ]
  }
 ],
 "metadata": {
  "kernelspec": {
   "display_name": "base",
   "language": "python",
   "name": "python3"
  },
  "language_info": {
   "codemirror_mode": {
    "name": "ipython",
    "version": 3
   },
   "file_extension": ".py",
   "mimetype": "text/x-python",
   "name": "python",
   "nbconvert_exporter": "python",
   "pygments_lexer": "ipython3",
   "version": "3.11.4"
  }
 },
 "nbformat": 4,
 "nbformat_minor": 2
}
