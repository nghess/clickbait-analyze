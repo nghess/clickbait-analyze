{
 "cells": [
  {
   "cell_type": "code",
   "execution_count": 1,
   "metadata": {},
   "outputs": [],
   "source": [
    "import numpy as np\n",
    "import pandas as pd\n",
    "import datetime\n",
    "import ast\n",
    "from clickbait import *"
   ]
  },
  {
   "cell_type": "markdown",
   "metadata": {},
   "source": [
    "### Get paths of clickbait sessions."
   ]
  },
  {
   "cell_type": "code",
   "execution_count": 2,
   "metadata": {},
   "outputs": [
    {
     "name": "stdout",
     "output_type": "stream",
     "text": [
      "Located 51 sessions:\n",
      "1003-diet1\n",
      "1003-diet2\n",
      "1003-diet3\n",
      "1003-diet4\n",
      "1003-full1\n",
      "1003-full2\n",
      "1003-full3\n",
      "1003-full4\n",
      "1003-full5\n",
      "1003-full6\n",
      "1003-full7\n",
      "1003-full8\n",
      "1003-full9\n",
      "1004-diet1\n",
      "1004-diet2\n",
      "1004-diet3\n",
      "1004-diet4\n",
      "1004-diet5\n",
      "1004-diet6\n",
      "1004-diet7\n",
      "1004-full1\n",
      "1004-full2\n",
      "1004-full3\n",
      "1004-full4\n",
      "1004-full5\n",
      "1004-full6\n",
      "1005-diet1\n",
      "1005-diet2\n",
      "1005-diet3\n",
      "1005-diet4\n",
      "1005-diet5\n",
      "1005-diet6\n",
      "1005-full1\n",
      "1005-full2\n",
      "1005-full3\n",
      "1005-full4\n",
      "1005-full5\n",
      "1005-full6\n",
      "1005-full7\n",
      "1006-diet1\n",
      "1006-diet2\n",
      "1006-diet3\n",
      "1006-diet4\n",
      "1006-full1\n",
      "1006-full2\n",
      "1006-full3\n",
      "1006-full4\n",
      "1006-full6\n",
      "1006-full7\n",
      "1006-full8\n",
      "1006-full9\n"
     ]
    }
   ],
   "source": [
    "# Where to look for clickbait datasets\n",
    "data_dir = f'A:/Clickbait/'\n",
    "\n",
    "# Get session and filenames for directories with .avi files greater than 1gb\n",
    "mice, sessions, files = scan_dataset(data_dir, min_size_bytes=1e9, filetype='.avi')\n",
    "\n",
    "print(f\"Located {len(mice)} sessions:\")\n",
    "for ii in range(len(mice)):\n",
    "    print(f\"{mice[ii]}-{sessions[ii]}\")"
   ]
  },
  {
   "cell_type": "markdown",
   "metadata": {},
   "source": [
    "### Initialize dataset object."
   ]
  },
  {
   "cell_type": "code",
   "execution_count": 3,
   "metadata": {},
   "outputs": [],
   "source": [
    "# Initialize experiment class\n",
    "clickbait = BehaviorExperiment(data_dir=data_dir)"
   ]
  },
  {
   "cell_type": "markdown",
   "metadata": {},
   "source": [
    "### Load sessions into dataset object."
   ]
  },
  {
   "cell_type": "code",
   "execution_count": null,
   "metadata": {},
   "outputs": [],
   "source": [
    "# Load all sessions\n",
    "clickbait.load_all_sessions(mice, sessions, files)"
   ]
  },
  {
   "cell_type": "code",
   "execution_count": null,
   "metadata": {},
   "outputs": [],
   "source": [
    "# Test syntax\n",
    "# len(clickbait.sessions['1006_full4'].video_ts)\n"
   ]
  },
  {
   "cell_type": "markdown",
   "metadata": {},
   "source": [
    "### Build Summary Dataframe\n"
   ]
  },
  {
   "cell_type": "code",
   "execution_count": 26,
   "metadata": {},
   "outputs": [
    {
     "ename": "AttributeError",
     "evalue": "'BehaviorExperiment' object has no attribute 'build_summary_df'",
     "output_type": "error",
     "traceback": [
      "\u001b[1;31m---------------------------------------------------------------------------\u001b[0m",
      "\u001b[1;31mAttributeError\u001b[0m                            Traceback (most recent call last)",
      "Cell \u001b[1;32mIn[26], line 2\u001b[0m\n\u001b[0;32m      1\u001b[0m \u001b[38;5;66;03m# Build summary dataframe\u001b[39;00m\n\u001b[1;32m----> 2\u001b[0m clickbait\u001b[38;5;241m.\u001b[39mbuild_summary_df()\n\u001b[0;32m      3\u001b[0m clickbait\u001b[38;5;241m.\u001b[39msummary_df\n",
      "\u001b[1;31mAttributeError\u001b[0m: 'BehaviorExperiment' object has no attribute 'build_summary_df'"
     ]
    }
   ],
   "source": [
    "# Build summary dataframe\n",
    "clickbait.build_summary_df()\n",
    "clickbait.summary_df\n"
   ]
  },
  {
   "cell_type": "code",
   "execution_count": 15,
   "metadata": {},
   "outputs": [],
   "source": [
    "# # Get a specific session\n",
    "# idx = 5\n",
    "# mouse = mice[idx]\n",
    "# session = sessions[idx]\n",
    "\n",
    "# session = clickbait.get_session(mouse, session)"
   ]
  },
  {
   "cell_type": "code",
   "execution_count": null,
   "metadata": {},
   "outputs": [],
   "source": [
    "# # View session attributes\n",
    "# vars(session)\n",
    "\n",
    "# # Get session info\n",
    "# session.event_data.get_session_info()"
   ]
  },
  {
   "cell_type": "markdown",
   "metadata": {},
   "source": [
    "### Check for frame drops"
   ]
  },
  {
   "cell_type": "code",
   "execution_count": 19,
   "metadata": {},
   "outputs": [
    {
     "name": "stdout",
     "output_type": "stream",
     "text": [
      "Trials with gaps: 73\n",
      "Trials without gaps: 39\n",
      "Maximum gaps in a single trial: 24\n",
      "Mean index of gap trials: 56\n"
     ]
    }
   ],
   "source": [
    "# gaps_total = []\n",
    "\n",
    "# for ii in range(np.max(event_data['trial_number'])):\n",
    "#     trial = event_data[event_data['trial_number'] == ii]\n",
    "#     gaps_trial = int(np.sum(trial['gap']))\n",
    "#     gaps_total.append(gaps_trial)\n",
    "\n",
    "# # Get indices of trials with and without gaps, and number of gaps\n",
    "# clean_trials = [(ii, x) for ii, x in enumerate(gaps_total) if x == 0]\n",
    "# gap_trials = [(ii, x) for ii, x in enumerate(gaps_total) if x > 0]\n",
    "\n",
    "# # Check if gaps are distributed toward the beginning or end of session\n",
    "# gap_idx = []\n",
    "# for ii, x in enumerate(gaps_total):\n",
    "#     if x > 0:\n",
    "#         gap_idx.append(ii) \n",
    "\n",
    "# print(f\"Trials with gaps: {len(gap_trials)}\")\n",
    "# print(f\"Trials without gaps: {len(clean_trials)}\")\n",
    "# print(f\"Maximum gaps in a single trial: {np.max(gaps_total)}\")\n",
    "# print(f\"Mean index of gap trials: {np.mean(gap_idx):.0f}\")"
   ]
  },
  {
   "cell_type": "markdown",
   "metadata": {},
   "source": [
    "### Visualize Summary Data"
   ]
  }
 ],
 "metadata": {
  "kernelspec": {
   "display_name": "base",
   "language": "python",
   "name": "python3"
  },
  "language_info": {
   "codemirror_mode": {
    "name": "ipython",
    "version": 3
   },
   "file_extension": ".py",
   "mimetype": "text/x-python",
   "name": "python",
   "nbconvert_exporter": "python",
   "pygments_lexer": "ipython3",
   "version": "3.11.4"
  }
 },
 "nbformat": 4,
 "nbformat_minor": 2
}
